{
    "cells": [
        {
            "cell_type": "markdown",
            "metadata": {},
            "source": [
                "## Introdução\n",
                "\n",
                "Este notebook realiza uma análise exploratória de dados de um dataset de vendas de um e-commerce. \n",
                "O objetivo é entender melhor o desempenho financeiro de diferentes categorias de produtos, \n",
                "identificar correlações entre variáveis e obter insights que possam ajudar na tomada de decisões."
            ]
        },
        {
            "cell_type": "code",
            "execution_count": 45,
            "metadata": {},
            "outputs": [],
            "source": [
                "# Carregamento de Dados\n",
                "import pandas as pd \n",
                "import plotly.express as px \n",
                "\n",
                "# Carregar os dados\n",
                "df = pd.read_csv(\"ecommerce_sales_analysis.csv\")"
            ]
        },
        {
            "cell_type": "markdown",
            "metadata": {},
            "source": [
                "## Limpeza de Dados\n",
                "**Nesta seção, trata-se os valores nulos, ajusta-se tipos de dados, remove-se duplicatas e realiza-se outras operações necessárias para preparar os dados para a análise.**"
            ]
        },
        {
            "cell_type": "code",
            "execution_count": 46,
            "metadata": {},
            "outputs": [
                {
                    "data": {
                        "text/plain": [
                            "product_id          int64\n",
                            "product_name       object\n",
                            "category           object\n",
                            "price             float64\n",
                            "review_score      float64\n",
                            "review_count        int64\n",
                            "sales_month_1       int64\n",
                            "sales_month_2       int64\n",
                            "sales_month_3       int64\n",
                            "sales_month_4       int64\n",
                            "sales_month_5       int64\n",
                            "sales_month_6       int64\n",
                            "sales_month_7       int64\n",
                            "sales_month_8       int64\n",
                            "sales_month_9       int64\n",
                            "sales_month_10      int64\n",
                            "sales_month_11      int64\n",
                            "sales_month_12      int64\n",
                            "dtype: object"
                        ]
                    },
                    "execution_count": 46,
                    "metadata": {},
                    "output_type": "execute_result"
                }
            ],
            "source": [
                "# Limpeza de Dados\n",
                "# Remover valores nulos\n",
                "df.dropna(inplace=True)\n",
                "\n",
                "# Verificar tipos de dados\n",
                "df.dtypes"
            ]
        },
        {
            "cell_type": "markdown",
            "metadata": {},
            "source": [
                "# Visualizações\n",
                "**As visualizações ajuda a entender melhor os dados e comunicar os insights de maneira clara e eficaz. Nesta seção, foram criados gráficos detalhados para responder às perguntas da análise.**"
            ]
        },
        {
            "cell_type": "markdown",
            "metadata": {},
            "source": [
                "## Análise de Produtos e Categorias\n",
                "\n",
                "### 1. Quantos produtos únicos existem na base de dados?\n",
                "\n",
                "Foi calculado o número total de produtos únicos na base de dados.\n",
                "\n",
                "**Total de produtos únicos:** 1000\n",
                "\n",
                "Essa contagem revela que há um total de 1000 produtos distintos registrados na base de dados. Conhecer o número de produtos únicos é fundamental para entender a amplitude e a diversidade da oferta disponível, bem como para realizar análises detalhadas sobre o portfólio de produtos e suas respectivas categorias."
            ]
        },
        {
            "cell_type": "code",
            "execution_count": 47,
            "metadata": {},
            "outputs": [
                {
                    "data": {
                        "text/plain": [
                            "1000"
                        ]
                    },
                    "metadata": {},
                    "output_type": "display_data"
                }
            ],
            "source": [
                "num_unique_products = df['product_id'].nunique()\n",
                "\n",
                "display(num_unique_products)\n"
            ]
        },
        {
            "cell_type": "markdown",
            "metadata": {},
            "source": [
                "### 2. Qual é a distribuição de produtos por categoria?\n",
                "\n",
                "**Foi analisada a distribuição dos produtos em diferentes categorias.**\n",
                "\n",
                "![Distribuição de Produtos por Categoria](graficos/dpc.png)\n",
                "\n",
                "O gráfico revela a quantidade de produtos em cada categoria. As categorias com o maior número de produtos são, respectivamente: **Books**, **Sports** e **Toys**. Isso indica uma ampla variedade de opções disponíveis nessas categorias, sugerindo que elas são bastante diversificadas e bem abastecidas.\n",
                "\n",
                "Em contraste, a categoria com a menor quantidade de produtos é **Home & Kitchen**. Essa menor quantidade pode indicar uma oferta mais limitada ou menor diversidade de produtos nesta categoria específica."
            ]
        },
        {
            "cell_type": "code",
            "execution_count": 48,
            "metadata": {},
            "outputs": [
                {
                    "data": {
                        "application/vnd.plotly.v1+json": {
                            "config": {
                                "plotlyServerURL": "https://plot.ly"
                            },
                            "data": [
                                {
                                    "alignmentgroup": "True",
                                    "hovertemplate": "Categoria=%{x}<br>Número de Produtos=%{y}<extra></extra>",
                                    "legendgroup": "",
                                    "marker": {
                                        "color": "red",
                                        "pattern": {
                                            "shape": ""
                                        }
                                    },
                                    "name": "",
                                    "offsetgroup": "",
                                    "orientation": "v",
                                    "showlegend": false,
                                    "textposition": "auto",
                                    "type": "bar",
                                    "x": [
                                        "Books",
                                        "Clothing",
                                        "Electronics",
                                        "Health",
                                        "Home & Kitchen",
                                        "Sports",
                                        "Toys"
                                    ],
                                    "xaxis": "x",
                                    "y": [
                                        154,
                                        140,
                                        138,
                                        139,
                                        125,
                                        153,
                                        151
                                    ],
                                    "yaxis": "y"
                                }
                            ],
                            "layout": {
                                "barmode": "relative",
                                "legend": {
                                    "tracegroupgap": 0
                                },
                                "template": {
                                    "data": {
                                        "bar": [
                                            {
                                                "error_x": {
                                                    "color": "#2a3f5f"
                                                },
                                                "error_y": {
                                                    "color": "#2a3f5f"
                                                },
                                                "marker": {
                                                    "line": {
                                                        "color": "#E5ECF6",
                                                        "width": 0.5
                                                    },
                                                    "pattern": {
                                                        "fillmode": "overlay",
                                                        "size": 10,
                                                        "solidity": 0.2
                                                    }
                                                },
                                                "type": "bar"
                                            }
                                        ],
                                        "barpolar": [
                                            {
                                                "marker": {
                                                    "line": {
                                                        "color": "#E5ECF6",
                                                        "width": 0.5
                                                    },
                                                    "pattern": {
                                                        "fillmode": "overlay",
                                                        "size": 10,
                                                        "solidity": 0.2
                                                    }
                                                },
                                                "type": "barpolar"
                                            }
                                        ],
                                        "carpet": [
                                            {
                                                "aaxis": {
                                                    "endlinecolor": "#2a3f5f",
                                                    "gridcolor": "white",
                                                    "linecolor": "white",
                                                    "minorgridcolor": "white",
                                                    "startlinecolor": "#2a3f5f"
                                                },
                                                "baxis": {
                                                    "endlinecolor": "#2a3f5f",
                                                    "gridcolor": "white",
                                                    "linecolor": "white",
                                                    "minorgridcolor": "white",
                                                    "startlinecolor": "#2a3f5f"
                                                },
                                                "type": "carpet"
                                            }
                                        ],
                                        "choropleth": [
                                            {
                                                "colorbar": {
                                                    "outlinewidth": 0,
                                                    "ticks": ""
                                                },
                                                "type": "choropleth"
                                            }
                                        ],
                                        "contour": [
                                            {
                                                "colorbar": {
                                                    "outlinewidth": 0,
                                                    "ticks": ""
                                                },
                                                "colorscale": [
                                                    [
                                                        0,
                                                        "#0d0887"
                                                    ],
                                                    [
                                                        0.1111111111111111,
                                                        "#46039f"
                                                    ],
                                                    [
                                                        0.2222222222222222,
                                                        "#7201a8"
                                                    ],
                                                    [
                                                        0.3333333333333333,
                                                        "#9c179e"
                                                    ],
                                                    [
                                                        0.4444444444444444,
                                                        "#bd3786"
                                                    ],
                                                    [
                                                        0.5555555555555556,
                                                        "#d8576b"
                                                    ],
                                                    [
                                                        0.6666666666666666,
                                                        "#ed7953"
                                                    ],
                                                    [
                                                        0.7777777777777778,
                                                        "#fb9f3a"
                                                    ],
                                                    [
                                                        0.8888888888888888,
                                                        "#fdca26"
                                                    ],
                                                    [
                                                        1,
                                                        "#f0f921"
                                                    ]
                                                ],
                                                "type": "contour"
                                            }
                                        ],
                                        "contourcarpet": [
                                            {
                                                "colorbar": {
                                                    "outlinewidth": 0,
                                                    "ticks": ""
                                                },
                                                "type": "contourcarpet"
                                            }
                                        ],
                                        "heatmap": [
                                            {
                                                "colorbar": {
                                                    "outlinewidth": 0,
                                                    "ticks": ""
                                                },
                                                "colorscale": [
                                                    [
                                                        0,
                                                        "#0d0887"
                                                    ],
                                                    [
                                                        0.1111111111111111,
                                                        "#46039f"
                                                    ],
                                                    [
                                                        0.2222222222222222,
                                                        "#7201a8"
                                                    ],
                                                    [
                                                        0.3333333333333333,
                                                        "#9c179e"
                                                    ],
                                                    [
                                                        0.4444444444444444,
                                                        "#bd3786"
                                                    ],
                                                    [
                                                        0.5555555555555556,
                                                        "#d8576b"
                                                    ],
                                                    [
                                                        0.6666666666666666,
                                                        "#ed7953"
                                                    ],
                                                    [
                                                        0.7777777777777778,
                                                        "#fb9f3a"
                                                    ],
                                                    [
                                                        0.8888888888888888,
                                                        "#fdca26"
                                                    ],
                                                    [
                                                        1,
                                                        "#f0f921"
                                                    ]
                                                ],
                                                "type": "heatmap"
                                            }
                                        ],
                                        "heatmapgl": [
                                            {
                                                "colorbar": {
                                                    "outlinewidth": 0,
                                                    "ticks": ""
                                                },
                                                "colorscale": [
                                                    [
                                                        0,
                                                        "#0d0887"
                                                    ],
                                                    [
                                                        0.1111111111111111,
                                                        "#46039f"
                                                    ],
                                                    [
                                                        0.2222222222222222,
                                                        "#7201a8"
                                                    ],
                                                    [
                                                        0.3333333333333333,
                                                        "#9c179e"
                                                    ],
                                                    [
                                                        0.4444444444444444,
                                                        "#bd3786"
                                                    ],
                                                    [
                                                        0.5555555555555556,
                                                        "#d8576b"
                                                    ],
                                                    [
                                                        0.6666666666666666,
                                                        "#ed7953"
                                                    ],
                                                    [
                                                        0.7777777777777778,
                                                        "#fb9f3a"
                                                    ],
                                                    [
                                                        0.8888888888888888,
                                                        "#fdca26"
                                                    ],
                                                    [
                                                        1,
                                                        "#f0f921"
                                                    ]
                                                ],
                                                "type": "heatmapgl"
                                            }
                                        ],
                                        "histogram": [
                                            {
                                                "marker": {
                                                    "pattern": {
                                                        "fillmode": "overlay",
                                                        "size": 10,
                                                        "solidity": 0.2
                                                    }
                                                },
                                                "type": "histogram"
                                            }
                                        ],
                                        "histogram2d": [
                                            {
                                                "colorbar": {
                                                    "outlinewidth": 0,
                                                    "ticks": ""
                                                },
                                                "colorscale": [
                                                    [
                                                        0,
                                                        "#0d0887"
                                                    ],
                                                    [
                                                        0.1111111111111111,
                                                        "#46039f"
                                                    ],
                                                    [
                                                        0.2222222222222222,
                                                        "#7201a8"
                                                    ],
                                                    [
                                                        0.3333333333333333,
                                                        "#9c179e"
                                                    ],
                                                    [
                                                        0.4444444444444444,
                                                        "#bd3786"
                                                    ],
                                                    [
                                                        0.5555555555555556,
                                                        "#d8576b"
                                                    ],
                                                    [
                                                        0.6666666666666666,
                                                        "#ed7953"
                                                    ],
                                                    [
                                                        0.7777777777777778,
                                                        "#fb9f3a"
                                                    ],
                                                    [
                                                        0.8888888888888888,
                                                        "#fdca26"
                                                    ],
                                                    [
                                                        1,
                                                        "#f0f921"
                                                    ]
                                                ],
                                                "type": "histogram2d"
                                            }
                                        ],
                                        "histogram2dcontour": [
                                            {
                                                "colorbar": {
                                                    "outlinewidth": 0,
                                                    "ticks": ""
                                                },
                                                "colorscale": [
                                                    [
                                                        0,
                                                        "#0d0887"
                                                    ],
                                                    [
                                                        0.1111111111111111,
                                                        "#46039f"
                                                    ],
                                                    [
                                                        0.2222222222222222,
                                                        "#7201a8"
                                                    ],
                                                    [
                                                        0.3333333333333333,
                                                        "#9c179e"
                                                    ],
                                                    [
                                                        0.4444444444444444,
                                                        "#bd3786"
                                                    ],
                                                    [
                                                        0.5555555555555556,
                                                        "#d8576b"
                                                    ],
                                                    [
                                                        0.6666666666666666,
                                                        "#ed7953"
                                                    ],
                                                    [
                                                        0.7777777777777778,
                                                        "#fb9f3a"
                                                    ],
                                                    [
                                                        0.8888888888888888,
                                                        "#fdca26"
                                                    ],
                                                    [
                                                        1,
                                                        "#f0f921"
                                                    ]
                                                ],
                                                "type": "histogram2dcontour"
                                            }
                                        ],
                                        "mesh3d": [
                                            {
                                                "colorbar": {
                                                    "outlinewidth": 0,
                                                    "ticks": ""
                                                },
                                                "type": "mesh3d"
                                            }
                                        ],
                                        "parcoords": [
                                            {
                                                "line": {
                                                    "colorbar": {
                                                        "outlinewidth": 0,
                                                        "ticks": ""
                                                    }
                                                },
                                                "type": "parcoords"
                                            }
                                        ],
                                        "pie": [
                                            {
                                                "automargin": true,
                                                "type": "pie"
                                            }
                                        ],
                                        "scatter": [
                                            {
                                                "fillpattern": {
                                                    "fillmode": "overlay",
                                                    "size": 10,
                                                    "solidity": 0.2
                                                },
                                                "type": "scatter"
                                            }
                                        ],
                                        "scatter3d": [
                                            {
                                                "line": {
                                                    "colorbar": {
                                                        "outlinewidth": 0,
                                                        "ticks": ""
                                                    }
                                                },
                                                "marker": {
                                                    "colorbar": {
                                                        "outlinewidth": 0,
                                                        "ticks": ""
                                                    }
                                                },
                                                "type": "scatter3d"
                                            }
                                        ],
                                        "scattercarpet": [
                                            {
                                                "marker": {
                                                    "colorbar": {
                                                        "outlinewidth": 0,
                                                        "ticks": ""
                                                    }
                                                },
                                                "type": "scattercarpet"
                                            }
                                        ],
                                        "scattergeo": [
                                            {
                                                "marker": {
                                                    "colorbar": {
                                                        "outlinewidth": 0,
                                                        "ticks": ""
                                                    }
                                                },
                                                "type": "scattergeo"
                                            }
                                        ],
                                        "scattergl": [
                                            {
                                                "marker": {
                                                    "colorbar": {
                                                        "outlinewidth": 0,
                                                        "ticks": ""
                                                    }
                                                },
                                                "type": "scattergl"
                                            }
                                        ],
                                        "scattermapbox": [
                                            {
                                                "marker": {
                                                    "colorbar": {
                                                        "outlinewidth": 0,
                                                        "ticks": ""
                                                    }
                                                },
                                                "type": "scattermapbox"
                                            }
                                        ],
                                        "scatterpolar": [
                                            {
                                                "marker": {
                                                    "colorbar": {
                                                        "outlinewidth": 0,
                                                        "ticks": ""
                                                    }
                                                },
                                                "type": "scatterpolar"
                                            }
                                        ],
                                        "scatterpolargl": [
                                            {
                                                "marker": {
                                                    "colorbar": {
                                                        "outlinewidth": 0,
                                                        "ticks": ""
                                                    }
                                                },
                                                "type": "scatterpolargl"
                                            }
                                        ],
                                        "scatterternary": [
                                            {
                                                "marker": {
                                                    "colorbar": {
                                                        "outlinewidth": 0,
                                                        "ticks": ""
                                                    }
                                                },
                                                "type": "scatterternary"
                                            }
                                        ],
                                        "surface": [
                                            {
                                                "colorbar": {
                                                    "outlinewidth": 0,
                                                    "ticks": ""
                                                },
                                                "colorscale": [
                                                    [
                                                        0,
                                                        "#0d0887"
                                                    ],
                                                    [
                                                        0.1111111111111111,
                                                        "#46039f"
                                                    ],
                                                    [
                                                        0.2222222222222222,
                                                        "#7201a8"
                                                    ],
                                                    [
                                                        0.3333333333333333,
                                                        "#9c179e"
                                                    ],
                                                    [
                                                        0.4444444444444444,
                                                        "#bd3786"
                                                    ],
                                                    [
                                                        0.5555555555555556,
                                                        "#d8576b"
                                                    ],
                                                    [
                                                        0.6666666666666666,
                                                        "#ed7953"
                                                    ],
                                                    [
                                                        0.7777777777777778,
                                                        "#fb9f3a"
                                                    ],
                                                    [
                                                        0.8888888888888888,
                                                        "#fdca26"
                                                    ],
                                                    [
                                                        1,
                                                        "#f0f921"
                                                    ]
                                                ],
                                                "type": "surface"
                                            }
                                        ],
                                        "table": [
                                            {
                                                "cells": {
                                                    "fill": {
                                                        "color": "#EBF0F8"
                                                    },
                                                    "line": {
                                                        "color": "white"
                                                    }
                                                },
                                                "header": {
                                                    "fill": {
                                                        "color": "#C8D4E3"
                                                    },
                                                    "line": {
                                                        "color": "white"
                                                    }
                                                },
                                                "type": "table"
                                            }
                                        ]
                                    },
                                    "layout": {
                                        "annotationdefaults": {
                                            "arrowcolor": "#2a3f5f",
                                            "arrowhead": 0,
                                            "arrowwidth": 1
                                        },
                                        "autotypenumbers": "strict",
                                        "coloraxis": {
                                            "colorbar": {
                                                "outlinewidth": 0,
                                                "ticks": ""
                                            }
                                        },
                                        "colorscale": {
                                            "diverging": [
                                                [
                                                    0,
                                                    "#8e0152"
                                                ],
                                                [
                                                    0.1,
                                                    "#c51b7d"
                                                ],
                                                [
                                                    0.2,
                                                    "#de77ae"
                                                ],
                                                [
                                                    0.3,
                                                    "#f1b6da"
                                                ],
                                                [
                                                    0.4,
                                                    "#fde0ef"
                                                ],
                                                [
                                                    0.5,
                                                    "#f7f7f7"
                                                ],
                                                [
                                                    0.6,
                                                    "#e6f5d0"
                                                ],
                                                [
                                                    0.7,
                                                    "#b8e186"
                                                ],
                                                [
                                                    0.8,
                                                    "#7fbc41"
                                                ],
                                                [
                                                    0.9,
                                                    "#4d9221"
                                                ],
                                                [
                                                    1,
                                                    "#276419"
                                                ]
                                            ],
                                            "sequential": [
                                                [
                                                    0,
                                                    "#0d0887"
                                                ],
                                                [
                                                    0.1111111111111111,
                                                    "#46039f"
                                                ],
                                                [
                                                    0.2222222222222222,
                                                    "#7201a8"
                                                ],
                                                [
                                                    0.3333333333333333,
                                                    "#9c179e"
                                                ],
                                                [
                                                    0.4444444444444444,
                                                    "#bd3786"
                                                ],
                                                [
                                                    0.5555555555555556,
                                                    "#d8576b"
                                                ],
                                                [
                                                    0.6666666666666666,
                                                    "#ed7953"
                                                ],
                                                [
                                                    0.7777777777777778,
                                                    "#fb9f3a"
                                                ],
                                                [
                                                    0.8888888888888888,
                                                    "#fdca26"
                                                ],
                                                [
                                                    1,
                                                    "#f0f921"
                                                ]
                                            ],
                                            "sequentialminus": [
                                                [
                                                    0,
                                                    "#0d0887"
                                                ],
                                                [
                                                    0.1111111111111111,
                                                    "#46039f"
                                                ],
                                                [
                                                    0.2222222222222222,
                                                    "#7201a8"
                                                ],
                                                [
                                                    0.3333333333333333,
                                                    "#9c179e"
                                                ],
                                                [
                                                    0.4444444444444444,
                                                    "#bd3786"
                                                ],
                                                [
                                                    0.5555555555555556,
                                                    "#d8576b"
                                                ],
                                                [
                                                    0.6666666666666666,
                                                    "#ed7953"
                                                ],
                                                [
                                                    0.7777777777777778,
                                                    "#fb9f3a"
                                                ],
                                                [
                                                    0.8888888888888888,
                                                    "#fdca26"
                                                ],
                                                [
                                                    1,
                                                    "#f0f921"
                                                ]
                                            ]
                                        },
                                        "colorway": [
                                            "#636efa",
                                            "#EF553B",
                                            "#00cc96",
                                            "#ab63fa",
                                            "#FFA15A",
                                            "#19d3f3",
                                            "#FF6692",
                                            "#B6E880",
                                            "#FF97FF",
                                            "#FECB52"
                                        ],
                                        "font": {
                                            "color": "#2a3f5f"
                                        },
                                        "geo": {
                                            "bgcolor": "white",
                                            "lakecolor": "white",
                                            "landcolor": "#E5ECF6",
                                            "showlakes": true,
                                            "showland": true,
                                            "subunitcolor": "white"
                                        },
                                        "hoverlabel": {
                                            "align": "left"
                                        },
                                        "hovermode": "closest",
                                        "mapbox": {
                                            "style": "light"
                                        },
                                        "paper_bgcolor": "white",
                                        "plot_bgcolor": "#E5ECF6",
                                        "polar": {
                                            "angularaxis": {
                                                "gridcolor": "white",
                                                "linecolor": "white",
                                                "ticks": ""
                                            },
                                            "bgcolor": "#E5ECF6",
                                            "radialaxis": {
                                                "gridcolor": "white",
                                                "linecolor": "white",
                                                "ticks": ""
                                            }
                                        },
                                        "scene": {
                                            "xaxis": {
                                                "backgroundcolor": "#E5ECF6",
                                                "gridcolor": "white",
                                                "gridwidth": 2,
                                                "linecolor": "white",
                                                "showbackground": true,
                                                "ticks": "",
                                                "zerolinecolor": "white"
                                            },
                                            "yaxis": {
                                                "backgroundcolor": "#E5ECF6",
                                                "gridcolor": "white",
                                                "gridwidth": 2,
                                                "linecolor": "white",
                                                "showbackground": true,
                                                "ticks": "",
                                                "zerolinecolor": "white"
                                            },
                                            "zaxis": {
                                                "backgroundcolor": "#E5ECF6",
                                                "gridcolor": "white",
                                                "gridwidth": 2,
                                                "linecolor": "white",
                                                "showbackground": true,
                                                "ticks": "",
                                                "zerolinecolor": "white"
                                            }
                                        },
                                        "shapedefaults": {
                                            "line": {
                                                "color": "#2a3f5f"
                                            }
                                        },
                                        "ternary": {
                                            "aaxis": {
                                                "gridcolor": "white",
                                                "linecolor": "white",
                                                "ticks": ""
                                            },
                                            "baxis": {
                                                "gridcolor": "white",
                                                "linecolor": "white",
                                                "ticks": ""
                                            },
                                            "bgcolor": "#E5ECF6",
                                            "caxis": {
                                                "gridcolor": "white",
                                                "linecolor": "white",
                                                "ticks": ""
                                            }
                                        },
                                        "title": {
                                            "x": 0.05
                                        },
                                        "xaxis": {
                                            "automargin": true,
                                            "gridcolor": "white",
                                            "linecolor": "white",
                                            "ticks": "",
                                            "title": {
                                                "standoff": 15
                                            },
                                            "zerolinecolor": "white",
                                            "zerolinewidth": 2
                                        },
                                        "yaxis": {
                                            "automargin": true,
                                            "gridcolor": "white",
                                            "linecolor": "white",
                                            "ticks": "",
                                            "title": {
                                                "standoff": 15
                                            },
                                            "zerolinecolor": "white",
                                            "zerolinewidth": 2
                                        }
                                    }
                                },
                                "title": {
                                    "font": {
                                        "color": "black",
                                        "size": 24
                                    },
                                    "text": "Distribuição de Produtos por Categoria",
                                    "x": 0.5,
                                    "xanchor": "center"
                                },
                                "xaxis": {
                                    "anchor": "y",
                                    "domain": [
                                        0,
                                        1
                                    ],
                                    "title": {
                                        "text": "Categoria"
                                    }
                                },
                                "yaxis": {
                                    "anchor": "x",
                                    "domain": [
                                        0,
                                        1
                                    ],
                                    "title": {
                                        "text": "Número de Produtos"
                                    }
                                }
                            }
                        }
                    },
                    "metadata": {},
                    "output_type": "display_data"
                }
            ],
            "source": [
                "category_distribution = df.groupby('category').size().reset_index(name='Product Count')\n",
                "\n",
                "# Gráfico de barras\n",
                "fig = px.bar(category_distribution, \n",
                "             x='category', \n",
                "             y='Product Count', \n",
                "             title='Distribuição de Produtos por Categoria',\n",
                "             labels={'category': 'Categoria', 'Product Count': 'Número de Produtos'},\n",
                "             color_discrete_sequence=['red'])\n",
                "\n",
                "# Layout para centralizar o título\n",
                "fig.update_layout(\n",
                "    title={\n",
                "        'text': 'Distribuição de Produtos por Categoria',\n",
                "        'x': 0.5,\n",
                "        'xanchor': 'center',\n",
                "        'font': {\n",
                "            'size': 24,\n",
                "            'color': 'black' \n",
                "        }\n",
                "    }\n",
                ")\n",
                "\n",
                "fig.show()\n"
            ]
        },
        {
            "cell_type": "markdown",
            "metadata": {},
            "source": [
                "# Análise de Preço\n",
                "\n",
                "### 3. Qual é o preço médio dos produtos?\n",
                "\n",
                "Foi calculado o preço médio dos produtos para fornecer uma visão geral do valor médio dos produtos disponíveis.\n",
                "\n",
                "**Preço médio dos produtos:** R$ 247,68\n",
                "\n",
                "Este valor representa o preço médio dos produtos no conjunto de dados analisado. Conhecer o preço médio pode ajudar a entender o posicionamento de preço geral dos produtos e fornecer uma referência para comparações com outras análises de mercado ou ajustes de estratégias de precificação."
            ]
        },
        {
            "cell_type": "code",
            "execution_count": 49,
            "metadata": {},
            "outputs": [
                {
                    "data": {
                        "text/plain": [
                            "'247.68'"
                        ]
                    },
                    "metadata": {},
                    "output_type": "display_data"
                }
            ],
            "source": [
                "average_price = df['price'].mean()\n",
                "\n",
                "# Exibir o preço médio\n",
                "display(f\"{average_price:.2f}\")"
            ]
        },
        {
            "cell_type": "markdown",
            "metadata": {},
            "source": [
                "### 4. Como os preços variam entre diferentes categorias?\n",
                "\n",
                "Foi analisada a variação dos preços entre as categorias de produtos.\n",
                "\n",
                "![Variação de Preços por Categoria](/graficos/ppc.png)\n",
                "\n",
                "Conforme ilustrado no gráfico, a categoria com o maior preço médio é **Health**, seguida pelas categorias **Sports** e **Books**. Isso indica que, em média, os produtos nas categorias de Saúde, Esportes e Livros tendem a ter preços mais altos.\n",
                "\n",
                "Por outro lado, as categorias com os preços médios mais baixos são **Home & Kitchen**, **Electronics** e **Clothing**. Esses produtos têm preços médios mais acessíveis, indicando que os itens nessas categorias são geralmente mais baratos."
            ]
        },
        {
            "cell_type": "code",
            "execution_count": 50,
            "metadata": {},
            "outputs": [
                {
                    "data": {
                        "text/html": [
                            "<div>\n",
                            "<style scoped>\n",
                            "    .dataframe tbody tr th:only-of-type {\n",
                            "        vertical-align: middle;\n",
                            "    }\n",
                            "\n",
                            "    .dataframe tbody tr th {\n",
                            "        vertical-align: top;\n",
                            "    }\n",
                            "\n",
                            "    .dataframe thead th {\n",
                            "        text-align: right;\n",
                            "    }\n",
                            "</style>\n",
                            "<table border=\"1\" class=\"dataframe\">\n",
                            "  <thead>\n",
                            "    <tr style=\"text-align: right;\">\n",
                            "      <th></th>\n",
                            "      <th>Category</th>\n",
                            "      <th>Average Price</th>\n",
                            "    </tr>\n",
                            "  </thead>\n",
                            "  <tbody>\n",
                            "    <tr>\n",
                            "      <th>0</th>\n",
                            "      <td>Books</td>\n",
                            "      <td>251.384805</td>\n",
                            "    </tr>\n",
                            "    <tr>\n",
                            "      <th>1</th>\n",
                            "      <td>Clothing</td>\n",
                            "      <td>230.041786</td>\n",
                            "    </tr>\n",
                            "    <tr>\n",
                            "      <th>2</th>\n",
                            "      <td>Electronics</td>\n",
                            "      <td>239.674275</td>\n",
                            "    </tr>\n",
                            "    <tr>\n",
                            "      <th>3</th>\n",
                            "      <td>Health</td>\n",
                            "      <td>265.142590</td>\n",
                            "    </tr>\n",
                            "    <tr>\n",
                            "      <th>4</th>\n",
                            "      <td>Home &amp; Kitchen</td>\n",
                            "      <td>239.769680</td>\n",
                            "    </tr>\n",
                            "    <tr>\n",
                            "      <th>5</th>\n",
                            "      <td>Sports</td>\n",
                            "      <td>254.216275</td>\n",
                            "    </tr>\n",
                            "    <tr>\n",
                            "      <th>6</th>\n",
                            "      <td>Toys</td>\n",
                            "      <td>251.402980</td>\n",
                            "    </tr>\n",
                            "  </tbody>\n",
                            "</table>\n",
                            "</div>"
                        ],
                        "text/plain": [
                            "         Category  Average Price\n",
                            "0           Books     251.384805\n",
                            "1        Clothing     230.041786\n",
                            "2     Electronics     239.674275\n",
                            "3          Health     265.142590\n",
                            "4  Home & Kitchen     239.769680\n",
                            "5          Sports     254.216275\n",
                            "6            Toys     251.402980"
                        ]
                    },
                    "metadata": {},
                    "output_type": "display_data"
                }
            ],
            "source": [
                "# Exibir o preço médio por categoria\n",
                "price_by_category = df.groupby('category')['price'].mean().reset_index()\n",
                "price_by_category.columns = ['Category', 'Average Price']\n",
                "display(price_by_category)\n"
            ]
        },
        {
            "cell_type": "code",
            "execution_count": 51,
            "metadata": {},
            "outputs": [
                {
                    "data": {
                        "application/vnd.plotly.v1+json": {
                            "config": {
                                "plotlyServerURL": "https://plot.ly"
                            },
                            "data": [
                                {
                                    "alignmentgroup": "True",
                                    "hovertemplate": "Categoria=%{x}<br>Preço Médio=%{y}<extra></extra>",
                                    "legendgroup": "",
                                    "marker": {
                                        "color": "#4C78A8",
                                        "pattern": {
                                            "shape": ""
                                        }
                                    },
                                    "name": "",
                                    "offsetgroup": "",
                                    "orientation": "v",
                                    "showlegend": false,
                                    "textposition": "auto",
                                    "type": "bar",
                                    "x": [
                                        "Books",
                                        "Clothing",
                                        "Electronics",
                                        "Health",
                                        "Home & Kitchen",
                                        "Sports",
                                        "Toys"
                                    ],
                                    "xaxis": "x",
                                    "y": [
                                        251.3848051948052,
                                        230.0417857142857,
                                        239.67427536231887,
                                        265.14258992805753,
                                        239.76968,
                                        254.2162745098039,
                                        251.40298013245032
                                    ],
                                    "yaxis": "y"
                                }
                            ],
                            "layout": {
                                "barmode": "relative",
                                "legend": {
                                    "tracegroupgap": 0
                                },
                                "template": {
                                    "data": {
                                        "bar": [
                                            {
                                                "error_x": {
                                                    "color": "#2a3f5f"
                                                },
                                                "error_y": {
                                                    "color": "#2a3f5f"
                                                },
                                                "marker": {
                                                    "line": {
                                                        "color": "#E5ECF6",
                                                        "width": 0.5
                                                    },
                                                    "pattern": {
                                                        "fillmode": "overlay",
                                                        "size": 10,
                                                        "solidity": 0.2
                                                    }
                                                },
                                                "type": "bar"
                                            }
                                        ],
                                        "barpolar": [
                                            {
                                                "marker": {
                                                    "line": {
                                                        "color": "#E5ECF6",
                                                        "width": 0.5
                                                    },
                                                    "pattern": {
                                                        "fillmode": "overlay",
                                                        "size": 10,
                                                        "solidity": 0.2
                                                    }
                                                },
                                                "type": "barpolar"
                                            }
                                        ],
                                        "carpet": [
                                            {
                                                "aaxis": {
                                                    "endlinecolor": "#2a3f5f",
                                                    "gridcolor": "white",
                                                    "linecolor": "white",
                                                    "minorgridcolor": "white",
                                                    "startlinecolor": "#2a3f5f"
                                                },
                                                "baxis": {
                                                    "endlinecolor": "#2a3f5f",
                                                    "gridcolor": "white",
                                                    "linecolor": "white",
                                                    "minorgridcolor": "white",
                                                    "startlinecolor": "#2a3f5f"
                                                },
                                                "type": "carpet"
                                            }
                                        ],
                                        "choropleth": [
                                            {
                                                "colorbar": {
                                                    "outlinewidth": 0,
                                                    "ticks": ""
                                                },
                                                "type": "choropleth"
                                            }
                                        ],
                                        "contour": [
                                            {
                                                "colorbar": {
                                                    "outlinewidth": 0,
                                                    "ticks": ""
                                                },
                                                "colorscale": [
                                                    [
                                                        0,
                                                        "#0d0887"
                                                    ],
                                                    [
                                                        0.1111111111111111,
                                                        "#46039f"
                                                    ],
                                                    [
                                                        0.2222222222222222,
                                                        "#7201a8"
                                                    ],
                                                    [
                                                        0.3333333333333333,
                                                        "#9c179e"
                                                    ],
                                                    [
                                                        0.4444444444444444,
                                                        "#bd3786"
                                                    ],
                                                    [
                                                        0.5555555555555556,
                                                        "#d8576b"
                                                    ],
                                                    [
                                                        0.6666666666666666,
                                                        "#ed7953"
                                                    ],
                                                    [
                                                        0.7777777777777778,
                                                        "#fb9f3a"
                                                    ],
                                                    [
                                                        0.8888888888888888,
                                                        "#fdca26"
                                                    ],
                                                    [
                                                        1,
                                                        "#f0f921"
                                                    ]
                                                ],
                                                "type": "contour"
                                            }
                                        ],
                                        "contourcarpet": [
                                            {
                                                "colorbar": {
                                                    "outlinewidth": 0,
                                                    "ticks": ""
                                                },
                                                "type": "contourcarpet"
                                            }
                                        ],
                                        "heatmap": [
                                            {
                                                "colorbar": {
                                                    "outlinewidth": 0,
                                                    "ticks": ""
                                                },
                                                "colorscale": [
                                                    [
                                                        0,
                                                        "#0d0887"
                                                    ],
                                                    [
                                                        0.1111111111111111,
                                                        "#46039f"
                                                    ],
                                                    [
                                                        0.2222222222222222,
                                                        "#7201a8"
                                                    ],
                                                    [
                                                        0.3333333333333333,
                                                        "#9c179e"
                                                    ],
                                                    [
                                                        0.4444444444444444,
                                                        "#bd3786"
                                                    ],
                                                    [
                                                        0.5555555555555556,
                                                        "#d8576b"
                                                    ],
                                                    [
                                                        0.6666666666666666,
                                                        "#ed7953"
                                                    ],
                                                    [
                                                        0.7777777777777778,
                                                        "#fb9f3a"
                                                    ],
                                                    [
                                                        0.8888888888888888,
                                                        "#fdca26"
                                                    ],
                                                    [
                                                        1,
                                                        "#f0f921"
                                                    ]
                                                ],
                                                "type": "heatmap"
                                            }
                                        ],
                                        "heatmapgl": [
                                            {
                                                "colorbar": {
                                                    "outlinewidth": 0,
                                                    "ticks": ""
                                                },
                                                "colorscale": [
                                                    [
                                                        0,
                                                        "#0d0887"
                                                    ],
                                                    [
                                                        0.1111111111111111,
                                                        "#46039f"
                                                    ],
                                                    [
                                                        0.2222222222222222,
                                                        "#7201a8"
                                                    ],
                                                    [
                                                        0.3333333333333333,
                                                        "#9c179e"
                                                    ],
                                                    [
                                                        0.4444444444444444,
                                                        "#bd3786"
                                                    ],
                                                    [
                                                        0.5555555555555556,
                                                        "#d8576b"
                                                    ],
                                                    [
                                                        0.6666666666666666,
                                                        "#ed7953"
                                                    ],
                                                    [
                                                        0.7777777777777778,
                                                        "#fb9f3a"
                                                    ],
                                                    [
                                                        0.8888888888888888,
                                                        "#fdca26"
                                                    ],
                                                    [
                                                        1,
                                                        "#f0f921"
                                                    ]
                                                ],
                                                "type": "heatmapgl"
                                            }
                                        ],
                                        "histogram": [
                                            {
                                                "marker": {
                                                    "pattern": {
                                                        "fillmode": "overlay",
                                                        "size": 10,
                                                        "solidity": 0.2
                                                    }
                                                },
                                                "type": "histogram"
                                            }
                                        ],
                                        "histogram2d": [
                                            {
                                                "colorbar": {
                                                    "outlinewidth": 0,
                                                    "ticks": ""
                                                },
                                                "colorscale": [
                                                    [
                                                        0,
                                                        "#0d0887"
                                                    ],
                                                    [
                                                        0.1111111111111111,
                                                        "#46039f"
                                                    ],
                                                    [
                                                        0.2222222222222222,
                                                        "#7201a8"
                                                    ],
                                                    [
                                                        0.3333333333333333,
                                                        "#9c179e"
                                                    ],
                                                    [
                                                        0.4444444444444444,
                                                        "#bd3786"
                                                    ],
                                                    [
                                                        0.5555555555555556,
                                                        "#d8576b"
                                                    ],
                                                    [
                                                        0.6666666666666666,
                                                        "#ed7953"
                                                    ],
                                                    [
                                                        0.7777777777777778,
                                                        "#fb9f3a"
                                                    ],
                                                    [
                                                        0.8888888888888888,
                                                        "#fdca26"
                                                    ],
                                                    [
                                                        1,
                                                        "#f0f921"
                                                    ]
                                                ],
                                                "type": "histogram2d"
                                            }
                                        ],
                                        "histogram2dcontour": [
                                            {
                                                "colorbar": {
                                                    "outlinewidth": 0,
                                                    "ticks": ""
                                                },
                                                "colorscale": [
                                                    [
                                                        0,
                                                        "#0d0887"
                                                    ],
                                                    [
                                                        0.1111111111111111,
                                                        "#46039f"
                                                    ],
                                                    [
                                                        0.2222222222222222,
                                                        "#7201a8"
                                                    ],
                                                    [
                                                        0.3333333333333333,
                                                        "#9c179e"
                                                    ],
                                                    [
                                                        0.4444444444444444,
                                                        "#bd3786"
                                                    ],
                                                    [
                                                        0.5555555555555556,
                                                        "#d8576b"
                                                    ],
                                                    [
                                                        0.6666666666666666,
                                                        "#ed7953"
                                                    ],
                                                    [
                                                        0.7777777777777778,
                                                        "#fb9f3a"
                                                    ],
                                                    [
                                                        0.8888888888888888,
                                                        "#fdca26"
                                                    ],
                                                    [
                                                        1,
                                                        "#f0f921"
                                                    ]
                                                ],
                                                "type": "histogram2dcontour"
                                            }
                                        ],
                                        "mesh3d": [
                                            {
                                                "colorbar": {
                                                    "outlinewidth": 0,
                                                    "ticks": ""
                                                },
                                                "type": "mesh3d"
                                            }
                                        ],
                                        "parcoords": [
                                            {
                                                "line": {
                                                    "colorbar": {
                                                        "outlinewidth": 0,
                                                        "ticks": ""
                                                    }
                                                },
                                                "type": "parcoords"
                                            }
                                        ],
                                        "pie": [
                                            {
                                                "automargin": true,
                                                "type": "pie"
                                            }
                                        ],
                                        "scatter": [
                                            {
                                                "fillpattern": {
                                                    "fillmode": "overlay",
                                                    "size": 10,
                                                    "solidity": 0.2
                                                },
                                                "type": "scatter"
                                            }
                                        ],
                                        "scatter3d": [
                                            {
                                                "line": {
                                                    "colorbar": {
                                                        "outlinewidth": 0,
                                                        "ticks": ""
                                                    }
                                                },
                                                "marker": {
                                                    "colorbar": {
                                                        "outlinewidth": 0,
                                                        "ticks": ""
                                                    }
                                                },
                                                "type": "scatter3d"
                                            }
                                        ],
                                        "scattercarpet": [
                                            {
                                                "marker": {
                                                    "colorbar": {
                                                        "outlinewidth": 0,
                                                        "ticks": ""
                                                    }
                                                },
                                                "type": "scattercarpet"
                                            }
                                        ],
                                        "scattergeo": [
                                            {
                                                "marker": {
                                                    "colorbar": {
                                                        "outlinewidth": 0,
                                                        "ticks": ""
                                                    }
                                                },
                                                "type": "scattergeo"
                                            }
                                        ],
                                        "scattergl": [
                                            {
                                                "marker": {
                                                    "colorbar": {
                                                        "outlinewidth": 0,
                                                        "ticks": ""
                                                    }
                                                },
                                                "type": "scattergl"
                                            }
                                        ],
                                        "scattermapbox": [
                                            {
                                                "marker": {
                                                    "colorbar": {
                                                        "outlinewidth": 0,
                                                        "ticks": ""
                                                    }
                                                },
                                                "type": "scattermapbox"
                                            }
                                        ],
                                        "scatterpolar": [
                                            {
                                                "marker": {
                                                    "colorbar": {
                                                        "outlinewidth": 0,
                                                        "ticks": ""
                                                    }
                                                },
                                                "type": "scatterpolar"
                                            }
                                        ],
                                        "scatterpolargl": [
                                            {
                                                "marker": {
                                                    "colorbar": {
                                                        "outlinewidth": 0,
                                                        "ticks": ""
                                                    }
                                                },
                                                "type": "scatterpolargl"
                                            }
                                        ],
                                        "scatterternary": [
                                            {
                                                "marker": {
                                                    "colorbar": {
                                                        "outlinewidth": 0,
                                                        "ticks": ""
                                                    }
                                                },
                                                "type": "scatterternary"
                                            }
                                        ],
                                        "surface": [
                                            {
                                                "colorbar": {
                                                    "outlinewidth": 0,
                                                    "ticks": ""
                                                },
                                                "colorscale": [
                                                    [
                                                        0,
                                                        "#0d0887"
                                                    ],
                                                    [
                                                        0.1111111111111111,
                                                        "#46039f"
                                                    ],
                                                    [
                                                        0.2222222222222222,
                                                        "#7201a8"
                                                    ],
                                                    [
                                                        0.3333333333333333,
                                                        "#9c179e"
                                                    ],
                                                    [
                                                        0.4444444444444444,
                                                        "#bd3786"
                                                    ],
                                                    [
                                                        0.5555555555555556,
                                                        "#d8576b"
                                                    ],
                                                    [
                                                        0.6666666666666666,
                                                        "#ed7953"
                                                    ],
                                                    [
                                                        0.7777777777777778,
                                                        "#fb9f3a"
                                                    ],
                                                    [
                                                        0.8888888888888888,
                                                        "#fdca26"
                                                    ],
                                                    [
                                                        1,
                                                        "#f0f921"
                                                    ]
                                                ],
                                                "type": "surface"
                                            }
                                        ],
                                        "table": [
                                            {
                                                "cells": {
                                                    "fill": {
                                                        "color": "#EBF0F8"
                                                    },
                                                    "line": {
                                                        "color": "white"
                                                    }
                                                },
                                                "header": {
                                                    "fill": {
                                                        "color": "#C8D4E3"
                                                    },
                                                    "line": {
                                                        "color": "white"
                                                    }
                                                },
                                                "type": "table"
                                            }
                                        ]
                                    },
                                    "layout": {
                                        "annotationdefaults": {
                                            "arrowcolor": "#2a3f5f",
                                            "arrowhead": 0,
                                            "arrowwidth": 1
                                        },
                                        "autotypenumbers": "strict",
                                        "coloraxis": {
                                            "colorbar": {
                                                "outlinewidth": 0,
                                                "ticks": ""
                                            }
                                        },
                                        "colorscale": {
                                            "diverging": [
                                                [
                                                    0,
                                                    "#8e0152"
                                                ],
                                                [
                                                    0.1,
                                                    "#c51b7d"
                                                ],
                                                [
                                                    0.2,
                                                    "#de77ae"
                                                ],
                                                [
                                                    0.3,
                                                    "#f1b6da"
                                                ],
                                                [
                                                    0.4,
                                                    "#fde0ef"
                                                ],
                                                [
                                                    0.5,
                                                    "#f7f7f7"
                                                ],
                                                [
                                                    0.6,
                                                    "#e6f5d0"
                                                ],
                                                [
                                                    0.7,
                                                    "#b8e186"
                                                ],
                                                [
                                                    0.8,
                                                    "#7fbc41"
                                                ],
                                                [
                                                    0.9,
                                                    "#4d9221"
                                                ],
                                                [
                                                    1,
                                                    "#276419"
                                                ]
                                            ],
                                            "sequential": [
                                                [
                                                    0,
                                                    "#0d0887"
                                                ],
                                                [
                                                    0.1111111111111111,
                                                    "#46039f"
                                                ],
                                                [
                                                    0.2222222222222222,
                                                    "#7201a8"
                                                ],
                                                [
                                                    0.3333333333333333,
                                                    "#9c179e"
                                                ],
                                                [
                                                    0.4444444444444444,
                                                    "#bd3786"
                                                ],
                                                [
                                                    0.5555555555555556,
                                                    "#d8576b"
                                                ],
                                                [
                                                    0.6666666666666666,
                                                    "#ed7953"
                                                ],
                                                [
                                                    0.7777777777777778,
                                                    "#fb9f3a"
                                                ],
                                                [
                                                    0.8888888888888888,
                                                    "#fdca26"
                                                ],
                                                [
                                                    1,
                                                    "#f0f921"
                                                ]
                                            ],
                                            "sequentialminus": [
                                                [
                                                    0,
                                                    "#0d0887"
                                                ],
                                                [
                                                    0.1111111111111111,
                                                    "#46039f"
                                                ],
                                                [
                                                    0.2222222222222222,
                                                    "#7201a8"
                                                ],
                                                [
                                                    0.3333333333333333,
                                                    "#9c179e"
                                                ],
                                                [
                                                    0.4444444444444444,
                                                    "#bd3786"
                                                ],
                                                [
                                                    0.5555555555555556,
                                                    "#d8576b"
                                                ],
                                                [
                                                    0.6666666666666666,
                                                    "#ed7953"
                                                ],
                                                [
                                                    0.7777777777777778,
                                                    "#fb9f3a"
                                                ],
                                                [
                                                    0.8888888888888888,
                                                    "#fdca26"
                                                ],
                                                [
                                                    1,
                                                    "#f0f921"
                                                ]
                                            ]
                                        },
                                        "colorway": [
                                            "#636efa",
                                            "#EF553B",
                                            "#00cc96",
                                            "#ab63fa",
                                            "#FFA15A",
                                            "#19d3f3",
                                            "#FF6692",
                                            "#B6E880",
                                            "#FF97FF",
                                            "#FECB52"
                                        ],
                                        "font": {
                                            "color": "#2a3f5f"
                                        },
                                        "geo": {
                                            "bgcolor": "white",
                                            "lakecolor": "white",
                                            "landcolor": "#E5ECF6",
                                            "showlakes": true,
                                            "showland": true,
                                            "subunitcolor": "white"
                                        },
                                        "hoverlabel": {
                                            "align": "left"
                                        },
                                        "hovermode": "closest",
                                        "mapbox": {
                                            "style": "light"
                                        },
                                        "paper_bgcolor": "white",
                                        "plot_bgcolor": "#E5ECF6",
                                        "polar": {
                                            "angularaxis": {
                                                "gridcolor": "white",
                                                "linecolor": "white",
                                                "ticks": ""
                                            },
                                            "bgcolor": "#E5ECF6",
                                            "radialaxis": {
                                                "gridcolor": "white",
                                                "linecolor": "white",
                                                "ticks": ""
                                            }
                                        },
                                        "scene": {
                                            "xaxis": {
                                                "backgroundcolor": "#E5ECF6",
                                                "gridcolor": "white",
                                                "gridwidth": 2,
                                                "linecolor": "white",
                                                "showbackground": true,
                                                "ticks": "",
                                                "zerolinecolor": "white"
                                            },
                                            "yaxis": {
                                                "backgroundcolor": "#E5ECF6",
                                                "gridcolor": "white",
                                                "gridwidth": 2,
                                                "linecolor": "white",
                                                "showbackground": true,
                                                "ticks": "",
                                                "zerolinecolor": "white"
                                            },
                                            "zaxis": {
                                                "backgroundcolor": "#E5ECF6",
                                                "gridcolor": "white",
                                                "gridwidth": 2,
                                                "linecolor": "white",
                                                "showbackground": true,
                                                "ticks": "",
                                                "zerolinecolor": "white"
                                            }
                                        },
                                        "shapedefaults": {
                                            "line": {
                                                "color": "#2a3f5f"
                                            }
                                        },
                                        "ternary": {
                                            "aaxis": {
                                                "gridcolor": "white",
                                                "linecolor": "white",
                                                "ticks": ""
                                            },
                                            "baxis": {
                                                "gridcolor": "white",
                                                "linecolor": "white",
                                                "ticks": ""
                                            },
                                            "bgcolor": "#E5ECF6",
                                            "caxis": {
                                                "gridcolor": "white",
                                                "linecolor": "white",
                                                "ticks": ""
                                            }
                                        },
                                        "title": {
                                            "x": 0.05
                                        },
                                        "xaxis": {
                                            "automargin": true,
                                            "gridcolor": "white",
                                            "linecolor": "white",
                                            "ticks": "",
                                            "title": {
                                                "standoff": 15
                                            },
                                            "zerolinecolor": "white",
                                            "zerolinewidth": 2
                                        },
                                        "yaxis": {
                                            "automargin": true,
                                            "gridcolor": "white",
                                            "linecolor": "white",
                                            "ticks": "",
                                            "title": {
                                                "standoff": 15
                                            },
                                            "zerolinecolor": "white",
                                            "zerolinewidth": 2
                                        }
                                    }
                                },
                                "title": {
                                    "font": {
                                        "color": "black",
                                        "size": 24
                                    },
                                    "text": "Preço Médio por Categoria",
                                    "x": 0.5,
                                    "xanchor": "center"
                                },
                                "xaxis": {
                                    "anchor": "y",
                                    "domain": [
                                        0,
                                        1
                                    ],
                                    "title": {
                                        "text": "Categoria"
                                    }
                                },
                                "yaxis": {
                                    "anchor": "x",
                                    "domain": [
                                        0,
                                        1
                                    ],
                                    "title": {
                                        "text": "Preço Médio"
                                    }
                                }
                            }
                        }
                    },
                    "metadata": {},
                    "output_type": "display_data"
                }
            ],
            "source": [
                "# Criar o gráfico de barras para visualizar o preço médio por categoria\n",
                "fig = px.bar(price_by_category, \n",
                "             x='Category', \n",
                "             y='Average Price', \n",
                "             title='Preço Médio por Categoria',\n",
                "             labels={'Category': 'Categoria', 'Average Price': 'Preço Médio'},\n",
                "            color_discrete_sequence=px.colors.qualitative.T10)\n",
                "\n",
                "# Atualizar o layout para centralizar o título e ajustar o estilo\n",
                "fig.update_layout(\n",
                "    title={\n",
                "        'text': 'Preço Médio por Categoria',\n",
                "        'x': 0.5,  # Centraliza o título horizontalmente\n",
                "        'xanchor': 'center',  # Alinha o título ao centro\n",
                "        'font': {\n",
                "            'size': 24,  # Tamanho da fonte\n",
                "            'color': 'black'  # Cor da fonte\n",
                "        }\n",
                "    },\n",
                "    xaxis_title='Categoria',\n",
                "    yaxis_title='Preço Médio'\n",
                ")\n",
                "\n",
                "# Exibir o gráfico\n",
                "fig.show()"
            ]
        },
        {
            "cell_type": "markdown",
            "metadata": {},
            "source": [
                "## Análise de Vendas\n",
                "\n",
                "### 5. Qual é o volume total de vendas por mês?\n",
                "\n",
                "**Foi calculado o volume total de vendas por mês para mostrar como as vendas acumulam ao longo do ano.**\n",
                "\n",
                "![Volume Total de Vendas por Mês](/graficos/vpm.png)\n",
                "\n",
                "Conforme ilustrado no gráfico, é possível observar uma queda significativa nas vendas entre os seguintes períodos:\n",
                "- **Meses 4 e 5**\n",
                "- **Meses 8 e 9**\n",
                "- **Meses 10 e 12**\n"
            ]
        },
        {
            "cell_type": "code",
            "execution_count": 52,
            "metadata": {},
            "outputs": [
                {
                    "data": {
                        "text/html": [
                            "<div>\n",
                            "<style scoped>\n",
                            "    .dataframe tbody tr th:only-of-type {\n",
                            "        vertical-align: middle;\n",
                            "    }\n",
                            "\n",
                            "    .dataframe tbody tr th {\n",
                            "        vertical-align: top;\n",
                            "    }\n",
                            "\n",
                            "    .dataframe thead th {\n",
                            "        text-align: right;\n",
                            "    }\n",
                            "</style>\n",
                            "<table border=\"1\" class=\"dataframe\">\n",
                            "  <thead>\n",
                            "    <tr style=\"text-align: right;\">\n",
                            "      <th></th>\n",
                            "      <th>Month</th>\n",
                            "      <th>Total Sales</th>\n",
                            "    </tr>\n",
                            "  </thead>\n",
                            "  <tbody>\n",
                            "    <tr>\n",
                            "      <th>0</th>\n",
                            "      <td>Mês 1</td>\n",
                            "      <td>498306</td>\n",
                            "    </tr>\n",
                            "    <tr>\n",
                            "      <th>1</th>\n",
                            "      <td>Mês 2</td>\n",
                            "      <td>507661</td>\n",
                            "    </tr>\n",
                            "    <tr>\n",
                            "      <th>2</th>\n",
                            "      <td>Mês 3</td>\n",
                            "      <td>506739</td>\n",
                            "    </tr>\n",
                            "    <tr>\n",
                            "      <th>3</th>\n",
                            "      <td>Mês 4</td>\n",
                            "      <td>503823</td>\n",
                            "    </tr>\n",
                            "    <tr>\n",
                            "      <th>4</th>\n",
                            "      <td>Mês 5</td>\n",
                            "      <td>487194</td>\n",
                            "    </tr>\n",
                            "    <tr>\n",
                            "      <th>5</th>\n",
                            "      <td>Mês 6</td>\n",
                            "      <td>491653</td>\n",
                            "    </tr>\n",
                            "    <tr>\n",
                            "      <th>6</th>\n",
                            "      <td>Mês 7</td>\n",
                            "      <td>507011</td>\n",
                            "    </tr>\n",
                            "    <tr>\n",
                            "      <th>7</th>\n",
                            "      <td>Mês 8</td>\n",
                            "      <td>504569</td>\n",
                            "    </tr>\n",
                            "    <tr>\n",
                            "      <th>8</th>\n",
                            "      <td>Mês 9</td>\n",
                            "      <td>491934</td>\n",
                            "    </tr>\n",
                            "    <tr>\n",
                            "      <th>9</th>\n",
                            "      <td>Mês 10</td>\n",
                            "      <td>514798</td>\n",
                            "    </tr>\n",
                            "    <tr>\n",
                            "      <th>10</th>\n",
                            "      <td>Mês 11</td>\n",
                            "      <td>505838</td>\n",
                            "    </tr>\n",
                            "    <tr>\n",
                            "      <th>11</th>\n",
                            "      <td>Mês 12</td>\n",
                            "      <td>500386</td>\n",
                            "    </tr>\n",
                            "  </tbody>\n",
                            "</table>\n",
                            "</div>"
                        ],
                        "text/plain": [
                            "     Month  Total Sales\n",
                            "0    Mês 1       498306\n",
                            "1    Mês 2       507661\n",
                            "2    Mês 3       506739\n",
                            "3    Mês 4       503823\n",
                            "4    Mês 5       487194\n",
                            "5    Mês 6       491653\n",
                            "6    Mês 7       507011\n",
                            "7    Mês 8       504569\n",
                            "8    Mês 9       491934\n",
                            "9   Mês 10       514798\n",
                            "10  Mês 11       505838\n",
                            "11  Mês 12       500386"
                        ]
                    },
                    "metadata": {},
                    "output_type": "display_data"
                }
            ],
            "source": [
                "# Calcular o volume total de vendas por mês\n",
                "sales_columns = [f'sales_month_{i}' for i in range(1, 13)]\n",
                "total_sales_per_month = df[sales_columns].sum().reset_index()\n",
                "total_sales_per_month.columns = ['Month', 'Total Sales']\n",
                "\n",
                "# Ajustar os nomes dos meses para melhor visualização\n",
                "total_sales_per_month['Month'] = total_sales_per_month['Month'].apply(lambda x: f'Mês {x.split(\"_\")[-1]}')\n",
                "\n",
                "# Exibir o volume total de vendas por mês\n",
                "display(total_sales_per_month)\n"
            ]
        },
        {
            "cell_type": "code",
            "execution_count": 53,
            "metadata": {},
            "outputs": [
                {
                    "data": {
                        "application/vnd.plotly.v1+json": {
                            "config": {
                                "plotlyServerURL": "https://plot.ly"
                            },
                            "data": [
                                {
                                    "hovertemplate": "Mês=%{x}<br>Total de Vendas=%{y}<extra></extra>",
                                    "legendgroup": "",
                                    "line": {
                                        "color": "#636efa",
                                        "dash": "solid"
                                    },
                                    "marker": {
                                        "symbol": "circle"
                                    },
                                    "mode": "lines+markers",
                                    "name": "",
                                    "orientation": "v",
                                    "showlegend": false,
                                    "type": "scatter",
                                    "x": [
                                        "Mês 1",
                                        "Mês 2",
                                        "Mês 3",
                                        "Mês 4",
                                        "Mês 5",
                                        "Mês 6",
                                        "Mês 7",
                                        "Mês 8",
                                        "Mês 9",
                                        "Mês 10",
                                        "Mês 11",
                                        "Mês 12"
                                    ],
                                    "xaxis": "x",
                                    "y": [
                                        498306,
                                        507661,
                                        506739,
                                        503823,
                                        487194,
                                        491653,
                                        507011,
                                        504569,
                                        491934,
                                        514798,
                                        505838,
                                        500386
                                    ],
                                    "yaxis": "y"
                                }
                            ],
                            "layout": {
                                "legend": {
                                    "tracegroupgap": 0
                                },
                                "template": {
                                    "data": {
                                        "bar": [
                                            {
                                                "error_x": {
                                                    "color": "#2a3f5f"
                                                },
                                                "error_y": {
                                                    "color": "#2a3f5f"
                                                },
                                                "marker": {
                                                    "line": {
                                                        "color": "#E5ECF6",
                                                        "width": 0.5
                                                    },
                                                    "pattern": {
                                                        "fillmode": "overlay",
                                                        "size": 10,
                                                        "solidity": 0.2
                                                    }
                                                },
                                                "type": "bar"
                                            }
                                        ],
                                        "barpolar": [
                                            {
                                                "marker": {
                                                    "line": {
                                                        "color": "#E5ECF6",
                                                        "width": 0.5
                                                    },
                                                    "pattern": {
                                                        "fillmode": "overlay",
                                                        "size": 10,
                                                        "solidity": 0.2
                                                    }
                                                },
                                                "type": "barpolar"
                                            }
                                        ],
                                        "carpet": [
                                            {
                                                "aaxis": {
                                                    "endlinecolor": "#2a3f5f",
                                                    "gridcolor": "white",
                                                    "linecolor": "white",
                                                    "minorgridcolor": "white",
                                                    "startlinecolor": "#2a3f5f"
                                                },
                                                "baxis": {
                                                    "endlinecolor": "#2a3f5f",
                                                    "gridcolor": "white",
                                                    "linecolor": "white",
                                                    "minorgridcolor": "white",
                                                    "startlinecolor": "#2a3f5f"
                                                },
                                                "type": "carpet"
                                            }
                                        ],
                                        "choropleth": [
                                            {
                                                "colorbar": {
                                                    "outlinewidth": 0,
                                                    "ticks": ""
                                                },
                                                "type": "choropleth"
                                            }
                                        ],
                                        "contour": [
                                            {
                                                "colorbar": {
                                                    "outlinewidth": 0,
                                                    "ticks": ""
                                                },
                                                "colorscale": [
                                                    [
                                                        0,
                                                        "#0d0887"
                                                    ],
                                                    [
                                                        0.1111111111111111,
                                                        "#46039f"
                                                    ],
                                                    [
                                                        0.2222222222222222,
                                                        "#7201a8"
                                                    ],
                                                    [
                                                        0.3333333333333333,
                                                        "#9c179e"
                                                    ],
                                                    [
                                                        0.4444444444444444,
                                                        "#bd3786"
                                                    ],
                                                    [
                                                        0.5555555555555556,
                                                        "#d8576b"
                                                    ],
                                                    [
                                                        0.6666666666666666,
                                                        "#ed7953"
                                                    ],
                                                    [
                                                        0.7777777777777778,
                                                        "#fb9f3a"
                                                    ],
                                                    [
                                                        0.8888888888888888,
                                                        "#fdca26"
                                                    ],
                                                    [
                                                        1,
                                                        "#f0f921"
                                                    ]
                                                ],
                                                "type": "contour"
                                            }
                                        ],
                                        "contourcarpet": [
                                            {
                                                "colorbar": {
                                                    "outlinewidth": 0,
                                                    "ticks": ""
                                                },
                                                "type": "contourcarpet"
                                            }
                                        ],
                                        "heatmap": [
                                            {
                                                "colorbar": {
                                                    "outlinewidth": 0,
                                                    "ticks": ""
                                                },
                                                "colorscale": [
                                                    [
                                                        0,
                                                        "#0d0887"
                                                    ],
                                                    [
                                                        0.1111111111111111,
                                                        "#46039f"
                                                    ],
                                                    [
                                                        0.2222222222222222,
                                                        "#7201a8"
                                                    ],
                                                    [
                                                        0.3333333333333333,
                                                        "#9c179e"
                                                    ],
                                                    [
                                                        0.4444444444444444,
                                                        "#bd3786"
                                                    ],
                                                    [
                                                        0.5555555555555556,
                                                        "#d8576b"
                                                    ],
                                                    [
                                                        0.6666666666666666,
                                                        "#ed7953"
                                                    ],
                                                    [
                                                        0.7777777777777778,
                                                        "#fb9f3a"
                                                    ],
                                                    [
                                                        0.8888888888888888,
                                                        "#fdca26"
                                                    ],
                                                    [
                                                        1,
                                                        "#f0f921"
                                                    ]
                                                ],
                                                "type": "heatmap"
                                            }
                                        ],
                                        "heatmapgl": [
                                            {
                                                "colorbar": {
                                                    "outlinewidth": 0,
                                                    "ticks": ""
                                                },
                                                "colorscale": [
                                                    [
                                                        0,
                                                        "#0d0887"
                                                    ],
                                                    [
                                                        0.1111111111111111,
                                                        "#46039f"
                                                    ],
                                                    [
                                                        0.2222222222222222,
                                                        "#7201a8"
                                                    ],
                                                    [
                                                        0.3333333333333333,
                                                        "#9c179e"
                                                    ],
                                                    [
                                                        0.4444444444444444,
                                                        "#bd3786"
                                                    ],
                                                    [
                                                        0.5555555555555556,
                                                        "#d8576b"
                                                    ],
                                                    [
                                                        0.6666666666666666,
                                                        "#ed7953"
                                                    ],
                                                    [
                                                        0.7777777777777778,
                                                        "#fb9f3a"
                                                    ],
                                                    [
                                                        0.8888888888888888,
                                                        "#fdca26"
                                                    ],
                                                    [
                                                        1,
                                                        "#f0f921"
                                                    ]
                                                ],
                                                "type": "heatmapgl"
                                            }
                                        ],
                                        "histogram": [
                                            {
                                                "marker": {
                                                    "pattern": {
                                                        "fillmode": "overlay",
                                                        "size": 10,
                                                        "solidity": 0.2
                                                    }
                                                },
                                                "type": "histogram"
                                            }
                                        ],
                                        "histogram2d": [
                                            {
                                                "colorbar": {
                                                    "outlinewidth": 0,
                                                    "ticks": ""
                                                },
                                                "colorscale": [
                                                    [
                                                        0,
                                                        "#0d0887"
                                                    ],
                                                    [
                                                        0.1111111111111111,
                                                        "#46039f"
                                                    ],
                                                    [
                                                        0.2222222222222222,
                                                        "#7201a8"
                                                    ],
                                                    [
                                                        0.3333333333333333,
                                                        "#9c179e"
                                                    ],
                                                    [
                                                        0.4444444444444444,
                                                        "#bd3786"
                                                    ],
                                                    [
                                                        0.5555555555555556,
                                                        "#d8576b"
                                                    ],
                                                    [
                                                        0.6666666666666666,
                                                        "#ed7953"
                                                    ],
                                                    [
                                                        0.7777777777777778,
                                                        "#fb9f3a"
                                                    ],
                                                    [
                                                        0.8888888888888888,
                                                        "#fdca26"
                                                    ],
                                                    [
                                                        1,
                                                        "#f0f921"
                                                    ]
                                                ],
                                                "type": "histogram2d"
                                            }
                                        ],
                                        "histogram2dcontour": [
                                            {
                                                "colorbar": {
                                                    "outlinewidth": 0,
                                                    "ticks": ""
                                                },
                                                "colorscale": [
                                                    [
                                                        0,
                                                        "#0d0887"
                                                    ],
                                                    [
                                                        0.1111111111111111,
                                                        "#46039f"
                                                    ],
                                                    [
                                                        0.2222222222222222,
                                                        "#7201a8"
                                                    ],
                                                    [
                                                        0.3333333333333333,
                                                        "#9c179e"
                                                    ],
                                                    [
                                                        0.4444444444444444,
                                                        "#bd3786"
                                                    ],
                                                    [
                                                        0.5555555555555556,
                                                        "#d8576b"
                                                    ],
                                                    [
                                                        0.6666666666666666,
                                                        "#ed7953"
                                                    ],
                                                    [
                                                        0.7777777777777778,
                                                        "#fb9f3a"
                                                    ],
                                                    [
                                                        0.8888888888888888,
                                                        "#fdca26"
                                                    ],
                                                    [
                                                        1,
                                                        "#f0f921"
                                                    ]
                                                ],
                                                "type": "histogram2dcontour"
                                            }
                                        ],
                                        "mesh3d": [
                                            {
                                                "colorbar": {
                                                    "outlinewidth": 0,
                                                    "ticks": ""
                                                },
                                                "type": "mesh3d"
                                            }
                                        ],
                                        "parcoords": [
                                            {
                                                "line": {
                                                    "colorbar": {
                                                        "outlinewidth": 0,
                                                        "ticks": ""
                                                    }
                                                },
                                                "type": "parcoords"
                                            }
                                        ],
                                        "pie": [
                                            {
                                                "automargin": true,
                                                "type": "pie"
                                            }
                                        ],
                                        "scatter": [
                                            {
                                                "fillpattern": {
                                                    "fillmode": "overlay",
                                                    "size": 10,
                                                    "solidity": 0.2
                                                },
                                                "type": "scatter"
                                            }
                                        ],
                                        "scatter3d": [
                                            {
                                                "line": {
                                                    "colorbar": {
                                                        "outlinewidth": 0,
                                                        "ticks": ""
                                                    }
                                                },
                                                "marker": {
                                                    "colorbar": {
                                                        "outlinewidth": 0,
                                                        "ticks": ""
                                                    }
                                                },
                                                "type": "scatter3d"
                                            }
                                        ],
                                        "scattercarpet": [
                                            {
                                                "marker": {
                                                    "colorbar": {
                                                        "outlinewidth": 0,
                                                        "ticks": ""
                                                    }
                                                },
                                                "type": "scattercarpet"
                                            }
                                        ],
                                        "scattergeo": [
                                            {
                                                "marker": {
                                                    "colorbar": {
                                                        "outlinewidth": 0,
                                                        "ticks": ""
                                                    }
                                                },
                                                "type": "scattergeo"
                                            }
                                        ],
                                        "scattergl": [
                                            {
                                                "marker": {
                                                    "colorbar": {
                                                        "outlinewidth": 0,
                                                        "ticks": ""
                                                    }
                                                },
                                                "type": "scattergl"
                                            }
                                        ],
                                        "scattermapbox": [
                                            {
                                                "marker": {
                                                    "colorbar": {
                                                        "outlinewidth": 0,
                                                        "ticks": ""
                                                    }
                                                },
                                                "type": "scattermapbox"
                                            }
                                        ],
                                        "scatterpolar": [
                                            {
                                                "marker": {
                                                    "colorbar": {
                                                        "outlinewidth": 0,
                                                        "ticks": ""
                                                    }
                                                },
                                                "type": "scatterpolar"
                                            }
                                        ],
                                        "scatterpolargl": [
                                            {
                                                "marker": {
                                                    "colorbar": {
                                                        "outlinewidth": 0,
                                                        "ticks": ""
                                                    }
                                                },
                                                "type": "scatterpolargl"
                                            }
                                        ],
                                        "scatterternary": [
                                            {
                                                "marker": {
                                                    "colorbar": {
                                                        "outlinewidth": 0,
                                                        "ticks": ""
                                                    }
                                                },
                                                "type": "scatterternary"
                                            }
                                        ],
                                        "surface": [
                                            {
                                                "colorbar": {
                                                    "outlinewidth": 0,
                                                    "ticks": ""
                                                },
                                                "colorscale": [
                                                    [
                                                        0,
                                                        "#0d0887"
                                                    ],
                                                    [
                                                        0.1111111111111111,
                                                        "#46039f"
                                                    ],
                                                    [
                                                        0.2222222222222222,
                                                        "#7201a8"
                                                    ],
                                                    [
                                                        0.3333333333333333,
                                                        "#9c179e"
                                                    ],
                                                    [
                                                        0.4444444444444444,
                                                        "#bd3786"
                                                    ],
                                                    [
                                                        0.5555555555555556,
                                                        "#d8576b"
                                                    ],
                                                    [
                                                        0.6666666666666666,
                                                        "#ed7953"
                                                    ],
                                                    [
                                                        0.7777777777777778,
                                                        "#fb9f3a"
                                                    ],
                                                    [
                                                        0.8888888888888888,
                                                        "#fdca26"
                                                    ],
                                                    [
                                                        1,
                                                        "#f0f921"
                                                    ]
                                                ],
                                                "type": "surface"
                                            }
                                        ],
                                        "table": [
                                            {
                                                "cells": {
                                                    "fill": {
                                                        "color": "#EBF0F8"
                                                    },
                                                    "line": {
                                                        "color": "white"
                                                    }
                                                },
                                                "header": {
                                                    "fill": {
                                                        "color": "#C8D4E3"
                                                    },
                                                    "line": {
                                                        "color": "white"
                                                    }
                                                },
                                                "type": "table"
                                            }
                                        ]
                                    },
                                    "layout": {
                                        "annotationdefaults": {
                                            "arrowcolor": "#2a3f5f",
                                            "arrowhead": 0,
                                            "arrowwidth": 1
                                        },
                                        "autotypenumbers": "strict",
                                        "coloraxis": {
                                            "colorbar": {
                                                "outlinewidth": 0,
                                                "ticks": ""
                                            }
                                        },
                                        "colorscale": {
                                            "diverging": [
                                                [
                                                    0,
                                                    "#8e0152"
                                                ],
                                                [
                                                    0.1,
                                                    "#c51b7d"
                                                ],
                                                [
                                                    0.2,
                                                    "#de77ae"
                                                ],
                                                [
                                                    0.3,
                                                    "#f1b6da"
                                                ],
                                                [
                                                    0.4,
                                                    "#fde0ef"
                                                ],
                                                [
                                                    0.5,
                                                    "#f7f7f7"
                                                ],
                                                [
                                                    0.6,
                                                    "#e6f5d0"
                                                ],
                                                [
                                                    0.7,
                                                    "#b8e186"
                                                ],
                                                [
                                                    0.8,
                                                    "#7fbc41"
                                                ],
                                                [
                                                    0.9,
                                                    "#4d9221"
                                                ],
                                                [
                                                    1,
                                                    "#276419"
                                                ]
                                            ],
                                            "sequential": [
                                                [
                                                    0,
                                                    "#0d0887"
                                                ],
                                                [
                                                    0.1111111111111111,
                                                    "#46039f"
                                                ],
                                                [
                                                    0.2222222222222222,
                                                    "#7201a8"
                                                ],
                                                [
                                                    0.3333333333333333,
                                                    "#9c179e"
                                                ],
                                                [
                                                    0.4444444444444444,
                                                    "#bd3786"
                                                ],
                                                [
                                                    0.5555555555555556,
                                                    "#d8576b"
                                                ],
                                                [
                                                    0.6666666666666666,
                                                    "#ed7953"
                                                ],
                                                [
                                                    0.7777777777777778,
                                                    "#fb9f3a"
                                                ],
                                                [
                                                    0.8888888888888888,
                                                    "#fdca26"
                                                ],
                                                [
                                                    1,
                                                    "#f0f921"
                                                ]
                                            ],
                                            "sequentialminus": [
                                                [
                                                    0,
                                                    "#0d0887"
                                                ],
                                                [
                                                    0.1111111111111111,
                                                    "#46039f"
                                                ],
                                                [
                                                    0.2222222222222222,
                                                    "#7201a8"
                                                ],
                                                [
                                                    0.3333333333333333,
                                                    "#9c179e"
                                                ],
                                                [
                                                    0.4444444444444444,
                                                    "#bd3786"
                                                ],
                                                [
                                                    0.5555555555555556,
                                                    "#d8576b"
                                                ],
                                                [
                                                    0.6666666666666666,
                                                    "#ed7953"
                                                ],
                                                [
                                                    0.7777777777777778,
                                                    "#fb9f3a"
                                                ],
                                                [
                                                    0.8888888888888888,
                                                    "#fdca26"
                                                ],
                                                [
                                                    1,
                                                    "#f0f921"
                                                ]
                                            ]
                                        },
                                        "colorway": [
                                            "#636efa",
                                            "#EF553B",
                                            "#00cc96",
                                            "#ab63fa",
                                            "#FFA15A",
                                            "#19d3f3",
                                            "#FF6692",
                                            "#B6E880",
                                            "#FF97FF",
                                            "#FECB52"
                                        ],
                                        "font": {
                                            "color": "#2a3f5f"
                                        },
                                        "geo": {
                                            "bgcolor": "white",
                                            "lakecolor": "white",
                                            "landcolor": "#E5ECF6",
                                            "showlakes": true,
                                            "showland": true,
                                            "subunitcolor": "white"
                                        },
                                        "hoverlabel": {
                                            "align": "left"
                                        },
                                        "hovermode": "closest",
                                        "mapbox": {
                                            "style": "light"
                                        },
                                        "paper_bgcolor": "white",
                                        "plot_bgcolor": "#E5ECF6",
                                        "polar": {
                                            "angularaxis": {
                                                "gridcolor": "white",
                                                "linecolor": "white",
                                                "ticks": ""
                                            },
                                            "bgcolor": "#E5ECF6",
                                            "radialaxis": {
                                                "gridcolor": "white",
                                                "linecolor": "white",
                                                "ticks": ""
                                            }
                                        },
                                        "scene": {
                                            "xaxis": {
                                                "backgroundcolor": "#E5ECF6",
                                                "gridcolor": "white",
                                                "gridwidth": 2,
                                                "linecolor": "white",
                                                "showbackground": true,
                                                "ticks": "",
                                                "zerolinecolor": "white"
                                            },
                                            "yaxis": {
                                                "backgroundcolor": "#E5ECF6",
                                                "gridcolor": "white",
                                                "gridwidth": 2,
                                                "linecolor": "white",
                                                "showbackground": true,
                                                "ticks": "",
                                                "zerolinecolor": "white"
                                            },
                                            "zaxis": {
                                                "backgroundcolor": "#E5ECF6",
                                                "gridcolor": "white",
                                                "gridwidth": 2,
                                                "linecolor": "white",
                                                "showbackground": true,
                                                "ticks": "",
                                                "zerolinecolor": "white"
                                            }
                                        },
                                        "shapedefaults": {
                                            "line": {
                                                "color": "#2a3f5f"
                                            }
                                        },
                                        "ternary": {
                                            "aaxis": {
                                                "gridcolor": "white",
                                                "linecolor": "white",
                                                "ticks": ""
                                            },
                                            "baxis": {
                                                "gridcolor": "white",
                                                "linecolor": "white",
                                                "ticks": ""
                                            },
                                            "bgcolor": "#E5ECF6",
                                            "caxis": {
                                                "gridcolor": "white",
                                                "linecolor": "white",
                                                "ticks": ""
                                            }
                                        },
                                        "title": {
                                            "x": 0.05
                                        },
                                        "xaxis": {
                                            "automargin": true,
                                            "gridcolor": "white",
                                            "linecolor": "white",
                                            "ticks": "",
                                            "title": {
                                                "standoff": 15
                                            },
                                            "zerolinecolor": "white",
                                            "zerolinewidth": 2
                                        },
                                        "yaxis": {
                                            "automargin": true,
                                            "gridcolor": "white",
                                            "linecolor": "white",
                                            "ticks": "",
                                            "title": {
                                                "standoff": 15
                                            },
                                            "zerolinecolor": "white",
                                            "zerolinewidth": 2
                                        }
                                    }
                                },
                                "title": {
                                    "font": {
                                        "color": "black",
                                        "size": 24
                                    },
                                    "text": "Volume Total de Vendas por Mês",
                                    "x": 0.5,
                                    "xanchor": "center"
                                },
                                "xaxis": {
                                    "anchor": "y",
                                    "domain": [
                                        0,
                                        1
                                    ],
                                    "title": {
                                        "text": "Mês"
                                    }
                                },
                                "yaxis": {
                                    "anchor": "x",
                                    "domain": [
                                        0,
                                        1
                                    ],
                                    "title": {
                                        "text": "Total de Vendas"
                                    }
                                }
                            }
                        }
                    },
                    "metadata": {},
                    "output_type": "display_data"
                }
            ],
            "source": [
                "# Supondo que total_sales_per_month é o seu DataFrame\n",
                "fig_line = px.line(total_sales_per_month, \n",
                "                   x='Month', \n",
                "                   y='Total Sales', \n",
                "                   title='Volume Total de Vendas por Mês',\n",
                "                   labels={'Month': 'Mês', 'Total Sales': 'Total de Vendas'},\n",
                "                   markers=True)\n",
                "\n",
                "# Ajustar o layout do gráfico\n",
                "fig_line.update_layout(\n",
                "    title={\n",
                "        'text': 'Volume Total de Vendas por Mês',\n",
                "        'x': 0.5,\n",
                "        'xanchor': 'center', \n",
                "        'font': {\n",
                "            'size': 24,\n",
                "            'color': 'black' \n",
                "        }\n",
                "    },\n",
                "    xaxis_title='Mês', \n",
                "    yaxis_title='Total de Vendas'\n",
                ")\n",
                "\n",
                "fig_line.show()"
            ]
        },
        {
            "cell_type": "markdown",
            "metadata": {},
            "source": [
                "### 6. Quais produtos têm maior e menor volume de vendas?\n",
                "\n",
                "Para responder a essa pergunta, foram elaborados dois gráficos de barras:\n",
                "\n",
                "- Um gráfico representa os **produtos com maior volume de vendas**.\n",
                "- O outro gráfico mostra os **produtos com menor volume de vendas**.\n",
                "\n",
                "![Produtos com maior volume de vendas](/graficos/topps.png)\n",
                "\n",
                "#### Produtos com Maior Volume de Vendas\n",
                "\n",
                "O gráfico acima ilustra os produtos com o maior volume de vendas. Observa-se que os itens listados têm uma alta quantidade de unidades vendidas, indicando grande popularidade e demanda entre os consumidores. Esses produtos podem ser estratégicos para campanhas promocionais e planejamento de estoque.\n",
                "\n",
                "![Produtos com menor volume de vendas](/graficos/bottomps.png)\n",
                "\n",
                "#### Produtos com Menor Volume de Vendas\n",
                "\n",
                "O gráfico acima mostra os produtos com o menor volume de vendas. Esses itens têm uma quantidade reduzida de unidades vendidas, o que pode sugerir menor popularidade ou demanda. Analisar essas informações pode ajudar a identificar produtos que precisam de ajustes na estratégia de marketing ou revisão de estoque."
            ]
        },
        {
            "cell_type": "code",
            "execution_count": 54,
            "metadata": {},
            "outputs": [
                {
                    "name": "stdout",
                    "output_type": "stream",
                    "text": [
                        "Produtos com maiores volumes de vendas:\n"
                    ]
                },
                {
                    "data": {
                        "text/html": [
                            "<div>\n",
                            "<style scoped>\n",
                            "    .dataframe tbody tr th:only-of-type {\n",
                            "        vertical-align: middle;\n",
                            "    }\n",
                            "\n",
                            "    .dataframe tbody tr th {\n",
                            "        vertical-align: top;\n",
                            "    }\n",
                            "\n",
                            "    .dataframe thead th {\n",
                            "        text-align: right;\n",
                            "    }\n",
                            "</style>\n",
                            "<table border=\"1\" class=\"dataframe\">\n",
                            "  <thead>\n",
                            "    <tr style=\"text-align: right;\">\n",
                            "      <th></th>\n",
                            "      <th>product_id</th>\n",
                            "      <th>product_name</th>\n",
                            "      <th>total_sales</th>\n",
                            "    </tr>\n",
                            "  </thead>\n",
                            "  <tbody>\n",
                            "    <tr>\n",
                            "      <th>0</th>\n",
                            "      <td>224</td>\n",
                            "      <td>Product_224</td>\n",
                            "      <td>9151</td>\n",
                            "    </tr>\n",
                            "    <tr>\n",
                            "      <th>1</th>\n",
                            "      <td>286</td>\n",
                            "      <td>Product_286</td>\n",
                            "      <td>8921</td>\n",
                            "    </tr>\n",
                            "    <tr>\n",
                            "      <th>2</th>\n",
                            "      <td>734</td>\n",
                            "      <td>Product_734</td>\n",
                            "      <td>8914</td>\n",
                            "    </tr>\n",
                            "    <tr>\n",
                            "      <th>3</th>\n",
                            "      <td>905</td>\n",
                            "      <td>Product_905</td>\n",
                            "      <td>8783</td>\n",
                            "    </tr>\n",
                            "    <tr>\n",
                            "      <th>4</th>\n",
                            "      <td>180</td>\n",
                            "      <td>Product_180</td>\n",
                            "      <td>8775</td>\n",
                            "    </tr>\n",
                            "    <tr>\n",
                            "      <th>5</th>\n",
                            "      <td>853</td>\n",
                            "      <td>Product_853</td>\n",
                            "      <td>8765</td>\n",
                            "    </tr>\n",
                            "    <tr>\n",
                            "      <th>6</th>\n",
                            "      <td>239</td>\n",
                            "      <td>Product_239</td>\n",
                            "      <td>8724</td>\n",
                            "    </tr>\n",
                            "    <tr>\n",
                            "      <th>7</th>\n",
                            "      <td>924</td>\n",
                            "      <td>Product_924</td>\n",
                            "      <td>8525</td>\n",
                            "    </tr>\n",
                            "    <tr>\n",
                            "      <th>8</th>\n",
                            "      <td>937</td>\n",
                            "      <td>Product_937</td>\n",
                            "      <td>8459</td>\n",
                            "    </tr>\n",
                            "    <tr>\n",
                            "      <th>9</th>\n",
                            "      <td>197</td>\n",
                            "      <td>Product_197</td>\n",
                            "      <td>8418</td>\n",
                            "    </tr>\n",
                            "  </tbody>\n",
                            "</table>\n",
                            "</div>"
                        ],
                        "text/plain": [
                            "   product_id product_name  total_sales\n",
                            "0         224  Product_224         9151\n",
                            "1         286  Product_286         8921\n",
                            "2         734  Product_734         8914\n",
                            "3         905  Product_905         8783\n",
                            "4         180  Product_180         8775\n",
                            "5         853  Product_853         8765\n",
                            "6         239  Product_239         8724\n",
                            "7         924  Product_924         8525\n",
                            "8         937  Product_937         8459\n",
                            "9         197  Product_197         8418"
                        ]
                    },
                    "metadata": {},
                    "output_type": "display_data"
                },
                {
                    "name": "stdout",
                    "output_type": "stream",
                    "text": [
                        "Produtos com menores volumes de vendas:\n"
                    ]
                },
                {
                    "data": {
                        "text/html": [
                            "<div>\n",
                            "<style scoped>\n",
                            "    .dataframe tbody tr th:only-of-type {\n",
                            "        vertical-align: middle;\n",
                            "    }\n",
                            "\n",
                            "    .dataframe tbody tr th {\n",
                            "        vertical-align: top;\n",
                            "    }\n",
                            "\n",
                            "    .dataframe thead th {\n",
                            "        text-align: right;\n",
                            "    }\n",
                            "</style>\n",
                            "<table border=\"1\" class=\"dataframe\">\n",
                            "  <thead>\n",
                            "    <tr style=\"text-align: right;\">\n",
                            "      <th></th>\n",
                            "      <th>product_id</th>\n",
                            "      <th>product_name</th>\n",
                            "      <th>total_sales</th>\n",
                            "    </tr>\n",
                            "  </thead>\n",
                            "  <tbody>\n",
                            "    <tr>\n",
                            "      <th>990</th>\n",
                            "      <td>625</td>\n",
                            "      <td>Product_625</td>\n",
                            "      <td>3641</td>\n",
                            "    </tr>\n",
                            "    <tr>\n",
                            "      <th>991</th>\n",
                            "      <td>544</td>\n",
                            "      <td>Product_544</td>\n",
                            "      <td>3564</td>\n",
                            "    </tr>\n",
                            "    <tr>\n",
                            "      <th>992</th>\n",
                            "      <td>815</td>\n",
                            "      <td>Product_815</td>\n",
                            "      <td>3551</td>\n",
                            "    </tr>\n",
                            "    <tr>\n",
                            "      <th>993</th>\n",
                            "      <td>95</td>\n",
                            "      <td>Product_95</td>\n",
                            "      <td>3539</td>\n",
                            "    </tr>\n",
                            "    <tr>\n",
                            "      <th>994</th>\n",
                            "      <td>179</td>\n",
                            "      <td>Product_179</td>\n",
                            "      <td>3443</td>\n",
                            "    </tr>\n",
                            "    <tr>\n",
                            "      <th>995</th>\n",
                            "      <td>136</td>\n",
                            "      <td>Product_136</td>\n",
                            "      <td>3391</td>\n",
                            "    </tr>\n",
                            "    <tr>\n",
                            "      <th>996</th>\n",
                            "      <td>666</td>\n",
                            "      <td>Product_666</td>\n",
                            "      <td>3301</td>\n",
                            "    </tr>\n",
                            "    <tr>\n",
                            "      <th>997</th>\n",
                            "      <td>786</td>\n",
                            "      <td>Product_786</td>\n",
                            "      <td>3286</td>\n",
                            "    </tr>\n",
                            "    <tr>\n",
                            "      <th>998</th>\n",
                            "      <td>692</td>\n",
                            "      <td>Product_692</td>\n",
                            "      <td>3162</td>\n",
                            "    </tr>\n",
                            "    <tr>\n",
                            "      <th>999</th>\n",
                            "      <td>123</td>\n",
                            "      <td>Product_123</td>\n",
                            "      <td>2972</td>\n",
                            "    </tr>\n",
                            "  </tbody>\n",
                            "</table>\n",
                            "</div>"
                        ],
                        "text/plain": [
                            "     product_id product_name  total_sales\n",
                            "990         625  Product_625         3641\n",
                            "991         544  Product_544         3564\n",
                            "992         815  Product_815         3551\n",
                            "993          95   Product_95         3539\n",
                            "994         179  Product_179         3443\n",
                            "995         136  Product_136         3391\n",
                            "996         666  Product_666         3301\n",
                            "997         786  Product_786         3286\n",
                            "998         692  Product_692         3162\n",
                            "999         123  Product_123         2972"
                        ]
                    },
                    "metadata": {},
                    "output_type": "display_data"
                }
            ],
            "source": [
                "# Calcular o volume total de vendas para cada produto\n",
                "sales_columns = [f'sales_month_{i}' for i in range(1, 13)]\n",
                "df['total_sales'] = df[sales_columns].sum(axis=1)\n",
                "\n",
                "# Identificar os produtos com maiores e menores volumes de vendas\n",
                "product_sales = df[['product_id', 'product_name', 'total_sales']]\n",
                "\n",
                "# Ordenar os produtos por volume de vendas\n",
                "product_sales_sorted = product_sales.sort_values(by='total_sales', ascending=False).reset_index(drop=True)\n",
                "\n",
                "# Produtos com maiores e menores volumes de vendas\n",
                "top_products = product_sales_sorted.head(10)\n",
                "bottom_products = product_sales_sorted.tail(10)\n",
                "\n",
                "# Exibir os resultados\n",
                "print(\"Produtos com maiores volumes de vendas:\")\n",
                "display(top_products)\n",
                "\n",
                "print(\"Produtos com menores volumes de vendas:\")\n",
                "display(bottom_products)\n"
            ]
        },
        {
            "cell_type": "code",
            "execution_count": 55,
            "metadata": {},
            "outputs": [],
            "source": [
                "# Ordenar os produtos do maior para o menor no gráfico\n",
                "top_products_sorted = top_products.sort_values(by='total_sales', ascending=True) \n",
                "bottom_products_sorted = bottom_products.sort_values(by='total_sales', ascending=True)  \n"
            ]
        },
        {
            "cell_type": "code",
            "execution_count": 56,
            "metadata": {},
            "outputs": [
                {
                    "data": {
                        "application/vnd.plotly.v1+json": {
                            "config": {
                                "plotlyServerURL": "https://plot.ly"
                            },
                            "data": [
                                {
                                    "alignmentgroup": "True",
                                    "hovertemplate": "Total de Vendas=%{marker.color}<br>Produto=%{y}<extra></extra>",
                                    "legendgroup": "",
                                    "marker": {
                                        "color": [
                                            8418,
                                            8459,
                                            8525,
                                            8724,
                                            8765,
                                            8775,
                                            8783,
                                            8914,
                                            8921,
                                            9151
                                        ],
                                        "coloraxis": "coloraxis",
                                        "pattern": {
                                            "shape": ""
                                        }
                                    },
                                    "name": "",
                                    "offsetgroup": "",
                                    "orientation": "h",
                                    "showlegend": false,
                                    "textposition": "auto",
                                    "type": "bar",
                                    "x": [
                                        8418,
                                        8459,
                                        8525,
                                        8724,
                                        8765,
                                        8775,
                                        8783,
                                        8914,
                                        8921,
                                        9151
                                    ],
                                    "xaxis": "x",
                                    "y": [
                                        "Product_197",
                                        "Product_937",
                                        "Product_924",
                                        "Product_239",
                                        "Product_853",
                                        "Product_180",
                                        "Product_905",
                                        "Product_734",
                                        "Product_286",
                                        "Product_224"
                                    ],
                                    "yaxis": "y"
                                }
                            ],
                            "layout": {
                                "barmode": "relative",
                                "coloraxis": {
                                    "colorbar": {
                                        "title": {
                                            "text": "Total de Vendas"
                                        }
                                    },
                                    "colorscale": [
                                        [
                                            0,
                                            "#440154"
                                        ],
                                        [
                                            0.1111111111111111,
                                            "#482878"
                                        ],
                                        [
                                            0.2222222222222222,
                                            "#3e4989"
                                        ],
                                        [
                                            0.3333333333333333,
                                            "#31688e"
                                        ],
                                        [
                                            0.4444444444444444,
                                            "#26828e"
                                        ],
                                        [
                                            0.5555555555555556,
                                            "#1f9e89"
                                        ],
                                        [
                                            0.6666666666666666,
                                            "#35b779"
                                        ],
                                        [
                                            0.7777777777777778,
                                            "#6ece58"
                                        ],
                                        [
                                            0.8888888888888888,
                                            "#b5de2b"
                                        ],
                                        [
                                            1,
                                            "#fde725"
                                        ]
                                    ]
                                },
                                "legend": {
                                    "tracegroupgap": 0
                                },
                                "template": {
                                    "data": {
                                        "bar": [
                                            {
                                                "error_x": {
                                                    "color": "#2a3f5f"
                                                },
                                                "error_y": {
                                                    "color": "#2a3f5f"
                                                },
                                                "marker": {
                                                    "line": {
                                                        "color": "#E5ECF6",
                                                        "width": 0.5
                                                    },
                                                    "pattern": {
                                                        "fillmode": "overlay",
                                                        "size": 10,
                                                        "solidity": 0.2
                                                    }
                                                },
                                                "type": "bar"
                                            }
                                        ],
                                        "barpolar": [
                                            {
                                                "marker": {
                                                    "line": {
                                                        "color": "#E5ECF6",
                                                        "width": 0.5
                                                    },
                                                    "pattern": {
                                                        "fillmode": "overlay",
                                                        "size": 10,
                                                        "solidity": 0.2
                                                    }
                                                },
                                                "type": "barpolar"
                                            }
                                        ],
                                        "carpet": [
                                            {
                                                "aaxis": {
                                                    "endlinecolor": "#2a3f5f",
                                                    "gridcolor": "white",
                                                    "linecolor": "white",
                                                    "minorgridcolor": "white",
                                                    "startlinecolor": "#2a3f5f"
                                                },
                                                "baxis": {
                                                    "endlinecolor": "#2a3f5f",
                                                    "gridcolor": "white",
                                                    "linecolor": "white",
                                                    "minorgridcolor": "white",
                                                    "startlinecolor": "#2a3f5f"
                                                },
                                                "type": "carpet"
                                            }
                                        ],
                                        "choropleth": [
                                            {
                                                "colorbar": {
                                                    "outlinewidth": 0,
                                                    "ticks": ""
                                                },
                                                "type": "choropleth"
                                            }
                                        ],
                                        "contour": [
                                            {
                                                "colorbar": {
                                                    "outlinewidth": 0,
                                                    "ticks": ""
                                                },
                                                "colorscale": [
                                                    [
                                                        0,
                                                        "#0d0887"
                                                    ],
                                                    [
                                                        0.1111111111111111,
                                                        "#46039f"
                                                    ],
                                                    [
                                                        0.2222222222222222,
                                                        "#7201a8"
                                                    ],
                                                    [
                                                        0.3333333333333333,
                                                        "#9c179e"
                                                    ],
                                                    [
                                                        0.4444444444444444,
                                                        "#bd3786"
                                                    ],
                                                    [
                                                        0.5555555555555556,
                                                        "#d8576b"
                                                    ],
                                                    [
                                                        0.6666666666666666,
                                                        "#ed7953"
                                                    ],
                                                    [
                                                        0.7777777777777778,
                                                        "#fb9f3a"
                                                    ],
                                                    [
                                                        0.8888888888888888,
                                                        "#fdca26"
                                                    ],
                                                    [
                                                        1,
                                                        "#f0f921"
                                                    ]
                                                ],
                                                "type": "contour"
                                            }
                                        ],
                                        "contourcarpet": [
                                            {
                                                "colorbar": {
                                                    "outlinewidth": 0,
                                                    "ticks": ""
                                                },
                                                "type": "contourcarpet"
                                            }
                                        ],
                                        "heatmap": [
                                            {
                                                "colorbar": {
                                                    "outlinewidth": 0,
                                                    "ticks": ""
                                                },
                                                "colorscale": [
                                                    [
                                                        0,
                                                        "#0d0887"
                                                    ],
                                                    [
                                                        0.1111111111111111,
                                                        "#46039f"
                                                    ],
                                                    [
                                                        0.2222222222222222,
                                                        "#7201a8"
                                                    ],
                                                    [
                                                        0.3333333333333333,
                                                        "#9c179e"
                                                    ],
                                                    [
                                                        0.4444444444444444,
                                                        "#bd3786"
                                                    ],
                                                    [
                                                        0.5555555555555556,
                                                        "#d8576b"
                                                    ],
                                                    [
                                                        0.6666666666666666,
                                                        "#ed7953"
                                                    ],
                                                    [
                                                        0.7777777777777778,
                                                        "#fb9f3a"
                                                    ],
                                                    [
                                                        0.8888888888888888,
                                                        "#fdca26"
                                                    ],
                                                    [
                                                        1,
                                                        "#f0f921"
                                                    ]
                                                ],
                                                "type": "heatmap"
                                            }
                                        ],
                                        "heatmapgl": [
                                            {
                                                "colorbar": {
                                                    "outlinewidth": 0,
                                                    "ticks": ""
                                                },
                                                "colorscale": [
                                                    [
                                                        0,
                                                        "#0d0887"
                                                    ],
                                                    [
                                                        0.1111111111111111,
                                                        "#46039f"
                                                    ],
                                                    [
                                                        0.2222222222222222,
                                                        "#7201a8"
                                                    ],
                                                    [
                                                        0.3333333333333333,
                                                        "#9c179e"
                                                    ],
                                                    [
                                                        0.4444444444444444,
                                                        "#bd3786"
                                                    ],
                                                    [
                                                        0.5555555555555556,
                                                        "#d8576b"
                                                    ],
                                                    [
                                                        0.6666666666666666,
                                                        "#ed7953"
                                                    ],
                                                    [
                                                        0.7777777777777778,
                                                        "#fb9f3a"
                                                    ],
                                                    [
                                                        0.8888888888888888,
                                                        "#fdca26"
                                                    ],
                                                    [
                                                        1,
                                                        "#f0f921"
                                                    ]
                                                ],
                                                "type": "heatmapgl"
                                            }
                                        ],
                                        "histogram": [
                                            {
                                                "marker": {
                                                    "pattern": {
                                                        "fillmode": "overlay",
                                                        "size": 10,
                                                        "solidity": 0.2
                                                    }
                                                },
                                                "type": "histogram"
                                            }
                                        ],
                                        "histogram2d": [
                                            {
                                                "colorbar": {
                                                    "outlinewidth": 0,
                                                    "ticks": ""
                                                },
                                                "colorscale": [
                                                    [
                                                        0,
                                                        "#0d0887"
                                                    ],
                                                    [
                                                        0.1111111111111111,
                                                        "#46039f"
                                                    ],
                                                    [
                                                        0.2222222222222222,
                                                        "#7201a8"
                                                    ],
                                                    [
                                                        0.3333333333333333,
                                                        "#9c179e"
                                                    ],
                                                    [
                                                        0.4444444444444444,
                                                        "#bd3786"
                                                    ],
                                                    [
                                                        0.5555555555555556,
                                                        "#d8576b"
                                                    ],
                                                    [
                                                        0.6666666666666666,
                                                        "#ed7953"
                                                    ],
                                                    [
                                                        0.7777777777777778,
                                                        "#fb9f3a"
                                                    ],
                                                    [
                                                        0.8888888888888888,
                                                        "#fdca26"
                                                    ],
                                                    [
                                                        1,
                                                        "#f0f921"
                                                    ]
                                                ],
                                                "type": "histogram2d"
                                            }
                                        ],
                                        "histogram2dcontour": [
                                            {
                                                "colorbar": {
                                                    "outlinewidth": 0,
                                                    "ticks": ""
                                                },
                                                "colorscale": [
                                                    [
                                                        0,
                                                        "#0d0887"
                                                    ],
                                                    [
                                                        0.1111111111111111,
                                                        "#46039f"
                                                    ],
                                                    [
                                                        0.2222222222222222,
                                                        "#7201a8"
                                                    ],
                                                    [
                                                        0.3333333333333333,
                                                        "#9c179e"
                                                    ],
                                                    [
                                                        0.4444444444444444,
                                                        "#bd3786"
                                                    ],
                                                    [
                                                        0.5555555555555556,
                                                        "#d8576b"
                                                    ],
                                                    [
                                                        0.6666666666666666,
                                                        "#ed7953"
                                                    ],
                                                    [
                                                        0.7777777777777778,
                                                        "#fb9f3a"
                                                    ],
                                                    [
                                                        0.8888888888888888,
                                                        "#fdca26"
                                                    ],
                                                    [
                                                        1,
                                                        "#f0f921"
                                                    ]
                                                ],
                                                "type": "histogram2dcontour"
                                            }
                                        ],
                                        "mesh3d": [
                                            {
                                                "colorbar": {
                                                    "outlinewidth": 0,
                                                    "ticks": ""
                                                },
                                                "type": "mesh3d"
                                            }
                                        ],
                                        "parcoords": [
                                            {
                                                "line": {
                                                    "colorbar": {
                                                        "outlinewidth": 0,
                                                        "ticks": ""
                                                    }
                                                },
                                                "type": "parcoords"
                                            }
                                        ],
                                        "pie": [
                                            {
                                                "automargin": true,
                                                "type": "pie"
                                            }
                                        ],
                                        "scatter": [
                                            {
                                                "fillpattern": {
                                                    "fillmode": "overlay",
                                                    "size": 10,
                                                    "solidity": 0.2
                                                },
                                                "type": "scatter"
                                            }
                                        ],
                                        "scatter3d": [
                                            {
                                                "line": {
                                                    "colorbar": {
                                                        "outlinewidth": 0,
                                                        "ticks": ""
                                                    }
                                                },
                                                "marker": {
                                                    "colorbar": {
                                                        "outlinewidth": 0,
                                                        "ticks": ""
                                                    }
                                                },
                                                "type": "scatter3d"
                                            }
                                        ],
                                        "scattercarpet": [
                                            {
                                                "marker": {
                                                    "colorbar": {
                                                        "outlinewidth": 0,
                                                        "ticks": ""
                                                    }
                                                },
                                                "type": "scattercarpet"
                                            }
                                        ],
                                        "scattergeo": [
                                            {
                                                "marker": {
                                                    "colorbar": {
                                                        "outlinewidth": 0,
                                                        "ticks": ""
                                                    }
                                                },
                                                "type": "scattergeo"
                                            }
                                        ],
                                        "scattergl": [
                                            {
                                                "marker": {
                                                    "colorbar": {
                                                        "outlinewidth": 0,
                                                        "ticks": ""
                                                    }
                                                },
                                                "type": "scattergl"
                                            }
                                        ],
                                        "scattermapbox": [
                                            {
                                                "marker": {
                                                    "colorbar": {
                                                        "outlinewidth": 0,
                                                        "ticks": ""
                                                    }
                                                },
                                                "type": "scattermapbox"
                                            }
                                        ],
                                        "scatterpolar": [
                                            {
                                                "marker": {
                                                    "colorbar": {
                                                        "outlinewidth": 0,
                                                        "ticks": ""
                                                    }
                                                },
                                                "type": "scatterpolar"
                                            }
                                        ],
                                        "scatterpolargl": [
                                            {
                                                "marker": {
                                                    "colorbar": {
                                                        "outlinewidth": 0,
                                                        "ticks": ""
                                                    }
                                                },
                                                "type": "scatterpolargl"
                                            }
                                        ],
                                        "scatterternary": [
                                            {
                                                "marker": {
                                                    "colorbar": {
                                                        "outlinewidth": 0,
                                                        "ticks": ""
                                                    }
                                                },
                                                "type": "scatterternary"
                                            }
                                        ],
                                        "surface": [
                                            {
                                                "colorbar": {
                                                    "outlinewidth": 0,
                                                    "ticks": ""
                                                },
                                                "colorscale": [
                                                    [
                                                        0,
                                                        "#0d0887"
                                                    ],
                                                    [
                                                        0.1111111111111111,
                                                        "#46039f"
                                                    ],
                                                    [
                                                        0.2222222222222222,
                                                        "#7201a8"
                                                    ],
                                                    [
                                                        0.3333333333333333,
                                                        "#9c179e"
                                                    ],
                                                    [
                                                        0.4444444444444444,
                                                        "#bd3786"
                                                    ],
                                                    [
                                                        0.5555555555555556,
                                                        "#d8576b"
                                                    ],
                                                    [
                                                        0.6666666666666666,
                                                        "#ed7953"
                                                    ],
                                                    [
                                                        0.7777777777777778,
                                                        "#fb9f3a"
                                                    ],
                                                    [
                                                        0.8888888888888888,
                                                        "#fdca26"
                                                    ],
                                                    [
                                                        1,
                                                        "#f0f921"
                                                    ]
                                                ],
                                                "type": "surface"
                                            }
                                        ],
                                        "table": [
                                            {
                                                "cells": {
                                                    "fill": {
                                                        "color": "#EBF0F8"
                                                    },
                                                    "line": {
                                                        "color": "white"
                                                    }
                                                },
                                                "header": {
                                                    "fill": {
                                                        "color": "#C8D4E3"
                                                    },
                                                    "line": {
                                                        "color": "white"
                                                    }
                                                },
                                                "type": "table"
                                            }
                                        ]
                                    },
                                    "layout": {
                                        "annotationdefaults": {
                                            "arrowcolor": "#2a3f5f",
                                            "arrowhead": 0,
                                            "arrowwidth": 1
                                        },
                                        "autotypenumbers": "strict",
                                        "coloraxis": {
                                            "colorbar": {
                                                "outlinewidth": 0,
                                                "ticks": ""
                                            }
                                        },
                                        "colorscale": {
                                            "diverging": [
                                                [
                                                    0,
                                                    "#8e0152"
                                                ],
                                                [
                                                    0.1,
                                                    "#c51b7d"
                                                ],
                                                [
                                                    0.2,
                                                    "#de77ae"
                                                ],
                                                [
                                                    0.3,
                                                    "#f1b6da"
                                                ],
                                                [
                                                    0.4,
                                                    "#fde0ef"
                                                ],
                                                [
                                                    0.5,
                                                    "#f7f7f7"
                                                ],
                                                [
                                                    0.6,
                                                    "#e6f5d0"
                                                ],
                                                [
                                                    0.7,
                                                    "#b8e186"
                                                ],
                                                [
                                                    0.8,
                                                    "#7fbc41"
                                                ],
                                                [
                                                    0.9,
                                                    "#4d9221"
                                                ],
                                                [
                                                    1,
                                                    "#276419"
                                                ]
                                            ],
                                            "sequential": [
                                                [
                                                    0,
                                                    "#0d0887"
                                                ],
                                                [
                                                    0.1111111111111111,
                                                    "#46039f"
                                                ],
                                                [
                                                    0.2222222222222222,
                                                    "#7201a8"
                                                ],
                                                [
                                                    0.3333333333333333,
                                                    "#9c179e"
                                                ],
                                                [
                                                    0.4444444444444444,
                                                    "#bd3786"
                                                ],
                                                [
                                                    0.5555555555555556,
                                                    "#d8576b"
                                                ],
                                                [
                                                    0.6666666666666666,
                                                    "#ed7953"
                                                ],
                                                [
                                                    0.7777777777777778,
                                                    "#fb9f3a"
                                                ],
                                                [
                                                    0.8888888888888888,
                                                    "#fdca26"
                                                ],
                                                [
                                                    1,
                                                    "#f0f921"
                                                ]
                                            ],
                                            "sequentialminus": [
                                                [
                                                    0,
                                                    "#0d0887"
                                                ],
                                                [
                                                    0.1111111111111111,
                                                    "#46039f"
                                                ],
                                                [
                                                    0.2222222222222222,
                                                    "#7201a8"
                                                ],
                                                [
                                                    0.3333333333333333,
                                                    "#9c179e"
                                                ],
                                                [
                                                    0.4444444444444444,
                                                    "#bd3786"
                                                ],
                                                [
                                                    0.5555555555555556,
                                                    "#d8576b"
                                                ],
                                                [
                                                    0.6666666666666666,
                                                    "#ed7953"
                                                ],
                                                [
                                                    0.7777777777777778,
                                                    "#fb9f3a"
                                                ],
                                                [
                                                    0.8888888888888888,
                                                    "#fdca26"
                                                ],
                                                [
                                                    1,
                                                    "#f0f921"
                                                ]
                                            ]
                                        },
                                        "colorway": [
                                            "#636efa",
                                            "#EF553B",
                                            "#00cc96",
                                            "#ab63fa",
                                            "#FFA15A",
                                            "#19d3f3",
                                            "#FF6692",
                                            "#B6E880",
                                            "#FF97FF",
                                            "#FECB52"
                                        ],
                                        "font": {
                                            "color": "#2a3f5f"
                                        },
                                        "geo": {
                                            "bgcolor": "white",
                                            "lakecolor": "white",
                                            "landcolor": "#E5ECF6",
                                            "showlakes": true,
                                            "showland": true,
                                            "subunitcolor": "white"
                                        },
                                        "hoverlabel": {
                                            "align": "left"
                                        },
                                        "hovermode": "closest",
                                        "mapbox": {
                                            "style": "light"
                                        },
                                        "paper_bgcolor": "white",
                                        "plot_bgcolor": "#E5ECF6",
                                        "polar": {
                                            "angularaxis": {
                                                "gridcolor": "white",
                                                "linecolor": "white",
                                                "ticks": ""
                                            },
                                            "bgcolor": "#E5ECF6",
                                            "radialaxis": {
                                                "gridcolor": "white",
                                                "linecolor": "white",
                                                "ticks": ""
                                            }
                                        },
                                        "scene": {
                                            "xaxis": {
                                                "backgroundcolor": "#E5ECF6",
                                                "gridcolor": "white",
                                                "gridwidth": 2,
                                                "linecolor": "white",
                                                "showbackground": true,
                                                "ticks": "",
                                                "zerolinecolor": "white"
                                            },
                                            "yaxis": {
                                                "backgroundcolor": "#E5ECF6",
                                                "gridcolor": "white",
                                                "gridwidth": 2,
                                                "linecolor": "white",
                                                "showbackground": true,
                                                "ticks": "",
                                                "zerolinecolor": "white"
                                            },
                                            "zaxis": {
                                                "backgroundcolor": "#E5ECF6",
                                                "gridcolor": "white",
                                                "gridwidth": 2,
                                                "linecolor": "white",
                                                "showbackground": true,
                                                "ticks": "",
                                                "zerolinecolor": "white"
                                            }
                                        },
                                        "shapedefaults": {
                                            "line": {
                                                "color": "#2a3f5f"
                                            }
                                        },
                                        "ternary": {
                                            "aaxis": {
                                                "gridcolor": "white",
                                                "linecolor": "white",
                                                "ticks": ""
                                            },
                                            "baxis": {
                                                "gridcolor": "white",
                                                "linecolor": "white",
                                                "ticks": ""
                                            },
                                            "bgcolor": "#E5ECF6",
                                            "caxis": {
                                                "gridcolor": "white",
                                                "linecolor": "white",
                                                "ticks": ""
                                            }
                                        },
                                        "title": {
                                            "x": 0.05
                                        },
                                        "xaxis": {
                                            "automargin": true,
                                            "gridcolor": "white",
                                            "linecolor": "white",
                                            "ticks": "",
                                            "title": {
                                                "standoff": 15
                                            },
                                            "zerolinecolor": "white",
                                            "zerolinewidth": 2
                                        },
                                        "yaxis": {
                                            "automargin": true,
                                            "gridcolor": "white",
                                            "linecolor": "white",
                                            "ticks": "",
                                            "title": {
                                                "standoff": 15
                                            },
                                            "zerolinecolor": "white",
                                            "zerolinewidth": 2
                                        }
                                    }
                                },
                                "title": {
                                    "font": {
                                        "color": "black",
                                        "size": 24
                                    },
                                    "text": "Top Produtos por Volume de Vendas",
                                    "x": 0.5,
                                    "xanchor": "center"
                                },
                                "xaxis": {
                                    "anchor": "y",
                                    "domain": [
                                        0,
                                        1
                                    ],
                                    "title": {
                                        "text": "Total de Vendas"
                                    }
                                },
                                "yaxis": {
                                    "anchor": "x",
                                    "domain": [
                                        0,
                                        1
                                    ],
                                    "title": {
                                        "text": "Produto"
                                    }
                                }
                            }
                        }
                    },
                    "metadata": {},
                    "output_type": "display_data"
                },
                {
                    "data": {
                        "application/vnd.plotly.v1+json": {
                            "config": {
                                "plotlyServerURL": "https://plot.ly"
                            },
                            "data": [
                                {
                                    "alignmentgroup": "True",
                                    "hovertemplate": "Total de Vendas=%{marker.color}<br>Produto=%{y}<extra></extra>",
                                    "legendgroup": "",
                                    "marker": {
                                        "color": [
                                            2972,
                                            3162,
                                            3286,
                                            3301,
                                            3391,
                                            3443,
                                            3539,
                                            3551,
                                            3564,
                                            3641
                                        ],
                                        "coloraxis": "coloraxis",
                                        "pattern": {
                                            "shape": ""
                                        }
                                    },
                                    "name": "",
                                    "offsetgroup": "",
                                    "orientation": "h",
                                    "showlegend": false,
                                    "textposition": "auto",
                                    "type": "bar",
                                    "x": [
                                        2972,
                                        3162,
                                        3286,
                                        3301,
                                        3391,
                                        3443,
                                        3539,
                                        3551,
                                        3564,
                                        3641
                                    ],
                                    "xaxis": "x",
                                    "y": [
                                        "Product_123",
                                        "Product_692",
                                        "Product_786",
                                        "Product_666",
                                        "Product_136",
                                        "Product_179",
                                        "Product_95",
                                        "Product_815",
                                        "Product_544",
                                        "Product_625"
                                    ],
                                    "yaxis": "y"
                                }
                            ],
                            "layout": {
                                "barmode": "relative",
                                "coloraxis": {
                                    "colorbar": {
                                        "title": {
                                            "text": "Total de Vendas"
                                        }
                                    },
                                    "colorscale": [
                                        [
                                            0,
                                            "#00224e"
                                        ],
                                        [
                                            0.1111111111111111,
                                            "#123570"
                                        ],
                                        [
                                            0.2222222222222222,
                                            "#3b496c"
                                        ],
                                        [
                                            0.3333333333333333,
                                            "#575d6d"
                                        ],
                                        [
                                            0.4444444444444444,
                                            "#707173"
                                        ],
                                        [
                                            0.5555555555555556,
                                            "#8a8678"
                                        ],
                                        [
                                            0.6666666666666666,
                                            "#a59c74"
                                        ],
                                        [
                                            0.7777777777777778,
                                            "#c3b369"
                                        ],
                                        [
                                            0.8888888888888888,
                                            "#e1cc55"
                                        ],
                                        [
                                            1,
                                            "#fee838"
                                        ]
                                    ]
                                },
                                "legend": {
                                    "tracegroupgap": 0
                                },
                                "template": {
                                    "data": {
                                        "bar": [
                                            {
                                                "error_x": {
                                                    "color": "#2a3f5f"
                                                },
                                                "error_y": {
                                                    "color": "#2a3f5f"
                                                },
                                                "marker": {
                                                    "line": {
                                                        "color": "#E5ECF6",
                                                        "width": 0.5
                                                    },
                                                    "pattern": {
                                                        "fillmode": "overlay",
                                                        "size": 10,
                                                        "solidity": 0.2
                                                    }
                                                },
                                                "type": "bar"
                                            }
                                        ],
                                        "barpolar": [
                                            {
                                                "marker": {
                                                    "line": {
                                                        "color": "#E5ECF6",
                                                        "width": 0.5
                                                    },
                                                    "pattern": {
                                                        "fillmode": "overlay",
                                                        "size": 10,
                                                        "solidity": 0.2
                                                    }
                                                },
                                                "type": "barpolar"
                                            }
                                        ],
                                        "carpet": [
                                            {
                                                "aaxis": {
                                                    "endlinecolor": "#2a3f5f",
                                                    "gridcolor": "white",
                                                    "linecolor": "white",
                                                    "minorgridcolor": "white",
                                                    "startlinecolor": "#2a3f5f"
                                                },
                                                "baxis": {
                                                    "endlinecolor": "#2a3f5f",
                                                    "gridcolor": "white",
                                                    "linecolor": "white",
                                                    "minorgridcolor": "white",
                                                    "startlinecolor": "#2a3f5f"
                                                },
                                                "type": "carpet"
                                            }
                                        ],
                                        "choropleth": [
                                            {
                                                "colorbar": {
                                                    "outlinewidth": 0,
                                                    "ticks": ""
                                                },
                                                "type": "choropleth"
                                            }
                                        ],
                                        "contour": [
                                            {
                                                "colorbar": {
                                                    "outlinewidth": 0,
                                                    "ticks": ""
                                                },
                                                "colorscale": [
                                                    [
                                                        0,
                                                        "#0d0887"
                                                    ],
                                                    [
                                                        0.1111111111111111,
                                                        "#46039f"
                                                    ],
                                                    [
                                                        0.2222222222222222,
                                                        "#7201a8"
                                                    ],
                                                    [
                                                        0.3333333333333333,
                                                        "#9c179e"
                                                    ],
                                                    [
                                                        0.4444444444444444,
                                                        "#bd3786"
                                                    ],
                                                    [
                                                        0.5555555555555556,
                                                        "#d8576b"
                                                    ],
                                                    [
                                                        0.6666666666666666,
                                                        "#ed7953"
                                                    ],
                                                    [
                                                        0.7777777777777778,
                                                        "#fb9f3a"
                                                    ],
                                                    [
                                                        0.8888888888888888,
                                                        "#fdca26"
                                                    ],
                                                    [
                                                        1,
                                                        "#f0f921"
                                                    ]
                                                ],
                                                "type": "contour"
                                            }
                                        ],
                                        "contourcarpet": [
                                            {
                                                "colorbar": {
                                                    "outlinewidth": 0,
                                                    "ticks": ""
                                                },
                                                "type": "contourcarpet"
                                            }
                                        ],
                                        "heatmap": [
                                            {
                                                "colorbar": {
                                                    "outlinewidth": 0,
                                                    "ticks": ""
                                                },
                                                "colorscale": [
                                                    [
                                                        0,
                                                        "#0d0887"
                                                    ],
                                                    [
                                                        0.1111111111111111,
                                                        "#46039f"
                                                    ],
                                                    [
                                                        0.2222222222222222,
                                                        "#7201a8"
                                                    ],
                                                    [
                                                        0.3333333333333333,
                                                        "#9c179e"
                                                    ],
                                                    [
                                                        0.4444444444444444,
                                                        "#bd3786"
                                                    ],
                                                    [
                                                        0.5555555555555556,
                                                        "#d8576b"
                                                    ],
                                                    [
                                                        0.6666666666666666,
                                                        "#ed7953"
                                                    ],
                                                    [
                                                        0.7777777777777778,
                                                        "#fb9f3a"
                                                    ],
                                                    [
                                                        0.8888888888888888,
                                                        "#fdca26"
                                                    ],
                                                    [
                                                        1,
                                                        "#f0f921"
                                                    ]
                                                ],
                                                "type": "heatmap"
                                            }
                                        ],
                                        "heatmapgl": [
                                            {
                                                "colorbar": {
                                                    "outlinewidth": 0,
                                                    "ticks": ""
                                                },
                                                "colorscale": [
                                                    [
                                                        0,
                                                        "#0d0887"
                                                    ],
                                                    [
                                                        0.1111111111111111,
                                                        "#46039f"
                                                    ],
                                                    [
                                                        0.2222222222222222,
                                                        "#7201a8"
                                                    ],
                                                    [
                                                        0.3333333333333333,
                                                        "#9c179e"
                                                    ],
                                                    [
                                                        0.4444444444444444,
                                                        "#bd3786"
                                                    ],
                                                    [
                                                        0.5555555555555556,
                                                        "#d8576b"
                                                    ],
                                                    [
                                                        0.6666666666666666,
                                                        "#ed7953"
                                                    ],
                                                    [
                                                        0.7777777777777778,
                                                        "#fb9f3a"
                                                    ],
                                                    [
                                                        0.8888888888888888,
                                                        "#fdca26"
                                                    ],
                                                    [
                                                        1,
                                                        "#f0f921"
                                                    ]
                                                ],
                                                "type": "heatmapgl"
                                            }
                                        ],
                                        "histogram": [
                                            {
                                                "marker": {
                                                    "pattern": {
                                                        "fillmode": "overlay",
                                                        "size": 10,
                                                        "solidity": 0.2
                                                    }
                                                },
                                                "type": "histogram"
                                            }
                                        ],
                                        "histogram2d": [
                                            {
                                                "colorbar": {
                                                    "outlinewidth": 0,
                                                    "ticks": ""
                                                },
                                                "colorscale": [
                                                    [
                                                        0,
                                                        "#0d0887"
                                                    ],
                                                    [
                                                        0.1111111111111111,
                                                        "#46039f"
                                                    ],
                                                    [
                                                        0.2222222222222222,
                                                        "#7201a8"
                                                    ],
                                                    [
                                                        0.3333333333333333,
                                                        "#9c179e"
                                                    ],
                                                    [
                                                        0.4444444444444444,
                                                        "#bd3786"
                                                    ],
                                                    [
                                                        0.5555555555555556,
                                                        "#d8576b"
                                                    ],
                                                    [
                                                        0.6666666666666666,
                                                        "#ed7953"
                                                    ],
                                                    [
                                                        0.7777777777777778,
                                                        "#fb9f3a"
                                                    ],
                                                    [
                                                        0.8888888888888888,
                                                        "#fdca26"
                                                    ],
                                                    [
                                                        1,
                                                        "#f0f921"
                                                    ]
                                                ],
                                                "type": "histogram2d"
                                            }
                                        ],
                                        "histogram2dcontour": [
                                            {
                                                "colorbar": {
                                                    "outlinewidth": 0,
                                                    "ticks": ""
                                                },
                                                "colorscale": [
                                                    [
                                                        0,
                                                        "#0d0887"
                                                    ],
                                                    [
                                                        0.1111111111111111,
                                                        "#46039f"
                                                    ],
                                                    [
                                                        0.2222222222222222,
                                                        "#7201a8"
                                                    ],
                                                    [
                                                        0.3333333333333333,
                                                        "#9c179e"
                                                    ],
                                                    [
                                                        0.4444444444444444,
                                                        "#bd3786"
                                                    ],
                                                    [
                                                        0.5555555555555556,
                                                        "#d8576b"
                                                    ],
                                                    [
                                                        0.6666666666666666,
                                                        "#ed7953"
                                                    ],
                                                    [
                                                        0.7777777777777778,
                                                        "#fb9f3a"
                                                    ],
                                                    [
                                                        0.8888888888888888,
                                                        "#fdca26"
                                                    ],
                                                    [
                                                        1,
                                                        "#f0f921"
                                                    ]
                                                ],
                                                "type": "histogram2dcontour"
                                            }
                                        ],
                                        "mesh3d": [
                                            {
                                                "colorbar": {
                                                    "outlinewidth": 0,
                                                    "ticks": ""
                                                },
                                                "type": "mesh3d"
                                            }
                                        ],
                                        "parcoords": [
                                            {
                                                "line": {
                                                    "colorbar": {
                                                        "outlinewidth": 0,
                                                        "ticks": ""
                                                    }
                                                },
                                                "type": "parcoords"
                                            }
                                        ],
                                        "pie": [
                                            {
                                                "automargin": true,
                                                "type": "pie"
                                            }
                                        ],
                                        "scatter": [
                                            {
                                                "fillpattern": {
                                                    "fillmode": "overlay",
                                                    "size": 10,
                                                    "solidity": 0.2
                                                },
                                                "type": "scatter"
                                            }
                                        ],
                                        "scatter3d": [
                                            {
                                                "line": {
                                                    "colorbar": {
                                                        "outlinewidth": 0,
                                                        "ticks": ""
                                                    }
                                                },
                                                "marker": {
                                                    "colorbar": {
                                                        "outlinewidth": 0,
                                                        "ticks": ""
                                                    }
                                                },
                                                "type": "scatter3d"
                                            }
                                        ],
                                        "scattercarpet": [
                                            {
                                                "marker": {
                                                    "colorbar": {
                                                        "outlinewidth": 0,
                                                        "ticks": ""
                                                    }
                                                },
                                                "type": "scattercarpet"
                                            }
                                        ],
                                        "scattergeo": [
                                            {
                                                "marker": {
                                                    "colorbar": {
                                                        "outlinewidth": 0,
                                                        "ticks": ""
                                                    }
                                                },
                                                "type": "scattergeo"
                                            }
                                        ],
                                        "scattergl": [
                                            {
                                                "marker": {
                                                    "colorbar": {
                                                        "outlinewidth": 0,
                                                        "ticks": ""
                                                    }
                                                },
                                                "type": "scattergl"
                                            }
                                        ],
                                        "scattermapbox": [
                                            {
                                                "marker": {
                                                    "colorbar": {
                                                        "outlinewidth": 0,
                                                        "ticks": ""
                                                    }
                                                },
                                                "type": "scattermapbox"
                                            }
                                        ],
                                        "scatterpolar": [
                                            {
                                                "marker": {
                                                    "colorbar": {
                                                        "outlinewidth": 0,
                                                        "ticks": ""
                                                    }
                                                },
                                                "type": "scatterpolar"
                                            }
                                        ],
                                        "scatterpolargl": [
                                            {
                                                "marker": {
                                                    "colorbar": {
                                                        "outlinewidth": 0,
                                                        "ticks": ""
                                                    }
                                                },
                                                "type": "scatterpolargl"
                                            }
                                        ],
                                        "scatterternary": [
                                            {
                                                "marker": {
                                                    "colorbar": {
                                                        "outlinewidth": 0,
                                                        "ticks": ""
                                                    }
                                                },
                                                "type": "scatterternary"
                                            }
                                        ],
                                        "surface": [
                                            {
                                                "colorbar": {
                                                    "outlinewidth": 0,
                                                    "ticks": ""
                                                },
                                                "colorscale": [
                                                    [
                                                        0,
                                                        "#0d0887"
                                                    ],
                                                    [
                                                        0.1111111111111111,
                                                        "#46039f"
                                                    ],
                                                    [
                                                        0.2222222222222222,
                                                        "#7201a8"
                                                    ],
                                                    [
                                                        0.3333333333333333,
                                                        "#9c179e"
                                                    ],
                                                    [
                                                        0.4444444444444444,
                                                        "#bd3786"
                                                    ],
                                                    [
                                                        0.5555555555555556,
                                                        "#d8576b"
                                                    ],
                                                    [
                                                        0.6666666666666666,
                                                        "#ed7953"
                                                    ],
                                                    [
                                                        0.7777777777777778,
                                                        "#fb9f3a"
                                                    ],
                                                    [
                                                        0.8888888888888888,
                                                        "#fdca26"
                                                    ],
                                                    [
                                                        1,
                                                        "#f0f921"
                                                    ]
                                                ],
                                                "type": "surface"
                                            }
                                        ],
                                        "table": [
                                            {
                                                "cells": {
                                                    "fill": {
                                                        "color": "#EBF0F8"
                                                    },
                                                    "line": {
                                                        "color": "white"
                                                    }
                                                },
                                                "header": {
                                                    "fill": {
                                                        "color": "#C8D4E3"
                                                    },
                                                    "line": {
                                                        "color": "white"
                                                    }
                                                },
                                                "type": "table"
                                            }
                                        ]
                                    },
                                    "layout": {
                                        "annotationdefaults": {
                                            "arrowcolor": "#2a3f5f",
                                            "arrowhead": 0,
                                            "arrowwidth": 1
                                        },
                                        "autotypenumbers": "strict",
                                        "coloraxis": {
                                            "colorbar": {
                                                "outlinewidth": 0,
                                                "ticks": ""
                                            }
                                        },
                                        "colorscale": {
                                            "diverging": [
                                                [
                                                    0,
                                                    "#8e0152"
                                                ],
                                                [
                                                    0.1,
                                                    "#c51b7d"
                                                ],
                                                [
                                                    0.2,
                                                    "#de77ae"
                                                ],
                                                [
                                                    0.3,
                                                    "#f1b6da"
                                                ],
                                                [
                                                    0.4,
                                                    "#fde0ef"
                                                ],
                                                [
                                                    0.5,
                                                    "#f7f7f7"
                                                ],
                                                [
                                                    0.6,
                                                    "#e6f5d0"
                                                ],
                                                [
                                                    0.7,
                                                    "#b8e186"
                                                ],
                                                [
                                                    0.8,
                                                    "#7fbc41"
                                                ],
                                                [
                                                    0.9,
                                                    "#4d9221"
                                                ],
                                                [
                                                    1,
                                                    "#276419"
                                                ]
                                            ],
                                            "sequential": [
                                                [
                                                    0,
                                                    "#0d0887"
                                                ],
                                                [
                                                    0.1111111111111111,
                                                    "#46039f"
                                                ],
                                                [
                                                    0.2222222222222222,
                                                    "#7201a8"
                                                ],
                                                [
                                                    0.3333333333333333,
                                                    "#9c179e"
                                                ],
                                                [
                                                    0.4444444444444444,
                                                    "#bd3786"
                                                ],
                                                [
                                                    0.5555555555555556,
                                                    "#d8576b"
                                                ],
                                                [
                                                    0.6666666666666666,
                                                    "#ed7953"
                                                ],
                                                [
                                                    0.7777777777777778,
                                                    "#fb9f3a"
                                                ],
                                                [
                                                    0.8888888888888888,
                                                    "#fdca26"
                                                ],
                                                [
                                                    1,
                                                    "#f0f921"
                                                ]
                                            ],
                                            "sequentialminus": [
                                                [
                                                    0,
                                                    "#0d0887"
                                                ],
                                                [
                                                    0.1111111111111111,
                                                    "#46039f"
                                                ],
                                                [
                                                    0.2222222222222222,
                                                    "#7201a8"
                                                ],
                                                [
                                                    0.3333333333333333,
                                                    "#9c179e"
                                                ],
                                                [
                                                    0.4444444444444444,
                                                    "#bd3786"
                                                ],
                                                [
                                                    0.5555555555555556,
                                                    "#d8576b"
                                                ],
                                                [
                                                    0.6666666666666666,
                                                    "#ed7953"
                                                ],
                                                [
                                                    0.7777777777777778,
                                                    "#fb9f3a"
                                                ],
                                                [
                                                    0.8888888888888888,
                                                    "#fdca26"
                                                ],
                                                [
                                                    1,
                                                    "#f0f921"
                                                ]
                                            ]
                                        },
                                        "colorway": [
                                            "#636efa",
                                            "#EF553B",
                                            "#00cc96",
                                            "#ab63fa",
                                            "#FFA15A",
                                            "#19d3f3",
                                            "#FF6692",
                                            "#B6E880",
                                            "#FF97FF",
                                            "#FECB52"
                                        ],
                                        "font": {
                                            "color": "#2a3f5f"
                                        },
                                        "geo": {
                                            "bgcolor": "white",
                                            "lakecolor": "white",
                                            "landcolor": "#E5ECF6",
                                            "showlakes": true,
                                            "showland": true,
                                            "subunitcolor": "white"
                                        },
                                        "hoverlabel": {
                                            "align": "left"
                                        },
                                        "hovermode": "closest",
                                        "mapbox": {
                                            "style": "light"
                                        },
                                        "paper_bgcolor": "white",
                                        "plot_bgcolor": "#E5ECF6",
                                        "polar": {
                                            "angularaxis": {
                                                "gridcolor": "white",
                                                "linecolor": "white",
                                                "ticks": ""
                                            },
                                            "bgcolor": "#E5ECF6",
                                            "radialaxis": {
                                                "gridcolor": "white",
                                                "linecolor": "white",
                                                "ticks": ""
                                            }
                                        },
                                        "scene": {
                                            "xaxis": {
                                                "backgroundcolor": "#E5ECF6",
                                                "gridcolor": "white",
                                                "gridwidth": 2,
                                                "linecolor": "white",
                                                "showbackground": true,
                                                "ticks": "",
                                                "zerolinecolor": "white"
                                            },
                                            "yaxis": {
                                                "backgroundcolor": "#E5ECF6",
                                                "gridcolor": "white",
                                                "gridwidth": 2,
                                                "linecolor": "white",
                                                "showbackground": true,
                                                "ticks": "",
                                                "zerolinecolor": "white"
                                            },
                                            "zaxis": {
                                                "backgroundcolor": "#E5ECF6",
                                                "gridcolor": "white",
                                                "gridwidth": 2,
                                                "linecolor": "white",
                                                "showbackground": true,
                                                "ticks": "",
                                                "zerolinecolor": "white"
                                            }
                                        },
                                        "shapedefaults": {
                                            "line": {
                                                "color": "#2a3f5f"
                                            }
                                        },
                                        "ternary": {
                                            "aaxis": {
                                                "gridcolor": "white",
                                                "linecolor": "white",
                                                "ticks": ""
                                            },
                                            "baxis": {
                                                "gridcolor": "white",
                                                "linecolor": "white",
                                                "ticks": ""
                                            },
                                            "bgcolor": "#E5ECF6",
                                            "caxis": {
                                                "gridcolor": "white",
                                                "linecolor": "white",
                                                "ticks": ""
                                            }
                                        },
                                        "title": {
                                            "x": 0.05
                                        },
                                        "xaxis": {
                                            "automargin": true,
                                            "gridcolor": "white",
                                            "linecolor": "white",
                                            "ticks": "",
                                            "title": {
                                                "standoff": 15
                                            },
                                            "zerolinecolor": "white",
                                            "zerolinewidth": 2
                                        },
                                        "yaxis": {
                                            "automargin": true,
                                            "gridcolor": "white",
                                            "linecolor": "white",
                                            "ticks": "",
                                            "title": {
                                                "standoff": 15
                                            },
                                            "zerolinecolor": "white",
                                            "zerolinewidth": 2
                                        }
                                    }
                                },
                                "title": {
                                    "font": {
                                        "color": "black",
                                        "size": 24
                                    },
                                    "text": "Produtos com Menores Volumes de Vendas",
                                    "x": 0.5,
                                    "xanchor": "center"
                                },
                                "xaxis": {
                                    "anchor": "y",
                                    "domain": [
                                        0,
                                        1
                                    ],
                                    "title": {
                                        "text": "Total de Vendas"
                                    }
                                },
                                "yaxis": {
                                    "anchor": "x",
                                    "domain": [
                                        0,
                                        1
                                    ],
                                    "title": {
                                        "text": "Produto"
                                    }
                                }
                            }
                        }
                    },
                    "metadata": {},
                    "output_type": "display_data"
                }
            ],
            "source": [
                "\n",
                "# Gráfico dos produtos com maiores volumes de vendas\n",
                "fig_top = px.bar(top_products_sorted, \n",
                "                 x='total_sales', \n",
                "                 y='product_name', \n",
                "                 title='Top Produtos por Volume de Vendas',\n",
                "                 labels={'product_name': 'Produto', 'total_sales': 'Total de Vendas'},\n",
                "                 color='total_sales',\n",
                "                 color_continuous_scale='Viridis')  # Paleta de cores\n",
                "\n",
                "# Atualizar o layout do gráfico\n",
                "fig_top.update_layout(\n",
                "    title={\n",
                "        'text': 'Top Produtos por Volume de Vendas',\n",
                "        'x': 0.5,\n",
                "        'xanchor': 'center',  \n",
                "        'font': {\n",
                "            'size': 24,  \n",
                "            'color': 'black'  \n",
                "        }\n",
                "    },\n",
                "    xaxis_title='Total de Vendas',\n",
                "    yaxis_title='Produto'\n",
                ")\n",
                "\n",
                "fig_top.show()\n",
                "\n",
                "# Gráfico dos produtos com menores volumes de vendas\n",
                "fig_bottom = px.bar(bottom_products_sorted, \n",
                "                    x='total_sales', \n",
                "                    y='product_name', \n",
                "                    title='Produtos com Menores Volumes de Vendas',\n",
                "                    labels={'product_name': 'Produto', 'total_sales': 'Total de Vendas'},\n",
                "                    color='total_sales',\n",
                "                    color_continuous_scale='Cividis')  # Paleta de cores\n",
                "\n",
                "# Atualizar o layout do gráfico\n",
                "fig_bottom.update_layout(\n",
                "    title={\n",
                "        'text': 'Produtos com Menores Volumes de Vendas',\n",
                "        'x': 0.5, \n",
                "        'xanchor': 'center',  \n",
                "        'font': {\n",
                "            'size': 24,\n",
                "            'color': 'black'  \n",
                "        }\n",
                "    },\n",
                "    xaxis_title='Total de Vendas',\n",
                "    yaxis_title='Produto'\n",
                ")\n",
                "\n",
                "fig_bottom.show()"
            ]
        },
        {
            "cell_type": "markdown",
            "metadata": {},
            "source": [
                "## Análise de Reviews\n",
                "\n",
                "### 7. Qual é a média dos scores de review para os produtos?\n",
                "\n",
                "Para obter uma visão geral das avaliações dos produtos, foi calculada a média dos scores de review.\n",
                "\n",
                "**Média dos scores de review:** [3.03]\n",
                "\n",
                "Essa média reflete a avaliação geral dos produtos pelos clientes. Um score de 3.03 indica que, em média, as avaliações dos produtos estão em um nível intermediário. É importante considerar esse valor ao analisar a satisfação dos clientes e identificar áreas para melhoria."
            ]
        },
        {
            "cell_type": "code",
            "execution_count": 57,
            "metadata": {},
            "outputs": [
                {
                    "data": {
                        "text/plain": [
                            "'3.03'"
                        ]
                    },
                    "metadata": {},
                    "output_type": "display_data"
                }
            ],
            "source": [
                "#  Calcular a média dos scores de review\n",
                "average_review_score = df['review_score'].mean()\n",
                "\n",
                "# Exibir a média dos scores de review\n",
                "display(f'{average_review_score:.2f}')\n"
            ]
        },
        {
            "cell_type": "markdown",
            "metadata": {},
            "source": [
                "### 8. Quais produtos têm as melhores e piores avaliações?\n",
                "\n",
                "Foram identificados os produtos com as melhores e piores avaliações. Esta análise destaca quais produtos receberam as melhores e as piores avaliações dos clientes.\n",
                "\n",
                "#### Produtos com Melhores Avaliações\n",
                "Os seguintes produtos receberam a melhor avaliação possível de **5.0**:\n",
                "\n",
                "| Produto       | Avaliação |\n",
                "|---------------|-----------|\n",
                "| Product_12    | 5.0       |\n",
                "| Product_55    | 5.0       |\n",
                "| Product_75    | 5.0       |\n",
                "| Product_89    | 5.0       |\n",
                "| Product_105   | 5.0       |\n",
                "| Product_210   | 5.0       |\n",
                "| Product_334   | 5.0       |\n",
                "| Product_349   | 5.0       |\n",
                "| Product_465   | 5.0       |\n",
                "| Product_585   | 5.0       |\n",
                "\n",
                "#### Produtos com Piores Avaliações\n",
                "Os seguintes produtos receberam a pior avaliação possível de **1.0**:\n",
                "\n",
                "| Produto       | Avaliação |\n",
                "|---------------|-----------|\n",
                "| Product_169   | 1.0       |\n",
                "| Product_265   | 1.0       |\n",
                "| Product_284   | 1.0       |\n",
                "| Product_427   | 1.0       |\n",
                "| Product_484   | 1.0       |\n",
                "| Product_516   | 1.0       |\n",
                "| Product_744   | 1.0       |\n",
                "| Product_753   | 1.0       |\n",
                "| Product_800   | 1.0       |\n",
                "| Product_887   | 1.0       |\n"
            ]
        },
        {
            "cell_type": "code",
            "execution_count": 58,
            "metadata": {},
            "outputs": [
                {
                    "data": {
                        "text/html": [
                            "<div>\n",
                            "<style scoped>\n",
                            "    .dataframe tbody tr th:only-of-type {\n",
                            "        vertical-align: middle;\n",
                            "    }\n",
                            "\n",
                            "    .dataframe tbody tr th {\n",
                            "        vertical-align: top;\n",
                            "    }\n",
                            "\n",
                            "    .dataframe thead th {\n",
                            "        text-align: right;\n",
                            "    }\n",
                            "</style>\n",
                            "<table border=\"1\" class=\"dataframe\">\n",
                            "  <thead>\n",
                            "    <tr style=\"text-align: right;\">\n",
                            "      <th></th>\n",
                            "      <th>product_id</th>\n",
                            "      <th>product_name</th>\n",
                            "      <th>category</th>\n",
                            "      <th>price</th>\n",
                            "      <th>review_score</th>\n",
                            "      <th>review_count</th>\n",
                            "      <th>sales_month_1</th>\n",
                            "      <th>sales_month_2</th>\n",
                            "      <th>sales_month_3</th>\n",
                            "      <th>sales_month_4</th>\n",
                            "      <th>sales_month_5</th>\n",
                            "      <th>sales_month_6</th>\n",
                            "      <th>sales_month_7</th>\n",
                            "      <th>sales_month_8</th>\n",
                            "      <th>sales_month_9</th>\n",
                            "      <th>sales_month_10</th>\n",
                            "      <th>sales_month_11</th>\n",
                            "      <th>sales_month_12</th>\n",
                            "      <th>total_sales</th>\n",
                            "    </tr>\n",
                            "  </thead>\n",
                            "  <tbody>\n",
                            "    <tr>\n",
                            "      <th>11</th>\n",
                            "      <td>12</td>\n",
                            "      <td>Product_12</td>\n",
                            "      <td>Health</td>\n",
                            "      <td>485.11</td>\n",
                            "      <td>5.0</td>\n",
                            "      <td>991</td>\n",
                            "      <td>276</td>\n",
                            "      <td>214</td>\n",
                            "      <td>991</td>\n",
                            "      <td>906</td>\n",
                            "      <td>495</td>\n",
                            "      <td>374</td>\n",
                            "      <td>962</td>\n",
                            "      <td>100</td>\n",
                            "      <td>201</td>\n",
                            "      <td>819</td>\n",
                            "      <td>491</td>\n",
                            "      <td>132</td>\n",
                            "      <td>5961</td>\n",
                            "    </tr>\n",
                            "    <tr>\n",
                            "      <th>54</th>\n",
                            "      <td>55</td>\n",
                            "      <td>Product_55</td>\n",
                            "      <td>Books</td>\n",
                            "      <td>300.96</td>\n",
                            "      <td>5.0</td>\n",
                            "      <td>314</td>\n",
                            "      <td>103</td>\n",
                            "      <td>802</td>\n",
                            "      <td>489</td>\n",
                            "      <td>655</td>\n",
                            "      <td>787</td>\n",
                            "      <td>737</td>\n",
                            "      <td>122</td>\n",
                            "      <td>793</td>\n",
                            "      <td>933</td>\n",
                            "      <td>364</td>\n",
                            "      <td>560</td>\n",
                            "      <td>581</td>\n",
                            "      <td>6926</td>\n",
                            "    </tr>\n",
                            "    <tr>\n",
                            "      <th>74</th>\n",
                            "      <td>75</td>\n",
                            "      <td>Product_75</td>\n",
                            "      <td>Toys</td>\n",
                            "      <td>354.89</td>\n",
                            "      <td>5.0</td>\n",
                            "      <td>629</td>\n",
                            "      <td>289</td>\n",
                            "      <td>147</td>\n",
                            "      <td>974</td>\n",
                            "      <td>302</td>\n",
                            "      <td>851</td>\n",
                            "      <td>802</td>\n",
                            "      <td>697</td>\n",
                            "      <td>495</td>\n",
                            "      <td>822</td>\n",
                            "      <td>95</td>\n",
                            "      <td>94</td>\n",
                            "      <td>317</td>\n",
                            "      <td>5885</td>\n",
                            "    </tr>\n",
                            "    <tr>\n",
                            "      <th>88</th>\n",
                            "      <td>89</td>\n",
                            "      <td>Product_89</td>\n",
                            "      <td>Toys</td>\n",
                            "      <td>444.17</td>\n",
                            "      <td>5.0</td>\n",
                            "      <td>43</td>\n",
                            "      <td>655</td>\n",
                            "      <td>282</td>\n",
                            "      <td>844</td>\n",
                            "      <td>159</td>\n",
                            "      <td>360</td>\n",
                            "      <td>342</td>\n",
                            "      <td>199</td>\n",
                            "      <td>625</td>\n",
                            "      <td>830</td>\n",
                            "      <td>481</td>\n",
                            "      <td>261</td>\n",
                            "      <td>952</td>\n",
                            "      <td>5990</td>\n",
                            "    </tr>\n",
                            "    <tr>\n",
                            "      <th>104</th>\n",
                            "      <td>105</td>\n",
                            "      <td>Product_105</td>\n",
                            "      <td>Health</td>\n",
                            "      <td>454.25</td>\n",
                            "      <td>5.0</td>\n",
                            "      <td>22</td>\n",
                            "      <td>973</td>\n",
                            "      <td>594</td>\n",
                            "      <td>806</td>\n",
                            "      <td>38</td>\n",
                            "      <td>304</td>\n",
                            "      <td>209</td>\n",
                            "      <td>605</td>\n",
                            "      <td>842</td>\n",
                            "      <td>616</td>\n",
                            "      <td>209</td>\n",
                            "      <td>426</td>\n",
                            "      <td>92</td>\n",
                            "      <td>5714</td>\n",
                            "    </tr>\n",
                            "    <tr>\n",
                            "      <th>209</th>\n",
                            "      <td>210</td>\n",
                            "      <td>Product_210</td>\n",
                            "      <td>Sports</td>\n",
                            "      <td>84.60</td>\n",
                            "      <td>5.0</td>\n",
                            "      <td>283</td>\n",
                            "      <td>82</td>\n",
                            "      <td>638</td>\n",
                            "      <td>110</td>\n",
                            "      <td>475</td>\n",
                            "      <td>223</td>\n",
                            "      <td>188</td>\n",
                            "      <td>921</td>\n",
                            "      <td>714</td>\n",
                            "      <td>584</td>\n",
                            "      <td>324</td>\n",
                            "      <td>47</td>\n",
                            "      <td>799</td>\n",
                            "      <td>5105</td>\n",
                            "    </tr>\n",
                            "    <tr>\n",
                            "      <th>333</th>\n",
                            "      <td>334</td>\n",
                            "      <td>Product_334</td>\n",
                            "      <td>Health</td>\n",
                            "      <td>62.46</td>\n",
                            "      <td>5.0</td>\n",
                            "      <td>935</td>\n",
                            "      <td>848</td>\n",
                            "      <td>361</td>\n",
                            "      <td>549</td>\n",
                            "      <td>426</td>\n",
                            "      <td>341</td>\n",
                            "      <td>58</td>\n",
                            "      <td>755</td>\n",
                            "      <td>212</td>\n",
                            "      <td>559</td>\n",
                            "      <td>800</td>\n",
                            "      <td>532</td>\n",
                            "      <td>177</td>\n",
                            "      <td>5618</td>\n",
                            "    </tr>\n",
                            "    <tr>\n",
                            "      <th>348</th>\n",
                            "      <td>349</td>\n",
                            "      <td>Product_349</td>\n",
                            "      <td>Clothing</td>\n",
                            "      <td>190.43</td>\n",
                            "      <td>5.0</td>\n",
                            "      <td>815</td>\n",
                            "      <td>170</td>\n",
                            "      <td>629</td>\n",
                            "      <td>287</td>\n",
                            "      <td>51</td>\n",
                            "      <td>96</td>\n",
                            "      <td>167</td>\n",
                            "      <td>296</td>\n",
                            "      <td>769</td>\n",
                            "      <td>638</td>\n",
                            "      <td>327</td>\n",
                            "      <td>69</td>\n",
                            "      <td>805</td>\n",
                            "      <td>4304</td>\n",
                            "    </tr>\n",
                            "    <tr>\n",
                            "      <th>464</th>\n",
                            "      <td>465</td>\n",
                            "      <td>Product_465</td>\n",
                            "      <td>Clothing</td>\n",
                            "      <td>481.28</td>\n",
                            "      <td>5.0</td>\n",
                            "      <td>432</td>\n",
                            "      <td>970</td>\n",
                            "      <td>192</td>\n",
                            "      <td>624</td>\n",
                            "      <td>259</td>\n",
                            "      <td>111</td>\n",
                            "      <td>146</td>\n",
                            "      <td>299</td>\n",
                            "      <td>238</td>\n",
                            "      <td>146</td>\n",
                            "      <td>485</td>\n",
                            "      <td>233</td>\n",
                            "      <td>899</td>\n",
                            "      <td>4602</td>\n",
                            "    </tr>\n",
                            "    <tr>\n",
                            "      <th>584</th>\n",
                            "      <td>585</td>\n",
                            "      <td>Product_585</td>\n",
                            "      <td>Toys</td>\n",
                            "      <td>318.53</td>\n",
                            "      <td>5.0</td>\n",
                            "      <td>704</td>\n",
                            "      <td>38</td>\n",
                            "      <td>313</td>\n",
                            "      <td>508</td>\n",
                            "      <td>890</td>\n",
                            "      <td>924</td>\n",
                            "      <td>284</td>\n",
                            "      <td>731</td>\n",
                            "      <td>578</td>\n",
                            "      <td>825</td>\n",
                            "      <td>182</td>\n",
                            "      <td>537</td>\n",
                            "      <td>679</td>\n",
                            "      <td>6489</td>\n",
                            "    </tr>\n",
                            "  </tbody>\n",
                            "</table>\n",
                            "</div>"
                        ],
                        "text/plain": [
                            "     product_id product_name  category   price  review_score  review_count  \\\n",
                            "11           12   Product_12    Health  485.11           5.0           991   \n",
                            "54           55   Product_55     Books  300.96           5.0           314   \n",
                            "74           75   Product_75      Toys  354.89           5.0           629   \n",
                            "88           89   Product_89      Toys  444.17           5.0            43   \n",
                            "104         105  Product_105    Health  454.25           5.0            22   \n",
                            "209         210  Product_210    Sports   84.60           5.0           283   \n",
                            "333         334  Product_334    Health   62.46           5.0           935   \n",
                            "348         349  Product_349  Clothing  190.43           5.0           815   \n",
                            "464         465  Product_465  Clothing  481.28           5.0           432   \n",
                            "584         585  Product_585      Toys  318.53           5.0           704   \n",
                            "\n",
                            "     sales_month_1  sales_month_2  sales_month_3  sales_month_4  \\\n",
                            "11             276            214            991            906   \n",
                            "54             103            802            489            655   \n",
                            "74             289            147            974            302   \n",
                            "88             655            282            844            159   \n",
                            "104            973            594            806             38   \n",
                            "209             82            638            110            475   \n",
                            "333            848            361            549            426   \n",
                            "348            170            629            287             51   \n",
                            "464            970            192            624            259   \n",
                            "584             38            313            508            890   \n",
                            "\n",
                            "     sales_month_5  sales_month_6  sales_month_7  sales_month_8  \\\n",
                            "11             495            374            962            100   \n",
                            "54             787            737            122            793   \n",
                            "74             851            802            697            495   \n",
                            "88             360            342            199            625   \n",
                            "104            304            209            605            842   \n",
                            "209            223            188            921            714   \n",
                            "333            341             58            755            212   \n",
                            "348             96            167            296            769   \n",
                            "464            111            146            299            238   \n",
                            "584            924            284            731            578   \n",
                            "\n",
                            "     sales_month_9  sales_month_10  sales_month_11  sales_month_12  \\\n",
                            "11             201             819             491             132   \n",
                            "54             933             364             560             581   \n",
                            "74             822              95              94             317   \n",
                            "88             830             481             261             952   \n",
                            "104            616             209             426              92   \n",
                            "209            584             324              47             799   \n",
                            "333            559             800             532             177   \n",
                            "348            638             327              69             805   \n",
                            "464            146             485             233             899   \n",
                            "584            825             182             537             679   \n",
                            "\n",
                            "     total_sales  \n",
                            "11          5961  \n",
                            "54          6926  \n",
                            "74          5885  \n",
                            "88          5990  \n",
                            "104         5714  \n",
                            "209         5105  \n",
                            "333         5618  \n",
                            "348         4304  \n",
                            "464         4602  \n",
                            "584         6489  "
                        ]
                    },
                    "metadata": {},
                    "output_type": "display_data"
                },
                {
                    "data": {
                        "text/html": [
                            "<div>\n",
                            "<style scoped>\n",
                            "    .dataframe tbody tr th:only-of-type {\n",
                            "        vertical-align: middle;\n",
                            "    }\n",
                            "\n",
                            "    .dataframe tbody tr th {\n",
                            "        vertical-align: top;\n",
                            "    }\n",
                            "\n",
                            "    .dataframe thead th {\n",
                            "        text-align: right;\n",
                            "    }\n",
                            "</style>\n",
                            "<table border=\"1\" class=\"dataframe\">\n",
                            "  <thead>\n",
                            "    <tr style=\"text-align: right;\">\n",
                            "      <th></th>\n",
                            "      <th>product_id</th>\n",
                            "      <th>product_name</th>\n",
                            "      <th>category</th>\n",
                            "      <th>price</th>\n",
                            "      <th>review_score</th>\n",
                            "      <th>review_count</th>\n",
                            "      <th>sales_month_1</th>\n",
                            "      <th>sales_month_2</th>\n",
                            "      <th>sales_month_3</th>\n",
                            "      <th>sales_month_4</th>\n",
                            "      <th>sales_month_5</th>\n",
                            "      <th>sales_month_6</th>\n",
                            "      <th>sales_month_7</th>\n",
                            "      <th>sales_month_8</th>\n",
                            "      <th>sales_month_9</th>\n",
                            "      <th>sales_month_10</th>\n",
                            "      <th>sales_month_11</th>\n",
                            "      <th>sales_month_12</th>\n",
                            "      <th>total_sales</th>\n",
                            "    </tr>\n",
                            "  </thead>\n",
                            "  <tbody>\n",
                            "    <tr>\n",
                            "      <th>168</th>\n",
                            "      <td>169</td>\n",
                            "      <td>Product_169</td>\n",
                            "      <td>Books</td>\n",
                            "      <td>25.18</td>\n",
                            "      <td>1.0</td>\n",
                            "      <td>436</td>\n",
                            "      <td>872</td>\n",
                            "      <td>784</td>\n",
                            "      <td>307</td>\n",
                            "      <td>660</td>\n",
                            "      <td>904</td>\n",
                            "      <td>844</td>\n",
                            "      <td>124</td>\n",
                            "      <td>554</td>\n",
                            "      <td>848</td>\n",
                            "      <td>707</td>\n",
                            "      <td>338</td>\n",
                            "      <td>815</td>\n",
                            "      <td>7757</td>\n",
                            "    </tr>\n",
                            "    <tr>\n",
                            "      <th>264</th>\n",
                            "      <td>265</td>\n",
                            "      <td>Product_265</td>\n",
                            "      <td>Home &amp; Kitchen</td>\n",
                            "      <td>439.30</td>\n",
                            "      <td>1.0</td>\n",
                            "      <td>645</td>\n",
                            "      <td>767</td>\n",
                            "      <td>661</td>\n",
                            "      <td>738</td>\n",
                            "      <td>851</td>\n",
                            "      <td>333</td>\n",
                            "      <td>772</td>\n",
                            "      <td>454</td>\n",
                            "      <td>935</td>\n",
                            "      <td>36</td>\n",
                            "      <td>164</td>\n",
                            "      <td>805</td>\n",
                            "      <td>926</td>\n",
                            "      <td>7442</td>\n",
                            "    </tr>\n",
                            "    <tr>\n",
                            "      <th>283</th>\n",
                            "      <td>284</td>\n",
                            "      <td>Product_284</td>\n",
                            "      <td>Books</td>\n",
                            "      <td>51.52</td>\n",
                            "      <td>1.0</td>\n",
                            "      <td>457</td>\n",
                            "      <td>458</td>\n",
                            "      <td>2</td>\n",
                            "      <td>231</td>\n",
                            "      <td>771</td>\n",
                            "      <td>356</td>\n",
                            "      <td>962</td>\n",
                            "      <td>728</td>\n",
                            "      <td>667</td>\n",
                            "      <td>832</td>\n",
                            "      <td>73</td>\n",
                            "      <td>187</td>\n",
                            "      <td>713</td>\n",
                            "      <td>5980</td>\n",
                            "    </tr>\n",
                            "    <tr>\n",
                            "      <th>426</th>\n",
                            "      <td>427</td>\n",
                            "      <td>Product_427</td>\n",
                            "      <td>Sports</td>\n",
                            "      <td>223.56</td>\n",
                            "      <td>1.0</td>\n",
                            "      <td>437</td>\n",
                            "      <td>217</td>\n",
                            "      <td>329</td>\n",
                            "      <td>470</td>\n",
                            "      <td>558</td>\n",
                            "      <td>690</td>\n",
                            "      <td>991</td>\n",
                            "      <td>91</td>\n",
                            "      <td>135</td>\n",
                            "      <td>355</td>\n",
                            "      <td>697</td>\n",
                            "      <td>85</td>\n",
                            "      <td>367</td>\n",
                            "      <td>4985</td>\n",
                            "    </tr>\n",
                            "    <tr>\n",
                            "      <th>483</th>\n",
                            "      <td>484</td>\n",
                            "      <td>Product_484</td>\n",
                            "      <td>Home &amp; Kitchen</td>\n",
                            "      <td>315.64</td>\n",
                            "      <td>1.0</td>\n",
                            "      <td>445</td>\n",
                            "      <td>4</td>\n",
                            "      <td>72</td>\n",
                            "      <td>137</td>\n",
                            "      <td>845</td>\n",
                            "      <td>481</td>\n",
                            "      <td>70</td>\n",
                            "      <td>57</td>\n",
                            "      <td>550</td>\n",
                            "      <td>670</td>\n",
                            "      <td>121</td>\n",
                            "      <td>799</td>\n",
                            "      <td>98</td>\n",
                            "      <td>3904</td>\n",
                            "    </tr>\n",
                            "    <tr>\n",
                            "      <th>515</th>\n",
                            "      <td>516</td>\n",
                            "      <td>Product_516</td>\n",
                            "      <td>Books</td>\n",
                            "      <td>18.05</td>\n",
                            "      <td>1.0</td>\n",
                            "      <td>669</td>\n",
                            "      <td>989</td>\n",
                            "      <td>383</td>\n",
                            "      <td>843</td>\n",
                            "      <td>529</td>\n",
                            "      <td>698</td>\n",
                            "      <td>226</td>\n",
                            "      <td>483</td>\n",
                            "      <td>191</td>\n",
                            "      <td>344</td>\n",
                            "      <td>426</td>\n",
                            "      <td>473</td>\n",
                            "      <td>134</td>\n",
                            "      <td>5719</td>\n",
                            "    </tr>\n",
                            "    <tr>\n",
                            "      <th>743</th>\n",
                            "      <td>744</td>\n",
                            "      <td>Product_744</td>\n",
                            "      <td>Clothing</td>\n",
                            "      <td>253.85</td>\n",
                            "      <td>1.0</td>\n",
                            "      <td>41</td>\n",
                            "      <td>535</td>\n",
                            "      <td>956</td>\n",
                            "      <td>958</td>\n",
                            "      <td>428</td>\n",
                            "      <td>479</td>\n",
                            "      <td>73</td>\n",
                            "      <td>792</td>\n",
                            "      <td>227</td>\n",
                            "      <td>563</td>\n",
                            "      <td>326</td>\n",
                            "      <td>195</td>\n",
                            "      <td>405</td>\n",
                            "      <td>5937</td>\n",
                            "    </tr>\n",
                            "    <tr>\n",
                            "      <th>752</th>\n",
                            "      <td>753</td>\n",
                            "      <td>Product_753</td>\n",
                            "      <td>Clothing</td>\n",
                            "      <td>315.72</td>\n",
                            "      <td>1.0</td>\n",
                            "      <td>612</td>\n",
                            "      <td>627</td>\n",
                            "      <td>674</td>\n",
                            "      <td>453</td>\n",
                            "      <td>65</td>\n",
                            "      <td>587</td>\n",
                            "      <td>268</td>\n",
                            "      <td>805</td>\n",
                            "      <td>488</td>\n",
                            "      <td>839</td>\n",
                            "      <td>913</td>\n",
                            "      <td>650</td>\n",
                            "      <td>838</td>\n",
                            "      <td>7207</td>\n",
                            "    </tr>\n",
                            "    <tr>\n",
                            "      <th>799</th>\n",
                            "      <td>800</td>\n",
                            "      <td>Product_800</td>\n",
                            "      <td>Health</td>\n",
                            "      <td>461.64</td>\n",
                            "      <td>1.0</td>\n",
                            "      <td>837</td>\n",
                            "      <td>111</td>\n",
                            "      <td>18</td>\n",
                            "      <td>605</td>\n",
                            "      <td>252</td>\n",
                            "      <td>198</td>\n",
                            "      <td>240</td>\n",
                            "      <td>955</td>\n",
                            "      <td>536</td>\n",
                            "      <td>482</td>\n",
                            "      <td>832</td>\n",
                            "      <td>851</td>\n",
                            "      <td>397</td>\n",
                            "      <td>5477</td>\n",
                            "    </tr>\n",
                            "    <tr>\n",
                            "      <th>886</th>\n",
                            "      <td>887</td>\n",
                            "      <td>Product_887</td>\n",
                            "      <td>Books</td>\n",
                            "      <td>328.11</td>\n",
                            "      <td>1.0</td>\n",
                            "      <td>866</td>\n",
                            "      <td>75</td>\n",
                            "      <td>221</td>\n",
                            "      <td>174</td>\n",
                            "      <td>628</td>\n",
                            "      <td>356</td>\n",
                            "      <td>641</td>\n",
                            "      <td>999</td>\n",
                            "      <td>164</td>\n",
                            "      <td>836</td>\n",
                            "      <td>36</td>\n",
                            "      <td>74</td>\n",
                            "      <td>130</td>\n",
                            "      <td>4334</td>\n",
                            "    </tr>\n",
                            "  </tbody>\n",
                            "</table>\n",
                            "</div>"
                        ],
                        "text/plain": [
                            "     product_id product_name        category   price  review_score  \\\n",
                            "168         169  Product_169           Books   25.18           1.0   \n",
                            "264         265  Product_265  Home & Kitchen  439.30           1.0   \n",
                            "283         284  Product_284           Books   51.52           1.0   \n",
                            "426         427  Product_427          Sports  223.56           1.0   \n",
                            "483         484  Product_484  Home & Kitchen  315.64           1.0   \n",
                            "515         516  Product_516           Books   18.05           1.0   \n",
                            "743         744  Product_744        Clothing  253.85           1.0   \n",
                            "752         753  Product_753        Clothing  315.72           1.0   \n",
                            "799         800  Product_800          Health  461.64           1.0   \n",
                            "886         887  Product_887           Books  328.11           1.0   \n",
                            "\n",
                            "     review_count  sales_month_1  sales_month_2  sales_month_3  sales_month_4  \\\n",
                            "168           436            872            784            307            660   \n",
                            "264           645            767            661            738            851   \n",
                            "283           457            458              2            231            771   \n",
                            "426           437            217            329            470            558   \n",
                            "483           445              4             72            137            845   \n",
                            "515           669            989            383            843            529   \n",
                            "743            41            535            956            958            428   \n",
                            "752           612            627            674            453             65   \n",
                            "799           837            111             18            605            252   \n",
                            "886           866             75            221            174            628   \n",
                            "\n",
                            "     sales_month_5  sales_month_6  sales_month_7  sales_month_8  \\\n",
                            "168            904            844            124            554   \n",
                            "264            333            772            454            935   \n",
                            "283            356            962            728            667   \n",
                            "426            690            991             91            135   \n",
                            "483            481             70             57            550   \n",
                            "515            698            226            483            191   \n",
                            "743            479             73            792            227   \n",
                            "752            587            268            805            488   \n",
                            "799            198            240            955            536   \n",
                            "886            356            641            999            164   \n",
                            "\n",
                            "     sales_month_9  sales_month_10  sales_month_11  sales_month_12  \\\n",
                            "168            848             707             338             815   \n",
                            "264             36             164             805             926   \n",
                            "283            832              73             187             713   \n",
                            "426            355             697              85             367   \n",
                            "483            670             121             799              98   \n",
                            "515            344             426             473             134   \n",
                            "743            563             326             195             405   \n",
                            "752            839             913             650             838   \n",
                            "799            482             832             851             397   \n",
                            "886            836              36              74             130   \n",
                            "\n",
                            "     total_sales  \n",
                            "168         7757  \n",
                            "264         7442  \n",
                            "283         5980  \n",
                            "426         4985  \n",
                            "483         3904  \n",
                            "515         5719  \n",
                            "743         5937  \n",
                            "752         7207  \n",
                            "799         5477  \n",
                            "886         4334  "
                        ]
                    },
                    "metadata": {},
                    "output_type": "display_data"
                }
            ],
            "source": [
                "# Produtos com melhores avaliações\n",
                "top_rated_products = df.nlargest(10, 'review_score')  \n",
                "# Produtos com piores avaliações\n",
                "bottom_rated_products = df.nsmallest(10, 'review_score')\n",
                "display(top_rated_products, bottom_rated_products)\n",
                "# Adicionar uma coluna para distinguir entre as duas séries\n",
                "top_rated_products['Category'] = 'Melhores Avaliações'\n",
                "bottom_rated_products['Category'] = 'Piores Avaliações'\n"
            ]
        },
        {
            "cell_type": "markdown",
            "metadata": {},
            "source": [
                "## Análise Combinada\n",
                "\n",
                "### 9. Existe correlação entre o preço e o score de review?\n",
                "\n",
                "Foi calculada a correlação entre o preço dos produtos e o score de review para entender se há uma relação entre essas duas variáveis.\n",
                "\n",
                "**Correlação entre preço e score de review:** 0.03\n",
                "\n",
                "O valor da correlação é muito próximo de 0, indicando uma relação muito fraca entre o preço dos produtos e suas avaliações. Isso sugere que o preço dos produtos não tem um impacto significativo nas avaliações que eles recebem.\n",
                "\n",
                "![Gráfico de dispersão](/graficos/correlacao.png)\n",
                "\n",
                "O gráfico de dispersão acima ilustra a distribuição dos scores de review em relação ao preço dos produtos. Como o valor da correlação é baixo, o gráfico nos mostra uma dispersão dos pontos que não segue um padrão claro, reforçando a ideia de que não há uma relação forte entre o preço e as avaliações dos produtos.\n"
            ]
        },
        {
            "cell_type": "code",
            "execution_count": 59,
            "metadata": {},
            "outputs": [
                {
                    "name": "stdout",
                    "output_type": "stream",
                    "text": [
                        "Correlação entre Preço e Score de Review: 0.03\n"
                    ]
                }
            ],
            "source": [
                "# Calcular a correlação entre o preço e o score de review\n",
                "correlation = df['price'].corr(df['review_score'])\n",
                "print(f'Correlação entre Preço e Score de Review: {correlation:.2f}')"
            ]
        },
        {
            "cell_type": "code",
            "execution_count": 60,
            "metadata": {},
            "outputs": [
                {
                    "data": {
                        "application/vnd.plotly.v1+json": {
                            "config": {
                                "plotlyServerURL": "https://plot.ly"
                            },
                            "data": [
                                {
                                    "hovertemplate": "Preço=%{x}<br>Score de Review=%{marker.color}<extra></extra>",
                                    "legendgroup": "",
                                    "marker": {
                                        "color": [
                                            1.7,
                                            3.2,
                                            4.5,
                                            3.9,
                                            4.2,
                                            3.6,
                                            3.8,
                                            4.4,
                                            2,
                                            3,
                                            1.9,
                                            5,
                                            4.8,
                                            1.2,
                                            3.8,
                                            4.7,
                                            1.7,
                                            3.3,
                                            4.7,
                                            1.1,
                                            3.8,
                                            2.2,
                                            4.7,
                                            4.9,
                                            4.8,
                                            2.9,
                                            4.4,
                                            4.4,
                                            2.3,
                                            4.3,
                                            1.1,
                                            3.4,
                                            1.9,
                                            1.5,
                                            1.3,
                                            3.8,
                                            2.4,
                                            3.9,
                                            1.3,
                                            2.3,
                                            3.2,
                                            4.2,
                                            2.3,
                                            3.5,
                                            4.5,
                                            3.5,
                                            1.9,
                                            1.1,
                                            4.5,
                                            1.1,
                                            4.5,
                                            3.1,
                                            4.8,
                                            4.2,
                                            5,
                                            2.4,
                                            4.1,
                                            2.6,
                                            2.9,
                                            3.5,
                                            4.5,
                                            4.9,
                                            4.1,
                                            2.7,
                                            2.7,
                                            4,
                                            2,
                                            1.4,
                                            2.4,
                                            2.1,
                                            2.2,
                                            1.9,
                                            1.2,
                                            1.1,
                                            5,
                                            2.7,
                                            2.5,
                                            3.7,
                                            1.9,
                                            4.8,
                                            4.1,
                                            1.4,
                                            2.7,
                                            4.5,
                                            4.8,
                                            2.9,
                                            3.5,
                                            1.7,
                                            5,
                                            1.9,
                                            4.8,
                                            3.6,
                                            3.4,
                                            3.1,
                                            1.9,
                                            1.7,
                                            1.9,
                                            1.7,
                                            4.1,
                                            2.4,
                                            1.2,
                                            4.9,
                                            4.5,
                                            4.7,
                                            5,
                                            1.7,
                                            2.6,
                                            4,
                                            3.8,
                                            1.6,
                                            4.3,
                                            1.9,
                                            1.9,
                                            3.1,
                                            3.4,
                                            3.3,
                                            1.4,
                                            4.5,
                                            2.1,
                                            1.5,
                                            4.6,
                                            4.8,
                                            4.4,
                                            4.2,
                                            3.6,
                                            3.2,
                                            1.3,
                                            2.6,
                                            2.5,
                                            2,
                                            3.9,
                                            3,
                                            1.3,
                                            1.9,
                                            3.7,
                                            1.3,
                                            4.4,
                                            3,
                                            2.9,
                                            3.4,
                                            4.3,
                                            2.4,
                                            3.7,
                                            3.3,
                                            2.1,
                                            4.5,
                                            4.2,
                                            3.6,
                                            4.4,
                                            4.5,
                                            3.8,
                                            4.3,
                                            3.8,
                                            3.7,
                                            3.5,
                                            4,
                                            1.6,
                                            4.5,
                                            4.5,
                                            1.1,
                                            4.3,
                                            1.5,
                                            2.3,
                                            4,
                                            1.6,
                                            4.3,
                                            4.3,
                                            3,
                                            1,
                                            2.1,
                                            3.5,
                                            4.9,
                                            3.5,
                                            2,
                                            3.5,
                                            3.2,
                                            4.1,
                                            1.4,
                                            4,
                                            3.2,
                                            4.9,
                                            2.4,
                                            3.5,
                                            4.7,
                                            1.4,
                                            4.7,
                                            3.8,
                                            1.3,
                                            2.2,
                                            3.8,
                                            1.3,
                                            3.3,
                                            2.4,
                                            3.5,
                                            1.2,
                                            4.5,
                                            4.9,
                                            4.9,
                                            4,
                                            1.5,
                                            4,
                                            1.1,
                                            1.1,
                                            2.3,
                                            3,
                                            4.1,
                                            3.7,
                                            2.8,
                                            2.1,
                                            5,
                                            2.7,
                                            2.8,
                                            1.7,
                                            4.2,
                                            3.8,
                                            1.9,
                                            1.3,
                                            3.7,
                                            3.6,
                                            2.1,
                                            4.8,
                                            1.6,
                                            2.7,
                                            4.8,
                                            2.7,
                                            3.6,
                                            2.6,
                                            2.1,
                                            4.9,
                                            2.6,
                                            4.6,
                                            1.9,
                                            1.9,
                                            1.1,
                                            3.6,
                                            2.5,
                                            4.5,
                                            2.9,
                                            4.9,
                                            1.7,
                                            4.5,
                                            4.1,
                                            4.1,
                                            4.4,
                                            4,
                                            3.5,
                                            1.5,
                                            1.1,
                                            4.7,
                                            3.5,
                                            4.2,
                                            2.9,
                                            1.5,
                                            1.5,
                                            3.7,
                                            2.7,
                                            1.8,
                                            3,
                                            1.3,
                                            3.3,
                                            2.1,
                                            4.2,
                                            2.2,
                                            2.8,
                                            1,
                                            1.3,
                                            2.6,
                                            2.9,
                                            3.4,
                                            2.2,
                                            3.8,
                                            4.4,
                                            4.1,
                                            1.2,
                                            2.9,
                                            1.4,
                                            2,
                                            4.9,
                                            1.6,
                                            3,
                                            3.5,
                                            3.8,
                                            3.2,
                                            1,
                                            2.3,
                                            3.1,
                                            1.4,
                                            2.4,
                                            1.1,
                                            1.3,
                                            2.6,
                                            1.5,
                                            3.3,
                                            3.8,
                                            4.2,
                                            1.8,
                                            1.7,
                                            1.4,
                                            3.5,
                                            3.8,
                                            1.1,
                                            4.7,
                                            1.2,
                                            3.2,
                                            3.8,
                                            4.5,
                                            3.9,
                                            4.2,
                                            2.4,
                                            4.3,
                                            1.3,
                                            4.6,
                                            3.2,
                                            4.3,
                                            2.8,
                                            3.6,
                                            3.1,
                                            3.9,
                                            1.3,
                                            1.2,
                                            2,
                                            1.6,
                                            4.5,
                                            1.9,
                                            4.9,
                                            2.3,
                                            1.7,
                                            4.2,
                                            3.6,
                                            3,
                                            3.2,
                                            3.9,
                                            1.9,
                                            5,
                                            4.9,
                                            3.6,
                                            1.8,
                                            3.7,
                                            1.3,
                                            1.1,
                                            2,
                                            2.9,
                                            4.5,
                                            3.9,
                                            4,
                                            2.7,
                                            2.4,
                                            2.5,
                                            5,
                                            1.2,
                                            4.5,
                                            3.3,
                                            2.8,
                                            3.9,
                                            2.9,
                                            4.5,
                                            4.6,
                                            2.7,
                                            2.1,
                                            3.4,
                                            4.6,
                                            1.8,
                                            3.5,
                                            3.5,
                                            3.9,
                                            1.5,
                                            3.9,
                                            4.6,
                                            1.7,
                                            2,
                                            4.9,
                                            1.7,
                                            4.4,
                                            3,
                                            2,
                                            4.5,
                                            2.8,
                                            3.1,
                                            2.4,
                                            3.4,
                                            1.7,
                                            2.6,
                                            4.9,
                                            2,
                                            3.6,
                                            2.3,
                                            4.1,
                                            1.5,
                                            4.9,
                                            2.8,
                                            1.9,
                                            1.3,
                                            1.7,
                                            3.1,
                                            2.3,
                                            4.3,
                                            2.7,
                                            2,
                                            3.5,
                                            3.8,
                                            1.7,
                                            1.7,
                                            1.1,
                                            3.9,
                                            3.7,
                                            2.9,
                                            4.4,
                                            4.2,
                                            3.3,
                                            4.5,
                                            1.8,
                                            1.4,
                                            2.1,
                                            1.2,
                                            3.1,
                                            4.7,
                                            1.2,
                                            1.5,
                                            2.8,
                                            4.7,
                                            2.3,
                                            3,
                                            1.2,
                                            1.6,
                                            4.9,
                                            4.9,
                                            1,
                                            4.8,
                                            3.6,
                                            4.5,
                                            2.8,
                                            3.1,
                                            3,
                                            3.7,
                                            1.6,
                                            1.1,
                                            2.2,
                                            3.8,
                                            1.8,
                                            3.7,
                                            4.9,
                                            1.4,
                                            3.7,
                                            2.8,
                                            4.5,
                                            1.7,
                                            3.8,
                                            4.4,
                                            4.8,
                                            3.7,
                                            3,
                                            3.5,
                                            4.5,
                                            3.3,
                                            1.1,
                                            4.7,
                                            3.8,
                                            3.7,
                                            1.9,
                                            3.6,
                                            2.6,
                                            3.6,
                                            1.4,
                                            3.6,
                                            5,
                                            1.2,
                                            4.9,
                                            2.6,
                                            4.5,
                                            4.1,
                                            3.3,
                                            4,
                                            4.5,
                                            2.6,
                                            2.3,
                                            3.7,
                                            4.2,
                                            4,
                                            4.2,
                                            2.7,
                                            4.3,
                                            1.5,
                                            3.2,
                                            1,
                                            2.3,
                                            2.5,
                                            2.6,
                                            3.8,
                                            2.6,
                                            2.8,
                                            2,
                                            2.5,
                                            1.9,
                                            1.3,
                                            3.4,
                                            3.7,
                                            3.5,
                                            2.9,
                                            2.5,
                                            4.5,
                                            3.1,
                                            2.9,
                                            1.1,
                                            2.4,
                                            2.5,
                                            2.6,
                                            3.3,
                                            3.1,
                                            3.4,
                                            4.1,
                                            4.3,
                                            3.9,
                                            4.8,
                                            1.1,
                                            1.8,
                                            1,
                                            3.6,
                                            4.6,
                                            2,
                                            4.7,
                                            1.2,
                                            4.7,
                                            2.4,
                                            1.4,
                                            2.9,
                                            2,
                                            2.1,
                                            2.2,
                                            4.2,
                                            3.2,
                                            2.2,
                                            3.4,
                                            3.9,
                                            2.1,
                                            2.7,
                                            1.5,
                                            1.7,
                                            3.7,
                                            1.7,
                                            3.1,
                                            3.8,
                                            1.4,
                                            3.3,
                                            2,
                                            4.9,
                                            2.9,
                                            4.2,
                                            3.2,
                                            1.2,
                                            3.5,
                                            4.8,
                                            3.4,
                                            4.3,
                                            4.5,
                                            1.9,
                                            1.8,
                                            3.4,
                                            2.6,
                                            4.4,
                                            4.6,
                                            2.4,
                                            1.9,
                                            4.1,
                                            2.1,
                                            4.3,
                                            2.7,
                                            3.7,
                                            1.4,
                                            3.5,
                                            2.8,
                                            3.3,
                                            1.7,
                                            3.9,
                                            4.5,
                                            1.9,
                                            1.4,
                                            1.1,
                                            3.6,
                                            3.4,
                                            3.2,
                                            1.9,
                                            2.6,
                                            3.4,
                                            3,
                                            5,
                                            1.5,
                                            3.8,
                                            2.6,
                                            2.7,
                                            3.9,
                                            3.8,
                                            5,
                                            1.5,
                                            1.4,
                                            3.9,
                                            3.3,
                                            2.1,
                                            1.3,
                                            1.3,
                                            4.6,
                                            1.8,
                                            2.3,
                                            1.9,
                                            2.4,
                                            1.3,
                                            3.1,
                                            1.3,
                                            4.2,
                                            1.9,
                                            3.2,
                                            4.5,
                                            3.6,
                                            3.1,
                                            2.3,
                                            2.3,
                                            3.7,
                                            5,
                                            3.6,
                                            3.2,
                                            3.9,
                                            2.9,
                                            1.2,
                                            3.2,
                                            4.8,
                                            1.7,
                                            3.8,
                                            1.8,
                                            3.1,
                                            1.4,
                                            2.8,
                                            4,
                                            2.4,
                                            3.7,
                                            4.2,
                                            4.7,
                                            1.9,
                                            2.6,
                                            1.6,
                                            5,
                                            4.7,
                                            3.2,
                                            4.4,
                                            3.1,
                                            3.5,
                                            1.4,
                                            4,
                                            1.5,
                                            4.3,
                                            4.1,
                                            3.8,
                                            1.1,
                                            2.2,
                                            2.1,
                                            2.4,
                                            1.4,
                                            4.7,
                                            3.2,
                                            2.2,
                                            2.6,
                                            2.8,
                                            3.4,
                                            3.1,
                                            4.7,
                                            3,
                                            5,
                                            4.4,
                                            1.8,
                                            4.7,
                                            1.5,
                                            4.3,
                                            2.5,
                                            4.5,
                                            4.5,
                                            4.2,
                                            4.2,
                                            2.2,
                                            1.3,
                                            2.6,
                                            1.7,
                                            3.8,
                                            2.4,
                                            4.9,
                                            3.6,
                                            4.3,
                                            1.5,
                                            4.4,
                                            4.7,
                                            2.9,
                                            3.4,
                                            4.1,
                                            1.7,
                                            3,
                                            2.6,
                                            1.6,
                                            2.5,
                                            1.3,
                                            1.1,
                                            1.5,
                                            4.9,
                                            3.2,
                                            4.9,
                                            2.7,
                                            2.2,
                                            3,
                                            2.8,
                                            1.4,
                                            3.6,
                                            1.9,
                                            3.5,
                                            3.6,
                                            1.6,
                                            1.2,
                                            4.1,
                                            2.8,
                                            1.2,
                                            5,
                                            1.2,
                                            3.8,
                                            4.9,
                                            2,
                                            1.6,
                                            1.5,
                                            2.2,
                                            1.4,
                                            3.8,
                                            1.2,
                                            3,
                                            5,
                                            4.3,
                                            3.5,
                                            2.2,
                                            3.5,
                                            3.1,
                                            2.7,
                                            1.5,
                                            4.5,
                                            2.8,
                                            1.8,
                                            2.5,
                                            2.7,
                                            4.3,
                                            3.9,
                                            4.1,
                                            1,
                                            2.7,
                                            2.9,
                                            1.1,
                                            2,
                                            4,
                                            1.5,
                                            3.1,
                                            1.9,
                                            1,
                                            2,
                                            4.9,
                                            4.2,
                                            4.8,
                                            3,
                                            1.4,
                                            3.2,
                                            2.8,
                                            4.4,
                                            1.4,
                                            3,
                                            1.6,
                                            2.3,
                                            3.9,
                                            2.9,
                                            2.5,
                                            2.6,
                                            2.8,
                                            4.1,
                                            4.6,
                                            4.8,
                                            4.1,
                                            2.3,
                                            3.8,
                                            2.8,
                                            2,
                                            4.4,
                                            1.2,
                                            4.6,
                                            2.8,
                                            3.5,
                                            3.6,
                                            4.6,
                                            3.5,
                                            3.5,
                                            1.3,
                                            3.1,
                                            1.6,
                                            3.9,
                                            3,
                                            3.7,
                                            1.2,
                                            1.3,
                                            3.9,
                                            1.3,
                                            1.3,
                                            1,
                                            4.8,
                                            4,
                                            2.4,
                                            2.2,
                                            2.4,
                                            4.1,
                                            3.6,
                                            1.7,
                                            1.7,
                                            1.4,
                                            3.6,
                                            4.1,
                                            2.1,
                                            1.1,
                                            1.3,
                                            4.9,
                                            2.2,
                                            4.1,
                                            3.5,
                                            2.5,
                                            1.8,
                                            1.5,
                                            3.5,
                                            4.1,
                                            3.6,
                                            3.1,
                                            1.2,
                                            4.9,
                                            4.2,
                                            2.2,
                                            4.9,
                                            3.4,
                                            3.3,
                                            4,
                                            4.2,
                                            3.6,
                                            1.5,
                                            2.4,
                                            4.7,
                                            1.9,
                                            2.5,
                                            2.7,
                                            2.8,
                                            3.5,
                                            4.8,
                                            2,
                                            1.5,
                                            1.8,
                                            4.5,
                                            3.6,
                                            2.1,
                                            4.3,
                                            4.4,
                                            4.4,
                                            4.7,
                                            2,
                                            4,
                                            2.8,
                                            4.4,
                                            3.9,
                                            4.1,
                                            3.6,
                                            1.7,
                                            3.2,
                                            4.9,
                                            4.7,
                                            1.2,
                                            1.7,
                                            1.5,
                                            3.9,
                                            4.3,
                                            1.9,
                                            3,
                                            4.4,
                                            3.9,
                                            3.2,
                                            3.4,
                                            3,
                                            2.2,
                                            3.3,
                                            3.8,
                                            4.5,
                                            3.5,
                                            4,
                                            1.6,
                                            2.8,
                                            1,
                                            2,
                                            3.9,
                                            5,
                                            1.4,
                                            2.6,
                                            4.2,
                                            1.8,
                                            3.2,
                                            3.9,
                                            3.5,
                                            1.8,
                                            2.4,
                                            4.1,
                                            3.2,
                                            1,
                                            4,
                                            1.1,
                                            4,
                                            1.8,
                                            4.8,
                                            2.5,
                                            2.3,
                                            1.6,
                                            2.2,
                                            4.5,
                                            5,
                                            2.5,
                                            2.8,
                                            3.9,
                                            4.5,
                                            3.4,
                                            2.6,
                                            2.7,
                                            3.8,
                                            1,
                                            3.5,
                                            2.4,
                                            4.2,
                                            1.4,
                                            3.4,
                                            2.9,
                                            3.6,
                                            1.3,
                                            3.3,
                                            3.2,
                                            3.2,
                                            3.4,
                                            3.7,
                                            4.2,
                                            2.1,
                                            4.3,
                                            3,
                                            1.3,
                                            1.2,
                                            2.3,
                                            4.1,
                                            3.8,
                                            4.2,
                                            3.1,
                                            2.8,
                                            1.6,
                                            2.3,
                                            2.7,
                                            1.4,
                                            1.9,
                                            3.4,
                                            3.9,
                                            5,
                                            4.7,
                                            3.6,
                                            2.7,
                                            3.5,
                                            4.1,
                                            1.5,
                                            2.6,
                                            4.4,
                                            2.5,
                                            3.3,
                                            3.4,
                                            1.7,
                                            2.4,
                                            2.3,
                                            1.1,
                                            1.1,
                                            4.3,
                                            2.1,
                                            3.1,
                                            2.2,
                                            4.8,
                                            2,
                                            2.7,
                                            4.5,
                                            4.4,
                                            1.7,
                                            4.2,
                                            2.8,
                                            2.9,
                                            1.5,
                                            1.3,
                                            3.9,
                                            3,
                                            2.7,
                                            3.9,
                                            4.1,
                                            1.6,
                                            3.4,
                                            1.5,
                                            4,
                                            3.6,
                                            4.8,
                                            1.3,
                                            1.2,
                                            2.1
                                        ],
                                        "coloraxis": "coloraxis",
                                        "symbol": "circle"
                                    },
                                    "mode": "markers",
                                    "name": "",
                                    "orientation": "v",
                                    "showlegend": false,
                                    "type": "scatter",
                                    "x": [
                                        190.4,
                                        475.6,
                                        367.34,
                                        301.34,
                                        82.23,
                                        82.22,
                                        33.75,
                                        433.76,
                                        302.55,
                                        355.5,
                                        15.19,
                                        485.11,
                                        417.06,
                                        110.11,
                                        95,
                                        95.79,
                                        155.6,
                                        264.75,
                                        218.81,
                                        149.16,
                                        307.87,
                                        74.05,
                                        149.61,
                                        186.35,
                                        230.75,
                                        393.66,
                                        103.84,
                                        259.55,
                                        298.25,
                                        27.99,
                                        305.73,
                                        89.41,
                                        37.2,
                                        474.7,
                                        482.99,
                                        405.16,
                                        155.78,
                                        53.35,
                                        343.7,
                                        222.88,
                                        65.41,
                                        250.11,
                                        22.02,
                                        455.11,
                                        133.1,
                                        332.95,
                                        159.3,
                                        262.43,
                                        275.62,
                                        96.5,
                                        484.94,
                                        388.69,
                                        470.05,
                                        447.94,
                                        300.96,
                                        461.33,
                                        48.8,
                                        102.01,
                                        27.39,
                                        166.04,
                                        197.4,
                                        139.32,
                                        415.23,
                                        181.59,
                                        144.06,
                                        273.63,
                                        74.76,
                                        402.09,
                                        41.9,
                                        493.51,
                                        387.26,
                                        103.36,
                                        7.73,
                                        408.65,
                                        354.89,
                                        365.86,
                                        386.78,
                                        41.65,
                                        182.44,
                                        62.36,
                                        432.24,
                                        313.53,
                                        168.79,
                                        36.46,
                                        158.94,
                                        165.97,
                                        366.16,
                                        320.59,
                                        444.17,
                                        238.75,
                                        64.2,
                                        358.06,
                                        381.59,
                                        282.83,
                                        386.63,
                                        249.43,
                                        263.75,
                                        216.63,
                                        17.58,
                                        58.41,
                                        20.56,
                                        320.02,
                                        160.61,
                                        256.74,
                                        454.25,
                                        128.4,
                                        208.14,
                                        379,
                                        118.26,
                                        43.11,
                                        148.43,
                                        84.8,
                                        465.2,
                                        405.02,
                                        318.53,
                                        436.37,
                                        402.82,
                                        97.35,
                                        446.82,
                                        271.97,
                                        404.68,
                                        448.57,
                                        162.41,
                                        59.48,
                                        117.83,
                                        216.42,
                                        409.92,
                                        431.06,
                                        8.44,
                                        257.82,
                                        211.62,
                                        114.94,
                                        64.33,
                                        172.12,
                                        471.74,
                                        164.99,
                                        261.8,
                                        352.99,
                                        185,
                                        486.03,
                                        481.41,
                                        129.63,
                                        251.14,
                                        153.93,
                                        146,
                                        23.26,
                                        306.73,
                                        253.83,
                                        30.48,
                                        142.93,
                                        454.59,
                                        123.58,
                                        76.72,
                                        247.28,
                                        492.9,
                                        124.82,
                                        337.71,
                                        382,
                                        122.63,
                                        365.47,
                                        187.05,
                                        317.99,
                                        318.6,
                                        270.21,
                                        49.69,
                                        418.47,
                                        163.79,
                                        97.33,
                                        25.18,
                                        297.49,
                                        340.39,
                                        13.21,
                                        258.49,
                                        117.12,
                                        324.36,
                                        91.31,
                                        347.01,
                                        196.43,
                                        468.68,
                                        73.07,
                                        173.83,
                                        61.17,
                                        462.72,
                                        439.28,
                                        132.68,
                                        331.69,
                                        409.52,
                                        279.82,
                                        267.18,
                                        124.72,
                                        51.09,
                                        449.12,
                                        450.71,
                                        318.39,
                                        172.82,
                                        177.86,
                                        364.35,
                                        449.07,
                                        444.11,
                                        391.04,
                                        322.81,
                                        46.65,
                                        85.01,
                                        449.78,
                                        305.18,
                                        9.55,
                                        55.23,
                                        333.43,
                                        7.51,
                                        84.6,
                                        276.62,
                                        347.49,
                                        327.72,
                                        116.01,
                                        357.53,
                                        122.44,
                                        166.07,
                                        374.51,
                                        326.57,
                                        425.37,
                                        330.52,
                                        286.31,
                                        51.37,
                                        187.02,
                                        136.28,
                                        125.77,
                                        486.64,
                                        199.58,
                                        446.56,
                                        317.41,
                                        398.43,
                                        253.81,
                                        290.57,
                                        248.8,
                                        101.65,
                                        362.61,
                                        143.98,
                                        17.04,
                                        324.51,
                                        92.67,
                                        470.53,
                                        477.19,
                                        457.86,
                                        188.23,
                                        12.65,
                                        464.52,
                                        216.95,
                                        483.49,
                                        481.99,
                                        427.24,
                                        150.75,
                                        195.62,
                                        426.31,
                                        161.88,
                                        88.9,
                                        280.62,
                                        468.4,
                                        349.53,
                                        287.18,
                                        53.1,
                                        309.43,
                                        495.08,
                                        74.34,
                                        261.57,
                                        439.3,
                                        371.68,
                                        350.02,
                                        352.73,
                                        182.95,
                                        150.33,
                                        405.63,
                                        406.01,
                                        434.2,
                                        457.05,
                                        258.11,
                                        253.25,
                                        400.16,
                                        326.73,
                                        352.47,
                                        398.92,
                                        445.55,
                                        172.31,
                                        190.91,
                                        51.52,
                                        291.25,
                                        22.79,
                                        235.47,
                                        273.61,
                                        146.84,
                                        297.46,
                                        20.1,
                                        23.49,
                                        412.19,
                                        183.29,
                                        67.89,
                                        263.51,
                                        386.15,
                                        111.83,
                                        313.33,
                                        47.25,
                                        30.58,
                                        268.02,
                                        272.61,
                                        320.53,
                                        364.42,
                                        488.05,
                                        260.57,
                                        164.86,
                                        398.62,
                                        139.06,
                                        222.29,
                                        43.84,
                                        17.55,
                                        481.51,
                                        418.81,
                                        349.51,
                                        207.43,
                                        90.78,
                                        82.44,
                                        128.87,
                                        276.87,
                                        358.72,
                                        331.8,
                                        143.57,
                                        477.66,
                                        370.26,
                                        279.41,
                                        307.8,
                                        212.7,
                                        127.63,
                                        181.21,
                                        380.13,
                                        12.12,
                                        62.46,
                                        27.77,
                                        25.16,
                                        428.45,
                                        353.31,
                                        239.72,
                                        53.43,
                                        248.35,
                                        239.37,
                                        90.73,
                                        219.76,
                                        202.26,
                                        309.85,
                                        319.37,
                                        27.43,
                                        190.43,
                                        314.8,
                                        254.05,
                                        428.96,
                                        331.05,
                                        85.65,
                                        39.93,
                                        323,
                                        18.12,
                                        294.96,
                                        470.41,
                                        289.86,
                                        197.14,
                                        323.43,
                                        231.84,
                                        275.08,
                                        471.03,
                                        196.12,
                                        480.79,
                                        453.15,
                                        101.92,
                                        39.33,
                                        54.89,
                                        14.02,
                                        51.75,
                                        343.09,
                                        40.24,
                                        162.89,
                                        423.21,
                                        16.52,
                                        408.16,
                                        144.52,
                                        63.49,
                                        349.88,
                                        316.33,
                                        439.35,
                                        368.86,
                                        402.72,
                                        144.61,
                                        92.83,
                                        376.55,
                                        404.38,
                                        495.3,
                                        209.25,
                                        189.15,
                                        389.32,
                                        173.7,
                                        465.72,
                                        429.91,
                                        217.35,
                                        376.68,
                                        378.5,
                                        56.05,
                                        451.76,
                                        255.1,
                                        414.1,
                                        163.42,
                                        448.28,
                                        197.65,
                                        10.36,
                                        453.16,
                                        50.19,
                                        163.06,
                                        475.28,
                                        475.55,
                                        288.85,
                                        317.76,
                                        226.98,
                                        150.14,
                                        167.69,
                                        337.9,
                                        377.43,
                                        396.83,
                                        395.86,
                                        50.15,
                                        249.74,
                                        33.49,
                                        277.02,
                                        223.56,
                                        444.41,
                                        178.7,
                                        62.95,
                                        75.78,
                                        381.95,
                                        311.02,
                                        55.06,
                                        46.63,
                                        351.98,
                                        41.02,
                                        411.82,
                                        354.59,
                                        45.27,
                                        46.99,
                                        493.39,
                                        190.26,
                                        188.47,
                                        407.34,
                                        473.89,
                                        493.07,
                                        377.92,
                                        191.25,
                                        46.33,
                                        389.69,
                                        281.41,
                                        214.99,
                                        453.65,
                                        60.04,
                                        248.85,
                                        10.62,
                                        236.99,
                                        32.87,
                                        63.81,
                                        63.18,
                                        326.36,
                                        374.29,
                                        293.77,
                                        481.28,
                                        190.56,
                                        146.43,
                                        434.96,
                                        115.68,
                                        481.8,
                                        11.02,
                                        485.09,
                                        26.36,
                                        446.12,
                                        266.21,
                                        496.52,
                                        41.53,
                                        279.16,
                                        484.8,
                                        263.93,
                                        316.55,
                                        349.4,
                                        230,
                                        315.64,
                                        294.24,
                                        451.07,
                                        27.5,
                                        144.08,
                                        475.45,
                                        445.68,
                                        230.55,
                                        311.97,
                                        142.3,
                                        98.12,
                                        234.53,
                                        179.91,
                                        293.91,
                                        43.48,
                                        487.33,
                                        493.17,
                                        350.59,
                                        270.37,
                                        158.22,
                                        407.83,
                                        343.94,
                                        85.5,
                                        455.91,
                                        412.16,
                                        475.15,
                                        364.23,
                                        308.64,
                                        212.03,
                                        466.7,
                                        433.7,
                                        27.38,
                                        18.05,
                                        191.35,
                                        406.22,
                                        493.7,
                                        79.46,
                                        299.09,
                                        193.54,
                                        485.11,
                                        421.85,
                                        419.97,
                                        237,
                                        210.34,
                                        140.34,
                                        32.91,
                                        433.04,
                                        407.39,
                                        499.86,
                                        498.34,
                                        279.94,
                                        385.65,
                                        472.66,
                                        425.58,
                                        127.44,
                                        228.02,
                                        68.93,
                                        477.26,
                                        305.06,
                                        118.18,
                                        337.49,
                                        310.97,
                                        182.29,
                                        61.21,
                                        337.43,
                                        262.55,
                                        387.3,
                                        262.48,
                                        426.83,
                                        278.19,
                                        282.66,
                                        438.94,
                                        204.72,
                                        71.34,
                                        19.25,
                                        378.79,
                                        312.05,
                                        353.52,
                                        110.42,
                                        72.5,
                                        12.2,
                                        178.54,
                                        297.01,
                                        199.16,
                                        221.55,
                                        452.56,
                                        177.39,
                                        259.42,
                                        392.91,
                                        201.29,
                                        312.93,
                                        431.87,
                                        475.01,
                                        77.8,
                                        463.66,
                                        248.6,
                                        132.83,
                                        232.27,
                                        490.12,
                                        248.85,
                                        167.73,
                                        318.53,
                                        123.87,
                                        42.55,
                                        68.8,
                                        68.38,
                                        80.19,
                                        73.72,
                                        322.23,
                                        95.03,
                                        176.11,
                                        448.91,
                                        239.61,
                                        335.44,
                                        90.3,
                                        100.18,
                                        25.23,
                                        88.62,
                                        142.9,
                                        92.62,
                                        48.91,
                                        64.71,
                                        233.09,
                                        107.14,
                                        185.31,
                                        254.19,
                                        346.75,
                                        24.46,
                                        400.71,
                                        315.81,
                                        45.47,
                                        437.42,
                                        460.83,
                                        35.23,
                                        142.05,
                                        404.07,
                                        375.39,
                                        96.34,
                                        108.63,
                                        188.38,
                                        244.84,
                                        311.04,
                                        187.61,
                                        233.95,
                                        375,
                                        23.16,
                                        129.96,
                                        358.11,
                                        448.13,
                                        258.28,
                                        268.4,
                                        58.05,
                                        226.47,
                                        268.65,
                                        125.02,
                                        138.28,
                                        191.76,
                                        14.94,
                                        164.43,
                                        109.67,
                                        167.11,
                                        64.28,
                                        445.81,
                                        298.83,
                                        341.16,
                                        395.64,
                                        251.73,
                                        48.03,
                                        270.87,
                                        295.49,
                                        373.99,
                                        218.67,
                                        68.15,
                                        145.47,
                                        184.73,
                                        324.73,
                                        287.54,
                                        181.27,
                                        493.33,
                                        304.86,
                                        122.43,
                                        55.38,
                                        80.67,
                                        126.75,
                                        84.54,
                                        97.35,
                                        146.12,
                                        90.82,
                                        448.9,
                                        44.72,
                                        264.63,
                                        208.15,
                                        491.28,
                                        60.46,
                                        201.94,
                                        484.89,
                                        433.43,
                                        409.45,
                                        132.66,
                                        89.59,
                                        335.98,
                                        465.04,
                                        280.6,
                                        287.95,
                                        143.59,
                                        385.9,
                                        97.59,
                                        165.22,
                                        215.59,
                                        256.27,
                                        124.99,
                                        61.84,
                                        307.26,
                                        147.87,
                                        292.71,
                                        81.41,
                                        243.16,
                                        268.63,
                                        30.65,
                                        171.62,
                                        71.54,
                                        36.37,
                                        495.03,
                                        164.57,
                                        405.89,
                                        131.05,
                                        342.34,
                                        381.31,
                                        299.84,
                                        238.43,
                                        208.86,
                                        177.69,
                                        465.12,
                                        416.16,
                                        482.69,
                                        66.53,
                                        366.78,
                                        469.48,
                                        94.71,
                                        37.92,
                                        371.85,
                                        289.36,
                                        421.71,
                                        74.19,
                                        398.66,
                                        104.81,
                                        86.01,
                                        86.31,
                                        408.21,
                                        334.27,
                                        263.92,
                                        182.62,
                                        439.21,
                                        199.26,
                                        409.22,
                                        222.37,
                                        191.59,
                                        234.03,
                                        154.18,
                                        375.07,
                                        253.85,
                                        119.95,
                                        450.29,
                                        195.03,
                                        274.06,
                                        453.7,
                                        314,
                                        62.86,
                                        470.22,
                                        315.72,
                                        170.78,
                                        73.94,
                                        398.04,
                                        311.94,
                                        269.06,
                                        447.48,
                                        395.36,
                                        80.08,
                                        159.3,
                                        128,
                                        373.25,
                                        21.6,
                                        287.1,
                                        382.42,
                                        439,
                                        174.33,
                                        411.52,
                                        59.76,
                                        423.99,
                                        68.11,
                                        201.66,
                                        399.66,
                                        79.21,
                                        118.48,
                                        362.52,
                                        361.42,
                                        322.37,
                                        348.5,
                                        273.65,
                                        129.64,
                                        176.12,
                                        94.89,
                                        454.68,
                                        293.78,
                                        203.42,
                                        233.69,
                                        473.91,
                                        80.91,
                                        295.18,
                                        255.41,
                                        307.67,
                                        13.96,
                                        436.7,
                                        466.4,
                                        284.74,
                                        349.84,
                                        461.64,
                                        355.08,
                                        80.51,
                                        290.26,
                                        305.32,
                                        214.94,
                                        369.54,
                                        467.51,
                                        463.16,
                                        228.17,
                                        61.05,
                                        492.5,
                                        420.25,
                                        66.71,
                                        460.82,
                                        435.6,
                                        261.82,
                                        297.68,
                                        202.51,
                                        32.11,
                                        170.92,
                                        402.41,
                                        7.29,
                                        170.08,
                                        202.09,
                                        271.01,
                                        460.33,
                                        176.44,
                                        176.74,
                                        370.06,
                                        228.85,
                                        116.18,
                                        228.96,
                                        74.72,
                                        92.31,
                                        251.69,
                                        212.37,
                                        457.85,
                                        184.38,
                                        292.39,
                                        317.97,
                                        11.48,
                                        333.45,
                                        93.13,
                                        480.73,
                                        78.59,
                                        210.24,
                                        47.25,
                                        498.45,
                                        253.59,
                                        299.72,
                                        38.2,
                                        376.23,
                                        108.9,
                                        449.54,
                                        106.54,
                                        99.39,
                                        23.09,
                                        238.67,
                                        284.6,
                                        37.53,
                                        388.89,
                                        229.38,
                                        264.57,
                                        223.18,
                                        203.38,
                                        282.02,
                                        81.84,
                                        95.05,
                                        431.58,
                                        473.33,
                                        189.79,
                                        139.02,
                                        323.78,
                                        207.32,
                                        17.57,
                                        82.3,
                                        359.41,
                                        331.17,
                                        18.41,
                                        114.88,
                                        119.38,
                                        337.59,
                                        14.76,
                                        56.53,
                                        400.96,
                                        93.38,
                                        328.11,
                                        122.9,
                                        54.22,
                                        125.37,
                                        362.52,
                                        428.57,
                                        415.96,
                                        201.61,
                                        335.7,
                                        106.47,
                                        150.11,
                                        448.69,
                                        11.44,
                                        47.33,
                                        107.9,
                                        18.13,
                                        94.81,
                                        293.61,
                                        213.61,
                                        446.87,
                                        409.63,
                                        174.2,
                                        133.41,
                                        192.95,
                                        297.2,
                                        137.69,
                                        313.95,
                                        207.66,
                                        278.26,
                                        220.88,
                                        150.76,
                                        474.48,
                                        382.98,
                                        74.36,
                                        434.89,
                                        246.28,
                                        447.8,
                                        400.93,
                                        215.48,
                                        16.12,
                                        138,
                                        273.11,
                                        318.57,
                                        132.65,
                                        73.98,
                                        418.29,
                                        492.28,
                                        265.22,
                                        89.98,
                                        139.79,
                                        14.1,
                                        457.58,
                                        63.29,
                                        290.38,
                                        140.66,
                                        279.32,
                                        327.45,
                                        415.72,
                                        107.18,
                                        10.44,
                                        72.76,
                                        450.51,
                                        437.58,
                                        300.72,
                                        302.26,
                                        334.19,
                                        91.81,
                                        457.63,
                                        212.29,
                                        194.65,
                                        261.86,
                                        28.25,
                                        87.31,
                                        370.33,
                                        45.99,
                                        303.56,
                                        126.45,
                                        197.7,
                                        147.9,
                                        181.06,
                                        360.93,
                                        152.08,
                                        285.37,
                                        240.64,
                                        333.52,
                                        468.73,
                                        367.62,
                                        111.4,
                                        20.44,
                                        134.82,
                                        299.56,
                                        30.46,
                                        250.7,
                                        300.44,
                                        170.45,
                                        386.6,
                                        57.77,
                                        42.19,
                                        365.45,
                                        250.27,
                                        345.76,
                                        220.24,
                                        126.97,
                                        410.46,
                                        400.71,
                                        348.87,
                                        139.71,
                                        297.16,
                                        183.68,
                                        50.33,
                                        459.07,
                                        72.73,
                                        475.37,
                                        225.77
                                    ],
                                    "xaxis": "x",
                                    "y": [
                                        1.7,
                                        3.2,
                                        4.5,
                                        3.9,
                                        4.2,
                                        3.6,
                                        3.8,
                                        4.4,
                                        2,
                                        3,
                                        1.9,
                                        5,
                                        4.8,
                                        1.2,
                                        3.8,
                                        4.7,
                                        1.7,
                                        3.3,
                                        4.7,
                                        1.1,
                                        3.8,
                                        2.2,
                                        4.7,
                                        4.9,
                                        4.8,
                                        2.9,
                                        4.4,
                                        4.4,
                                        2.3,
                                        4.3,
                                        1.1,
                                        3.4,
                                        1.9,
                                        1.5,
                                        1.3,
                                        3.8,
                                        2.4,
                                        3.9,
                                        1.3,
                                        2.3,
                                        3.2,
                                        4.2,
                                        2.3,
                                        3.5,
                                        4.5,
                                        3.5,
                                        1.9,
                                        1.1,
                                        4.5,
                                        1.1,
                                        4.5,
                                        3.1,
                                        4.8,
                                        4.2,
                                        5,
                                        2.4,
                                        4.1,
                                        2.6,
                                        2.9,
                                        3.5,
                                        4.5,
                                        4.9,
                                        4.1,
                                        2.7,
                                        2.7,
                                        4,
                                        2,
                                        1.4,
                                        2.4,
                                        2.1,
                                        2.2,
                                        1.9,
                                        1.2,
                                        1.1,
                                        5,
                                        2.7,
                                        2.5,
                                        3.7,
                                        1.9,
                                        4.8,
                                        4.1,
                                        1.4,
                                        2.7,
                                        4.5,
                                        4.8,
                                        2.9,
                                        3.5,
                                        1.7,
                                        5,
                                        1.9,
                                        4.8,
                                        3.6,
                                        3.4,
                                        3.1,
                                        1.9,
                                        1.7,
                                        1.9,
                                        1.7,
                                        4.1,
                                        2.4,
                                        1.2,
                                        4.9,
                                        4.5,
                                        4.7,
                                        5,
                                        1.7,
                                        2.6,
                                        4,
                                        3.8,
                                        1.6,
                                        4.3,
                                        1.9,
                                        1.9,
                                        3.1,
                                        3.4,
                                        3.3,
                                        1.4,
                                        4.5,
                                        2.1,
                                        1.5,
                                        4.6,
                                        4.8,
                                        4.4,
                                        4.2,
                                        3.6,
                                        3.2,
                                        1.3,
                                        2.6,
                                        2.5,
                                        2,
                                        3.9,
                                        3,
                                        1.3,
                                        1.9,
                                        3.7,
                                        1.3,
                                        4.4,
                                        3,
                                        2.9,
                                        3.4,
                                        4.3,
                                        2.4,
                                        3.7,
                                        3.3,
                                        2.1,
                                        4.5,
                                        4.2,
                                        3.6,
                                        4.4,
                                        4.5,
                                        3.8,
                                        4.3,
                                        3.8,
                                        3.7,
                                        3.5,
                                        4,
                                        1.6,
                                        4.5,
                                        4.5,
                                        1.1,
                                        4.3,
                                        1.5,
                                        2.3,
                                        4,
                                        1.6,
                                        4.3,
                                        4.3,
                                        3,
                                        1,
                                        2.1,
                                        3.5,
                                        4.9,
                                        3.5,
                                        2,
                                        3.5,
                                        3.2,
                                        4.1,
                                        1.4,
                                        4,
                                        3.2,
                                        4.9,
                                        2.4,
                                        3.5,
                                        4.7,
                                        1.4,
                                        4.7,
                                        3.8,
                                        1.3,
                                        2.2,
                                        3.8,
                                        1.3,
                                        3.3,
                                        2.4,
                                        3.5,
                                        1.2,
                                        4.5,
                                        4.9,
                                        4.9,
                                        4,
                                        1.5,
                                        4,
                                        1.1,
                                        1.1,
                                        2.3,
                                        3,
                                        4.1,
                                        3.7,
                                        2.8,
                                        2.1,
                                        5,
                                        2.7,
                                        2.8,
                                        1.7,
                                        4.2,
                                        3.8,
                                        1.9,
                                        1.3,
                                        3.7,
                                        3.6,
                                        2.1,
                                        4.8,
                                        1.6,
                                        2.7,
                                        4.8,
                                        2.7,
                                        3.6,
                                        2.6,
                                        2.1,
                                        4.9,
                                        2.6,
                                        4.6,
                                        1.9,
                                        1.9,
                                        1.1,
                                        3.6,
                                        2.5,
                                        4.5,
                                        2.9,
                                        4.9,
                                        1.7,
                                        4.5,
                                        4.1,
                                        4.1,
                                        4.4,
                                        4,
                                        3.5,
                                        1.5,
                                        1.1,
                                        4.7,
                                        3.5,
                                        4.2,
                                        2.9,
                                        1.5,
                                        1.5,
                                        3.7,
                                        2.7,
                                        1.8,
                                        3,
                                        1.3,
                                        3.3,
                                        2.1,
                                        4.2,
                                        2.2,
                                        2.8,
                                        1,
                                        1.3,
                                        2.6,
                                        2.9,
                                        3.4,
                                        2.2,
                                        3.8,
                                        4.4,
                                        4.1,
                                        1.2,
                                        2.9,
                                        1.4,
                                        2,
                                        4.9,
                                        1.6,
                                        3,
                                        3.5,
                                        3.8,
                                        3.2,
                                        1,
                                        2.3,
                                        3.1,
                                        1.4,
                                        2.4,
                                        1.1,
                                        1.3,
                                        2.6,
                                        1.5,
                                        3.3,
                                        3.8,
                                        4.2,
                                        1.8,
                                        1.7,
                                        1.4,
                                        3.5,
                                        3.8,
                                        1.1,
                                        4.7,
                                        1.2,
                                        3.2,
                                        3.8,
                                        4.5,
                                        3.9,
                                        4.2,
                                        2.4,
                                        4.3,
                                        1.3,
                                        4.6,
                                        3.2,
                                        4.3,
                                        2.8,
                                        3.6,
                                        3.1,
                                        3.9,
                                        1.3,
                                        1.2,
                                        2,
                                        1.6,
                                        4.5,
                                        1.9,
                                        4.9,
                                        2.3,
                                        1.7,
                                        4.2,
                                        3.6,
                                        3,
                                        3.2,
                                        3.9,
                                        1.9,
                                        5,
                                        4.9,
                                        3.6,
                                        1.8,
                                        3.7,
                                        1.3,
                                        1.1,
                                        2,
                                        2.9,
                                        4.5,
                                        3.9,
                                        4,
                                        2.7,
                                        2.4,
                                        2.5,
                                        5,
                                        1.2,
                                        4.5,
                                        3.3,
                                        2.8,
                                        3.9,
                                        2.9,
                                        4.5,
                                        4.6,
                                        2.7,
                                        2.1,
                                        3.4,
                                        4.6,
                                        1.8,
                                        3.5,
                                        3.5,
                                        3.9,
                                        1.5,
                                        3.9,
                                        4.6,
                                        1.7,
                                        2,
                                        4.9,
                                        1.7,
                                        4.4,
                                        3,
                                        2,
                                        4.5,
                                        2.8,
                                        3.1,
                                        2.4,
                                        3.4,
                                        1.7,
                                        2.6,
                                        4.9,
                                        2,
                                        3.6,
                                        2.3,
                                        4.1,
                                        1.5,
                                        4.9,
                                        2.8,
                                        1.9,
                                        1.3,
                                        1.7,
                                        3.1,
                                        2.3,
                                        4.3,
                                        2.7,
                                        2,
                                        3.5,
                                        3.8,
                                        1.7,
                                        1.7,
                                        1.1,
                                        3.9,
                                        3.7,
                                        2.9,
                                        4.4,
                                        4.2,
                                        3.3,
                                        4.5,
                                        1.8,
                                        1.4,
                                        2.1,
                                        1.2,
                                        3.1,
                                        4.7,
                                        1.2,
                                        1.5,
                                        2.8,
                                        4.7,
                                        2.3,
                                        3,
                                        1.2,
                                        1.6,
                                        4.9,
                                        4.9,
                                        1,
                                        4.8,
                                        3.6,
                                        4.5,
                                        2.8,
                                        3.1,
                                        3,
                                        3.7,
                                        1.6,
                                        1.1,
                                        2.2,
                                        3.8,
                                        1.8,
                                        3.7,
                                        4.9,
                                        1.4,
                                        3.7,
                                        2.8,
                                        4.5,
                                        1.7,
                                        3.8,
                                        4.4,
                                        4.8,
                                        3.7,
                                        3,
                                        3.5,
                                        4.5,
                                        3.3,
                                        1.1,
                                        4.7,
                                        3.8,
                                        3.7,
                                        1.9,
                                        3.6,
                                        2.6,
                                        3.6,
                                        1.4,
                                        3.6,
                                        5,
                                        1.2,
                                        4.9,
                                        2.6,
                                        4.5,
                                        4.1,
                                        3.3,
                                        4,
                                        4.5,
                                        2.6,
                                        2.3,
                                        3.7,
                                        4.2,
                                        4,
                                        4.2,
                                        2.7,
                                        4.3,
                                        1.5,
                                        3.2,
                                        1,
                                        2.3,
                                        2.5,
                                        2.6,
                                        3.8,
                                        2.6,
                                        2.8,
                                        2,
                                        2.5,
                                        1.9,
                                        1.3,
                                        3.4,
                                        3.7,
                                        3.5,
                                        2.9,
                                        2.5,
                                        4.5,
                                        3.1,
                                        2.9,
                                        1.1,
                                        2.4,
                                        2.5,
                                        2.6,
                                        3.3,
                                        3.1,
                                        3.4,
                                        4.1,
                                        4.3,
                                        3.9,
                                        4.8,
                                        1.1,
                                        1.8,
                                        1,
                                        3.6,
                                        4.6,
                                        2,
                                        4.7,
                                        1.2,
                                        4.7,
                                        2.4,
                                        1.4,
                                        2.9,
                                        2,
                                        2.1,
                                        2.2,
                                        4.2,
                                        3.2,
                                        2.2,
                                        3.4,
                                        3.9,
                                        2.1,
                                        2.7,
                                        1.5,
                                        1.7,
                                        3.7,
                                        1.7,
                                        3.1,
                                        3.8,
                                        1.4,
                                        3.3,
                                        2,
                                        4.9,
                                        2.9,
                                        4.2,
                                        3.2,
                                        1.2,
                                        3.5,
                                        4.8,
                                        3.4,
                                        4.3,
                                        4.5,
                                        1.9,
                                        1.8,
                                        3.4,
                                        2.6,
                                        4.4,
                                        4.6,
                                        2.4,
                                        1.9,
                                        4.1,
                                        2.1,
                                        4.3,
                                        2.7,
                                        3.7,
                                        1.4,
                                        3.5,
                                        2.8,
                                        3.3,
                                        1.7,
                                        3.9,
                                        4.5,
                                        1.9,
                                        1.4,
                                        1.1,
                                        3.6,
                                        3.4,
                                        3.2,
                                        1.9,
                                        2.6,
                                        3.4,
                                        3,
                                        5,
                                        1.5,
                                        3.8,
                                        2.6,
                                        2.7,
                                        3.9,
                                        3.8,
                                        5,
                                        1.5,
                                        1.4,
                                        3.9,
                                        3.3,
                                        2.1,
                                        1.3,
                                        1.3,
                                        4.6,
                                        1.8,
                                        2.3,
                                        1.9,
                                        2.4,
                                        1.3,
                                        3.1,
                                        1.3,
                                        4.2,
                                        1.9,
                                        3.2,
                                        4.5,
                                        3.6,
                                        3.1,
                                        2.3,
                                        2.3,
                                        3.7,
                                        5,
                                        3.6,
                                        3.2,
                                        3.9,
                                        2.9,
                                        1.2,
                                        3.2,
                                        4.8,
                                        1.7,
                                        3.8,
                                        1.8,
                                        3.1,
                                        1.4,
                                        2.8,
                                        4,
                                        2.4,
                                        3.7,
                                        4.2,
                                        4.7,
                                        1.9,
                                        2.6,
                                        1.6,
                                        5,
                                        4.7,
                                        3.2,
                                        4.4,
                                        3.1,
                                        3.5,
                                        1.4,
                                        4,
                                        1.5,
                                        4.3,
                                        4.1,
                                        3.8,
                                        1.1,
                                        2.2,
                                        2.1,
                                        2.4,
                                        1.4,
                                        4.7,
                                        3.2,
                                        2.2,
                                        2.6,
                                        2.8,
                                        3.4,
                                        3.1,
                                        4.7,
                                        3,
                                        5,
                                        4.4,
                                        1.8,
                                        4.7,
                                        1.5,
                                        4.3,
                                        2.5,
                                        4.5,
                                        4.5,
                                        4.2,
                                        4.2,
                                        2.2,
                                        1.3,
                                        2.6,
                                        1.7,
                                        3.8,
                                        2.4,
                                        4.9,
                                        3.6,
                                        4.3,
                                        1.5,
                                        4.4,
                                        4.7,
                                        2.9,
                                        3.4,
                                        4.1,
                                        1.7,
                                        3,
                                        2.6,
                                        1.6,
                                        2.5,
                                        1.3,
                                        1.1,
                                        1.5,
                                        4.9,
                                        3.2,
                                        4.9,
                                        2.7,
                                        2.2,
                                        3,
                                        2.8,
                                        1.4,
                                        3.6,
                                        1.9,
                                        3.5,
                                        3.6,
                                        1.6,
                                        1.2,
                                        4.1,
                                        2.8,
                                        1.2,
                                        5,
                                        1.2,
                                        3.8,
                                        4.9,
                                        2,
                                        1.6,
                                        1.5,
                                        2.2,
                                        1.4,
                                        3.8,
                                        1.2,
                                        3,
                                        5,
                                        4.3,
                                        3.5,
                                        2.2,
                                        3.5,
                                        3.1,
                                        2.7,
                                        1.5,
                                        4.5,
                                        2.8,
                                        1.8,
                                        2.5,
                                        2.7,
                                        4.3,
                                        3.9,
                                        4.1,
                                        1,
                                        2.7,
                                        2.9,
                                        1.1,
                                        2,
                                        4,
                                        1.5,
                                        3.1,
                                        1.9,
                                        1,
                                        2,
                                        4.9,
                                        4.2,
                                        4.8,
                                        3,
                                        1.4,
                                        3.2,
                                        2.8,
                                        4.4,
                                        1.4,
                                        3,
                                        1.6,
                                        2.3,
                                        3.9,
                                        2.9,
                                        2.5,
                                        2.6,
                                        2.8,
                                        4.1,
                                        4.6,
                                        4.8,
                                        4.1,
                                        2.3,
                                        3.8,
                                        2.8,
                                        2,
                                        4.4,
                                        1.2,
                                        4.6,
                                        2.8,
                                        3.5,
                                        3.6,
                                        4.6,
                                        3.5,
                                        3.5,
                                        1.3,
                                        3.1,
                                        1.6,
                                        3.9,
                                        3,
                                        3.7,
                                        1.2,
                                        1.3,
                                        3.9,
                                        1.3,
                                        1.3,
                                        1,
                                        4.8,
                                        4,
                                        2.4,
                                        2.2,
                                        2.4,
                                        4.1,
                                        3.6,
                                        1.7,
                                        1.7,
                                        1.4,
                                        3.6,
                                        4.1,
                                        2.1,
                                        1.1,
                                        1.3,
                                        4.9,
                                        2.2,
                                        4.1,
                                        3.5,
                                        2.5,
                                        1.8,
                                        1.5,
                                        3.5,
                                        4.1,
                                        3.6,
                                        3.1,
                                        1.2,
                                        4.9,
                                        4.2,
                                        2.2,
                                        4.9,
                                        3.4,
                                        3.3,
                                        4,
                                        4.2,
                                        3.6,
                                        1.5,
                                        2.4,
                                        4.7,
                                        1.9,
                                        2.5,
                                        2.7,
                                        2.8,
                                        3.5,
                                        4.8,
                                        2,
                                        1.5,
                                        1.8,
                                        4.5,
                                        3.6,
                                        2.1,
                                        4.3,
                                        4.4,
                                        4.4,
                                        4.7,
                                        2,
                                        4,
                                        2.8,
                                        4.4,
                                        3.9,
                                        4.1,
                                        3.6,
                                        1.7,
                                        3.2,
                                        4.9,
                                        4.7,
                                        1.2,
                                        1.7,
                                        1.5,
                                        3.9,
                                        4.3,
                                        1.9,
                                        3,
                                        4.4,
                                        3.9,
                                        3.2,
                                        3.4,
                                        3,
                                        2.2,
                                        3.3,
                                        3.8,
                                        4.5,
                                        3.5,
                                        4,
                                        1.6,
                                        2.8,
                                        1,
                                        2,
                                        3.9,
                                        5,
                                        1.4,
                                        2.6,
                                        4.2,
                                        1.8,
                                        3.2,
                                        3.9,
                                        3.5,
                                        1.8,
                                        2.4,
                                        4.1,
                                        3.2,
                                        1,
                                        4,
                                        1.1,
                                        4,
                                        1.8,
                                        4.8,
                                        2.5,
                                        2.3,
                                        1.6,
                                        2.2,
                                        4.5,
                                        5,
                                        2.5,
                                        2.8,
                                        3.9,
                                        4.5,
                                        3.4,
                                        2.6,
                                        2.7,
                                        3.8,
                                        1,
                                        3.5,
                                        2.4,
                                        4.2,
                                        1.4,
                                        3.4,
                                        2.9,
                                        3.6,
                                        1.3,
                                        3.3,
                                        3.2,
                                        3.2,
                                        3.4,
                                        3.7,
                                        4.2,
                                        2.1,
                                        4.3,
                                        3,
                                        1.3,
                                        1.2,
                                        2.3,
                                        4.1,
                                        3.8,
                                        4.2,
                                        3.1,
                                        2.8,
                                        1.6,
                                        2.3,
                                        2.7,
                                        1.4,
                                        1.9,
                                        3.4,
                                        3.9,
                                        5,
                                        4.7,
                                        3.6,
                                        2.7,
                                        3.5,
                                        4.1,
                                        1.5,
                                        2.6,
                                        4.4,
                                        2.5,
                                        3.3,
                                        3.4,
                                        1.7,
                                        2.4,
                                        2.3,
                                        1.1,
                                        1.1,
                                        4.3,
                                        2.1,
                                        3.1,
                                        2.2,
                                        4.8,
                                        2,
                                        2.7,
                                        4.5,
                                        4.4,
                                        1.7,
                                        4.2,
                                        2.8,
                                        2.9,
                                        1.5,
                                        1.3,
                                        3.9,
                                        3,
                                        2.7,
                                        3.9,
                                        4.1,
                                        1.6,
                                        3.4,
                                        1.5,
                                        4,
                                        3.6,
                                        4.8,
                                        1.3,
                                        1.2,
                                        2.1
                                    ],
                                    "yaxis": "y"
                                },
                                {
                                    "hovertemplate": "<b>OLS trendline</b><br>review_score = 0.000234558 * price + 2.96951<br>R<sup>2</sup>=0.000839<br><br>Preço=%{x}<br>Score de Review=%{y} <b>(trend)</b><extra></extra>",
                                    "legendgroup": "",
                                    "marker": {
                                        "symbol": "circle"
                                    },
                                    "mode": "lines",
                                    "name": "",
                                    "showlegend": false,
                                    "type": "scatter",
                                    "x": [
                                        7.29,
                                        7.51,
                                        7.73,
                                        8.44,
                                        9.55,
                                        10.36,
                                        10.44,
                                        10.62,
                                        11.02,
                                        11.44,
                                        11.48,
                                        12.12,
                                        12.2,
                                        12.65,
                                        13.21,
                                        13.96,
                                        14.02,
                                        14.1,
                                        14.76,
                                        14.94,
                                        15.19,
                                        16.12,
                                        16.52,
                                        17.04,
                                        17.55,
                                        17.57,
                                        17.58,
                                        18.05,
                                        18.12,
                                        18.13,
                                        18.41,
                                        19.25,
                                        20.1,
                                        20.44,
                                        20.56,
                                        21.6,
                                        22.02,
                                        22.79,
                                        23.09,
                                        23.16,
                                        23.26,
                                        23.49,
                                        24.46,
                                        25.16,
                                        25.18,
                                        25.23,
                                        26.36,
                                        27.38,
                                        27.39,
                                        27.43,
                                        27.5,
                                        27.77,
                                        27.99,
                                        28.25,
                                        30.46,
                                        30.48,
                                        30.58,
                                        30.65,
                                        32.11,
                                        32.87,
                                        32.91,
                                        33.49,
                                        33.75,
                                        35.23,
                                        36.37,
                                        36.46,
                                        37.2,
                                        37.53,
                                        37.92,
                                        38.2,
                                        39.33,
                                        39.93,
                                        40.24,
                                        41.02,
                                        41.53,
                                        41.65,
                                        41.9,
                                        42.19,
                                        42.55,
                                        43.11,
                                        43.48,
                                        43.84,
                                        44.72,
                                        45.27,
                                        45.47,
                                        45.99,
                                        46.33,
                                        46.63,
                                        46.65,
                                        46.99,
                                        47.25,
                                        47.25,
                                        47.33,
                                        48.03,
                                        48.8,
                                        48.91,
                                        49.69,
                                        50.15,
                                        50.19,
                                        50.33,
                                        51.09,
                                        51.37,
                                        51.52,
                                        51.75,
                                        53.1,
                                        53.35,
                                        53.43,
                                        54.22,
                                        54.89,
                                        55.06,
                                        55.23,
                                        55.38,
                                        56.05,
                                        56.53,
                                        57.77,
                                        58.05,
                                        58.41,
                                        59.48,
                                        59.76,
                                        60.04,
                                        60.46,
                                        61.05,
                                        61.17,
                                        61.21,
                                        61.84,
                                        62.36,
                                        62.46,
                                        62.86,
                                        62.95,
                                        63.18,
                                        63.29,
                                        63.49,
                                        63.81,
                                        64.2,
                                        64.28,
                                        64.33,
                                        64.71,
                                        65.41,
                                        66.53,
                                        66.71,
                                        67.89,
                                        68.11,
                                        68.15,
                                        68.38,
                                        68.8,
                                        68.93,
                                        71.34,
                                        71.54,
                                        72.5,
                                        72.73,
                                        72.76,
                                        73.07,
                                        73.72,
                                        73.94,
                                        73.98,
                                        74.05,
                                        74.19,
                                        74.34,
                                        74.36,
                                        74.72,
                                        74.76,
                                        75.78,
                                        76.72,
                                        77.8,
                                        78.59,
                                        79.21,
                                        79.46,
                                        80.08,
                                        80.19,
                                        80.51,
                                        80.67,
                                        80.91,
                                        81.41,
                                        81.84,
                                        82.22,
                                        82.23,
                                        82.3,
                                        82.44,
                                        84.54,
                                        84.6,
                                        84.8,
                                        85.01,
                                        85.5,
                                        85.65,
                                        86.01,
                                        86.31,
                                        87.31,
                                        88.62,
                                        88.9,
                                        89.41,
                                        89.59,
                                        89.98,
                                        90.3,
                                        90.73,
                                        90.78,
                                        90.82,
                                        91.31,
                                        91.81,
                                        92.31,
                                        92.62,
                                        92.67,
                                        92.83,
                                        93.13,
                                        93.38,
                                        94.71,
                                        94.81,
                                        94.89,
                                        95,
                                        95.03,
                                        95.05,
                                        95.79,
                                        96.34,
                                        96.5,
                                        97.33,
                                        97.35,
                                        97.35,
                                        97.59,
                                        98.12,
                                        99.39,
                                        100.18,
                                        101.65,
                                        101.92,
                                        102.01,
                                        103.36,
                                        103.84,
                                        104.81,
                                        106.47,
                                        106.54,
                                        107.14,
                                        107.18,
                                        107.9,
                                        108.63,
                                        108.9,
                                        109.67,
                                        110.11,
                                        110.42,
                                        111.4,
                                        111.83,
                                        114.88,
                                        114.94,
                                        115.68,
                                        116.01,
                                        116.18,
                                        117.12,
                                        117.83,
                                        118.18,
                                        118.26,
                                        118.48,
                                        119.38,
                                        119.95,
                                        122.43,
                                        122.44,
                                        122.63,
                                        122.9,
                                        123.58,
                                        123.87,
                                        124.72,
                                        124.82,
                                        124.99,
                                        125.02,
                                        125.37,
                                        125.77,
                                        126.45,
                                        126.75,
                                        126.97,
                                        127.44,
                                        127.63,
                                        128,
                                        128.4,
                                        128.87,
                                        129.63,
                                        129.64,
                                        129.96,
                                        131.05,
                                        132.65,
                                        132.66,
                                        132.68,
                                        132.83,
                                        133.1,
                                        133.41,
                                        134.82,
                                        136.28,
                                        137.69,
                                        138,
                                        138.28,
                                        139.02,
                                        139.06,
                                        139.32,
                                        139.71,
                                        139.79,
                                        140.34,
                                        140.66,
                                        142.05,
                                        142.3,
                                        142.9,
                                        142.93,
                                        143.57,
                                        143.59,
                                        143.98,
                                        144.06,
                                        144.08,
                                        144.52,
                                        144.61,
                                        145.47,
                                        146,
                                        146.12,
                                        146.43,
                                        146.84,
                                        147.87,
                                        147.9,
                                        148.43,
                                        149.16,
                                        149.61,
                                        150.11,
                                        150.14,
                                        150.33,
                                        150.75,
                                        150.76,
                                        152.08,
                                        153.93,
                                        154.18,
                                        155.6,
                                        155.78,
                                        158.22,
                                        158.94,
                                        159.3,
                                        159.3,
                                        160.61,
                                        161.88,
                                        162.41,
                                        162.89,
                                        163.06,
                                        163.42,
                                        163.79,
                                        164.43,
                                        164.57,
                                        164.86,
                                        164.99,
                                        165.22,
                                        165.97,
                                        166.04,
                                        166.07,
                                        167.11,
                                        167.69,
                                        167.73,
                                        168.79,
                                        170.08,
                                        170.45,
                                        170.78,
                                        170.92,
                                        171.62,
                                        172.12,
                                        172.31,
                                        172.82,
                                        173.7,
                                        173.83,
                                        174.2,
                                        174.33,
                                        176.11,
                                        176.12,
                                        176.44,
                                        176.74,
                                        177.39,
                                        177.69,
                                        177.86,
                                        178.54,
                                        178.7,
                                        179.91,
                                        181.06,
                                        181.21,
                                        181.27,
                                        181.59,
                                        182.29,
                                        182.44,
                                        182.62,
                                        182.95,
                                        183.29,
                                        183.68,
                                        184.38,
                                        184.73,
                                        185,
                                        185.31,
                                        186.35,
                                        187.02,
                                        187.05,
                                        187.61,
                                        188.23,
                                        188.38,
                                        188.47,
                                        189.15,
                                        189.79,
                                        190.26,
                                        190.4,
                                        190.43,
                                        190.56,
                                        190.91,
                                        191.25,
                                        191.35,
                                        191.59,
                                        191.76,
                                        192.95,
                                        193.54,
                                        194.65,
                                        195.03,
                                        195.62,
                                        196.12,
                                        196.43,
                                        197.14,
                                        197.4,
                                        197.65,
                                        197.7,
                                        199.16,
                                        199.26,
                                        199.58,
                                        201.29,
                                        201.61,
                                        201.66,
                                        201.94,
                                        202.09,
                                        202.26,
                                        202.51,
                                        203.38,
                                        203.42,
                                        204.72,
                                        207.32,
                                        207.43,
                                        207.66,
                                        208.14,
                                        208.15,
                                        208.86,
                                        209.25,
                                        210.24,
                                        210.34,
                                        211.62,
                                        212.03,
                                        212.29,
                                        212.37,
                                        212.7,
                                        213.61,
                                        214.94,
                                        214.99,
                                        215.48,
                                        215.59,
                                        216.42,
                                        216.63,
                                        216.95,
                                        217.35,
                                        218.67,
                                        218.81,
                                        219.76,
                                        220.24,
                                        220.88,
                                        221.55,
                                        222.29,
                                        222.37,
                                        222.88,
                                        223.18,
                                        223.56,
                                        225.77,
                                        226.47,
                                        226.98,
                                        228.02,
                                        228.17,
                                        228.85,
                                        228.96,
                                        229.38,
                                        230,
                                        230.55,
                                        230.75,
                                        231.84,
                                        232.27,
                                        233.09,
                                        233.69,
                                        233.95,
                                        234.03,
                                        234.53,
                                        235.47,
                                        236.99,
                                        237,
                                        238.43,
                                        238.67,
                                        238.75,
                                        239.37,
                                        239.61,
                                        239.72,
                                        240.64,
                                        243.16,
                                        244.84,
                                        246.28,
                                        247.28,
                                        248.35,
                                        248.6,
                                        248.8,
                                        248.85,
                                        248.85,
                                        249.43,
                                        249.74,
                                        250.11,
                                        250.27,
                                        250.7,
                                        251.14,
                                        251.69,
                                        251.73,
                                        253.25,
                                        253.59,
                                        253.81,
                                        253.83,
                                        253.85,
                                        254.05,
                                        254.19,
                                        255.1,
                                        255.41,
                                        256.27,
                                        256.74,
                                        257.82,
                                        258.11,
                                        258.28,
                                        258.49,
                                        259.42,
                                        259.55,
                                        260.57,
                                        261.57,
                                        261.8,
                                        261.82,
                                        261.86,
                                        262.43,
                                        262.48,
                                        262.55,
                                        263.51,
                                        263.75,
                                        263.92,
                                        263.93,
                                        264.57,
                                        264.63,
                                        264.75,
                                        265.22,
                                        266.21,
                                        267.18,
                                        268.02,
                                        268.4,
                                        268.63,
                                        268.65,
                                        269.06,
                                        270.21,
                                        270.37,
                                        270.87,
                                        271.01,
                                        271.97,
                                        272.61,
                                        273.11,
                                        273.61,
                                        273.63,
                                        273.65,
                                        274.06,
                                        275.08,
                                        275.62,
                                        276.62,
                                        276.87,
                                        277.02,
                                        278.19,
                                        278.26,
                                        279.16,
                                        279.32,
                                        279.41,
                                        279.82,
                                        279.94,
                                        280.6,
                                        280.62,
                                        281.41,
                                        282.02,
                                        282.66,
                                        282.83,
                                        284.6,
                                        284.74,
                                        285.37,
                                        286.31,
                                        287.1,
                                        287.18,
                                        287.54,
                                        287.95,
                                        288.85,
                                        289.36,
                                        289.86,
                                        290.26,
                                        290.38,
                                        290.57,
                                        291.25,
                                        292.39,
                                        292.71,
                                        293.61,
                                        293.77,
                                        293.78,
                                        293.91,
                                        294.24,
                                        294.96,
                                        295.18,
                                        295.49,
                                        297.01,
                                        297.16,
                                        297.2,
                                        297.46,
                                        297.49,
                                        297.68,
                                        298.25,
                                        298.83,
                                        299.09,
                                        299.56,
                                        299.72,
                                        299.84,
                                        300.44,
                                        300.72,
                                        300.96,
                                        301.34,
                                        302.26,
                                        302.55,
                                        303.56,
                                        304.86,
                                        305.06,
                                        305.18,
                                        305.32,
                                        305.73,
                                        306.73,
                                        307.26,
                                        307.67,
                                        307.8,
                                        307.87,
                                        308.64,
                                        309.43,
                                        309.85,
                                        310.97,
                                        311.02,
                                        311.04,
                                        311.94,
                                        311.97,
                                        312.05,
                                        312.93,
                                        313.33,
                                        313.53,
                                        313.95,
                                        314,
                                        314.8,
                                        315.64,
                                        315.72,
                                        315.81,
                                        316.33,
                                        316.55,
                                        317.41,
                                        317.76,
                                        317.97,
                                        317.99,
                                        318.39,
                                        318.53,
                                        318.53,
                                        318.57,
                                        318.6,
                                        319.37,
                                        320.02,
                                        320.53,
                                        320.59,
                                        322.23,
                                        322.37,
                                        322.81,
                                        323,
                                        323.43,
                                        323.78,
                                        324.36,
                                        324.51,
                                        324.73,
                                        326.36,
                                        326.57,
                                        326.73,
                                        327.45,
                                        327.72,
                                        328.11,
                                        330.52,
                                        331.05,
                                        331.17,
                                        331.69,
                                        331.8,
                                        332.95,
                                        333.43,
                                        333.45,
                                        333.52,
                                        334.19,
                                        334.27,
                                        335.44,
                                        335.7,
                                        335.98,
                                        337.43,
                                        337.49,
                                        337.59,
                                        337.71,
                                        337.9,
                                        340.39,
                                        341.16,
                                        342.34,
                                        343.09,
                                        343.7,
                                        343.94,
                                        345.76,
                                        346.75,
                                        347.01,
                                        347.49,
                                        348.5,
                                        348.87,
                                        349.4,
                                        349.51,
                                        349.53,
                                        349.84,
                                        349.88,
                                        350.02,
                                        350.59,
                                        351.98,
                                        352.47,
                                        352.73,
                                        352.99,
                                        353.31,
                                        353.52,
                                        354.59,
                                        354.89,
                                        355.08,
                                        355.5,
                                        357.53,
                                        358.06,
                                        358.11,
                                        358.72,
                                        359.41,
                                        360.93,
                                        361.42,
                                        362.52,
                                        362.52,
                                        362.61,
                                        364.23,
                                        364.35,
                                        364.42,
                                        365.45,
                                        365.47,
                                        365.86,
                                        366.16,
                                        366.78,
                                        367.34,
                                        367.62,
                                        368.86,
                                        369.54,
                                        370.06,
                                        370.26,
                                        370.33,
                                        371.68,
                                        371.85,
                                        373.25,
                                        373.99,
                                        374.29,
                                        374.51,
                                        375,
                                        375.07,
                                        375.39,
                                        376.23,
                                        376.55,
                                        376.68,
                                        377.43,
                                        377.92,
                                        378.5,
                                        378.79,
                                        379,
                                        380.13,
                                        381.31,
                                        381.59,
                                        381.95,
                                        382,
                                        382.42,
                                        382.98,
                                        385.65,
                                        385.9,
                                        386.15,
                                        386.6,
                                        386.63,
                                        386.78,
                                        387.26,
                                        387.3,
                                        388.69,
                                        388.89,
                                        389.32,
                                        389.69,
                                        391.04,
                                        392.91,
                                        393.66,
                                        395.36,
                                        395.64,
                                        395.86,
                                        396.83,
                                        398.04,
                                        398.43,
                                        398.62,
                                        398.66,
                                        398.92,
                                        399.66,
                                        400.16,
                                        400.71,
                                        400.71,
                                        400.93,
                                        400.96,
                                        402.09,
                                        402.41,
                                        402.72,
                                        402.82,
                                        404.07,
                                        404.38,
                                        404.68,
                                        405.02,
                                        405.16,
                                        405.63,
                                        405.89,
                                        406.01,
                                        406.22,
                                        407.34,
                                        407.39,
                                        407.83,
                                        408.16,
                                        408.21,
                                        408.65,
                                        409.22,
                                        409.45,
                                        409.52,
                                        409.63,
                                        409.92,
                                        410.46,
                                        411.52,
                                        411.82,
                                        412.16,
                                        412.19,
                                        414.1,
                                        415.23,
                                        415.72,
                                        415.96,
                                        416.16,
                                        417.06,
                                        418.29,
                                        418.47,
                                        418.81,
                                        419.97,
                                        420.25,
                                        421.71,
                                        421.85,
                                        423.21,
                                        423.99,
                                        425.37,
                                        425.58,
                                        426.31,
                                        426.83,
                                        427.24,
                                        428.45,
                                        428.57,
                                        428.96,
                                        429.91,
                                        431.06,
                                        431.58,
                                        431.87,
                                        432.24,
                                        433.04,
                                        433.43,
                                        433.7,
                                        433.76,
                                        434.2,
                                        434.89,
                                        434.96,
                                        435.6,
                                        436.37,
                                        436.7,
                                        437.42,
                                        437.58,
                                        438.94,
                                        439,
                                        439.21,
                                        439.28,
                                        439.3,
                                        439.35,
                                        444.11,
                                        444.17,
                                        444.41,
                                        445.55,
                                        445.68,
                                        445.81,
                                        446.12,
                                        446.56,
                                        446.82,
                                        446.87,
                                        447.48,
                                        447.8,
                                        447.94,
                                        448.13,
                                        448.28,
                                        448.57,
                                        448.69,
                                        448.9,
                                        448.91,
                                        449.07,
                                        449.12,
                                        449.54,
                                        449.78,
                                        450.29,
                                        450.51,
                                        450.71,
                                        451.07,
                                        451.76,
                                        452.56,
                                        453.15,
                                        453.16,
                                        453.65,
                                        453.7,
                                        454.25,
                                        454.59,
                                        454.68,
                                        455.11,
                                        455.91,
                                        457.05,
                                        457.58,
                                        457.63,
                                        457.85,
                                        457.86,
                                        459.07,
                                        460.33,
                                        460.82,
                                        460.83,
                                        461.33,
                                        461.64,
                                        462.72,
                                        463.16,
                                        463.66,
                                        464.52,
                                        465.04,
                                        465.12,
                                        465.2,
                                        465.72,
                                        466.4,
                                        466.7,
                                        467.51,
                                        468.4,
                                        468.68,
                                        468.73,
                                        469.48,
                                        470.05,
                                        470.22,
                                        470.41,
                                        470.53,
                                        471.03,
                                        471.74,
                                        472.66,
                                        473.33,
                                        473.89,
                                        473.91,
                                        474.48,
                                        474.7,
                                        475.01,
                                        475.15,
                                        475.28,
                                        475.37,
                                        475.45,
                                        475.55,
                                        475.6,
                                        477.19,
                                        477.26,
                                        477.66,
                                        480.73,
                                        480.79,
                                        481.28,
                                        481.41,
                                        481.51,
                                        481.8,
                                        481.99,
                                        482.69,
                                        482.99,
                                        483.49,
                                        484.8,
                                        484.89,
                                        484.94,
                                        485.09,
                                        485.11,
                                        485.11,
                                        486.03,
                                        486.64,
                                        487.33,
                                        488.05,
                                        490.12,
                                        491.28,
                                        492.28,
                                        492.5,
                                        492.9,
                                        493.07,
                                        493.17,
                                        493.33,
                                        493.39,
                                        493.51,
                                        493.7,
                                        495.03,
                                        495.08,
                                        495.3,
                                        496.52,
                                        498.34,
                                        498.45,
                                        499.86
                                    ],
                                    "xaxis": "x",
                                    "y": [
                                        2.971215300142607,
                                        2.971266902880111,
                                        2.9713185056176146,
                                        2.9714850417250123,
                                        2.971745400991508,
                                        2.97193539288868,
                                        2.9719541575204995,
                                        2.971996377942093,
                                        2.9720902011011905,
                                        2.972188715418243,
                                        2.9721980977341524,
                                        2.9723482147887084,
                                        2.972366979420528,
                                        2.9724725304745125,
                                        2.972603882897249,
                                        2.9727798013205566,
                                        2.972793874794421,
                                        2.9728126394262406,
                                        2.972967447638751,
                                        2.973009668060345,
                                        2.9730683075347812,
                                        2.9732864463796824,
                                        2.97338026953878,
                                        2.9735022396456063,
                                        2.9736218641734555,
                                        2.9736265553314105,
                                        2.973628900910388,
                                        2.9737391431223275,
                                        2.9737555621751697,
                                        2.973757907754147,
                                        2.973823583965515,
                                        2.97402061259962,
                                        2.9742199868127015,
                                        2.9742997364979344,
                                        2.9743278834456635,
                                        2.974571823659317,
                                        2.9746703379763693,
                                        2.9748509475576315,
                                        2.974921314926955,
                                        2.9749377339797967,
                                        2.974961189769571,
                                        2.9750151380860523,
                                        2.9752426592468635,
                                        2.975406849775284,
                                        2.9754115409332385,
                                        2.9754232688281257,
                                        2.975688319252576,
                                        2.975927568308274,
                                        2.975929913887252,
                                        2.9759392962031614,
                                        2.9759557152560037,
                                        2.9760190458883944,
                                        2.976070648625898,
                                        2.9761316336793113,
                                        2.9766500066333244,
                                        2.9766546977912793,
                                        2.9766781535810534,
                                        2.9766945726338956,
                                        2.977037027164601,
                                        2.9772152911668863,
                                        2.977224673482796,
                                        2.9773607170634873,
                                        2.9774217021169003,
                                        2.977768847805561,
                                        2.9780362438089885,
                                        2.978057354019785,
                                        2.9782309268641156,
                                        2.978308330970371,
                                        2.978399808550491,
                                        2.978465484761859,
                                        2.978730535186309,
                                        2.9788712699249555,
                                        2.978943982873256,
                                        2.9791269380334957,
                                        2.979246562561345,
                                        2.9792747095090744,
                                        2.97933334898351,
                                        2.979401370773856,
                                        2.9794858116170433,
                                        2.9796171640397797,
                                        2.979703950461945,
                                        2.9797883913051324,
                                        2.979994802255147,
                                        2.9801238090989055,
                                        2.9801707206784545,
                                        2.980292690785281,
                                        2.980372440470514,
                                        2.980442807839837,
                                        2.980447498997792,
                                        2.9805272486830243,
                                        2.9805882337364378,
                                        2.9805882337364378,
                                        2.9806069983682573,
                                        2.9807711888966777,
                                        2.9809517984779403,
                                        2.980977599846692,
                                        2.981160555006932,
                                        2.981268451639894,
                                        2.981277833955804,
                                        2.981310672061488,
                                        2.981488936063773,
                                        2.981554612275141,
                                        2.9815897959598026,
                                        2.9816437442762838,
                                        2.9819603974382374,
                                        2.982019036912673,
                                        2.9820378015444926,
                                        2.9822231022837102,
                                        2.982380256075198,
                                        2.9824201309178147,
                                        2.982460005760431,
                                        2.9824951894450926,
                                        2.982652343236581,
                                        2.9827649310274977,
                                        2.9830557828206996,
                                        2.9831214590320676,
                                        2.9832058998752555,
                                        2.9834568768258407,
                                        2.983522553037209,
                                        2.983588229248577,
                                        2.9836867435656296,
                                        2.9838251327252983,
                                        2.9838532796730273,
                                        2.9838626619889372,
                                        2.9840104334645154,
                                        2.9841324035713424,
                                        2.9841558593611164,
                                        2.984249682520214,
                                        2.984270792731011,
                                        2.984324741047492,
                                        2.9843505424162435,
                                        2.9843974539957925,
                                        2.9844725125230704,
                                        2.98456399010319,
                                        2.9845827547350097,
                                        2.984594482629897,
                                        2.9846836146310394,
                                        2.98484780515946,
                                        2.9851105100049327,
                                        2.9851527304265266,
                                        2.9854295087458635,
                                        2.9854811114833675,
                                        2.985490493799277,
                                        2.985544442115758,
                                        2.98564295643281,
                                        2.985673448959517,
                                        2.986238733493079,
                                        2.9862856450726274,
                                        2.9865108206544613,
                                        2.9865647689709425,
                                        2.9865718057078747,
                                        2.986644518656175,
                                        2.9867969812897086,
                                        2.986848584027212,
                                        2.9868579663431216,
                                        2.986874385395964,
                                        2.986907223501648,
                                        2.9869424071863095,
                                        2.986947098344264,
                                        2.987031539187452,
                                        2.9870409215033615,
                                        2.98728017055906,
                                        2.987500654982939,
                                        2.9877539775125017,
                                        2.9879392782517193,
                                        2.9880847041483203,
                                        2.988143343622756,
                                        2.988288769519357,
                                        2.9883145708881087,
                                        2.9883896294153867,
                                        2.9884271586790256,
                                        2.988483452574484,
                                        2.988600731523356,
                                        2.9887015914193857,
                                        2.988790723420528,
                                        2.9887930689995055,
                                        2.9888094880523477,
                                        2.9888423261580317,
                                        2.989334897743293,
                                        2.989348971217158,
                                        2.9893958827967064,
                                        2.9894451399552326,
                                        2.989560073325127,
                                        2.9895952570097886,
                                        2.989679697852976,
                                        2.989750065222299,
                                        2.9899846231200424,
                                        2.9902918939660865,
                                        2.990357570177455,
                                        2.990477194705304,
                                        2.9905194151268977,
                                        2.990610892707018,
                                        2.990685951234296,
                                        2.9907868111303255,
                                        2.9907985390252128,
                                        2.9908079213411223,
                                        2.9909228547110165,
                                        2.9910401336598884,
                                        2.9911574126087603,
                                        2.9912301255570606,
                                        2.991241853451948,
                                        2.991279382715587,
                                        2.9913497500849098,
                                        2.9914083895593455,
                                        2.9917203515633446,
                                        2.991743807353119,
                                        2.9917625719849386,
                                        2.9917883733536903,
                                        2.9917954100906226,
                                        2.9918001012485775,
                                        2.9919736740929075,
                                        2.9921026809366666,
                                        2.9921402102003056,
                                        2.9923348932554323,
                                        2.9923395844133873,
                                        2.9923395844133873,
                                        2.992395878308846,
                                        2.99252019399465,
                                        2.992818082524784,
                                        2.9930033832640017,
                                        2.9933481833736844,
                                        2.993411514006075,
                                        2.9934326242168723,
                                        2.993749277378826,
                                        2.993861865169743,
                                        2.994089386330554,
                                        2.9944787524408083,
                                        2.99449517149365,
                                        2.9946359062322965,
                                        2.994645288548206,
                                        2.9948141702345814,
                                        2.994985397499934,
                                        2.995048728132325,
                                        2.9952293377135875,
                                        2.9953325431885944,
                                        2.995405256136895,
                                        2.9956351228766835,
                                        2.9957359827727132,
                                        2.996451384360831,
                                        2.9964654578346956,
                                        2.996639030679026,
                                        2.9967164347852813,
                                        2.9967563096278975,
                                        2.9969767940517764,
                                        2.9971433301591746,
                                        2.9972254254233848,
                                        2.9972441900552043,
                                        2.9972957927927077,
                                        2.9975068949006767,
                                        2.997640592902391,
                                        2.9982222964887946,
                                        2.998224642067772,
                                        2.998269208068343,
                                        2.998332538700734,
                                        2.9984920380711997,
                                        2.9985600598615454,
                                        2.998759434074627,
                                        2.9987828898644016,
                                        2.998822764707018,
                                        2.99882980144395,
                                        2.9989118967081603,
                                        2.9990057198672577,
                                        2.9991652192377236,
                                        2.9992355866070466,
                                        2.99928718934455,
                                        2.9993974315564893,
                                        2.999441997557061,
                                        2.9995287839792257,
                                        2.999622607138323,
                                        2.999732849350263,
                                        2.999911113352548,
                                        2.999913458931525,
                                        2.999988517458803,
                                        3.0002441855673436,
                                        3.000619478203733,
                                        3.0006218237827107,
                                        3.0006265149406657,
                                        3.000661698625327,
                                        3.0007250292577177,
                                        3.0007977422060184,
                                        3.0011284688418365,
                                        3.0014709233725423,
                                        3.0018016500083604,
                                        3.001874362956661,
                                        3.001940039168029,
                                        3.0021136120123595,
                                        3.002122994328269,
                                        3.0021839793816825,
                                        3.002275456961802,
                                        3.0022942215936217,
                                        3.002423228437381,
                                        3.002498286964659,
                                        3.002824322442522,
                                        3.002882961916958,
                                        3.003023696655604,
                                        3.0030307333925363,
                                        3.0031808504470923,
                                        3.0031855416050472,
                                        3.003277019185167,
                                        3.0032957838169865,
                                        3.0033004749749415,
                                        3.0034036804499484,
                                        3.0034247906607456,
                                        3.003626510452805,
                                        3.0037508261386088,
                                        3.0037789730863382,
                                        3.0038516860346385,
                                        3.0039478547727136,
                                        3.0041894494073893,
                                        3.0041964861443216,
                                        3.0043208018301257,
                                        3.0044920290954784,
                                        3.004597580149463,
                                        3.0047148590983346,
                                        3.0047218958352673,
                                        3.0047664618358385,
                                        3.0048649761528905,
                                        3.004867321731868,
                                        3.0051769381568896,
                                        3.005610870267715,
                                        3.005669509742151,
                                        3.0060025819569467,
                                        3.0060448023785407,
                                        3.0066171236490344,
                                        3.00678600533541,
                                        3.0068704461785978,
                                        3.0068704461785978,
                                        3.0071777170246414,
                                        3.007475605554776,
                                        3.0075999212405797,
                                        3.0077125090314967,
                                        3.0077523838741134,
                                        3.007836824717301,
                                        3.007923611139466,
                                        3.008073728194022,
                                        3.008106566299706,
                                        3.0081745880900517,
                                        3.008205080616758,
                                        3.008259028933239,
                                        3.008434947356547,
                                        3.0084513664093886,
                                        3.0084584031463213,
                                        3.008702343359974,
                                        3.0088383869406656,
                                        3.008847769256575,
                                        3.0090964006281835,
                                        3.0093989803162726,
                                        3.009485766738438,
                                        3.009563170844693,
                                        3.009596008950377,
                                        3.0097601994787975,
                                        3.0098774784276694,
                                        3.0099220444282406,
                                        3.01004166895609,
                                        3.010248079906104,
                                        3.010278572432811,
                                        3.0103653588549757,
                                        3.0103958513816824,
                                        3.0108133644396657,
                                        3.0108157100186435,
                                        3.0108907685459214,
                                        3.0109611359152444,
                                        3.0111135985487776,
                                        3.0111839659181006,
                                        3.0112238407607173,
                                        3.0113833401311827,
                                        3.0114208693948217,
                                        3.0117046844510913,
                                        3.0119744260334964,
                                        3.0120096097181577,
                                        3.012023683192022,
                                        3.0120987417193,
                                        3.0122629322477206,
                                        3.0122981159323823,
                                        3.0123403363539762,
                                        3.0124177404602315,
                                        3.0124974901454644,
                                        3.012588967725584,
                                        3.0127531582540046,
                                        3.012835253518215,
                                        3.0128985841506055,
                                        3.012971297098906,
                                        3.0132152373125596,
                                        3.0133723911040478,
                                        3.01337942784098,
                                        3.0135107802637164,
                                        3.0136562061603174,
                                        3.0136913898449786,
                                        3.013712500055776,
                                        3.0138719994262413,
                                        3.014022116480797,
                                        3.0141323586927364,
                                        3.0141651967984204,
                                        3.014172233535353,
                                        3.0142027260620594,
                                        3.0142848213262696,
                                        3.0143645710115026,
                                        3.014388026801277,
                                        3.0144443206967355,
                                        3.0144841955393518,
                                        3.0147633194376664,
                                        3.014901708597335,
                                        3.0151620678638307,
                                        3.015251199864973,
                                        3.015389589024642,
                                        3.0155068679735133,
                                        3.015579580921814,
                                        3.0157461170292117,
                                        3.015807102082625,
                                        3.015865741557061,
                                        3.015877469451948,
                                        3.0162199239826535,
                                        3.016243379772428,
                                        3.016318438299706,
                                        3.0167195323048475,
                                        3.0167945908321254,
                                        3.0168063187270127,
                                        3.0168719949383807,
                                        3.0169071786230424,
                                        3.0169470534656586,
                                        3.0170056929400944,
                                        3.0172097583111315,
                                        3.017219140627041,
                                        3.017524065894108,
                                        3.0181339164282406,
                                        3.0181597177969923,
                                        3.0182136661134735,
                                        3.0183262539043905,
                                        3.0183285994833677,
                                        3.018495135590766,
                                        3.0185866131708856,
                                        3.0188188254896517,
                                        3.018842281279426,
                                        3.0191425153885376,
                                        3.019238684126613,
                                        3.019299669180026,
                                        3.0193184338118453,
                                        3.019395837918101,
                                        3.019609285605047,
                                        3.0199212476090462,
                                        3.0199329755039335,
                                        3.0200479088738277,
                                        3.0200737102425794,
                                        3.0202683932977066,
                                        3.020317650456233,
                                        3.0203927089835108,
                                        3.020486532142608,
                                        3.0207961485676296,
                                        3.0208289866733136,
                                        3.0210518166761697,
                                        3.0211644044670867,
                                        3.0213145215216426,
                                        3.0214716753131308,
                                        3.021645248157461,
                                        3.0216640127892807,
                                        3.02178363731713,
                                        3.021854004686453,
                                        3.0219431366875953,
                                        3.0224615096416083,
                                        3.0226257001700287,
                                        3.022745324697878,
                                        3.0229892649115313,
                                        3.0230244485961926,
                                        3.0231839479666585,
                                        3.02320974933541,
                                        3.0233082636524626,
                                        3.0234536895490636,
                                        3.0235826963928223,
                                        3.0236296079723712,
                                        3.0238852760809114,
                                        3.023986135976941,
                                        3.024178473453091,
                                        3.024319208191737,
                                        3.0243801932451504,
                                        3.02439895787697,
                                        3.0245162368258414,
                                        3.0247367212497203,
                                        3.0250932492542906,
                                        3.025095594833268,
                                        3.025431012627041,
                                        3.0254873065224994,
                                        3.025506071154319,
                                        3.02565149705092,
                                        3.0257077909463783,
                                        3.02573359231513,
                                        3.0259493855810544,
                                        3.026540471483368,
                                        3.026934528751577,
                                        3.027272292124328,
                                        3.027506850022071,
                                        3.027757826972657,
                                        3.0278164664470926,
                                        3.0278633780266415,
                                        3.0278751059215283,
                                        3.0278751059215283,
                                        3.0280111495022197,
                                        3.0280838624505204,
                                        3.028170648872685,
                                        3.028208178136324,
                                        3.028309038032354,
                                        3.0284122435073613,
                                        3.02854125035112,
                                        3.02855063266703,
                                        3.0289071606716,
                                        3.0289869103568328,
                                        3.0290385130943362,
                                        3.0290432042522912,
                                        3.029047895410246,
                                        3.0290948069897947,
                                        3.0291276450954787,
                                        3.0293410927824254,
                                        3.029413805730726,
                                        3.0296155255227855,
                                        3.0297257677347247,
                                        3.0299790902642876,
                                        3.0300471120546333,
                                        3.0300869868972495,
                                        3.0301362440557758,
                                        3.0303543829006774,
                                        3.030384875427384,
                                        3.0306241244830825,
                                        3.030858682380826,
                                        3.030912630697307,
                                        3.0309173218552616,
                                        3.0309267041711716,
                                        3.0310604021728853,
                                        3.0310721300677725,
                                        3.0310885491206143,
                                        3.031313724702448,
                                        3.0313700185979067,
                                        3.031409893440523,
                                        3.0314122390195006,
                                        3.0315623560740566,
                                        3.031576429547921,
                                        3.03160457649565,
                                        3.0317148187075897,
                                        3.031947031026356,
                                        3.032174552187167,
                                        3.0323715808212715,
                                        3.032460712822414,
                                        3.032514661138895,
                                        3.03251935229685,
                                        3.032615521034925,
                                        3.03288526261733,
                                        3.032922791880969,
                                        3.0330400708298404,
                                        3.0330729089355244,
                                        3.0332980845173583,
                                        3.033448201571914,
                                        3.033565480520786,
                                        3.0336827594696576,
                                        3.0336874506276126,
                                        3.0336921417855676,
                                        3.0337883105236423,
                                        3.0340275595793407,
                                        3.034154220844122,
                                        3.0343887787418655,
                                        3.0344474182163017,
                                        3.034482601900963,
                                        3.034757034641323,
                                        3.034773453694165,
                                        3.034984555802134,
                                        3.035022085065773,
                                        3.03504319527657,
                                        3.0351393640146447,
                                        3.035167510962374,
                                        3.0353223191748846,
                                        3.0353270103328396,
                                        3.035512311072057,
                                        3.0356553913896804,
                                        3.0358055084442364,
                                        3.0358453832868526,
                                        3.0362605507658587,
                                        3.036293388871543,
                                        3.0364411603471213,
                                        3.036661644771,
                                        3.0368469455102174,
                                        3.036865710142037,
                                        3.036950150985225,
                                        3.0370463197232995,
                                        3.037257421831269,
                                        3.037377046359118,
                                        3.0374943253079896,
                                        3.037588148467087,
                                        3.0376162954148165,
                                        3.0376608614153877,
                                        3.037820360785853,
                                        3.0380877567892806,
                                        3.0381628153165585,
                                        3.038373917424528,
                                        3.038411446688167,
                                        3.038413792267144,
                                        3.038444284793851,
                                        3.038521688900106,
                                        3.0386905705864815,
                                        3.038742173323985,
                                        3.0388148862722857,
                                        3.0391714142768556,
                                        3.0392065979615173,
                                        3.039215980277427,
                                        3.0392769653308402,
                                        3.0392840020677725,
                                        3.0393285680683437,
                                        3.039462266070058,
                                        3.039598309650749,
                                        3.0396592947041623,
                                        3.0397695369161015,
                                        3.0398070661797405,
                                        3.03983521312747,
                                        3.039975947866116,
                                        3.040041624077484,
                                        3.0400979179729424,
                                        3.0401870499740853,
                                        3.040402843240009,
                                        3.040470865030355,
                                        3.0407077685070756,
                                        3.0410126937741424,
                                        3.041059605353691,
                                        3.0410877523014204,
                                        3.0411205904071044,
                                        3.041216759145179,
                                        3.0414513170429225,
                                        3.0415756327287267,
                                        3.0416718014668014,
                                        3.041702293993508,
                                        3.0417187130463503,
                                        3.0418993226276125,
                                        3.04208462336683,
                                        3.042183137683882,
                                        3.042445842529355,
                                        3.0424575704242423,
                                        3.0424622615821972,
                                        3.042673363690166,
                                        3.0426804004270984,
                                        3.042699165058918,
                                        3.0429055760089323,
                                        3.0429993991680298,
                                        3.0430463107475783,
                                        3.0431448250646307,
                                        3.043156552959518,
                                        3.043344199277713,
                                        3.0435412279118172,
                                        3.0435599925436367,
                                        3.0435811027544335,
                                        3.0437030728612604,
                                        3.043754675598764,
                                        3.0439563953908233,
                                        3.0440384906550335,
                                        3.0440877478135597,
                                        3.0440924389715143,
                                        3.0441862621306117,
                                        3.0442191002362957,
                                        3.0442191002362957,
                                        3.0442284825522057,
                                        3.044235519289138,
                                        3.0444161288704006,
                                        3.0445685915039338,
                                        3.044688216031783,
                                        3.0447022895056475,
                                        3.045086964457947,
                                        3.045119802563631,
                                        3.045223008038638,
                                        3.0452675740392094,
                                        3.045368433935239,
                                        3.0454505291994494,
                                        3.0455865727801408,
                                        3.045621756464802,
                                        3.0456733592023055,
                                        3.0460556885756276,
                                        3.046104945734154,
                                        3.046142474997793,
                                        3.046311356684168,
                                        3.046374687316559,
                                        3.0464661648966787,
                                        3.0470314494302406,
                                        3.047155765116045,
                                        3.047183912063774,
                                        3.0473058821706003,
                                        3.0473316835393525,
                                        3.047601425121757,
                                        3.047714012912674,
                                        3.047718704070629,
                                        3.0477351231234713,
                                        3.0478922769149595,
                                        3.0479110415467785,
                                        3.0481854742871386,
                                        3.048246459340552,
                                        3.04831213555192,
                                        3.048652244503648,
                                        3.0486663179775126,
                                        3.048689773767287,
                                        3.0487179207150166,
                                        3.048762486715588,
                                        3.049346535880969,
                                        3.0495271454622315,
                                        3.049803923781569,
                                        3.0499798422048765,
                                        3.0501229225225,
                                        3.050179216417958,
                                        3.0506061117918515,
                                        3.0508383241106176,
                                        3.050899309164031,
                                        3.051011896954948,
                                        3.0512488004316687,
                                        3.051335586853834,
                                        3.051459902539638,
                                        3.05148570390839,
                                        3.051490395066345,
                                        3.051563108014645,
                                        3.051572490330555,
                                        3.051605328436239,
                                        3.0517390264379527,
                                        3.0520650619158163,
                                        3.0521799952857105,
                                        3.052240980339124,
                                        3.052301965392537,
                                        3.052377023919815,
                                        3.052426281078341,
                                        3.0526772580289268,
                                        3.0527476253982497,
                                        3.052792191398821,
                                        3.0528907057158734,
                                        3.0533668582482925,
                                        3.0534911739340966,
                                        3.053502901828984,
                                        3.0536459821466075,
                                        3.0538078270960503,
                                        3.0541643551006206,
                                        3.0542792884705148,
                                        3.0545373021580327,
                                        3.0545373021580327,
                                        3.05455841236883,
                                        3.054938396163174,
                                        3.054966543110903,
                                        3.0549829621637454,
                                        3.055224556798421,
                                        3.055229247956376,
                                        3.0553207255364963,
                                        3.0553910929058192,
                                        3.05553651880242,
                                        3.0556678712251566,
                                        3.0557335474365246,
                                        3.0560243992297265,
                                        3.0561838986001924,
                                        3.056305868707019,
                                        3.0563527802865673,
                                        3.0563691993394095,
                                        3.056685852501363,
                                        3.05672572734398,
                                        3.0570541084008207,
                                        3.0572276812451507,
                                        3.0572980486144736,
                                        3.0573496513519776,
                                        3.0574645847218718,
                                        3.0574810037747135,
                                        3.0575560623019915,
                                        3.0577530909360964,
                                        3.0578281494633743,
                                        3.0578586419900806,
                                        3.0580345604133883,
                                        3.058149493783283,
                                        3.058285537363974,
                                        3.0583535591543196,
                                        3.058402816312846,
                                        3.058667866737296,
                                        3.0589446450566333,
                                        3.0590103212680013,
                                        3.0590947621111892,
                                        3.059106490006076,
                                        3.0592050043231285,
                                        3.059336356745865,
                                        3.05996262633284,
                                        3.060021265807276,
                                        3.060079905281712,
                                        3.0601854563356965,
                                        3.0601924930726287,
                                        3.06022767675729,
                                        3.060340264548207,
                                        3.060349646864117,
                                        3.06067568234198,
                                        3.060722593921529,
                                        3.0608234538175587,
                                        3.060910240239724,
                                        3.0612268934016775,
                                        3.061665516670458,
                                        3.0618414350937657,
                                        3.0622401835199295,
                                        3.0623058597312975,
                                        3.062357462468801,
                                        3.0625849836296126,
                                        3.0628687986858822,
                                        3.062960276266002,
                                        3.063004842266573,
                                        3.063014224582483,
                                        3.063075209635896,
                                        3.0632487824802266,
                                        3.0633660614290985,
                                        3.0634950682728572,
                                        3.0634950682728572,
                                        3.0635466710103607,
                                        3.063553707747293,
                                        3.063818758171743,
                                        3.063893816699021,
                                        3.0639665296473217,
                                        3.063989985437096,
                                        3.0642831828092754,
                                        3.064355895757576,
                                        3.064426263126899,
                                        3.0645060128121315,
                                        3.064538850917816,
                                        3.064649093129755,
                                        3.0647100781831687,
                                        3.0647382251308977,
                                        3.064787482289424,
                                        3.0650501871348967,
                                        3.065061915029784,
                                        3.065165120504791,
                                        3.065242524611046,
                                        3.0652542525059334,
                                        3.065357457980941,
                                        3.0654911559826545,
                                        3.0655451042991353,
                                        3.0655615233519775,
                                        3.0655873247207293,
                                        3.065655346511075,
                                        3.0657820077758564,
                                        3.0660306391474643,
                                        3.0661010065167877,
                                        3.0661807562020202,
                                        3.0661877929389525,
                                        3.0666357985236425,
                                        3.066900848948093,
                                        3.0670157823179873,
                                        3.067072076213446,
                                        3.0671189877929943,
                                        3.0673300899009637,
                                        3.067618596115188,
                                        3.067660816536782,
                                        3.0677405662220147,
                                        3.068012653383397,
                                        3.068078329594765,
                                        3.068420784125471,
                                        3.068453622231155,
                                        3.0687726209720863,
                                        3.068955576132326,
                                        3.069279266031212,
                                        3.0693285231897383,
                                        3.069499750455091,
                                        3.0696217205619174,
                                        3.0697178892999926,
                                        3.070001704356262,
                                        3.070029851303991,
                                        3.0701213288841114,
                                        3.0703441588869675,
                                        3.0706139004693727,
                                        3.070735870576199,
                                        3.070803892366545,
                                        3.07089067878871,
                                        3.071078325106905,
                                        3.0711698026870247,
                                        3.0712331333194154,
                                        3.07124720679328,
                                        3.0713504122682873,
                                        3.07151225721773,
                                        3.0715286762705722,
                                        3.071678793325128,
                                        3.071859402906391,
                                        3.071936807012646,
                                        3.0721056886990215,
                                        3.0721432179626604,
                                        3.0724622167035913,
                                        3.072476290177456,
                                        3.072525547335982,
                                        3.0725419663888243,
                                        3.0725466575467792,
                                        3.0725583854416665,
                                        3.0736748810349255,
                                        3.07368895450879,
                                        3.0737452484042485,
                                        3.074012644407676,
                                        3.0740431369343826,
                                        3.0740736294610893,
                                        3.07414634240939,
                                        3.074249547884397,
                                        3.0743105329378104,
                                        3.074322260832697,
                                        3.074465341150321,
                                        3.074540399677599,
                                        3.074573237783283,
                                        3.074617803783854,
                                        3.074652987468516,
                                        3.0747210092588615,
                                        3.0747491562065905,
                                        3.0747984133651167,
                                        3.074800758944094,
                                        3.074838288207733,
                                        3.07485001610262,
                                        3.0749485304196726,
                                        3.075004824315131,
                                        3.0751244488429803,
                                        3.075176051580484,
                                        3.0752229631600323,
                                        3.0753074040032202,
                                        3.075469248952663,
                                        3.075656895270858,
                                        3.0757952844305265,
                                        3.0757976300095042,
                                        3.0759125633793984,
                                        3.0759242912742857,
                                        3.0760532981180444,
                                        3.0761330478032773,
                                        3.076154158014074,
                                        3.076255017910104,
                                        3.0764426642282987,
                                        3.076710060231726,
                                        3.0768343759175303,
                                        3.0768461038124175,
                                        3.076897706549921,
                                        3.0769000521288987,
                                        3.0771838671851683,
                                        3.077479410136325,
                                        3.0775943435062194,
                                        3.0775966890851967,
                                        3.0777139680340686,
                                        3.077786680982369,
                                        3.078040003511932,
                                        3.078143208986939,
                                        3.078260487935811,
                                        3.0784622077278705,
                                        3.078584177834697,
                                        3.0786029424665164,
                                        3.078621707098336,
                                        3.0787436772051624,
                                        3.0789031765756283,
                                        3.0789735439449513,
                                        3.0791635358421234,
                                        3.079372292371115,
                                        3.079437968582483,
                                        3.0794496964773703,
                                        3.079625614900678,
                                        3.0797593129023917,
                                        3.0797991877450084,
                                        3.0798437537455796,
                                        3.0798719006933086,
                                        3.0799891796421806,
                                        3.0801557157495782,
                                        3.0803715090155026,
                                        3.080528662806991,
                                        3.0806600152297268,
                                        3.0806647063876818,
                                        3.0807984043893955,
                                        3.0808500071268994,
                                        3.0809227200751996,
                                        3.0809555581808836,
                                        3.0809860507075904,
                                        3.0810071609183876,
                                        3.0810259255502066,
                                        3.081049381339981,
                                        3.0810611092348683,
                                        3.0814340562922804,
                                        3.0814504753451226,
                                        3.08154429850422,
                                        3.0822643912502925,
                                        3.082278464724157,
                                        3.0823933980940517,
                                        3.082423890620758,
                                        3.0824473464105324,
                                        3.082515368200878,
                                        3.0825599342014494,
                                        3.08272412472987,
                                        3.0827944920991928,
                                        3.0829117710480647,
                                        3.083219041894109,
                                        3.0832401521049055,
                                        3.0832518799997928,
                                        3.083287063684454,
                                        3.083291754842409,
                                        3.083291754842409,
                                        3.083507548108333,
                                        3.0836506284259566,
                                        3.0838124733753998,
                                        3.083981355061775,
                                        3.084466889910104,
                                        3.0847389770714866,
                                        3.08497353496923,
                                        3.0850251377067335,
                                        3.085118960865831,
                                        3.085158835708447,
                                        3.0851822914982217,
                                        3.0852198207618606,
                                        3.085233894235725,
                                        3.0852620411834546,
                                        3.085306607184026,
                                        3.0856185691880245,
                                        3.0856302970829117,
                                        3.085681899820415,
                                        3.0859680604556625,
                                        3.086394955829556,
                                        3.0864207571983076,
                                        3.0867514838341257
                                    ],
                                    "yaxis": "y"
                                }
                            ],
                            "layout": {
                                "coloraxis": {
                                    "colorbar": {
                                        "title": {
                                            "text": "Score de Review"
                                        }
                                    },
                                    "colorscale": [
                                        [
                                            0,
                                            "#440154"
                                        ],
                                        [
                                            0.1111111111111111,
                                            "#482878"
                                        ],
                                        [
                                            0.2222222222222222,
                                            "#3e4989"
                                        ],
                                        [
                                            0.3333333333333333,
                                            "#31688e"
                                        ],
                                        [
                                            0.4444444444444444,
                                            "#26828e"
                                        ],
                                        [
                                            0.5555555555555556,
                                            "#1f9e89"
                                        ],
                                        [
                                            0.6666666666666666,
                                            "#35b779"
                                        ],
                                        [
                                            0.7777777777777778,
                                            "#6ece58"
                                        ],
                                        [
                                            0.8888888888888888,
                                            "#b5de2b"
                                        ],
                                        [
                                            1,
                                            "#fde725"
                                        ]
                                    ]
                                },
                                "legend": {
                                    "tracegroupgap": 0
                                },
                                "template": {
                                    "data": {
                                        "bar": [
                                            {
                                                "error_x": {
                                                    "color": "#2a3f5f"
                                                },
                                                "error_y": {
                                                    "color": "#2a3f5f"
                                                },
                                                "marker": {
                                                    "line": {
                                                        "color": "#E5ECF6",
                                                        "width": 0.5
                                                    },
                                                    "pattern": {
                                                        "fillmode": "overlay",
                                                        "size": 10,
                                                        "solidity": 0.2
                                                    }
                                                },
                                                "type": "bar"
                                            }
                                        ],
                                        "barpolar": [
                                            {
                                                "marker": {
                                                    "line": {
                                                        "color": "#E5ECF6",
                                                        "width": 0.5
                                                    },
                                                    "pattern": {
                                                        "fillmode": "overlay",
                                                        "size": 10,
                                                        "solidity": 0.2
                                                    }
                                                },
                                                "type": "barpolar"
                                            }
                                        ],
                                        "carpet": [
                                            {
                                                "aaxis": {
                                                    "endlinecolor": "#2a3f5f",
                                                    "gridcolor": "white",
                                                    "linecolor": "white",
                                                    "minorgridcolor": "white",
                                                    "startlinecolor": "#2a3f5f"
                                                },
                                                "baxis": {
                                                    "endlinecolor": "#2a3f5f",
                                                    "gridcolor": "white",
                                                    "linecolor": "white",
                                                    "minorgridcolor": "white",
                                                    "startlinecolor": "#2a3f5f"
                                                },
                                                "type": "carpet"
                                            }
                                        ],
                                        "choropleth": [
                                            {
                                                "colorbar": {
                                                    "outlinewidth": 0,
                                                    "ticks": ""
                                                },
                                                "type": "choropleth"
                                            }
                                        ],
                                        "contour": [
                                            {
                                                "colorbar": {
                                                    "outlinewidth": 0,
                                                    "ticks": ""
                                                },
                                                "colorscale": [
                                                    [
                                                        0,
                                                        "#0d0887"
                                                    ],
                                                    [
                                                        0.1111111111111111,
                                                        "#46039f"
                                                    ],
                                                    [
                                                        0.2222222222222222,
                                                        "#7201a8"
                                                    ],
                                                    [
                                                        0.3333333333333333,
                                                        "#9c179e"
                                                    ],
                                                    [
                                                        0.4444444444444444,
                                                        "#bd3786"
                                                    ],
                                                    [
                                                        0.5555555555555556,
                                                        "#d8576b"
                                                    ],
                                                    [
                                                        0.6666666666666666,
                                                        "#ed7953"
                                                    ],
                                                    [
                                                        0.7777777777777778,
                                                        "#fb9f3a"
                                                    ],
                                                    [
                                                        0.8888888888888888,
                                                        "#fdca26"
                                                    ],
                                                    [
                                                        1,
                                                        "#f0f921"
                                                    ]
                                                ],
                                                "type": "contour"
                                            }
                                        ],
                                        "contourcarpet": [
                                            {
                                                "colorbar": {
                                                    "outlinewidth": 0,
                                                    "ticks": ""
                                                },
                                                "type": "contourcarpet"
                                            }
                                        ],
                                        "heatmap": [
                                            {
                                                "colorbar": {
                                                    "outlinewidth": 0,
                                                    "ticks": ""
                                                },
                                                "colorscale": [
                                                    [
                                                        0,
                                                        "#0d0887"
                                                    ],
                                                    [
                                                        0.1111111111111111,
                                                        "#46039f"
                                                    ],
                                                    [
                                                        0.2222222222222222,
                                                        "#7201a8"
                                                    ],
                                                    [
                                                        0.3333333333333333,
                                                        "#9c179e"
                                                    ],
                                                    [
                                                        0.4444444444444444,
                                                        "#bd3786"
                                                    ],
                                                    [
                                                        0.5555555555555556,
                                                        "#d8576b"
                                                    ],
                                                    [
                                                        0.6666666666666666,
                                                        "#ed7953"
                                                    ],
                                                    [
                                                        0.7777777777777778,
                                                        "#fb9f3a"
                                                    ],
                                                    [
                                                        0.8888888888888888,
                                                        "#fdca26"
                                                    ],
                                                    [
                                                        1,
                                                        "#f0f921"
                                                    ]
                                                ],
                                                "type": "heatmap"
                                            }
                                        ],
                                        "heatmapgl": [
                                            {
                                                "colorbar": {
                                                    "outlinewidth": 0,
                                                    "ticks": ""
                                                },
                                                "colorscale": [
                                                    [
                                                        0,
                                                        "#0d0887"
                                                    ],
                                                    [
                                                        0.1111111111111111,
                                                        "#46039f"
                                                    ],
                                                    [
                                                        0.2222222222222222,
                                                        "#7201a8"
                                                    ],
                                                    [
                                                        0.3333333333333333,
                                                        "#9c179e"
                                                    ],
                                                    [
                                                        0.4444444444444444,
                                                        "#bd3786"
                                                    ],
                                                    [
                                                        0.5555555555555556,
                                                        "#d8576b"
                                                    ],
                                                    [
                                                        0.6666666666666666,
                                                        "#ed7953"
                                                    ],
                                                    [
                                                        0.7777777777777778,
                                                        "#fb9f3a"
                                                    ],
                                                    [
                                                        0.8888888888888888,
                                                        "#fdca26"
                                                    ],
                                                    [
                                                        1,
                                                        "#f0f921"
                                                    ]
                                                ],
                                                "type": "heatmapgl"
                                            }
                                        ],
                                        "histogram": [
                                            {
                                                "marker": {
                                                    "pattern": {
                                                        "fillmode": "overlay",
                                                        "size": 10,
                                                        "solidity": 0.2
                                                    }
                                                },
                                                "type": "histogram"
                                            }
                                        ],
                                        "histogram2d": [
                                            {
                                                "colorbar": {
                                                    "outlinewidth": 0,
                                                    "ticks": ""
                                                },
                                                "colorscale": [
                                                    [
                                                        0,
                                                        "#0d0887"
                                                    ],
                                                    [
                                                        0.1111111111111111,
                                                        "#46039f"
                                                    ],
                                                    [
                                                        0.2222222222222222,
                                                        "#7201a8"
                                                    ],
                                                    [
                                                        0.3333333333333333,
                                                        "#9c179e"
                                                    ],
                                                    [
                                                        0.4444444444444444,
                                                        "#bd3786"
                                                    ],
                                                    [
                                                        0.5555555555555556,
                                                        "#d8576b"
                                                    ],
                                                    [
                                                        0.6666666666666666,
                                                        "#ed7953"
                                                    ],
                                                    [
                                                        0.7777777777777778,
                                                        "#fb9f3a"
                                                    ],
                                                    [
                                                        0.8888888888888888,
                                                        "#fdca26"
                                                    ],
                                                    [
                                                        1,
                                                        "#f0f921"
                                                    ]
                                                ],
                                                "type": "histogram2d"
                                            }
                                        ],
                                        "histogram2dcontour": [
                                            {
                                                "colorbar": {
                                                    "outlinewidth": 0,
                                                    "ticks": ""
                                                },
                                                "colorscale": [
                                                    [
                                                        0,
                                                        "#0d0887"
                                                    ],
                                                    [
                                                        0.1111111111111111,
                                                        "#46039f"
                                                    ],
                                                    [
                                                        0.2222222222222222,
                                                        "#7201a8"
                                                    ],
                                                    [
                                                        0.3333333333333333,
                                                        "#9c179e"
                                                    ],
                                                    [
                                                        0.4444444444444444,
                                                        "#bd3786"
                                                    ],
                                                    [
                                                        0.5555555555555556,
                                                        "#d8576b"
                                                    ],
                                                    [
                                                        0.6666666666666666,
                                                        "#ed7953"
                                                    ],
                                                    [
                                                        0.7777777777777778,
                                                        "#fb9f3a"
                                                    ],
                                                    [
                                                        0.8888888888888888,
                                                        "#fdca26"
                                                    ],
                                                    [
                                                        1,
                                                        "#f0f921"
                                                    ]
                                                ],
                                                "type": "histogram2dcontour"
                                            }
                                        ],
                                        "mesh3d": [
                                            {
                                                "colorbar": {
                                                    "outlinewidth": 0,
                                                    "ticks": ""
                                                },
                                                "type": "mesh3d"
                                            }
                                        ],
                                        "parcoords": [
                                            {
                                                "line": {
                                                    "colorbar": {
                                                        "outlinewidth": 0,
                                                        "ticks": ""
                                                    }
                                                },
                                                "type": "parcoords"
                                            }
                                        ],
                                        "pie": [
                                            {
                                                "automargin": true,
                                                "type": "pie"
                                            }
                                        ],
                                        "scatter": [
                                            {
                                                "fillpattern": {
                                                    "fillmode": "overlay",
                                                    "size": 10,
                                                    "solidity": 0.2
                                                },
                                                "type": "scatter"
                                            }
                                        ],
                                        "scatter3d": [
                                            {
                                                "line": {
                                                    "colorbar": {
                                                        "outlinewidth": 0,
                                                        "ticks": ""
                                                    }
                                                },
                                                "marker": {
                                                    "colorbar": {
                                                        "outlinewidth": 0,
                                                        "ticks": ""
                                                    }
                                                },
                                                "type": "scatter3d"
                                            }
                                        ],
                                        "scattercarpet": [
                                            {
                                                "marker": {
                                                    "colorbar": {
                                                        "outlinewidth": 0,
                                                        "ticks": ""
                                                    }
                                                },
                                                "type": "scattercarpet"
                                            }
                                        ],
                                        "scattergeo": [
                                            {
                                                "marker": {
                                                    "colorbar": {
                                                        "outlinewidth": 0,
                                                        "ticks": ""
                                                    }
                                                },
                                                "type": "scattergeo"
                                            }
                                        ],
                                        "scattergl": [
                                            {
                                                "marker": {
                                                    "colorbar": {
                                                        "outlinewidth": 0,
                                                        "ticks": ""
                                                    }
                                                },
                                                "type": "scattergl"
                                            }
                                        ],
                                        "scattermapbox": [
                                            {
                                                "marker": {
                                                    "colorbar": {
                                                        "outlinewidth": 0,
                                                        "ticks": ""
                                                    }
                                                },
                                                "type": "scattermapbox"
                                            }
                                        ],
                                        "scatterpolar": [
                                            {
                                                "marker": {
                                                    "colorbar": {
                                                        "outlinewidth": 0,
                                                        "ticks": ""
                                                    }
                                                },
                                                "type": "scatterpolar"
                                            }
                                        ],
                                        "scatterpolargl": [
                                            {
                                                "marker": {
                                                    "colorbar": {
                                                        "outlinewidth": 0,
                                                        "ticks": ""
                                                    }
                                                },
                                                "type": "scatterpolargl"
                                            }
                                        ],
                                        "scatterternary": [
                                            {
                                                "marker": {
                                                    "colorbar": {
                                                        "outlinewidth": 0,
                                                        "ticks": ""
                                                    }
                                                },
                                                "type": "scatterternary"
                                            }
                                        ],
                                        "surface": [
                                            {
                                                "colorbar": {
                                                    "outlinewidth": 0,
                                                    "ticks": ""
                                                },
                                                "colorscale": [
                                                    [
                                                        0,
                                                        "#0d0887"
                                                    ],
                                                    [
                                                        0.1111111111111111,
                                                        "#46039f"
                                                    ],
                                                    [
                                                        0.2222222222222222,
                                                        "#7201a8"
                                                    ],
                                                    [
                                                        0.3333333333333333,
                                                        "#9c179e"
                                                    ],
                                                    [
                                                        0.4444444444444444,
                                                        "#bd3786"
                                                    ],
                                                    [
                                                        0.5555555555555556,
                                                        "#d8576b"
                                                    ],
                                                    [
                                                        0.6666666666666666,
                                                        "#ed7953"
                                                    ],
                                                    [
                                                        0.7777777777777778,
                                                        "#fb9f3a"
                                                    ],
                                                    [
                                                        0.8888888888888888,
                                                        "#fdca26"
                                                    ],
                                                    [
                                                        1,
                                                        "#f0f921"
                                                    ]
                                                ],
                                                "type": "surface"
                                            }
                                        ],
                                        "table": [
                                            {
                                                "cells": {
                                                    "fill": {
                                                        "color": "#EBF0F8"
                                                    },
                                                    "line": {
                                                        "color": "white"
                                                    }
                                                },
                                                "header": {
                                                    "fill": {
                                                        "color": "#C8D4E3"
                                                    },
                                                    "line": {
                                                        "color": "white"
                                                    }
                                                },
                                                "type": "table"
                                            }
                                        ]
                                    },
                                    "layout": {
                                        "annotationdefaults": {
                                            "arrowcolor": "#2a3f5f",
                                            "arrowhead": 0,
                                            "arrowwidth": 1
                                        },
                                        "autotypenumbers": "strict",
                                        "coloraxis": {
                                            "colorbar": {
                                                "outlinewidth": 0,
                                                "ticks": ""
                                            }
                                        },
                                        "colorscale": {
                                            "diverging": [
                                                [
                                                    0,
                                                    "#8e0152"
                                                ],
                                                [
                                                    0.1,
                                                    "#c51b7d"
                                                ],
                                                [
                                                    0.2,
                                                    "#de77ae"
                                                ],
                                                [
                                                    0.3,
                                                    "#f1b6da"
                                                ],
                                                [
                                                    0.4,
                                                    "#fde0ef"
                                                ],
                                                [
                                                    0.5,
                                                    "#f7f7f7"
                                                ],
                                                [
                                                    0.6,
                                                    "#e6f5d0"
                                                ],
                                                [
                                                    0.7,
                                                    "#b8e186"
                                                ],
                                                [
                                                    0.8,
                                                    "#7fbc41"
                                                ],
                                                [
                                                    0.9,
                                                    "#4d9221"
                                                ],
                                                [
                                                    1,
                                                    "#276419"
                                                ]
                                            ],
                                            "sequential": [
                                                [
                                                    0,
                                                    "#0d0887"
                                                ],
                                                [
                                                    0.1111111111111111,
                                                    "#46039f"
                                                ],
                                                [
                                                    0.2222222222222222,
                                                    "#7201a8"
                                                ],
                                                [
                                                    0.3333333333333333,
                                                    "#9c179e"
                                                ],
                                                [
                                                    0.4444444444444444,
                                                    "#bd3786"
                                                ],
                                                [
                                                    0.5555555555555556,
                                                    "#d8576b"
                                                ],
                                                [
                                                    0.6666666666666666,
                                                    "#ed7953"
                                                ],
                                                [
                                                    0.7777777777777778,
                                                    "#fb9f3a"
                                                ],
                                                [
                                                    0.8888888888888888,
                                                    "#fdca26"
                                                ],
                                                [
                                                    1,
                                                    "#f0f921"
                                                ]
                                            ],
                                            "sequentialminus": [
                                                [
                                                    0,
                                                    "#0d0887"
                                                ],
                                                [
                                                    0.1111111111111111,
                                                    "#46039f"
                                                ],
                                                [
                                                    0.2222222222222222,
                                                    "#7201a8"
                                                ],
                                                [
                                                    0.3333333333333333,
                                                    "#9c179e"
                                                ],
                                                [
                                                    0.4444444444444444,
                                                    "#bd3786"
                                                ],
                                                [
                                                    0.5555555555555556,
                                                    "#d8576b"
                                                ],
                                                [
                                                    0.6666666666666666,
                                                    "#ed7953"
                                                ],
                                                [
                                                    0.7777777777777778,
                                                    "#fb9f3a"
                                                ],
                                                [
                                                    0.8888888888888888,
                                                    "#fdca26"
                                                ],
                                                [
                                                    1,
                                                    "#f0f921"
                                                ]
                                            ]
                                        },
                                        "colorway": [
                                            "#636efa",
                                            "#EF553B",
                                            "#00cc96",
                                            "#ab63fa",
                                            "#FFA15A",
                                            "#19d3f3",
                                            "#FF6692",
                                            "#B6E880",
                                            "#FF97FF",
                                            "#FECB52"
                                        ],
                                        "font": {
                                            "color": "#2a3f5f"
                                        },
                                        "geo": {
                                            "bgcolor": "white",
                                            "lakecolor": "white",
                                            "landcolor": "#E5ECF6",
                                            "showlakes": true,
                                            "showland": true,
                                            "subunitcolor": "white"
                                        },
                                        "hoverlabel": {
                                            "align": "left"
                                        },
                                        "hovermode": "closest",
                                        "mapbox": {
                                            "style": "light"
                                        },
                                        "paper_bgcolor": "white",
                                        "plot_bgcolor": "#E5ECF6",
                                        "polar": {
                                            "angularaxis": {
                                                "gridcolor": "white",
                                                "linecolor": "white",
                                                "ticks": ""
                                            },
                                            "bgcolor": "#E5ECF6",
                                            "radialaxis": {
                                                "gridcolor": "white",
                                                "linecolor": "white",
                                                "ticks": ""
                                            }
                                        },
                                        "scene": {
                                            "xaxis": {
                                                "backgroundcolor": "#E5ECF6",
                                                "gridcolor": "white",
                                                "gridwidth": 2,
                                                "linecolor": "white",
                                                "showbackground": true,
                                                "ticks": "",
                                                "zerolinecolor": "white"
                                            },
                                            "yaxis": {
                                                "backgroundcolor": "#E5ECF6",
                                                "gridcolor": "white",
                                                "gridwidth": 2,
                                                "linecolor": "white",
                                                "showbackground": true,
                                                "ticks": "",
                                                "zerolinecolor": "white"
                                            },
                                            "zaxis": {
                                                "backgroundcolor": "#E5ECF6",
                                                "gridcolor": "white",
                                                "gridwidth": 2,
                                                "linecolor": "white",
                                                "showbackground": true,
                                                "ticks": "",
                                                "zerolinecolor": "white"
                                            }
                                        },
                                        "shapedefaults": {
                                            "line": {
                                                "color": "#2a3f5f"
                                            }
                                        },
                                        "ternary": {
                                            "aaxis": {
                                                "gridcolor": "white",
                                                "linecolor": "white",
                                                "ticks": ""
                                            },
                                            "baxis": {
                                                "gridcolor": "white",
                                                "linecolor": "white",
                                                "ticks": ""
                                            },
                                            "bgcolor": "#E5ECF6",
                                            "caxis": {
                                                "gridcolor": "white",
                                                "linecolor": "white",
                                                "ticks": ""
                                            }
                                        },
                                        "title": {
                                            "x": 0.05
                                        },
                                        "xaxis": {
                                            "automargin": true,
                                            "gridcolor": "white",
                                            "linecolor": "white",
                                            "ticks": "",
                                            "title": {
                                                "standoff": 15
                                            },
                                            "zerolinecolor": "white",
                                            "zerolinewidth": 2
                                        },
                                        "yaxis": {
                                            "automargin": true,
                                            "gridcolor": "white",
                                            "linecolor": "white",
                                            "ticks": "",
                                            "title": {
                                                "standoff": 15
                                            },
                                            "zerolinecolor": "white",
                                            "zerolinewidth": 2
                                        }
                                    }
                                },
                                "title": {
                                    "font": {
                                        "color": "black",
                                        "size": 24
                                    },
                                    "text": "Correlação entre Preço e Score de Review",
                                    "x": 0.5,
                                    "xanchor": "center"
                                },
                                "xaxis": {
                                    "anchor": "y",
                                    "domain": [
                                        0,
                                        1
                                    ],
                                    "title": {
                                        "text": "Preço"
                                    }
                                },
                                "yaxis": {
                                    "anchor": "x",
                                    "domain": [
                                        0,
                                        1
                                    ],
                                    "title": {
                                        "text": "Score de Review"
                                    }
                                }
                            }
                        }
                    },
                    "metadata": {},
                    "output_type": "display_data"
                }
            ],
            "source": [
                "fig = px.scatter(df, \n",
                "                 x='price', \n",
                "                 y='review_score', \n",
                "                 title='Correlação entre Preço e Score de Review',\n",
                "                 labels={'price': 'Preço', 'review_score': 'Score de Review'},\n",
                "                 trendline='ols', \n",
                "                 color='review_score',\n",
                "                 color_continuous_scale=px.colors.sequential.Viridis) \n",
                "# Atualizar o layout do gráfico\n",
                "fig.update_layout(\n",
                "    title={\n",
                "        'text': 'Correlação entre Preço e Score de Review',\n",
                "        'x': 0.5, \n",
                "        'xanchor': 'center', \n",
                "        'font': {\n",
                "            'size': 24, \n",
                "            'color': 'black'  \n",
                "        }\n",
                "    },\n",
                "    xaxis_title='Preço',\n",
                "    yaxis_title='Score de Review'\n",
                ")\n",
                "\n",
                "fig.show()"
            ]
        },
        {
            "cell_type": "markdown",
            "metadata": {},
            "source": [
                "### 10. Existe correlação entre o volume de vendas e o score de review?\n",
                "\n",
                "Foi analisada a correlação entre o volume de vendas e o score de review para verificar se produtos com mais vendas tendem a ter melhores ou piores avaliações.\n",
                "\n",
                "**Correlação entre volume de vendas e score de review:** -0.02\n",
                "\n",
                "O valor da correlação é muito próximo de 0, e o sinal negativo sugere uma relação muito fraca e ligeiramente negativa entre o volume de vendas e as avaliações. Isso indica que não há uma tendência significativa de que produtos com mais vendas tenham melhores ou piores avaliações.\n",
                "\n",
                "![Gráfico de dispersão](/graficos/vvsr.png)\n",
                "\n",
                "O gráfico de dispersão acima ilustra a relação entre o volume de vendas e o score de review dos produtos. Embora a correlação seja baixa, é possível observar que os pontos estão mais concentrados entre os produtos com volume de vendas variando de **4000 a 8000** unidades. Isso sugere que, independentemente da avaliação, a maioria dos produtos se situa nessa faixa de volume de vendas, mas sem uma relação clara entre a quantidade de vendas e o score de review.\n"
            ]
        },
        {
            "cell_type": "code",
            "execution_count": 61,
            "metadata": {},
            "outputs": [
                {
                    "name": "stdout",
                    "output_type": "stream",
                    "text": [
                        "Correlação entre Volume de Vendas e Score de Review: -0.02\n"
                    ]
                }
            ],
            "source": [
                "\n",
                "# Calcular o volume total de vendas\n",
                "df['total_sales'] = df[['sales_month_1', 'sales_month_2', 'sales_month_3', 'sales_month_4', 'sales_month_5', 'sales_month_6', 'sales_month_7', 'sales_month_8', 'sales_month_9', 'sales_month_10', 'sales_month_11', 'sales_month_12']].sum(axis=1)\n",
                "\n",
                "# Calcular a correlação entre o volume de vendas e o score de review\n",
                "correlation = df['total_sales'].corr(df['review_score'])\n",
                "print(f'Correlação entre Volume de Vendas e Score de Review: {correlation:.2f}')\n"
            ]
        },
        {
            "cell_type": "code",
            "execution_count": 62,
            "metadata": {},
            "outputs": [
                {
                    "data": {
                        "application/vnd.plotly.v1+json": {
                            "config": {
                                "plotlyServerURL": "https://plot.ly"
                            },
                            "data": [
                                {
                                    "hovertemplate": "Volume de Vendas=%{x}<br>Score de Review=%{marker.color}<extra></extra>",
                                    "legendgroup": "",
                                    "marker": {
                                        "color": [
                                            1.7,
                                            3.2,
                                            4.5,
                                            3.9,
                                            4.2,
                                            3.6,
                                            3.8,
                                            4.4,
                                            2,
                                            3,
                                            1.9,
                                            5,
                                            4.8,
                                            1.2,
                                            3.8,
                                            4.7,
                                            1.7,
                                            3.3,
                                            4.7,
                                            1.1,
                                            3.8,
                                            2.2,
                                            4.7,
                                            4.9,
                                            4.8,
                                            2.9,
                                            4.4,
                                            4.4,
                                            2.3,
                                            4.3,
                                            1.1,
                                            3.4,
                                            1.9,
                                            1.5,
                                            1.3,
                                            3.8,
                                            2.4,
                                            3.9,
                                            1.3,
                                            2.3,
                                            3.2,
                                            4.2,
                                            2.3,
                                            3.5,
                                            4.5,
                                            3.5,
                                            1.9,
                                            1.1,
                                            4.5,
                                            1.1,
                                            4.5,
                                            3.1,
                                            4.8,
                                            4.2,
                                            5,
                                            2.4,
                                            4.1,
                                            2.6,
                                            2.9,
                                            3.5,
                                            4.5,
                                            4.9,
                                            4.1,
                                            2.7,
                                            2.7,
                                            4,
                                            2,
                                            1.4,
                                            2.4,
                                            2.1,
                                            2.2,
                                            1.9,
                                            1.2,
                                            1.1,
                                            5,
                                            2.7,
                                            2.5,
                                            3.7,
                                            1.9,
                                            4.8,
                                            4.1,
                                            1.4,
                                            2.7,
                                            4.5,
                                            4.8,
                                            2.9,
                                            3.5,
                                            1.7,
                                            5,
                                            1.9,
                                            4.8,
                                            3.6,
                                            3.4,
                                            3.1,
                                            1.9,
                                            1.7,
                                            1.9,
                                            1.7,
                                            4.1,
                                            2.4,
                                            1.2,
                                            4.9,
                                            4.5,
                                            4.7,
                                            5,
                                            1.7,
                                            2.6,
                                            4,
                                            3.8,
                                            1.6,
                                            4.3,
                                            1.9,
                                            1.9,
                                            3.1,
                                            3.4,
                                            3.3,
                                            1.4,
                                            4.5,
                                            2.1,
                                            1.5,
                                            4.6,
                                            4.8,
                                            4.4,
                                            4.2,
                                            3.6,
                                            3.2,
                                            1.3,
                                            2.6,
                                            2.5,
                                            2,
                                            3.9,
                                            3,
                                            1.3,
                                            1.9,
                                            3.7,
                                            1.3,
                                            4.4,
                                            3,
                                            2.9,
                                            3.4,
                                            4.3,
                                            2.4,
                                            3.7,
                                            3.3,
                                            2.1,
                                            4.5,
                                            4.2,
                                            3.6,
                                            4.4,
                                            4.5,
                                            3.8,
                                            4.3,
                                            3.8,
                                            3.7,
                                            3.5,
                                            4,
                                            1.6,
                                            4.5,
                                            4.5,
                                            1.1,
                                            4.3,
                                            1.5,
                                            2.3,
                                            4,
                                            1.6,
                                            4.3,
                                            4.3,
                                            3,
                                            1,
                                            2.1,
                                            3.5,
                                            4.9,
                                            3.5,
                                            2,
                                            3.5,
                                            3.2,
                                            4.1,
                                            1.4,
                                            4,
                                            3.2,
                                            4.9,
                                            2.4,
                                            3.5,
                                            4.7,
                                            1.4,
                                            4.7,
                                            3.8,
                                            1.3,
                                            2.2,
                                            3.8,
                                            1.3,
                                            3.3,
                                            2.4,
                                            3.5,
                                            1.2,
                                            4.5,
                                            4.9,
                                            4.9,
                                            4,
                                            1.5,
                                            4,
                                            1.1,
                                            1.1,
                                            2.3,
                                            3,
                                            4.1,
                                            3.7,
                                            2.8,
                                            2.1,
                                            5,
                                            2.7,
                                            2.8,
                                            1.7,
                                            4.2,
                                            3.8,
                                            1.9,
                                            1.3,
                                            3.7,
                                            3.6,
                                            2.1,
                                            4.8,
                                            1.6,
                                            2.7,
                                            4.8,
                                            2.7,
                                            3.6,
                                            2.6,
                                            2.1,
                                            4.9,
                                            2.6,
                                            4.6,
                                            1.9,
                                            1.9,
                                            1.1,
                                            3.6,
                                            2.5,
                                            4.5,
                                            2.9,
                                            4.9,
                                            1.7,
                                            4.5,
                                            4.1,
                                            4.1,
                                            4.4,
                                            4,
                                            3.5,
                                            1.5,
                                            1.1,
                                            4.7,
                                            3.5,
                                            4.2,
                                            2.9,
                                            1.5,
                                            1.5,
                                            3.7,
                                            2.7,
                                            1.8,
                                            3,
                                            1.3,
                                            3.3,
                                            2.1,
                                            4.2,
                                            2.2,
                                            2.8,
                                            1,
                                            1.3,
                                            2.6,
                                            2.9,
                                            3.4,
                                            2.2,
                                            3.8,
                                            4.4,
                                            4.1,
                                            1.2,
                                            2.9,
                                            1.4,
                                            2,
                                            4.9,
                                            1.6,
                                            3,
                                            3.5,
                                            3.8,
                                            3.2,
                                            1,
                                            2.3,
                                            3.1,
                                            1.4,
                                            2.4,
                                            1.1,
                                            1.3,
                                            2.6,
                                            1.5,
                                            3.3,
                                            3.8,
                                            4.2,
                                            1.8,
                                            1.7,
                                            1.4,
                                            3.5,
                                            3.8,
                                            1.1,
                                            4.7,
                                            1.2,
                                            3.2,
                                            3.8,
                                            4.5,
                                            3.9,
                                            4.2,
                                            2.4,
                                            4.3,
                                            1.3,
                                            4.6,
                                            3.2,
                                            4.3,
                                            2.8,
                                            3.6,
                                            3.1,
                                            3.9,
                                            1.3,
                                            1.2,
                                            2,
                                            1.6,
                                            4.5,
                                            1.9,
                                            4.9,
                                            2.3,
                                            1.7,
                                            4.2,
                                            3.6,
                                            3,
                                            3.2,
                                            3.9,
                                            1.9,
                                            5,
                                            4.9,
                                            3.6,
                                            1.8,
                                            3.7,
                                            1.3,
                                            1.1,
                                            2,
                                            2.9,
                                            4.5,
                                            3.9,
                                            4,
                                            2.7,
                                            2.4,
                                            2.5,
                                            5,
                                            1.2,
                                            4.5,
                                            3.3,
                                            2.8,
                                            3.9,
                                            2.9,
                                            4.5,
                                            4.6,
                                            2.7,
                                            2.1,
                                            3.4,
                                            4.6,
                                            1.8,
                                            3.5,
                                            3.5,
                                            3.9,
                                            1.5,
                                            3.9,
                                            4.6,
                                            1.7,
                                            2,
                                            4.9,
                                            1.7,
                                            4.4,
                                            3,
                                            2,
                                            4.5,
                                            2.8,
                                            3.1,
                                            2.4,
                                            3.4,
                                            1.7,
                                            2.6,
                                            4.9,
                                            2,
                                            3.6,
                                            2.3,
                                            4.1,
                                            1.5,
                                            4.9,
                                            2.8,
                                            1.9,
                                            1.3,
                                            1.7,
                                            3.1,
                                            2.3,
                                            4.3,
                                            2.7,
                                            2,
                                            3.5,
                                            3.8,
                                            1.7,
                                            1.7,
                                            1.1,
                                            3.9,
                                            3.7,
                                            2.9,
                                            4.4,
                                            4.2,
                                            3.3,
                                            4.5,
                                            1.8,
                                            1.4,
                                            2.1,
                                            1.2,
                                            3.1,
                                            4.7,
                                            1.2,
                                            1.5,
                                            2.8,
                                            4.7,
                                            2.3,
                                            3,
                                            1.2,
                                            1.6,
                                            4.9,
                                            4.9,
                                            1,
                                            4.8,
                                            3.6,
                                            4.5,
                                            2.8,
                                            3.1,
                                            3,
                                            3.7,
                                            1.6,
                                            1.1,
                                            2.2,
                                            3.8,
                                            1.8,
                                            3.7,
                                            4.9,
                                            1.4,
                                            3.7,
                                            2.8,
                                            4.5,
                                            1.7,
                                            3.8,
                                            4.4,
                                            4.8,
                                            3.7,
                                            3,
                                            3.5,
                                            4.5,
                                            3.3,
                                            1.1,
                                            4.7,
                                            3.8,
                                            3.7,
                                            1.9,
                                            3.6,
                                            2.6,
                                            3.6,
                                            1.4,
                                            3.6,
                                            5,
                                            1.2,
                                            4.9,
                                            2.6,
                                            4.5,
                                            4.1,
                                            3.3,
                                            4,
                                            4.5,
                                            2.6,
                                            2.3,
                                            3.7,
                                            4.2,
                                            4,
                                            4.2,
                                            2.7,
                                            4.3,
                                            1.5,
                                            3.2,
                                            1,
                                            2.3,
                                            2.5,
                                            2.6,
                                            3.8,
                                            2.6,
                                            2.8,
                                            2,
                                            2.5,
                                            1.9,
                                            1.3,
                                            3.4,
                                            3.7,
                                            3.5,
                                            2.9,
                                            2.5,
                                            4.5,
                                            3.1,
                                            2.9,
                                            1.1,
                                            2.4,
                                            2.5,
                                            2.6,
                                            3.3,
                                            3.1,
                                            3.4,
                                            4.1,
                                            4.3,
                                            3.9,
                                            4.8,
                                            1.1,
                                            1.8,
                                            1,
                                            3.6,
                                            4.6,
                                            2,
                                            4.7,
                                            1.2,
                                            4.7,
                                            2.4,
                                            1.4,
                                            2.9,
                                            2,
                                            2.1,
                                            2.2,
                                            4.2,
                                            3.2,
                                            2.2,
                                            3.4,
                                            3.9,
                                            2.1,
                                            2.7,
                                            1.5,
                                            1.7,
                                            3.7,
                                            1.7,
                                            3.1,
                                            3.8,
                                            1.4,
                                            3.3,
                                            2,
                                            4.9,
                                            2.9,
                                            4.2,
                                            3.2,
                                            1.2,
                                            3.5,
                                            4.8,
                                            3.4,
                                            4.3,
                                            4.5,
                                            1.9,
                                            1.8,
                                            3.4,
                                            2.6,
                                            4.4,
                                            4.6,
                                            2.4,
                                            1.9,
                                            4.1,
                                            2.1,
                                            4.3,
                                            2.7,
                                            3.7,
                                            1.4,
                                            3.5,
                                            2.8,
                                            3.3,
                                            1.7,
                                            3.9,
                                            4.5,
                                            1.9,
                                            1.4,
                                            1.1,
                                            3.6,
                                            3.4,
                                            3.2,
                                            1.9,
                                            2.6,
                                            3.4,
                                            3,
                                            5,
                                            1.5,
                                            3.8,
                                            2.6,
                                            2.7,
                                            3.9,
                                            3.8,
                                            5,
                                            1.5,
                                            1.4,
                                            3.9,
                                            3.3,
                                            2.1,
                                            1.3,
                                            1.3,
                                            4.6,
                                            1.8,
                                            2.3,
                                            1.9,
                                            2.4,
                                            1.3,
                                            3.1,
                                            1.3,
                                            4.2,
                                            1.9,
                                            3.2,
                                            4.5,
                                            3.6,
                                            3.1,
                                            2.3,
                                            2.3,
                                            3.7,
                                            5,
                                            3.6,
                                            3.2,
                                            3.9,
                                            2.9,
                                            1.2,
                                            3.2,
                                            4.8,
                                            1.7,
                                            3.8,
                                            1.8,
                                            3.1,
                                            1.4,
                                            2.8,
                                            4,
                                            2.4,
                                            3.7,
                                            4.2,
                                            4.7,
                                            1.9,
                                            2.6,
                                            1.6,
                                            5,
                                            4.7,
                                            3.2,
                                            4.4,
                                            3.1,
                                            3.5,
                                            1.4,
                                            4,
                                            1.5,
                                            4.3,
                                            4.1,
                                            3.8,
                                            1.1,
                                            2.2,
                                            2.1,
                                            2.4,
                                            1.4,
                                            4.7,
                                            3.2,
                                            2.2,
                                            2.6,
                                            2.8,
                                            3.4,
                                            3.1,
                                            4.7,
                                            3,
                                            5,
                                            4.4,
                                            1.8,
                                            4.7,
                                            1.5,
                                            4.3,
                                            2.5,
                                            4.5,
                                            4.5,
                                            4.2,
                                            4.2,
                                            2.2,
                                            1.3,
                                            2.6,
                                            1.7,
                                            3.8,
                                            2.4,
                                            4.9,
                                            3.6,
                                            4.3,
                                            1.5,
                                            4.4,
                                            4.7,
                                            2.9,
                                            3.4,
                                            4.1,
                                            1.7,
                                            3,
                                            2.6,
                                            1.6,
                                            2.5,
                                            1.3,
                                            1.1,
                                            1.5,
                                            4.9,
                                            3.2,
                                            4.9,
                                            2.7,
                                            2.2,
                                            3,
                                            2.8,
                                            1.4,
                                            3.6,
                                            1.9,
                                            3.5,
                                            3.6,
                                            1.6,
                                            1.2,
                                            4.1,
                                            2.8,
                                            1.2,
                                            5,
                                            1.2,
                                            3.8,
                                            4.9,
                                            2,
                                            1.6,
                                            1.5,
                                            2.2,
                                            1.4,
                                            3.8,
                                            1.2,
                                            3,
                                            5,
                                            4.3,
                                            3.5,
                                            2.2,
                                            3.5,
                                            3.1,
                                            2.7,
                                            1.5,
                                            4.5,
                                            2.8,
                                            1.8,
                                            2.5,
                                            2.7,
                                            4.3,
                                            3.9,
                                            4.1,
                                            1,
                                            2.7,
                                            2.9,
                                            1.1,
                                            2,
                                            4,
                                            1.5,
                                            3.1,
                                            1.9,
                                            1,
                                            2,
                                            4.9,
                                            4.2,
                                            4.8,
                                            3,
                                            1.4,
                                            3.2,
                                            2.8,
                                            4.4,
                                            1.4,
                                            3,
                                            1.6,
                                            2.3,
                                            3.9,
                                            2.9,
                                            2.5,
                                            2.6,
                                            2.8,
                                            4.1,
                                            4.6,
                                            4.8,
                                            4.1,
                                            2.3,
                                            3.8,
                                            2.8,
                                            2,
                                            4.4,
                                            1.2,
                                            4.6,
                                            2.8,
                                            3.5,
                                            3.6,
                                            4.6,
                                            3.5,
                                            3.5,
                                            1.3,
                                            3.1,
                                            1.6,
                                            3.9,
                                            3,
                                            3.7,
                                            1.2,
                                            1.3,
                                            3.9,
                                            1.3,
                                            1.3,
                                            1,
                                            4.8,
                                            4,
                                            2.4,
                                            2.2,
                                            2.4,
                                            4.1,
                                            3.6,
                                            1.7,
                                            1.7,
                                            1.4,
                                            3.6,
                                            4.1,
                                            2.1,
                                            1.1,
                                            1.3,
                                            4.9,
                                            2.2,
                                            4.1,
                                            3.5,
                                            2.5,
                                            1.8,
                                            1.5,
                                            3.5,
                                            4.1,
                                            3.6,
                                            3.1,
                                            1.2,
                                            4.9,
                                            4.2,
                                            2.2,
                                            4.9,
                                            3.4,
                                            3.3,
                                            4,
                                            4.2,
                                            3.6,
                                            1.5,
                                            2.4,
                                            4.7,
                                            1.9,
                                            2.5,
                                            2.7,
                                            2.8,
                                            3.5,
                                            4.8,
                                            2,
                                            1.5,
                                            1.8,
                                            4.5,
                                            3.6,
                                            2.1,
                                            4.3,
                                            4.4,
                                            4.4,
                                            4.7,
                                            2,
                                            4,
                                            2.8,
                                            4.4,
                                            3.9,
                                            4.1,
                                            3.6,
                                            1.7,
                                            3.2,
                                            4.9,
                                            4.7,
                                            1.2,
                                            1.7,
                                            1.5,
                                            3.9,
                                            4.3,
                                            1.9,
                                            3,
                                            4.4,
                                            3.9,
                                            3.2,
                                            3.4,
                                            3,
                                            2.2,
                                            3.3,
                                            3.8,
                                            4.5,
                                            3.5,
                                            4,
                                            1.6,
                                            2.8,
                                            1,
                                            2,
                                            3.9,
                                            5,
                                            1.4,
                                            2.6,
                                            4.2,
                                            1.8,
                                            3.2,
                                            3.9,
                                            3.5,
                                            1.8,
                                            2.4,
                                            4.1,
                                            3.2,
                                            1,
                                            4,
                                            1.1,
                                            4,
                                            1.8,
                                            4.8,
                                            2.5,
                                            2.3,
                                            1.6,
                                            2.2,
                                            4.5,
                                            5,
                                            2.5,
                                            2.8,
                                            3.9,
                                            4.5,
                                            3.4,
                                            2.6,
                                            2.7,
                                            3.8,
                                            1,
                                            3.5,
                                            2.4,
                                            4.2,
                                            1.4,
                                            3.4,
                                            2.9,
                                            3.6,
                                            1.3,
                                            3.3,
                                            3.2,
                                            3.2,
                                            3.4,
                                            3.7,
                                            4.2,
                                            2.1,
                                            4.3,
                                            3,
                                            1.3,
                                            1.2,
                                            2.3,
                                            4.1,
                                            3.8,
                                            4.2,
                                            3.1,
                                            2.8,
                                            1.6,
                                            2.3,
                                            2.7,
                                            1.4,
                                            1.9,
                                            3.4,
                                            3.9,
                                            5,
                                            4.7,
                                            3.6,
                                            2.7,
                                            3.5,
                                            4.1,
                                            1.5,
                                            2.6,
                                            4.4,
                                            2.5,
                                            3.3,
                                            3.4,
                                            1.7,
                                            2.4,
                                            2.3,
                                            1.1,
                                            1.1,
                                            4.3,
                                            2.1,
                                            3.1,
                                            2.2,
                                            4.8,
                                            2,
                                            2.7,
                                            4.5,
                                            4.4,
                                            1.7,
                                            4.2,
                                            2.8,
                                            2.9,
                                            1.5,
                                            1.3,
                                            3.9,
                                            3,
                                            2.7,
                                            3.9,
                                            4.1,
                                            1.6,
                                            3.4,
                                            1.5,
                                            4,
                                            3.6,
                                            4.8,
                                            1.3,
                                            1.2,
                                            2.1
                                        ],
                                        "coloraxis": "coloraxis",
                                        "symbol": "circle"
                                    },
                                    "mode": "markers",
                                    "name": "",
                                    "orientation": "v",
                                    "showlegend": false,
                                    "type": "scatter",
                                    "x": [
                                        6421,
                                        6027,
                                        5580,
                                        5022,
                                        6094,
                                        6453,
                                        5298,
                                        4769,
                                        5677,
                                        4879,
                                        5366,
                                        5961,
                                        5218,
                                        4201,
                                        5864,
                                        6042,
                                        5259,
                                        4512,
                                        6169,
                                        7337,
                                        5424,
                                        5249,
                                        4835,
                                        6870,
                                        5493,
                                        5160,
                                        5335,
                                        6146,
                                        5594,
                                        4621,
                                        5511,
                                        5885,
                                        5779,
                                        5433,
                                        4794,
                                        6503,
                                        5032,
                                        6981,
                                        5756,
                                        6357,
                                        8030,
                                        6073,
                                        5718,
                                        6667,
                                        7847,
                                        5696,
                                        4126,
                                        5043,
                                        4800,
                                        5429,
                                        5656,
                                        5346,
                                        7920,
                                        6950,
                                        6926,
                                        5980,
                                        5031,
                                        5601,
                                        6056,
                                        5693,
                                        5994,
                                        4290,
                                        7049,
                                        7089,
                                        6216,
                                        5468,
                                        4226,
                                        5196,
                                        7330,
                                        6999,
                                        6766,
                                        6296,
                                        6143,
                                        7311,
                                        5885,
                                        5868,
                                        5279,
                                        7444,
                                        6068,
                                        6181,
                                        6182,
                                        5408,
                                        6176,
                                        7275,
                                        5265,
                                        6443,
                                        6304,
                                        5178,
                                        5990,
                                        5198,
                                        6054,
                                        4560,
                                        5403,
                                        5451,
                                        3539,
                                        5029,
                                        4691,
                                        5248,
                                        5846,
                                        5931,
                                        5718,
                                        5703,
                                        7292,
                                        5224,
                                        5714,
                                        7157,
                                        6969,
                                        6439,
                                        3885,
                                        7298,
                                        5977,
                                        5364,
                                        7567,
                                        7322,
                                        6104,
                                        7333,
                                        7243,
                                        4929,
                                        6363,
                                        6644,
                                        5439,
                                        5167,
                                        2972,
                                        5512,
                                        5568,
                                        4831,
                                        6678,
                                        5240,
                                        7350,
                                        4275,
                                        5174,
                                        5645,
                                        5677,
                                        5971,
                                        5797,
                                        3391,
                                        6521,
                                        5556,
                                        5710,
                                        6738,
                                        7374,
                                        5780,
                                        5255,
                                        4624,
                                        5682,
                                        7053,
                                        5299,
                                        7011,
                                        6536,
                                        4833,
                                        4292,
                                        8333,
                                        4675,
                                        5948,
                                        3804,
                                        5654,
                                        7440,
                                        4597,
                                        4191,
                                        7451,
                                        6735,
                                        6352,
                                        6831,
                                        7414,
                                        5939,
                                        7135,
                                        6147,
                                        6323,
                                        7757,
                                        5066,
                                        5721,
                                        6335,
                                        4040,
                                        8126,
                                        5383,
                                        6800,
                                        5578,
                                        4941,
                                        3443,
                                        8775,
                                        4475,
                                        5071,
                                        6450,
                                        6658,
                                        6909,
                                        6686,
                                        7562,
                                        5291,
                                        4515,
                                        6581,
                                        5867,
                                        5375,
                                        5357,
                                        6763,
                                        5214,
                                        7643,
                                        8418,
                                        6686,
                                        5118,
                                        4682,
                                        7130,
                                        4484,
                                        6505,
                                        3840,
                                        6940,
                                        7665,
                                        7003,
                                        5561,
                                        7534,
                                        5105,
                                        4708,
                                        4884,
                                        6816,
                                        4220,
                                        7745,
                                        4587,
                                        7320,
                                        6141,
                                        5900,
                                        7325,
                                        6335,
                                        6146,
                                        5616,
                                        9151,
                                        7695,
                                        6303,
                                        7171,
                                        7345,
                                        8282,
                                        5494,
                                        6805,
                                        6484,
                                        5038,
                                        6181,
                                        4665,
                                        5415,
                                        6904,
                                        6645,
                                        8724,
                                        7046,
                                        5779,
                                        6646,
                                        5511,
                                        6323,
                                        5392,
                                        6361,
                                        6343,
                                        6252,
                                        6815,
                                        7621,
                                        6600,
                                        5295,
                                        6281,
                                        6976,
                                        5435,
                                        4333,
                                        6138,
                                        5886,
                                        6761,
                                        4961,
                                        4358,
                                        6739,
                                        6025,
                                        5810,
                                        7442,
                                        7452,
                                        4687,
                                        3873,
                                        5081,
                                        6959,
                                        6998,
                                        5716,
                                        3943,
                                        5388,
                                        6717,
                                        7123,
                                        6782,
                                        3882,
                                        6293,
                                        6187,
                                        5888,
                                        4906,
                                        4883,
                                        5980,
                                        5244,
                                        8921,
                                        7184,
                                        6790,
                                        5306,
                                        7285,
                                        7203,
                                        4596,
                                        7285,
                                        5087,
                                        5434,
                                        6985,
                                        6849,
                                        5278,
                                        6935,
                                        5475,
                                        6103,
                                        5449,
                                        4542,
                                        6893,
                                        7412,
                                        7811,
                                        5845,
                                        6272,
                                        5757,
                                        5381,
                                        6062,
                                        5177,
                                        6368,
                                        7051,
                                        5632,
                                        6169,
                                        6177,
                                        4113,
                                        6153,
                                        5658,
                                        6957,
                                        6276,
                                        4237,
                                        6551,
                                        4626,
                                        7190,
                                        6811,
                                        4911,
                                        5274,
                                        6564,
                                        5515,
                                        6295,
                                        6500,
                                        5618,
                                        6389,
                                        6209,
                                        7467,
                                        5552,
                                        7210,
                                        4893,
                                        6194,
                                        5651,
                                        5656,
                                        6262,
                                        6395,
                                        5677,
                                        6768,
                                        6463,
                                        4304,
                                        6501,
                                        5593,
                                        4710,
                                        5269,
                                        7240,
                                        5987,
                                        5889,
                                        6301,
                                        3909,
                                        6175,
                                        8197,
                                        6017,
                                        7348,
                                        5306,
                                        6258,
                                        6197,
                                        5681,
                                        7214,
                                        5524,
                                        6124,
                                        7806,
                                        5535,
                                        6806,
                                        7194,
                                        6601,
                                        4914,
                                        6475,
                                        6379,
                                        5695,
                                        7039,
                                        5938,
                                        5374,
                                        5468,
                                        4675,
                                        5700,
                                        5816,
                                        4809,
                                        6137,
                                        7167,
                                        6842,
                                        7053,
                                        7370,
                                        5272,
                                        6193,
                                        5590,
                                        7384,
                                        6903,
                                        7355,
                                        5866,
                                        7479,
                                        4458,
                                        6487,
                                        4552,
                                        4341,
                                        6537,
                                        6199,
                                        5334,
                                        5113,
                                        5414,
                                        5845,
                                        5319,
                                        4709,
                                        6759,
                                        6550,
                                        5624,
                                        5718,
                                        5873,
                                        6790,
                                        5886,
                                        7839,
                                        4575,
                                        6230,
                                        6093,
                                        6830,
                                        4337,
                                        5489,
                                        5112,
                                        4985,
                                        4597,
                                        5154,
                                        5033,
                                        6275,
                                        6446,
                                        6193,
                                        6189,
                                        5550,
                                        6245,
                                        7867,
                                        5892,
                                        4440,
                                        7885,
                                        6377,
                                        5623,
                                        4464,
                                        7822,
                                        6464,
                                        6171,
                                        7002,
                                        4604,
                                        5828,
                                        6826,
                                        5545,
                                        5681,
                                        5801,
                                        6814,
                                        5958,
                                        7231,
                                        5447,
                                        5142,
                                        5644,
                                        6305,
                                        6011,
                                        6438,
                                        5650,
                                        6228,
                                        4602,
                                        5905,
                                        4885,
                                        4901,
                                        6293,
                                        5803,
                                        5590,
                                        5703,
                                        7474,
                                        6358,
                                        8085,
                                        7081,
                                        5118,
                                        6358,
                                        6698,
                                        6246,
                                        7533,
                                        8027,
                                        6366,
                                        3904,
                                        5095,
                                        5637,
                                        6750,
                                        6114,
                                        6259,
                                        6559,
                                        5899,
                                        5486,
                                        7077,
                                        5697,
                                        5646,
                                        5704,
                                        6707,
                                        4198,
                                        6257,
                                        4477,
                                        8272,
                                        8256,
                                        6914,
                                        5999,
                                        7102,
                                        6205,
                                        5593,
                                        4625,
                                        4668,
                                        6495,
                                        4355,
                                        5067,
                                        5416,
                                        5806,
                                        4808,
                                        5719,
                                        5987,
                                        5391,
                                        5472,
                                        6003,
                                        6911,
                                        6131,
                                        7351,
                                        4628,
                                        7002,
                                        6927,
                                        5517,
                                        5736,
                                        5767,
                                        5907,
                                        7193,
                                        7530,
                                        6754,
                                        6104,
                                        6434,
                                        5489,
                                        6271,
                                        5833,
                                        6001,
                                        5856,
                                        6382,
                                        7614,
                                        7391,
                                        3564,
                                        6007,
                                        6175,
                                        5616,
                                        6537,
                                        6282,
                                        6626,
                                        6018,
                                        6018,
                                        5603,
                                        5920,
                                        6070,
                                        5868,
                                        5636,
                                        6659,
                                        5769,
                                        6316,
                                        6828,
                                        6247,
                                        5695,
                                        6914,
                                        5471,
                                        6274,
                                        5303,
                                        8097,
                                        5655,
                                        7506,
                                        6630,
                                        5592,
                                        5820,
                                        6603,
                                        6019,
                                        5585,
                                        6305,
                                        6737,
                                        5592,
                                        5759,
                                        6690,
                                        5746,
                                        6218,
                                        4859,
                                        6489,
                                        6616,
                                        5484,
                                        5762,
                                        5161,
                                        5610,
                                        7166,
                                        4102,
                                        6213,
                                        4922,
                                        5827,
                                        6381,
                                        6489,
                                        5030,
                                        5891,
                                        4391,
                                        5842,
                                        4992,
                                        5374,
                                        6335,
                                        6772,
                                        6264,
                                        7709,
                                        6146,
                                        5990,
                                        7055,
                                        6468,
                                        6425,
                                        6094,
                                        7629,
                                        7370,
                                        5394,
                                        6067,
                                        5439,
                                        6359,
                                        5584,
                                        6174,
                                        6508,
                                        5642,
                                        6148,
                                        3641,
                                        6525,
                                        5732,
                                        7121,
                                        7561,
                                        5608,
                                        6435,
                                        6028,
                                        6252,
                                        7160,
                                        4782,
                                        5649,
                                        6703,
                                        6718,
                                        6295,
                                        8072,
                                        6303,
                                        5782,
                                        5590,
                                        5524,
                                        5159,
                                        6028,
                                        5516,
                                        5849,
                                        5929,
                                        6090,
                                        6435,
                                        5969,
                                        5019,
                                        6624,
                                        6432,
                                        6276,
                                        6770,
                                        7093,
                                        5528,
                                        5536,
                                        5633,
                                        5641,
                                        4175,
                                        4780,
                                        5306,
                                        3301,
                                        6286,
                                        6335,
                                        4762,
                                        5192,
                                        4777,
                                        6287,
                                        6534,
                                        6655,
                                        6425,
                                        7038,
                                        6474,
                                        5815,
                                        6192,
                                        4607,
                                        5508,
                                        6744,
                                        6307,
                                        7758,
                                        6207,
                                        8214,
                                        6449,
                                        5480,
                                        7020,
                                        6582,
                                        5685,
                                        3162,
                                        7170,
                                        6233,
                                        5801,
                                        5464,
                                        4868,
                                        5925,
                                        5738,
                                        4525,
                                        6992,
                                        6467,
                                        5391,
                                        6173,
                                        6694,
                                        4628,
                                        5303,
                                        5337,
                                        5582,
                                        3946,
                                        7149,
                                        6037,
                                        5887,
                                        5373,
                                        5487,
                                        6507,
                                        5717,
                                        4652,
                                        5175,
                                        4665,
                                        6288,
                                        6456,
                                        5763,
                                        7481,
                                        6159,
                                        5260,
                                        6551,
                                        4708,
                                        5057,
                                        7915,
                                        6507,
                                        5348,
                                        7034,
                                        8914,
                                        6459,
                                        7684,
                                        6795,
                                        5846,
                                        5958,
                                        5753,
                                        6520,
                                        5492,
                                        6902,
                                        5937,
                                        6908,
                                        6163,
                                        5790,
                                        7092,
                                        5565,
                                        7552,
                                        5732,
                                        7484,
                                        7207,
                                        5525,
                                        6415,
                                        4023,
                                        6995,
                                        5633,
                                        6236,
                                        6328,
                                        6985,
                                        6572,
                                        6409,
                                        5713,
                                        7968,
                                        7253,
                                        5547,
                                        6503,
                                        6389,
                                        6127,
                                        5772,
                                        6717,
                                        5032,
                                        5044,
                                        5717,
                                        6978,
                                        5627,
                                        4203,
                                        7041,
                                        7340,
                                        5321,
                                        5812,
                                        5680,
                                        5880,
                                        5663,
                                        3286,
                                        6286,
                                        7641,
                                        6105,
                                        7145,
                                        7256,
                                        6824,
                                        4233,
                                        4669,
                                        4740,
                                        6064,
                                        7298,
                                        5101,
                                        4992,
                                        5477,
                                        4275,
                                        7150,
                                        5523,
                                        3646,
                                        5764,
                                        7325,
                                        5808,
                                        4596,
                                        6394,
                                        6528,
                                        6962,
                                        4838,
                                        7220,
                                        4999,
                                        3551,
                                        5636,
                                        8326,
                                        5973,
                                        5998,
                                        5981,
                                        7339,
                                        8337,
                                        7792,
                                        4638,
                                        6728,
                                        5535,
                                        4034,
                                        7487,
                                        6071,
                                        5368,
                                        7442,
                                        5480,
                                        6141,
                                        5089,
                                        7011,
                                        5154,
                                        5638,
                                        5693,
                                        7186,
                                        7484,
                                        6558,
                                        5507,
                                        4650,
                                        5682,
                                        6618,
                                        5392,
                                        6371,
                                        6956,
                                        5497,
                                        7343,
                                        5354,
                                        6230,
                                        8765,
                                        6310,
                                        6545,
                                        8212,
                                        6010,
                                        6385,
                                        5497,
                                        5230,
                                        5903,
                                        5771,
                                        5450,
                                        5376,
                                        6801,
                                        5335,
                                        6217,
                                        6319,
                                        6676,
                                        5463,
                                        6419,
                                        5483,
                                        4681,
                                        7348,
                                        7226,
                                        4406,
                                        6163,
                                        7315,
                                        4498,
                                        6666,
                                        5058,
                                        5682,
                                        6392,
                                        6176,
                                        4846,
                                        7615,
                                        4334,
                                        6327,
                                        7135,
                                        5767,
                                        4739,
                                        6905,
                                        4965,
                                        5223,
                                        6064,
                                        5715,
                                        6379,
                                        5741,
                                        6117,
                                        6204,
                                        4702,
                                        5706,
                                        4555,
                                        5030,
                                        8783,
                                        5553,
                                        6543,
                                        7210,
                                        6871,
                                        3936,
                                        5207,
                                        5114,
                                        5649,
                                        7474,
                                        6669,
                                        5997,
                                        8361,
                                        6768,
                                        6438,
                                        6777,
                                        5018,
                                        5663,
                                        5263,
                                        8525,
                                        6401,
                                        6673,
                                        5687,
                                        6010,
                                        3959,
                                        6508,
                                        6846,
                                        5234,
                                        6702,
                                        5954,
                                        5013,
                                        7522,
                                        8459,
                                        5166,
                                        6537,
                                        5953,
                                        7083,
                                        7474,
                                        6610,
                                        7302,
                                        7208,
                                        6367,
                                        5974,
                                        7648,
                                        6226,
                                        4563,
                                        6910,
                                        5750,
                                        5938,
                                        6363,
                                        4807,
                                        5849,
                                        4857,
                                        4932,
                                        6426,
                                        5700,
                                        7237,
                                        7318,
                                        5896,
                                        6051,
                                        5918,
                                        5133,
                                        6221,
                                        6834,
                                        5934,
                                        5974,
                                        6570,
                                        6892,
                                        5511,
                                        4909,
                                        5922,
                                        5857,
                                        5903,
                                        5092,
                                        4250,
                                        5530,
                                        6558,
                                        5020,
                                        6466,
                                        4279,
                                        4931,
                                        5965,
                                        7116,
                                        5336,
                                        5359,
                                        7675,
                                        6628,
                                        4978,
                                        5302,
                                        3842,
                                        6726,
                                        5515,
                                        4511,
                                        5527,
                                        4546,
                                        7486
                                    ],
                                    "xaxis": "x",
                                    "y": [
                                        1.7,
                                        3.2,
                                        4.5,
                                        3.9,
                                        4.2,
                                        3.6,
                                        3.8,
                                        4.4,
                                        2,
                                        3,
                                        1.9,
                                        5,
                                        4.8,
                                        1.2,
                                        3.8,
                                        4.7,
                                        1.7,
                                        3.3,
                                        4.7,
                                        1.1,
                                        3.8,
                                        2.2,
                                        4.7,
                                        4.9,
                                        4.8,
                                        2.9,
                                        4.4,
                                        4.4,
                                        2.3,
                                        4.3,
                                        1.1,
                                        3.4,
                                        1.9,
                                        1.5,
                                        1.3,
                                        3.8,
                                        2.4,
                                        3.9,
                                        1.3,
                                        2.3,
                                        3.2,
                                        4.2,
                                        2.3,
                                        3.5,
                                        4.5,
                                        3.5,
                                        1.9,
                                        1.1,
                                        4.5,
                                        1.1,
                                        4.5,
                                        3.1,
                                        4.8,
                                        4.2,
                                        5,
                                        2.4,
                                        4.1,
                                        2.6,
                                        2.9,
                                        3.5,
                                        4.5,
                                        4.9,
                                        4.1,
                                        2.7,
                                        2.7,
                                        4,
                                        2,
                                        1.4,
                                        2.4,
                                        2.1,
                                        2.2,
                                        1.9,
                                        1.2,
                                        1.1,
                                        5,
                                        2.7,
                                        2.5,
                                        3.7,
                                        1.9,
                                        4.8,
                                        4.1,
                                        1.4,
                                        2.7,
                                        4.5,
                                        4.8,
                                        2.9,
                                        3.5,
                                        1.7,
                                        5,
                                        1.9,
                                        4.8,
                                        3.6,
                                        3.4,
                                        3.1,
                                        1.9,
                                        1.7,
                                        1.9,
                                        1.7,
                                        4.1,
                                        2.4,
                                        1.2,
                                        4.9,
                                        4.5,
                                        4.7,
                                        5,
                                        1.7,
                                        2.6,
                                        4,
                                        3.8,
                                        1.6,
                                        4.3,
                                        1.9,
                                        1.9,
                                        3.1,
                                        3.4,
                                        3.3,
                                        1.4,
                                        4.5,
                                        2.1,
                                        1.5,
                                        4.6,
                                        4.8,
                                        4.4,
                                        4.2,
                                        3.6,
                                        3.2,
                                        1.3,
                                        2.6,
                                        2.5,
                                        2,
                                        3.9,
                                        3,
                                        1.3,
                                        1.9,
                                        3.7,
                                        1.3,
                                        4.4,
                                        3,
                                        2.9,
                                        3.4,
                                        4.3,
                                        2.4,
                                        3.7,
                                        3.3,
                                        2.1,
                                        4.5,
                                        4.2,
                                        3.6,
                                        4.4,
                                        4.5,
                                        3.8,
                                        4.3,
                                        3.8,
                                        3.7,
                                        3.5,
                                        4,
                                        1.6,
                                        4.5,
                                        4.5,
                                        1.1,
                                        4.3,
                                        1.5,
                                        2.3,
                                        4,
                                        1.6,
                                        4.3,
                                        4.3,
                                        3,
                                        1,
                                        2.1,
                                        3.5,
                                        4.9,
                                        3.5,
                                        2,
                                        3.5,
                                        3.2,
                                        4.1,
                                        1.4,
                                        4,
                                        3.2,
                                        4.9,
                                        2.4,
                                        3.5,
                                        4.7,
                                        1.4,
                                        4.7,
                                        3.8,
                                        1.3,
                                        2.2,
                                        3.8,
                                        1.3,
                                        3.3,
                                        2.4,
                                        3.5,
                                        1.2,
                                        4.5,
                                        4.9,
                                        4.9,
                                        4,
                                        1.5,
                                        4,
                                        1.1,
                                        1.1,
                                        2.3,
                                        3,
                                        4.1,
                                        3.7,
                                        2.8,
                                        2.1,
                                        5,
                                        2.7,
                                        2.8,
                                        1.7,
                                        4.2,
                                        3.8,
                                        1.9,
                                        1.3,
                                        3.7,
                                        3.6,
                                        2.1,
                                        4.8,
                                        1.6,
                                        2.7,
                                        4.8,
                                        2.7,
                                        3.6,
                                        2.6,
                                        2.1,
                                        4.9,
                                        2.6,
                                        4.6,
                                        1.9,
                                        1.9,
                                        1.1,
                                        3.6,
                                        2.5,
                                        4.5,
                                        2.9,
                                        4.9,
                                        1.7,
                                        4.5,
                                        4.1,
                                        4.1,
                                        4.4,
                                        4,
                                        3.5,
                                        1.5,
                                        1.1,
                                        4.7,
                                        3.5,
                                        4.2,
                                        2.9,
                                        1.5,
                                        1.5,
                                        3.7,
                                        2.7,
                                        1.8,
                                        3,
                                        1.3,
                                        3.3,
                                        2.1,
                                        4.2,
                                        2.2,
                                        2.8,
                                        1,
                                        1.3,
                                        2.6,
                                        2.9,
                                        3.4,
                                        2.2,
                                        3.8,
                                        4.4,
                                        4.1,
                                        1.2,
                                        2.9,
                                        1.4,
                                        2,
                                        4.9,
                                        1.6,
                                        3,
                                        3.5,
                                        3.8,
                                        3.2,
                                        1,
                                        2.3,
                                        3.1,
                                        1.4,
                                        2.4,
                                        1.1,
                                        1.3,
                                        2.6,
                                        1.5,
                                        3.3,
                                        3.8,
                                        4.2,
                                        1.8,
                                        1.7,
                                        1.4,
                                        3.5,
                                        3.8,
                                        1.1,
                                        4.7,
                                        1.2,
                                        3.2,
                                        3.8,
                                        4.5,
                                        3.9,
                                        4.2,
                                        2.4,
                                        4.3,
                                        1.3,
                                        4.6,
                                        3.2,
                                        4.3,
                                        2.8,
                                        3.6,
                                        3.1,
                                        3.9,
                                        1.3,
                                        1.2,
                                        2,
                                        1.6,
                                        4.5,
                                        1.9,
                                        4.9,
                                        2.3,
                                        1.7,
                                        4.2,
                                        3.6,
                                        3,
                                        3.2,
                                        3.9,
                                        1.9,
                                        5,
                                        4.9,
                                        3.6,
                                        1.8,
                                        3.7,
                                        1.3,
                                        1.1,
                                        2,
                                        2.9,
                                        4.5,
                                        3.9,
                                        4,
                                        2.7,
                                        2.4,
                                        2.5,
                                        5,
                                        1.2,
                                        4.5,
                                        3.3,
                                        2.8,
                                        3.9,
                                        2.9,
                                        4.5,
                                        4.6,
                                        2.7,
                                        2.1,
                                        3.4,
                                        4.6,
                                        1.8,
                                        3.5,
                                        3.5,
                                        3.9,
                                        1.5,
                                        3.9,
                                        4.6,
                                        1.7,
                                        2,
                                        4.9,
                                        1.7,
                                        4.4,
                                        3,
                                        2,
                                        4.5,
                                        2.8,
                                        3.1,
                                        2.4,
                                        3.4,
                                        1.7,
                                        2.6,
                                        4.9,
                                        2,
                                        3.6,
                                        2.3,
                                        4.1,
                                        1.5,
                                        4.9,
                                        2.8,
                                        1.9,
                                        1.3,
                                        1.7,
                                        3.1,
                                        2.3,
                                        4.3,
                                        2.7,
                                        2,
                                        3.5,
                                        3.8,
                                        1.7,
                                        1.7,
                                        1.1,
                                        3.9,
                                        3.7,
                                        2.9,
                                        4.4,
                                        4.2,
                                        3.3,
                                        4.5,
                                        1.8,
                                        1.4,
                                        2.1,
                                        1.2,
                                        3.1,
                                        4.7,
                                        1.2,
                                        1.5,
                                        2.8,
                                        4.7,
                                        2.3,
                                        3,
                                        1.2,
                                        1.6,
                                        4.9,
                                        4.9,
                                        1,
                                        4.8,
                                        3.6,
                                        4.5,
                                        2.8,
                                        3.1,
                                        3,
                                        3.7,
                                        1.6,
                                        1.1,
                                        2.2,
                                        3.8,
                                        1.8,
                                        3.7,
                                        4.9,
                                        1.4,
                                        3.7,
                                        2.8,
                                        4.5,
                                        1.7,
                                        3.8,
                                        4.4,
                                        4.8,
                                        3.7,
                                        3,
                                        3.5,
                                        4.5,
                                        3.3,
                                        1.1,
                                        4.7,
                                        3.8,
                                        3.7,
                                        1.9,
                                        3.6,
                                        2.6,
                                        3.6,
                                        1.4,
                                        3.6,
                                        5,
                                        1.2,
                                        4.9,
                                        2.6,
                                        4.5,
                                        4.1,
                                        3.3,
                                        4,
                                        4.5,
                                        2.6,
                                        2.3,
                                        3.7,
                                        4.2,
                                        4,
                                        4.2,
                                        2.7,
                                        4.3,
                                        1.5,
                                        3.2,
                                        1,
                                        2.3,
                                        2.5,
                                        2.6,
                                        3.8,
                                        2.6,
                                        2.8,
                                        2,
                                        2.5,
                                        1.9,
                                        1.3,
                                        3.4,
                                        3.7,
                                        3.5,
                                        2.9,
                                        2.5,
                                        4.5,
                                        3.1,
                                        2.9,
                                        1.1,
                                        2.4,
                                        2.5,
                                        2.6,
                                        3.3,
                                        3.1,
                                        3.4,
                                        4.1,
                                        4.3,
                                        3.9,
                                        4.8,
                                        1.1,
                                        1.8,
                                        1,
                                        3.6,
                                        4.6,
                                        2,
                                        4.7,
                                        1.2,
                                        4.7,
                                        2.4,
                                        1.4,
                                        2.9,
                                        2,
                                        2.1,
                                        2.2,
                                        4.2,
                                        3.2,
                                        2.2,
                                        3.4,
                                        3.9,
                                        2.1,
                                        2.7,
                                        1.5,
                                        1.7,
                                        3.7,
                                        1.7,
                                        3.1,
                                        3.8,
                                        1.4,
                                        3.3,
                                        2,
                                        4.9,
                                        2.9,
                                        4.2,
                                        3.2,
                                        1.2,
                                        3.5,
                                        4.8,
                                        3.4,
                                        4.3,
                                        4.5,
                                        1.9,
                                        1.8,
                                        3.4,
                                        2.6,
                                        4.4,
                                        4.6,
                                        2.4,
                                        1.9,
                                        4.1,
                                        2.1,
                                        4.3,
                                        2.7,
                                        3.7,
                                        1.4,
                                        3.5,
                                        2.8,
                                        3.3,
                                        1.7,
                                        3.9,
                                        4.5,
                                        1.9,
                                        1.4,
                                        1.1,
                                        3.6,
                                        3.4,
                                        3.2,
                                        1.9,
                                        2.6,
                                        3.4,
                                        3,
                                        5,
                                        1.5,
                                        3.8,
                                        2.6,
                                        2.7,
                                        3.9,
                                        3.8,
                                        5,
                                        1.5,
                                        1.4,
                                        3.9,
                                        3.3,
                                        2.1,
                                        1.3,
                                        1.3,
                                        4.6,
                                        1.8,
                                        2.3,
                                        1.9,
                                        2.4,
                                        1.3,
                                        3.1,
                                        1.3,
                                        4.2,
                                        1.9,
                                        3.2,
                                        4.5,
                                        3.6,
                                        3.1,
                                        2.3,
                                        2.3,
                                        3.7,
                                        5,
                                        3.6,
                                        3.2,
                                        3.9,
                                        2.9,
                                        1.2,
                                        3.2,
                                        4.8,
                                        1.7,
                                        3.8,
                                        1.8,
                                        3.1,
                                        1.4,
                                        2.8,
                                        4,
                                        2.4,
                                        3.7,
                                        4.2,
                                        4.7,
                                        1.9,
                                        2.6,
                                        1.6,
                                        5,
                                        4.7,
                                        3.2,
                                        4.4,
                                        3.1,
                                        3.5,
                                        1.4,
                                        4,
                                        1.5,
                                        4.3,
                                        4.1,
                                        3.8,
                                        1.1,
                                        2.2,
                                        2.1,
                                        2.4,
                                        1.4,
                                        4.7,
                                        3.2,
                                        2.2,
                                        2.6,
                                        2.8,
                                        3.4,
                                        3.1,
                                        4.7,
                                        3,
                                        5,
                                        4.4,
                                        1.8,
                                        4.7,
                                        1.5,
                                        4.3,
                                        2.5,
                                        4.5,
                                        4.5,
                                        4.2,
                                        4.2,
                                        2.2,
                                        1.3,
                                        2.6,
                                        1.7,
                                        3.8,
                                        2.4,
                                        4.9,
                                        3.6,
                                        4.3,
                                        1.5,
                                        4.4,
                                        4.7,
                                        2.9,
                                        3.4,
                                        4.1,
                                        1.7,
                                        3,
                                        2.6,
                                        1.6,
                                        2.5,
                                        1.3,
                                        1.1,
                                        1.5,
                                        4.9,
                                        3.2,
                                        4.9,
                                        2.7,
                                        2.2,
                                        3,
                                        2.8,
                                        1.4,
                                        3.6,
                                        1.9,
                                        3.5,
                                        3.6,
                                        1.6,
                                        1.2,
                                        4.1,
                                        2.8,
                                        1.2,
                                        5,
                                        1.2,
                                        3.8,
                                        4.9,
                                        2,
                                        1.6,
                                        1.5,
                                        2.2,
                                        1.4,
                                        3.8,
                                        1.2,
                                        3,
                                        5,
                                        4.3,
                                        3.5,
                                        2.2,
                                        3.5,
                                        3.1,
                                        2.7,
                                        1.5,
                                        4.5,
                                        2.8,
                                        1.8,
                                        2.5,
                                        2.7,
                                        4.3,
                                        3.9,
                                        4.1,
                                        1,
                                        2.7,
                                        2.9,
                                        1.1,
                                        2,
                                        4,
                                        1.5,
                                        3.1,
                                        1.9,
                                        1,
                                        2,
                                        4.9,
                                        4.2,
                                        4.8,
                                        3,
                                        1.4,
                                        3.2,
                                        2.8,
                                        4.4,
                                        1.4,
                                        3,
                                        1.6,
                                        2.3,
                                        3.9,
                                        2.9,
                                        2.5,
                                        2.6,
                                        2.8,
                                        4.1,
                                        4.6,
                                        4.8,
                                        4.1,
                                        2.3,
                                        3.8,
                                        2.8,
                                        2,
                                        4.4,
                                        1.2,
                                        4.6,
                                        2.8,
                                        3.5,
                                        3.6,
                                        4.6,
                                        3.5,
                                        3.5,
                                        1.3,
                                        3.1,
                                        1.6,
                                        3.9,
                                        3,
                                        3.7,
                                        1.2,
                                        1.3,
                                        3.9,
                                        1.3,
                                        1.3,
                                        1,
                                        4.8,
                                        4,
                                        2.4,
                                        2.2,
                                        2.4,
                                        4.1,
                                        3.6,
                                        1.7,
                                        1.7,
                                        1.4,
                                        3.6,
                                        4.1,
                                        2.1,
                                        1.1,
                                        1.3,
                                        4.9,
                                        2.2,
                                        4.1,
                                        3.5,
                                        2.5,
                                        1.8,
                                        1.5,
                                        3.5,
                                        4.1,
                                        3.6,
                                        3.1,
                                        1.2,
                                        4.9,
                                        4.2,
                                        2.2,
                                        4.9,
                                        3.4,
                                        3.3,
                                        4,
                                        4.2,
                                        3.6,
                                        1.5,
                                        2.4,
                                        4.7,
                                        1.9,
                                        2.5,
                                        2.7,
                                        2.8,
                                        3.5,
                                        4.8,
                                        2,
                                        1.5,
                                        1.8,
                                        4.5,
                                        3.6,
                                        2.1,
                                        4.3,
                                        4.4,
                                        4.4,
                                        4.7,
                                        2,
                                        4,
                                        2.8,
                                        4.4,
                                        3.9,
                                        4.1,
                                        3.6,
                                        1.7,
                                        3.2,
                                        4.9,
                                        4.7,
                                        1.2,
                                        1.7,
                                        1.5,
                                        3.9,
                                        4.3,
                                        1.9,
                                        3,
                                        4.4,
                                        3.9,
                                        3.2,
                                        3.4,
                                        3,
                                        2.2,
                                        3.3,
                                        3.8,
                                        4.5,
                                        3.5,
                                        4,
                                        1.6,
                                        2.8,
                                        1,
                                        2,
                                        3.9,
                                        5,
                                        1.4,
                                        2.6,
                                        4.2,
                                        1.8,
                                        3.2,
                                        3.9,
                                        3.5,
                                        1.8,
                                        2.4,
                                        4.1,
                                        3.2,
                                        1,
                                        4,
                                        1.1,
                                        4,
                                        1.8,
                                        4.8,
                                        2.5,
                                        2.3,
                                        1.6,
                                        2.2,
                                        4.5,
                                        5,
                                        2.5,
                                        2.8,
                                        3.9,
                                        4.5,
                                        3.4,
                                        2.6,
                                        2.7,
                                        3.8,
                                        1,
                                        3.5,
                                        2.4,
                                        4.2,
                                        1.4,
                                        3.4,
                                        2.9,
                                        3.6,
                                        1.3,
                                        3.3,
                                        3.2,
                                        3.2,
                                        3.4,
                                        3.7,
                                        4.2,
                                        2.1,
                                        4.3,
                                        3,
                                        1.3,
                                        1.2,
                                        2.3,
                                        4.1,
                                        3.8,
                                        4.2,
                                        3.1,
                                        2.8,
                                        1.6,
                                        2.3,
                                        2.7,
                                        1.4,
                                        1.9,
                                        3.4,
                                        3.9,
                                        5,
                                        4.7,
                                        3.6,
                                        2.7,
                                        3.5,
                                        4.1,
                                        1.5,
                                        2.6,
                                        4.4,
                                        2.5,
                                        3.3,
                                        3.4,
                                        1.7,
                                        2.4,
                                        2.3,
                                        1.1,
                                        1.1,
                                        4.3,
                                        2.1,
                                        3.1,
                                        2.2,
                                        4.8,
                                        2,
                                        2.7,
                                        4.5,
                                        4.4,
                                        1.7,
                                        4.2,
                                        2.8,
                                        2.9,
                                        1.5,
                                        1.3,
                                        3.9,
                                        3,
                                        2.7,
                                        3.9,
                                        4.1,
                                        1.6,
                                        3.4,
                                        1.5,
                                        4,
                                        3.6,
                                        4.8,
                                        1.3,
                                        1.2,
                                        2.1
                                    ],
                                    "yaxis": "y"
                                }
                            ],
                            "layout": {
                                "coloraxis": {
                                    "colorbar": {
                                        "title": {
                                            "text": "Score de Review"
                                        }
                                    },
                                    "colorscale": [
                                        [
                                            0,
                                            "#440154"
                                        ],
                                        [
                                            0.1111111111111111,
                                            "#482878"
                                        ],
                                        [
                                            0.2222222222222222,
                                            "#3e4989"
                                        ],
                                        [
                                            0.3333333333333333,
                                            "#31688e"
                                        ],
                                        [
                                            0.4444444444444444,
                                            "#26828e"
                                        ],
                                        [
                                            0.5555555555555556,
                                            "#1f9e89"
                                        ],
                                        [
                                            0.6666666666666666,
                                            "#35b779"
                                        ],
                                        [
                                            0.7777777777777778,
                                            "#6ece58"
                                        ],
                                        [
                                            0.8888888888888888,
                                            "#b5de2b"
                                        ],
                                        [
                                            1,
                                            "#fde725"
                                        ]
                                    ]
                                },
                                "legend": {
                                    "tracegroupgap": 0
                                },
                                "template": {
                                    "data": {
                                        "bar": [
                                            {
                                                "error_x": {
                                                    "color": "#2a3f5f"
                                                },
                                                "error_y": {
                                                    "color": "#2a3f5f"
                                                },
                                                "marker": {
                                                    "line": {
                                                        "color": "#E5ECF6",
                                                        "width": 0.5
                                                    },
                                                    "pattern": {
                                                        "fillmode": "overlay",
                                                        "size": 10,
                                                        "solidity": 0.2
                                                    }
                                                },
                                                "type": "bar"
                                            }
                                        ],
                                        "barpolar": [
                                            {
                                                "marker": {
                                                    "line": {
                                                        "color": "#E5ECF6",
                                                        "width": 0.5
                                                    },
                                                    "pattern": {
                                                        "fillmode": "overlay",
                                                        "size": 10,
                                                        "solidity": 0.2
                                                    }
                                                },
                                                "type": "barpolar"
                                            }
                                        ],
                                        "carpet": [
                                            {
                                                "aaxis": {
                                                    "endlinecolor": "#2a3f5f",
                                                    "gridcolor": "white",
                                                    "linecolor": "white",
                                                    "minorgridcolor": "white",
                                                    "startlinecolor": "#2a3f5f"
                                                },
                                                "baxis": {
                                                    "endlinecolor": "#2a3f5f",
                                                    "gridcolor": "white",
                                                    "linecolor": "white",
                                                    "minorgridcolor": "white",
                                                    "startlinecolor": "#2a3f5f"
                                                },
                                                "type": "carpet"
                                            }
                                        ],
                                        "choropleth": [
                                            {
                                                "colorbar": {
                                                    "outlinewidth": 0,
                                                    "ticks": ""
                                                },
                                                "type": "choropleth"
                                            }
                                        ],
                                        "contour": [
                                            {
                                                "colorbar": {
                                                    "outlinewidth": 0,
                                                    "ticks": ""
                                                },
                                                "colorscale": [
                                                    [
                                                        0,
                                                        "#0d0887"
                                                    ],
                                                    [
                                                        0.1111111111111111,
                                                        "#46039f"
                                                    ],
                                                    [
                                                        0.2222222222222222,
                                                        "#7201a8"
                                                    ],
                                                    [
                                                        0.3333333333333333,
                                                        "#9c179e"
                                                    ],
                                                    [
                                                        0.4444444444444444,
                                                        "#bd3786"
                                                    ],
                                                    [
                                                        0.5555555555555556,
                                                        "#d8576b"
                                                    ],
                                                    [
                                                        0.6666666666666666,
                                                        "#ed7953"
                                                    ],
                                                    [
                                                        0.7777777777777778,
                                                        "#fb9f3a"
                                                    ],
                                                    [
                                                        0.8888888888888888,
                                                        "#fdca26"
                                                    ],
                                                    [
                                                        1,
                                                        "#f0f921"
                                                    ]
                                                ],
                                                "type": "contour"
                                            }
                                        ],
                                        "contourcarpet": [
                                            {
                                                "colorbar": {
                                                    "outlinewidth": 0,
                                                    "ticks": ""
                                                },
                                                "type": "contourcarpet"
                                            }
                                        ],
                                        "heatmap": [
                                            {
                                                "colorbar": {
                                                    "outlinewidth": 0,
                                                    "ticks": ""
                                                },
                                                "colorscale": [
                                                    [
                                                        0,
                                                        "#0d0887"
                                                    ],
                                                    [
                                                        0.1111111111111111,
                                                        "#46039f"
                                                    ],
                                                    [
                                                        0.2222222222222222,
                                                        "#7201a8"
                                                    ],
                                                    [
                                                        0.3333333333333333,
                                                        "#9c179e"
                                                    ],
                                                    [
                                                        0.4444444444444444,
                                                        "#bd3786"
                                                    ],
                                                    [
                                                        0.5555555555555556,
                                                        "#d8576b"
                                                    ],
                                                    [
                                                        0.6666666666666666,
                                                        "#ed7953"
                                                    ],
                                                    [
                                                        0.7777777777777778,
                                                        "#fb9f3a"
                                                    ],
                                                    [
                                                        0.8888888888888888,
                                                        "#fdca26"
                                                    ],
                                                    [
                                                        1,
                                                        "#f0f921"
                                                    ]
                                                ],
                                                "type": "heatmap"
                                            }
                                        ],
                                        "heatmapgl": [
                                            {
                                                "colorbar": {
                                                    "outlinewidth": 0,
                                                    "ticks": ""
                                                },
                                                "colorscale": [
                                                    [
                                                        0,
                                                        "#0d0887"
                                                    ],
                                                    [
                                                        0.1111111111111111,
                                                        "#46039f"
                                                    ],
                                                    [
                                                        0.2222222222222222,
                                                        "#7201a8"
                                                    ],
                                                    [
                                                        0.3333333333333333,
                                                        "#9c179e"
                                                    ],
                                                    [
                                                        0.4444444444444444,
                                                        "#bd3786"
                                                    ],
                                                    [
                                                        0.5555555555555556,
                                                        "#d8576b"
                                                    ],
                                                    [
                                                        0.6666666666666666,
                                                        "#ed7953"
                                                    ],
                                                    [
                                                        0.7777777777777778,
                                                        "#fb9f3a"
                                                    ],
                                                    [
                                                        0.8888888888888888,
                                                        "#fdca26"
                                                    ],
                                                    [
                                                        1,
                                                        "#f0f921"
                                                    ]
                                                ],
                                                "type": "heatmapgl"
                                            }
                                        ],
                                        "histogram": [
                                            {
                                                "marker": {
                                                    "pattern": {
                                                        "fillmode": "overlay",
                                                        "size": 10,
                                                        "solidity": 0.2
                                                    }
                                                },
                                                "type": "histogram"
                                            }
                                        ],
                                        "histogram2d": [
                                            {
                                                "colorbar": {
                                                    "outlinewidth": 0,
                                                    "ticks": ""
                                                },
                                                "colorscale": [
                                                    [
                                                        0,
                                                        "#0d0887"
                                                    ],
                                                    [
                                                        0.1111111111111111,
                                                        "#46039f"
                                                    ],
                                                    [
                                                        0.2222222222222222,
                                                        "#7201a8"
                                                    ],
                                                    [
                                                        0.3333333333333333,
                                                        "#9c179e"
                                                    ],
                                                    [
                                                        0.4444444444444444,
                                                        "#bd3786"
                                                    ],
                                                    [
                                                        0.5555555555555556,
                                                        "#d8576b"
                                                    ],
                                                    [
                                                        0.6666666666666666,
                                                        "#ed7953"
                                                    ],
                                                    [
                                                        0.7777777777777778,
                                                        "#fb9f3a"
                                                    ],
                                                    [
                                                        0.8888888888888888,
                                                        "#fdca26"
                                                    ],
                                                    [
                                                        1,
                                                        "#f0f921"
                                                    ]
                                                ],
                                                "type": "histogram2d"
                                            }
                                        ],
                                        "histogram2dcontour": [
                                            {
                                                "colorbar": {
                                                    "outlinewidth": 0,
                                                    "ticks": ""
                                                },
                                                "colorscale": [
                                                    [
                                                        0,
                                                        "#0d0887"
                                                    ],
                                                    [
                                                        0.1111111111111111,
                                                        "#46039f"
                                                    ],
                                                    [
                                                        0.2222222222222222,
                                                        "#7201a8"
                                                    ],
                                                    [
                                                        0.3333333333333333,
                                                        "#9c179e"
                                                    ],
                                                    [
                                                        0.4444444444444444,
                                                        "#bd3786"
                                                    ],
                                                    [
                                                        0.5555555555555556,
                                                        "#d8576b"
                                                    ],
                                                    [
                                                        0.6666666666666666,
                                                        "#ed7953"
                                                    ],
                                                    [
                                                        0.7777777777777778,
                                                        "#fb9f3a"
                                                    ],
                                                    [
                                                        0.8888888888888888,
                                                        "#fdca26"
                                                    ],
                                                    [
                                                        1,
                                                        "#f0f921"
                                                    ]
                                                ],
                                                "type": "histogram2dcontour"
                                            }
                                        ],
                                        "mesh3d": [
                                            {
                                                "colorbar": {
                                                    "outlinewidth": 0,
                                                    "ticks": ""
                                                },
                                                "type": "mesh3d"
                                            }
                                        ],
                                        "parcoords": [
                                            {
                                                "line": {
                                                    "colorbar": {
                                                        "outlinewidth": 0,
                                                        "ticks": ""
                                                    }
                                                },
                                                "type": "parcoords"
                                            }
                                        ],
                                        "pie": [
                                            {
                                                "automargin": true,
                                                "type": "pie"
                                            }
                                        ],
                                        "scatter": [
                                            {
                                                "fillpattern": {
                                                    "fillmode": "overlay",
                                                    "size": 10,
                                                    "solidity": 0.2
                                                },
                                                "type": "scatter"
                                            }
                                        ],
                                        "scatter3d": [
                                            {
                                                "line": {
                                                    "colorbar": {
                                                        "outlinewidth": 0,
                                                        "ticks": ""
                                                    }
                                                },
                                                "marker": {
                                                    "colorbar": {
                                                        "outlinewidth": 0,
                                                        "ticks": ""
                                                    }
                                                },
                                                "type": "scatter3d"
                                            }
                                        ],
                                        "scattercarpet": [
                                            {
                                                "marker": {
                                                    "colorbar": {
                                                        "outlinewidth": 0,
                                                        "ticks": ""
                                                    }
                                                },
                                                "type": "scattercarpet"
                                            }
                                        ],
                                        "scattergeo": [
                                            {
                                                "marker": {
                                                    "colorbar": {
                                                        "outlinewidth": 0,
                                                        "ticks": ""
                                                    }
                                                },
                                                "type": "scattergeo"
                                            }
                                        ],
                                        "scattergl": [
                                            {
                                                "marker": {
                                                    "colorbar": {
                                                        "outlinewidth": 0,
                                                        "ticks": ""
                                                    }
                                                },
                                                "type": "scattergl"
                                            }
                                        ],
                                        "scattermapbox": [
                                            {
                                                "marker": {
                                                    "colorbar": {
                                                        "outlinewidth": 0,
                                                        "ticks": ""
                                                    }
                                                },
                                                "type": "scattermapbox"
                                            }
                                        ],
                                        "scatterpolar": [
                                            {
                                                "marker": {
                                                    "colorbar": {
                                                        "outlinewidth": 0,
                                                        "ticks": ""
                                                    }
                                                },
                                                "type": "scatterpolar"
                                            }
                                        ],
                                        "scatterpolargl": [
                                            {
                                                "marker": {
                                                    "colorbar": {
                                                        "outlinewidth": 0,
                                                        "ticks": ""
                                                    }
                                                },
                                                "type": "scatterpolargl"
                                            }
                                        ],
                                        "scatterternary": [
                                            {
                                                "marker": {
                                                    "colorbar": {
                                                        "outlinewidth": 0,
                                                        "ticks": ""
                                                    }
                                                },
                                                "type": "scatterternary"
                                            }
                                        ],
                                        "surface": [
                                            {
                                                "colorbar": {
                                                    "outlinewidth": 0,
                                                    "ticks": ""
                                                },
                                                "colorscale": [
                                                    [
                                                        0,
                                                        "#0d0887"
                                                    ],
                                                    [
                                                        0.1111111111111111,
                                                        "#46039f"
                                                    ],
                                                    [
                                                        0.2222222222222222,
                                                        "#7201a8"
                                                    ],
                                                    [
                                                        0.3333333333333333,
                                                        "#9c179e"
                                                    ],
                                                    [
                                                        0.4444444444444444,
                                                        "#bd3786"
                                                    ],
                                                    [
                                                        0.5555555555555556,
                                                        "#d8576b"
                                                    ],
                                                    [
                                                        0.6666666666666666,
                                                        "#ed7953"
                                                    ],
                                                    [
                                                        0.7777777777777778,
                                                        "#fb9f3a"
                                                    ],
                                                    [
                                                        0.8888888888888888,
                                                        "#fdca26"
                                                    ],
                                                    [
                                                        1,
                                                        "#f0f921"
                                                    ]
                                                ],
                                                "type": "surface"
                                            }
                                        ],
                                        "table": [
                                            {
                                                "cells": {
                                                    "fill": {
                                                        "color": "#EBF0F8"
                                                    },
                                                    "line": {
                                                        "color": "white"
                                                    }
                                                },
                                                "header": {
                                                    "fill": {
                                                        "color": "#C8D4E3"
                                                    },
                                                    "line": {
                                                        "color": "white"
                                                    }
                                                },
                                                "type": "table"
                                            }
                                        ]
                                    },
                                    "layout": {
                                        "annotationdefaults": {
                                            "arrowcolor": "#2a3f5f",
                                            "arrowhead": 0,
                                            "arrowwidth": 1
                                        },
                                        "autotypenumbers": "strict",
                                        "coloraxis": {
                                            "colorbar": {
                                                "outlinewidth": 0,
                                                "ticks": ""
                                            }
                                        },
                                        "colorscale": {
                                            "diverging": [
                                                [
                                                    0,
                                                    "#8e0152"
                                                ],
                                                [
                                                    0.1,
                                                    "#c51b7d"
                                                ],
                                                [
                                                    0.2,
                                                    "#de77ae"
                                                ],
                                                [
                                                    0.3,
                                                    "#f1b6da"
                                                ],
                                                [
                                                    0.4,
                                                    "#fde0ef"
                                                ],
                                                [
                                                    0.5,
                                                    "#f7f7f7"
                                                ],
                                                [
                                                    0.6,
                                                    "#e6f5d0"
                                                ],
                                                [
                                                    0.7,
                                                    "#b8e186"
                                                ],
                                                [
                                                    0.8,
                                                    "#7fbc41"
                                                ],
                                                [
                                                    0.9,
                                                    "#4d9221"
                                                ],
                                                [
                                                    1,
                                                    "#276419"
                                                ]
                                            ],
                                            "sequential": [
                                                [
                                                    0,
                                                    "#0d0887"
                                                ],
                                                [
                                                    0.1111111111111111,
                                                    "#46039f"
                                                ],
                                                [
                                                    0.2222222222222222,
                                                    "#7201a8"
                                                ],
                                                [
                                                    0.3333333333333333,
                                                    "#9c179e"
                                                ],
                                                [
                                                    0.4444444444444444,
                                                    "#bd3786"
                                                ],
                                                [
                                                    0.5555555555555556,
                                                    "#d8576b"
                                                ],
                                                [
                                                    0.6666666666666666,
                                                    "#ed7953"
                                                ],
                                                [
                                                    0.7777777777777778,
                                                    "#fb9f3a"
                                                ],
                                                [
                                                    0.8888888888888888,
                                                    "#fdca26"
                                                ],
                                                [
                                                    1,
                                                    "#f0f921"
                                                ]
                                            ],
                                            "sequentialminus": [
                                                [
                                                    0,
                                                    "#0d0887"
                                                ],
                                                [
                                                    0.1111111111111111,
                                                    "#46039f"
                                                ],
                                                [
                                                    0.2222222222222222,
                                                    "#7201a8"
                                                ],
                                                [
                                                    0.3333333333333333,
                                                    "#9c179e"
                                                ],
                                                [
                                                    0.4444444444444444,
                                                    "#bd3786"
                                                ],
                                                [
                                                    0.5555555555555556,
                                                    "#d8576b"
                                                ],
                                                [
                                                    0.6666666666666666,
                                                    "#ed7953"
                                                ],
                                                [
                                                    0.7777777777777778,
                                                    "#fb9f3a"
                                                ],
                                                [
                                                    0.8888888888888888,
                                                    "#fdca26"
                                                ],
                                                [
                                                    1,
                                                    "#f0f921"
                                                ]
                                            ]
                                        },
                                        "colorway": [
                                            "#636efa",
                                            "#EF553B",
                                            "#00cc96",
                                            "#ab63fa",
                                            "#FFA15A",
                                            "#19d3f3",
                                            "#FF6692",
                                            "#B6E880",
                                            "#FF97FF",
                                            "#FECB52"
                                        ],
                                        "font": {
                                            "color": "#2a3f5f"
                                        },
                                        "geo": {
                                            "bgcolor": "white",
                                            "lakecolor": "white",
                                            "landcolor": "#E5ECF6",
                                            "showlakes": true,
                                            "showland": true,
                                            "subunitcolor": "white"
                                        },
                                        "hoverlabel": {
                                            "align": "left"
                                        },
                                        "hovermode": "closest",
                                        "mapbox": {
                                            "style": "light"
                                        },
                                        "paper_bgcolor": "white",
                                        "plot_bgcolor": "#E5ECF6",
                                        "polar": {
                                            "angularaxis": {
                                                "gridcolor": "white",
                                                "linecolor": "white",
                                                "ticks": ""
                                            },
                                            "bgcolor": "#E5ECF6",
                                            "radialaxis": {
                                                "gridcolor": "white",
                                                "linecolor": "white",
                                                "ticks": ""
                                            }
                                        },
                                        "scene": {
                                            "xaxis": {
                                                "backgroundcolor": "#E5ECF6",
                                                "gridcolor": "white",
                                                "gridwidth": 2,
                                                "linecolor": "white",
                                                "showbackground": true,
                                                "ticks": "",
                                                "zerolinecolor": "white"
                                            },
                                            "yaxis": {
                                                "backgroundcolor": "#E5ECF6",
                                                "gridcolor": "white",
                                                "gridwidth": 2,
                                                "linecolor": "white",
                                                "showbackground": true,
                                                "ticks": "",
                                                "zerolinecolor": "white"
                                            },
                                            "zaxis": {
                                                "backgroundcolor": "#E5ECF6",
                                                "gridcolor": "white",
                                                "gridwidth": 2,
                                                "linecolor": "white",
                                                "showbackground": true,
                                                "ticks": "",
                                                "zerolinecolor": "white"
                                            }
                                        },
                                        "shapedefaults": {
                                            "line": {
                                                "color": "#2a3f5f"
                                            }
                                        },
                                        "ternary": {
                                            "aaxis": {
                                                "gridcolor": "white",
                                                "linecolor": "white",
                                                "ticks": ""
                                            },
                                            "baxis": {
                                                "gridcolor": "white",
                                                "linecolor": "white",
                                                "ticks": ""
                                            },
                                            "bgcolor": "#E5ECF6",
                                            "caxis": {
                                                "gridcolor": "white",
                                                "linecolor": "white",
                                                "ticks": ""
                                            }
                                        },
                                        "title": {
                                            "x": 0.05
                                        },
                                        "xaxis": {
                                            "automargin": true,
                                            "gridcolor": "white",
                                            "linecolor": "white",
                                            "ticks": "",
                                            "title": {
                                                "standoff": 15
                                            },
                                            "zerolinecolor": "white",
                                            "zerolinewidth": 2
                                        },
                                        "yaxis": {
                                            "automargin": true,
                                            "gridcolor": "white",
                                            "linecolor": "white",
                                            "ticks": "",
                                            "title": {
                                                "standoff": 15
                                            },
                                            "zerolinecolor": "white",
                                            "zerolinewidth": 2
                                        }
                                    }
                                },
                                "title": {
                                    "font": {
                                        "color": "black",
                                        "size": 18
                                    },
                                    "text": "Correlação entre Volume de Vendas e Score de Review",
                                    "x": 0.5,
                                    "xanchor": "center"
                                },
                                "xaxis": {
                                    "anchor": "y",
                                    "domain": [
                                        0,
                                        1
                                    ],
                                    "title": {
                                        "text": "Volume de Vendas"
                                    }
                                },
                                "yaxis": {
                                    "anchor": "x",
                                    "domain": [
                                        0,
                                        1
                                    ],
                                    "title": {
                                        "text": "Score de Review"
                                    }
                                }
                            }
                        }
                    },
                    "metadata": {},
                    "output_type": "display_data"
                }
            ],
            "source": [
                "# Criar o gráfico de dispersão\n",
                "fig = px.scatter(df, \n",
                "                 x='total_sales', \n",
                "                 y='review_score', \n",
                "                 title='Correlação entre Volume de Vendas e Score de Review',\n",
                "                 labels={'total_sales': 'Volume de Vendas', 'review_score': 'Score de Review'},\n",
                "                 color='review_score',  # Cores baseadas no score de review\n",
                "                 color_continuous_scale=px.colors.sequential.Viridis)  # Paleta de cores sequenciais\n",
                "\n",
                "# Atualizar o layout do gráfico\n",
                "fig.update_layout(\n",
                "    title={\n",
                "        'text': 'Correlação entre Volume de Vendas e Score de Review',\n",
                "        'x': 0.5,  # Centraliza o título horizontalmente\n",
                "        'xanchor': 'center',  # Alinha o título ao centro\n",
                "        'font': {\n",
                "            'size': 18,  # Tamanho da fonte\n",
                "            'color': 'black'  # Cor da fonte\n",
                "        }\n",
                "    },\n",
                "    xaxis_title='Volume de Vendas',\n",
                "    yaxis_title='Score de Review'\n",
                ")\n",
                "\n",
                "# Mostrar o gráfico\n",
                "fig.show()"
            ]
        },
        {
            "cell_type": "markdown",
            "metadata": {},
            "source": [
                "### 11. Quais são as categorias com as melhores e piores avaliações?\n",
                "\n",
                "Foi calculada a média dos scores de review por categoria para identificar quais categorias têm as melhores e piores avaliações, respectivamente.\n",
                "\n",
                "**Categorias com Melhor Média de Avaliação:**\n",
                "\n",
                "| Categoria     | Média de Avaliação |\n",
                "|---------------|--------------------|\n",
                "| Electronics   | 3.14               |\n",
                "\n",
                "**Categoria com Pior Média de Avaliação:**\n",
                "\n",
                "| Categoria     | Média de Avaliação |\n",
                "|---------------|--------------------|\n",
                "| Toys          | 2.87               |\n",
                "\n",
                "A média de avaliação de **Electronics** é a mais alta, com um score médio de **3.14**, indicando que, em média, os produtos dessa categoria são avaliados mais positivamente pelos clientes. Por outro lado, a categoria **Toys** tem a média de avaliação mais baixa, com um score médio de **2.87**, sugerindo que os produtos dessa categoria recebem avaliações menos favoráveis.\n"
            ]
        },
        {
            "cell_type": "code",
            "execution_count": 63,
            "metadata": {},
            "outputs": [
                {
                    "data": {
                        "text/html": [
                            "<div>\n",
                            "<style scoped>\n",
                            "    .dataframe tbody tr th:only-of-type {\n",
                            "        vertical-align: middle;\n",
                            "    }\n",
                            "\n",
                            "    .dataframe tbody tr th {\n",
                            "        vertical-align: top;\n",
                            "    }\n",
                            "\n",
                            "    .dataframe thead th {\n",
                            "        text-align: right;\n",
                            "    }\n",
                            "</style>\n",
                            "<table border=\"1\" class=\"dataframe\">\n",
                            "  <thead>\n",
                            "    <tr style=\"text-align: right;\">\n",
                            "      <th></th>\n",
                            "      <th>Category</th>\n",
                            "      <th>Average Review Score</th>\n",
                            "    </tr>\n",
                            "  </thead>\n",
                            "  <tbody>\n",
                            "    <tr>\n",
                            "      <th>0</th>\n",
                            "      <td>Books</td>\n",
                            "      <td>3.096753</td>\n",
                            "    </tr>\n",
                            "    <tr>\n",
                            "      <th>1</th>\n",
                            "      <td>Clothing</td>\n",
                            "      <td>2.952143</td>\n",
                            "    </tr>\n",
                            "    <tr>\n",
                            "      <th>2</th>\n",
                            "      <td>Electronics</td>\n",
                            "      <td>3.143478</td>\n",
                            "    </tr>\n",
                            "    <tr>\n",
                            "      <th>3</th>\n",
                            "      <td>Health</td>\n",
                            "      <td>3.005036</td>\n",
                            "    </tr>\n",
                            "    <tr>\n",
                            "      <th>4</th>\n",
                            "      <td>Home &amp; Kitchen</td>\n",
                            "      <td>3.035200</td>\n",
                            "    </tr>\n",
                            "    <tr>\n",
                            "      <th>5</th>\n",
                            "      <td>Sports</td>\n",
                            "      <td>3.091503</td>\n",
                            "    </tr>\n",
                            "    <tr>\n",
                            "      <th>6</th>\n",
                            "      <td>Toys</td>\n",
                            "      <td>2.870861</td>\n",
                            "    </tr>\n",
                            "  </tbody>\n",
                            "</table>\n",
                            "</div>"
                        ],
                        "text/plain": [
                            "         Category  Average Review Score\n",
                            "0           Books              3.096753\n",
                            "1        Clothing              2.952143\n",
                            "2     Electronics              3.143478\n",
                            "3          Health              3.005036\n",
                            "4  Home & Kitchen              3.035200\n",
                            "5          Sports              3.091503\n",
                            "6            Toys              2.870861"
                        ]
                    },
                    "metadata": {},
                    "output_type": "display_data"
                },
                {
                    "name": "stdout",
                    "output_type": "stream",
                    "text": [
                        "Categoria com a Melhor Avaliação: Electronics - Média: 3.14\n",
                        "Categoria com a Pior Avaliação: Toys - Média: 2.87\n"
                    ]
                }
            ],
            "source": [
                "\n",
                "# Calcular a média de avaliação por categoria\n",
                "category_avg_review = df.groupby('category')['review_score'].mean().reset_index()\n",
                "category_avg_review.columns = ['Category', 'Average Review Score']\n",
                "\n",
                "display(category_avg_review)\n",
                "# Encontrar a categoria com a melhor avaliação\n",
                "best_category = category_avg_review.loc[category_avg_review['Average Review Score'].idxmax()]\n",
                "# Encontrar a categoria com a pior avaliação\n",
                "worst_category = category_avg_review.loc[category_avg_review['Average Review Score'].idxmin()]\n",
                "\n",
                "# Ordenar os valores em ordem crescente\n",
                "category_avg_review_sorted = category_avg_review.sort_values(by='Average Review Score', ascending=True)\n",
                "\n",
                "print(f'Categoria com a Melhor Avaliação: {best_category[\"Category\"]} - Média: {best_category[\"Average Review Score\"]:.2f}')\n",
                "print(f'Categoria com a Pior Avaliação: {worst_category[\"Category\"]} - Média: {worst_category[\"Average Review Score\"]:.2f}')\n"
            ]
        },
        {
            "cell_type": "markdown",
            "metadata": {},
            "source": [
                "## Perguntas de Desempenho e Tendências\n",
                "\n",
                "### 12. Quais produtos e categorias estão crescendo ou diminuindo em popularidade?\n",
                "\n",
                "Foi realizada uma análise para identificar quais produtos e categorias estão crescendo ou diminuindo em popularidade com base nas mudanças no volume de vendas ao longo do tempo.\n",
                "\n",
                "![Gráfico de variação por categoria ao longo dos meses](/graficos/grafmeses.png)\n",
                "\n",
                "\n",
                "### Categorias Crescentes\n",
                "\n",
                "1. **Health:**\n",
                "   - Aumento significativo nos meses 3 e 4, com picos novamente nos meses 7 e 10.\n",
                "   - Tendência geral positiva com mais meses de crescimento do que de declínio.\n",
                "\n",
                "2. **Books:**\n",
                "   - Diminuição consistente nos meses 3, 6, 8 e 11.\n",
                "   - Padrão de crescimento em certos períodos, indicando sazonalidade ou campanhas promocionais bem-sucedidas.\n",
                "\n",
                "4. **Toys:**\n",
                "   - Queda acentuada nos meses 3, 4, 7, 9 e 11.\n",
                "   - Padrão de crescimento em certos períodos, especialmente nos meses 6 e 10, provavelmente devido ao dia das crianças.\n",
                "\n",
                "### Categorias em Declínio\n",
                "\n",
                "1. **Clothing:**\n",
                "   - Queda acentuada nos meses 3, 5, 7 e 11.\n",
                "   - Apesar de alguns aumentos pontuais, a tendência geral é de declínio.\n",
                "\n",
                "3. **Electronics:**\n",
                "   - Flutuações, com aumento notável nos meses 4, 7 e 9.\n",
                "   - Tendência geral de declínio.\n",
                "\n",
                "3. **Home & Kitchen:**\n",
                "   - Declínios notáveis nos meses 4, 5, 7, 9, 11 e 12.\n",
                "   - Flutuações ao longo dos meses com tendência geral de queda.\n",
                "\n",
                "4. **Sports:**\n",
                "   - Queda acentuada nos meses 3, 7, 8, 10 e 12.\n",
                "   - Tendência geral de declínio, especialmente em meses específicos."
            ]
        },
        {
            "cell_type": "code",
            "execution_count": 64,
            "metadata": {},
            "outputs": [],
            "source": [
                "# Calcular a variação percentual das vendas mês a mês para cada categoria\n",
                "sales_columns = [f'sales_month_{i}' for i in range(1, 13)]\n",
                "df_category_monthly_sales = df.groupby('category')[sales_columns].sum()\n",
                "\n",
                "# Calcular a variação percentual mês a mês\n",
                "df_category_monthly_sales_pct_change = df_category_monthly_sales.pct_change(axis='columns') * 100\n",
                "\n",
                "# Redefinir o índice para que 'category' seja uma coluna\n",
                "df_category_monthly_sales_pct_change.reset_index(inplace=True)\n",
                "\n",
                "# Transformar os dados para o formato longo\n",
                "df_long = pd.melt(df_category_monthly_sales_pct_change, id_vars='category', var_name='month', value_name='sales_growth')\n",
                "\n",
                "# Remover linhas onde sales_growth é NaN (como resultado do pct_change)\n",
                "df_long.dropna(subset=['sales_growth'], inplace=True)\n",
                "\n",
                "# Ajustar os nomes dos meses para uma melhor apresentação\n",
                "df_long['month'] = df_long['month'].apply(lambda x: x.replace('sales_month_', 'Mês '))\n"
            ]
        },
        {
            "cell_type": "code",
            "execution_count": 65,
            "metadata": {},
            "outputs": [
                {
                    "data": {
                        "application/vnd.plotly.v1+json": {
                            "config": {
                                "plotlyServerURL": "https://plot.ly"
                            },
                            "data": [
                                {
                                    "hovertemplate": "category=Books<br>Mês=%{x}<br>Variação Percentual (%)=%{y}<extra></extra>",
                                    "legendgroup": "Books",
                                    "line": {
                                        "color": "#636efa",
                                        "dash": "solid"
                                    },
                                    "marker": {
                                        "symbol": "circle"
                                    },
                                    "mode": "lines",
                                    "name": "Books",
                                    "orientation": "v",
                                    "showlegend": true,
                                    "type": "scatter",
                                    "x": [
                                        "Mês 2",
                                        "Mês 3",
                                        "Mês 4",
                                        "Mês 5",
                                        "Mês 6",
                                        "Mês 7",
                                        "Mês 8",
                                        "Mês 9",
                                        "Mês 10",
                                        "Mês 11",
                                        "Mês 12"
                                    ],
                                    "xaxis": "x",
                                    "y": [
                                        2.7549658676795152,
                                        -3.8474506424905353,
                                        -2.9857918387490634,
                                        5.826048541479811,
                                        -3.0448697676183745,
                                        3.2226919263086407,
                                        -1.2715827792805334,
                                        -1.14840989399293,
                                        8.150393078706397,
                                        -8.319361946733094,
                                        2.3185339028436225
                                    ],
                                    "yaxis": "y"
                                },
                                {
                                    "hovertemplate": "category=Clothing<br>Mês=%{x}<br>Variação Percentual (%)=%{y}<extra></extra>",
                                    "legendgroup": "Clothing",
                                    "line": {
                                        "color": "#EF553B",
                                        "dash": "solid"
                                    },
                                    "marker": {
                                        "symbol": "circle"
                                    },
                                    "mode": "lines",
                                    "name": "Clothing",
                                    "orientation": "v",
                                    "showlegend": true,
                                    "type": "scatter",
                                    "x": [
                                        "Mês 2",
                                        "Mês 3",
                                        "Mês 4",
                                        "Mês 5",
                                        "Mês 6",
                                        "Mês 7",
                                        "Mês 8",
                                        "Mês 9",
                                        "Mês 10",
                                        "Mês 11",
                                        "Mês 12"
                                    ],
                                    "xaxis": "x",
                                    "y": [
                                        11.39159531542171,
                                        13.083300201734627,
                                        -8.73482993905933,
                                        -12.049138226229882,
                                        2.400921434712777,
                                        4.724110070814125,
                                        12.581499130171704,
                                        -2.347424148773214,
                                        -5.323701410388715,
                                        4.181321396389848,
                                        0.885844621458376
                                    ],
                                    "yaxis": "y"
                                },
                                {
                                    "hovertemplate": "category=Electronics<br>Mês=%{x}<br>Variação Percentual (%)=%{y}<extra></extra>",
                                    "legendgroup": "Electronics",
                                    "line": {
                                        "color": "#00cc96",
                                        "dash": "solid"
                                    },
                                    "marker": {
                                        "symbol": "circle"
                                    },
                                    "mode": "lines",
                                    "name": "Electronics",
                                    "orientation": "v",
                                    "showlegend": true,
                                    "type": "scatter",
                                    "x": [
                                        "Mês 2",
                                        "Mês 3",
                                        "Mês 4",
                                        "Mês 5",
                                        "Mês 6",
                                        "Mês 7",
                                        "Mês 8",
                                        "Mês 9",
                                        "Mês 10",
                                        "Mês 11",
                                        "Mês 12"
                                    ],
                                    "xaxis": "x",
                                    "y": [
                                        -5.075510498120428,
                                        -2.4340434926592325,
                                        3.4649544605985128,
                                        -1.35186855846251,
                                        -2.922307361886678,
                                        3.0873536968312854,
                                        -8.956980463287323,
                                        6.326611308817709,
                                        0.33469691335068497,
                                        -2.8511147858812813,
                                        -6.058871867112758
                                    ],
                                    "yaxis": "y"
                                },
                                {
                                    "hovertemplate": "category=Health<br>Mês=%{x}<br>Variação Percentual (%)=%{y}<extra></extra>",
                                    "legendgroup": "Health",
                                    "line": {
                                        "color": "#ab63fa",
                                        "dash": "solid"
                                    },
                                    "marker": {
                                        "symbol": "circle"
                                    },
                                    "mode": "lines",
                                    "name": "Health",
                                    "orientation": "v",
                                    "showlegend": true,
                                    "type": "scatter",
                                    "x": [
                                        "Mês 2",
                                        "Mês 3",
                                        "Mês 4",
                                        "Mês 5",
                                        "Mês 6",
                                        "Mês 7",
                                        "Mês 8",
                                        "Mês 9",
                                        "Mês 10",
                                        "Mês 11",
                                        "Mês 12"
                                    ],
                                    "xaxis": "x",
                                    "y": [
                                        -0.31340547572585864,
                                        0.25210582512753543,
                                        7.874027395639183,
                                        -5.138155639355501,
                                        -7.592009020208734,
                                        17.723617933235314,
                                        -8.145529924524286,
                                        -6.5749500911379215,
                                        12.437094501478763,
                                        -0.15561951716634992,
                                        -1.198620689655172
                                    ],
                                    "yaxis": "y"
                                },
                                {
                                    "hovertemplate": "category=Home & Kitchen<br>Mês=%{x}<br>Variação Percentual (%)=%{y}<extra></extra>",
                                    "legendgroup": "Home & Kitchen",
                                    "line": {
                                        "color": "#FFA15A",
                                        "dash": "solid"
                                    },
                                    "marker": {
                                        "symbol": "circle"
                                    },
                                    "mode": "lines",
                                    "name": "Home & Kitchen",
                                    "orientation": "v",
                                    "showlegend": true,
                                    "type": "scatter",
                                    "x": [
                                        "Mês 2",
                                        "Mês 3",
                                        "Mês 4",
                                        "Mês 5",
                                        "Mês 6",
                                        "Mês 7",
                                        "Mês 8",
                                        "Mês 9",
                                        "Mês 10",
                                        "Mês 11",
                                        "Mês 12"
                                    ],
                                    "xaxis": "x",
                                    "y": [
                                        -1.0234423622156097,
                                        9.458184866904219,
                                        4.34199818086074,
                                        -8.597907873004218,
                                        5.693872770471509,
                                        -4.812487137678289,
                                        8.170766186033362,
                                        -10.619292149687897,
                                        11.595424443106573,
                                        2.165669893334976,
                                        -7.074425551817265
                                    ],
                                    "yaxis": "y"
                                },
                                {
                                    "hovertemplate": "category=Sports<br>Mês=%{x}<br>Variação Percentual (%)=%{y}<extra></extra>",
                                    "legendgroup": "Sports",
                                    "line": {
                                        "color": "#19d3f3",
                                        "dash": "solid"
                                    },
                                    "marker": {
                                        "symbol": "circle"
                                    },
                                    "mode": "lines",
                                    "name": "Sports",
                                    "orientation": "v",
                                    "showlegend": true,
                                    "type": "scatter",
                                    "x": [
                                        "Mês 2",
                                        "Mês 3",
                                        "Mês 4",
                                        "Mês 5",
                                        "Mês 6",
                                        "Mês 7",
                                        "Mês 8",
                                        "Mês 9",
                                        "Mês 10",
                                        "Mês 11",
                                        "Mês 12"
                                    ],
                                    "xaxis": "x",
                                    "y": [
                                        5.797753965293229,
                                        -8.67540489275813,
                                        -1.0944094582540087,
                                        -1.1038270491472213,
                                        2.9591517279867086,
                                        1.905051493237786,
                                        -4.112503567629277,
                                        7.166630587725953,
                                        1.234708177101096,
                                        -7.379001583797873,
                                        -1.4056819711862123
                                    ],
                                    "yaxis": "y"
                                },
                                {
                                    "hovertemplate": "category=Toys<br>Mês=%{x}<br>Variação Percentual (%)=%{y}<extra></extra>",
                                    "legendgroup": "Toys",
                                    "line": {
                                        "color": "#FF6692",
                                        "dash": "solid"
                                    },
                                    "marker": {
                                        "symbol": "circle"
                                    },
                                    "mode": "lines",
                                    "name": "Toys",
                                    "orientation": "v",
                                    "showlegend": true,
                                    "type": "scatter",
                                    "x": [
                                        "Mês 2",
                                        "Mês 3",
                                        "Mês 4",
                                        "Mês 5",
                                        "Mês 6",
                                        "Mês 7",
                                        "Mês 8",
                                        "Mês 9",
                                        "Mês 10",
                                        "Mês 11",
                                        "Mês 12"
                                    ],
                                    "xaxis": "x",
                                    "y": [
                                        0.5448669773034709,
                                        -4.250601088811646,
                                        -4.659181097854514,
                                        -1.853216517918066,
                                        9.969410456062299,
                                        -2.513592110254137,
                                        1.4305724883920012,
                                        -10.224410203951152,
                                        6.345340340981931,
                                        2.3237437051323306,
                                        3.755284755036059
                                    ],
                                    "yaxis": "y"
                                }
                            ],
                            "layout": {
                                "height": 500,
                                "legend": {
                                    "title": {
                                        "text": "category"
                                    },
                                    "tracegroupgap": 0
                                },
                                "template": {
                                    "data": {
                                        "bar": [
                                            {
                                                "error_x": {
                                                    "color": "#2a3f5f"
                                                },
                                                "error_y": {
                                                    "color": "#2a3f5f"
                                                },
                                                "marker": {
                                                    "line": {
                                                        "color": "#E5ECF6",
                                                        "width": 0.5
                                                    },
                                                    "pattern": {
                                                        "fillmode": "overlay",
                                                        "size": 10,
                                                        "solidity": 0.2
                                                    }
                                                },
                                                "type": "bar"
                                            }
                                        ],
                                        "barpolar": [
                                            {
                                                "marker": {
                                                    "line": {
                                                        "color": "#E5ECF6",
                                                        "width": 0.5
                                                    },
                                                    "pattern": {
                                                        "fillmode": "overlay",
                                                        "size": 10,
                                                        "solidity": 0.2
                                                    }
                                                },
                                                "type": "barpolar"
                                            }
                                        ],
                                        "carpet": [
                                            {
                                                "aaxis": {
                                                    "endlinecolor": "#2a3f5f",
                                                    "gridcolor": "white",
                                                    "linecolor": "white",
                                                    "minorgridcolor": "white",
                                                    "startlinecolor": "#2a3f5f"
                                                },
                                                "baxis": {
                                                    "endlinecolor": "#2a3f5f",
                                                    "gridcolor": "white",
                                                    "linecolor": "white",
                                                    "minorgridcolor": "white",
                                                    "startlinecolor": "#2a3f5f"
                                                },
                                                "type": "carpet"
                                            }
                                        ],
                                        "choropleth": [
                                            {
                                                "colorbar": {
                                                    "outlinewidth": 0,
                                                    "ticks": ""
                                                },
                                                "type": "choropleth"
                                            }
                                        ],
                                        "contour": [
                                            {
                                                "colorbar": {
                                                    "outlinewidth": 0,
                                                    "ticks": ""
                                                },
                                                "colorscale": [
                                                    [
                                                        0,
                                                        "#0d0887"
                                                    ],
                                                    [
                                                        0.1111111111111111,
                                                        "#46039f"
                                                    ],
                                                    [
                                                        0.2222222222222222,
                                                        "#7201a8"
                                                    ],
                                                    [
                                                        0.3333333333333333,
                                                        "#9c179e"
                                                    ],
                                                    [
                                                        0.4444444444444444,
                                                        "#bd3786"
                                                    ],
                                                    [
                                                        0.5555555555555556,
                                                        "#d8576b"
                                                    ],
                                                    [
                                                        0.6666666666666666,
                                                        "#ed7953"
                                                    ],
                                                    [
                                                        0.7777777777777778,
                                                        "#fb9f3a"
                                                    ],
                                                    [
                                                        0.8888888888888888,
                                                        "#fdca26"
                                                    ],
                                                    [
                                                        1,
                                                        "#f0f921"
                                                    ]
                                                ],
                                                "type": "contour"
                                            }
                                        ],
                                        "contourcarpet": [
                                            {
                                                "colorbar": {
                                                    "outlinewidth": 0,
                                                    "ticks": ""
                                                },
                                                "type": "contourcarpet"
                                            }
                                        ],
                                        "heatmap": [
                                            {
                                                "colorbar": {
                                                    "outlinewidth": 0,
                                                    "ticks": ""
                                                },
                                                "colorscale": [
                                                    [
                                                        0,
                                                        "#0d0887"
                                                    ],
                                                    [
                                                        0.1111111111111111,
                                                        "#46039f"
                                                    ],
                                                    [
                                                        0.2222222222222222,
                                                        "#7201a8"
                                                    ],
                                                    [
                                                        0.3333333333333333,
                                                        "#9c179e"
                                                    ],
                                                    [
                                                        0.4444444444444444,
                                                        "#bd3786"
                                                    ],
                                                    [
                                                        0.5555555555555556,
                                                        "#d8576b"
                                                    ],
                                                    [
                                                        0.6666666666666666,
                                                        "#ed7953"
                                                    ],
                                                    [
                                                        0.7777777777777778,
                                                        "#fb9f3a"
                                                    ],
                                                    [
                                                        0.8888888888888888,
                                                        "#fdca26"
                                                    ],
                                                    [
                                                        1,
                                                        "#f0f921"
                                                    ]
                                                ],
                                                "type": "heatmap"
                                            }
                                        ],
                                        "heatmapgl": [
                                            {
                                                "colorbar": {
                                                    "outlinewidth": 0,
                                                    "ticks": ""
                                                },
                                                "colorscale": [
                                                    [
                                                        0,
                                                        "#0d0887"
                                                    ],
                                                    [
                                                        0.1111111111111111,
                                                        "#46039f"
                                                    ],
                                                    [
                                                        0.2222222222222222,
                                                        "#7201a8"
                                                    ],
                                                    [
                                                        0.3333333333333333,
                                                        "#9c179e"
                                                    ],
                                                    [
                                                        0.4444444444444444,
                                                        "#bd3786"
                                                    ],
                                                    [
                                                        0.5555555555555556,
                                                        "#d8576b"
                                                    ],
                                                    [
                                                        0.6666666666666666,
                                                        "#ed7953"
                                                    ],
                                                    [
                                                        0.7777777777777778,
                                                        "#fb9f3a"
                                                    ],
                                                    [
                                                        0.8888888888888888,
                                                        "#fdca26"
                                                    ],
                                                    [
                                                        1,
                                                        "#f0f921"
                                                    ]
                                                ],
                                                "type": "heatmapgl"
                                            }
                                        ],
                                        "histogram": [
                                            {
                                                "marker": {
                                                    "pattern": {
                                                        "fillmode": "overlay",
                                                        "size": 10,
                                                        "solidity": 0.2
                                                    }
                                                },
                                                "type": "histogram"
                                            }
                                        ],
                                        "histogram2d": [
                                            {
                                                "colorbar": {
                                                    "outlinewidth": 0,
                                                    "ticks": ""
                                                },
                                                "colorscale": [
                                                    [
                                                        0,
                                                        "#0d0887"
                                                    ],
                                                    [
                                                        0.1111111111111111,
                                                        "#46039f"
                                                    ],
                                                    [
                                                        0.2222222222222222,
                                                        "#7201a8"
                                                    ],
                                                    [
                                                        0.3333333333333333,
                                                        "#9c179e"
                                                    ],
                                                    [
                                                        0.4444444444444444,
                                                        "#bd3786"
                                                    ],
                                                    [
                                                        0.5555555555555556,
                                                        "#d8576b"
                                                    ],
                                                    [
                                                        0.6666666666666666,
                                                        "#ed7953"
                                                    ],
                                                    [
                                                        0.7777777777777778,
                                                        "#fb9f3a"
                                                    ],
                                                    [
                                                        0.8888888888888888,
                                                        "#fdca26"
                                                    ],
                                                    [
                                                        1,
                                                        "#f0f921"
                                                    ]
                                                ],
                                                "type": "histogram2d"
                                            }
                                        ],
                                        "histogram2dcontour": [
                                            {
                                                "colorbar": {
                                                    "outlinewidth": 0,
                                                    "ticks": ""
                                                },
                                                "colorscale": [
                                                    [
                                                        0,
                                                        "#0d0887"
                                                    ],
                                                    [
                                                        0.1111111111111111,
                                                        "#46039f"
                                                    ],
                                                    [
                                                        0.2222222222222222,
                                                        "#7201a8"
                                                    ],
                                                    [
                                                        0.3333333333333333,
                                                        "#9c179e"
                                                    ],
                                                    [
                                                        0.4444444444444444,
                                                        "#bd3786"
                                                    ],
                                                    [
                                                        0.5555555555555556,
                                                        "#d8576b"
                                                    ],
                                                    [
                                                        0.6666666666666666,
                                                        "#ed7953"
                                                    ],
                                                    [
                                                        0.7777777777777778,
                                                        "#fb9f3a"
                                                    ],
                                                    [
                                                        0.8888888888888888,
                                                        "#fdca26"
                                                    ],
                                                    [
                                                        1,
                                                        "#f0f921"
                                                    ]
                                                ],
                                                "type": "histogram2dcontour"
                                            }
                                        ],
                                        "mesh3d": [
                                            {
                                                "colorbar": {
                                                    "outlinewidth": 0,
                                                    "ticks": ""
                                                },
                                                "type": "mesh3d"
                                            }
                                        ],
                                        "parcoords": [
                                            {
                                                "line": {
                                                    "colorbar": {
                                                        "outlinewidth": 0,
                                                        "ticks": ""
                                                    }
                                                },
                                                "type": "parcoords"
                                            }
                                        ],
                                        "pie": [
                                            {
                                                "automargin": true,
                                                "type": "pie"
                                            }
                                        ],
                                        "scatter": [
                                            {
                                                "fillpattern": {
                                                    "fillmode": "overlay",
                                                    "size": 10,
                                                    "solidity": 0.2
                                                },
                                                "type": "scatter"
                                            }
                                        ],
                                        "scatter3d": [
                                            {
                                                "line": {
                                                    "colorbar": {
                                                        "outlinewidth": 0,
                                                        "ticks": ""
                                                    }
                                                },
                                                "marker": {
                                                    "colorbar": {
                                                        "outlinewidth": 0,
                                                        "ticks": ""
                                                    }
                                                },
                                                "type": "scatter3d"
                                            }
                                        ],
                                        "scattercarpet": [
                                            {
                                                "marker": {
                                                    "colorbar": {
                                                        "outlinewidth": 0,
                                                        "ticks": ""
                                                    }
                                                },
                                                "type": "scattercarpet"
                                            }
                                        ],
                                        "scattergeo": [
                                            {
                                                "marker": {
                                                    "colorbar": {
                                                        "outlinewidth": 0,
                                                        "ticks": ""
                                                    }
                                                },
                                                "type": "scattergeo"
                                            }
                                        ],
                                        "scattergl": [
                                            {
                                                "marker": {
                                                    "colorbar": {
                                                        "outlinewidth": 0,
                                                        "ticks": ""
                                                    }
                                                },
                                                "type": "scattergl"
                                            }
                                        ],
                                        "scattermapbox": [
                                            {
                                                "marker": {
                                                    "colorbar": {
                                                        "outlinewidth": 0,
                                                        "ticks": ""
                                                    }
                                                },
                                                "type": "scattermapbox"
                                            }
                                        ],
                                        "scatterpolar": [
                                            {
                                                "marker": {
                                                    "colorbar": {
                                                        "outlinewidth": 0,
                                                        "ticks": ""
                                                    }
                                                },
                                                "type": "scatterpolar"
                                            }
                                        ],
                                        "scatterpolargl": [
                                            {
                                                "marker": {
                                                    "colorbar": {
                                                        "outlinewidth": 0,
                                                        "ticks": ""
                                                    }
                                                },
                                                "type": "scatterpolargl"
                                            }
                                        ],
                                        "scatterternary": [
                                            {
                                                "marker": {
                                                    "colorbar": {
                                                        "outlinewidth": 0,
                                                        "ticks": ""
                                                    }
                                                },
                                                "type": "scatterternary"
                                            }
                                        ],
                                        "surface": [
                                            {
                                                "colorbar": {
                                                    "outlinewidth": 0,
                                                    "ticks": ""
                                                },
                                                "colorscale": [
                                                    [
                                                        0,
                                                        "#0d0887"
                                                    ],
                                                    [
                                                        0.1111111111111111,
                                                        "#46039f"
                                                    ],
                                                    [
                                                        0.2222222222222222,
                                                        "#7201a8"
                                                    ],
                                                    [
                                                        0.3333333333333333,
                                                        "#9c179e"
                                                    ],
                                                    [
                                                        0.4444444444444444,
                                                        "#bd3786"
                                                    ],
                                                    [
                                                        0.5555555555555556,
                                                        "#d8576b"
                                                    ],
                                                    [
                                                        0.6666666666666666,
                                                        "#ed7953"
                                                    ],
                                                    [
                                                        0.7777777777777778,
                                                        "#fb9f3a"
                                                    ],
                                                    [
                                                        0.8888888888888888,
                                                        "#fdca26"
                                                    ],
                                                    [
                                                        1,
                                                        "#f0f921"
                                                    ]
                                                ],
                                                "type": "surface"
                                            }
                                        ],
                                        "table": [
                                            {
                                                "cells": {
                                                    "fill": {
                                                        "color": "#EBF0F8"
                                                    },
                                                    "line": {
                                                        "color": "white"
                                                    }
                                                },
                                                "header": {
                                                    "fill": {
                                                        "color": "#C8D4E3"
                                                    },
                                                    "line": {
                                                        "color": "white"
                                                    }
                                                },
                                                "type": "table"
                                            }
                                        ]
                                    },
                                    "layout": {
                                        "annotationdefaults": {
                                            "arrowcolor": "#2a3f5f",
                                            "arrowhead": 0,
                                            "arrowwidth": 1
                                        },
                                        "autotypenumbers": "strict",
                                        "coloraxis": {
                                            "colorbar": {
                                                "outlinewidth": 0,
                                                "ticks": ""
                                            }
                                        },
                                        "colorscale": {
                                            "diverging": [
                                                [
                                                    0,
                                                    "#8e0152"
                                                ],
                                                [
                                                    0.1,
                                                    "#c51b7d"
                                                ],
                                                [
                                                    0.2,
                                                    "#de77ae"
                                                ],
                                                [
                                                    0.3,
                                                    "#f1b6da"
                                                ],
                                                [
                                                    0.4,
                                                    "#fde0ef"
                                                ],
                                                [
                                                    0.5,
                                                    "#f7f7f7"
                                                ],
                                                [
                                                    0.6,
                                                    "#e6f5d0"
                                                ],
                                                [
                                                    0.7,
                                                    "#b8e186"
                                                ],
                                                [
                                                    0.8,
                                                    "#7fbc41"
                                                ],
                                                [
                                                    0.9,
                                                    "#4d9221"
                                                ],
                                                [
                                                    1,
                                                    "#276419"
                                                ]
                                            ],
                                            "sequential": [
                                                [
                                                    0,
                                                    "#0d0887"
                                                ],
                                                [
                                                    0.1111111111111111,
                                                    "#46039f"
                                                ],
                                                [
                                                    0.2222222222222222,
                                                    "#7201a8"
                                                ],
                                                [
                                                    0.3333333333333333,
                                                    "#9c179e"
                                                ],
                                                [
                                                    0.4444444444444444,
                                                    "#bd3786"
                                                ],
                                                [
                                                    0.5555555555555556,
                                                    "#d8576b"
                                                ],
                                                [
                                                    0.6666666666666666,
                                                    "#ed7953"
                                                ],
                                                [
                                                    0.7777777777777778,
                                                    "#fb9f3a"
                                                ],
                                                [
                                                    0.8888888888888888,
                                                    "#fdca26"
                                                ],
                                                [
                                                    1,
                                                    "#f0f921"
                                                ]
                                            ],
                                            "sequentialminus": [
                                                [
                                                    0,
                                                    "#0d0887"
                                                ],
                                                [
                                                    0.1111111111111111,
                                                    "#46039f"
                                                ],
                                                [
                                                    0.2222222222222222,
                                                    "#7201a8"
                                                ],
                                                [
                                                    0.3333333333333333,
                                                    "#9c179e"
                                                ],
                                                [
                                                    0.4444444444444444,
                                                    "#bd3786"
                                                ],
                                                [
                                                    0.5555555555555556,
                                                    "#d8576b"
                                                ],
                                                [
                                                    0.6666666666666666,
                                                    "#ed7953"
                                                ],
                                                [
                                                    0.7777777777777778,
                                                    "#fb9f3a"
                                                ],
                                                [
                                                    0.8888888888888888,
                                                    "#fdca26"
                                                ],
                                                [
                                                    1,
                                                    "#f0f921"
                                                ]
                                            ]
                                        },
                                        "colorway": [
                                            "#636efa",
                                            "#EF553B",
                                            "#00cc96",
                                            "#ab63fa",
                                            "#FFA15A",
                                            "#19d3f3",
                                            "#FF6692",
                                            "#B6E880",
                                            "#FF97FF",
                                            "#FECB52"
                                        ],
                                        "font": {
                                            "color": "#2a3f5f"
                                        },
                                        "geo": {
                                            "bgcolor": "white",
                                            "lakecolor": "white",
                                            "landcolor": "#E5ECF6",
                                            "showlakes": true,
                                            "showland": true,
                                            "subunitcolor": "white"
                                        },
                                        "hoverlabel": {
                                            "align": "left"
                                        },
                                        "hovermode": "closest",
                                        "mapbox": {
                                            "style": "light"
                                        },
                                        "paper_bgcolor": "white",
                                        "plot_bgcolor": "#E5ECF6",
                                        "polar": {
                                            "angularaxis": {
                                                "gridcolor": "white",
                                                "linecolor": "white",
                                                "ticks": ""
                                            },
                                            "bgcolor": "#E5ECF6",
                                            "radialaxis": {
                                                "gridcolor": "white",
                                                "linecolor": "white",
                                                "ticks": ""
                                            }
                                        },
                                        "scene": {
                                            "xaxis": {
                                                "backgroundcolor": "#E5ECF6",
                                                "gridcolor": "white",
                                                "gridwidth": 2,
                                                "linecolor": "white",
                                                "showbackground": true,
                                                "ticks": "",
                                                "zerolinecolor": "white"
                                            },
                                            "yaxis": {
                                                "backgroundcolor": "#E5ECF6",
                                                "gridcolor": "white",
                                                "gridwidth": 2,
                                                "linecolor": "white",
                                                "showbackground": true,
                                                "ticks": "",
                                                "zerolinecolor": "white"
                                            },
                                            "zaxis": {
                                                "backgroundcolor": "#E5ECF6",
                                                "gridcolor": "white",
                                                "gridwidth": 2,
                                                "linecolor": "white",
                                                "showbackground": true,
                                                "ticks": "",
                                                "zerolinecolor": "white"
                                            }
                                        },
                                        "shapedefaults": {
                                            "line": {
                                                "color": "#2a3f5f"
                                            }
                                        },
                                        "ternary": {
                                            "aaxis": {
                                                "gridcolor": "white",
                                                "linecolor": "white",
                                                "ticks": ""
                                            },
                                            "baxis": {
                                                "gridcolor": "white",
                                                "linecolor": "white",
                                                "ticks": ""
                                            },
                                            "bgcolor": "#E5ECF6",
                                            "caxis": {
                                                "gridcolor": "white",
                                                "linecolor": "white",
                                                "ticks": ""
                                            }
                                        },
                                        "title": {
                                            "x": 0.05
                                        },
                                        "xaxis": {
                                            "automargin": true,
                                            "gridcolor": "white",
                                            "linecolor": "white",
                                            "ticks": "",
                                            "title": {
                                                "standoff": 15
                                            },
                                            "zerolinecolor": "white",
                                            "zerolinewidth": 2
                                        },
                                        "yaxis": {
                                            "automargin": true,
                                            "gridcolor": "white",
                                            "linecolor": "white",
                                            "ticks": "",
                                            "title": {
                                                "standoff": 15
                                            },
                                            "zerolinecolor": "white",
                                            "zerolinewidth": 2
                                        }
                                    }
                                },
                                "title": {
                                    "font": {
                                        "color": "black",
                                        "size": 24
                                    },
                                    "text": "Variação Percentual das Vendas Mês a Mês por Categoria",
                                    "x": 0.5,
                                    "xanchor": "center"
                                },
                                "width": 1000,
                                "xaxis": {
                                    "anchor": "y",
                                    "domain": [
                                        0,
                                        1
                                    ],
                                    "title": {
                                        "text": "Mês"
                                    }
                                },
                                "yaxis": {
                                    "anchor": "x",
                                    "domain": [
                                        0,
                                        1
                                    ],
                                    "title": {
                                        "text": "Variação Percentual (%)"
                                    }
                                }
                            }
                        }
                    },
                    "metadata": {},
                    "output_type": "display_data"
                }
            ],
            "source": [
                "fig = px.line(df_long, \n",
                "              x='month', \n",
                "              y='sales_growth', \n",
                "              color='category',\n",
                "              title='Variação Percentual das Vendas Mês a Mês por Categoria',\n",
                "              labels={'sales_growth': 'Variação Percentual (%)', 'month': 'Mês'})\n",
                "\n",
                "fig.update_layout(\n",
                "    title={\n",
                "        'text': 'Variação Percentual das Vendas Mês a Mês por Categoria',\n",
                "        'x': 0.5,   \n",
                "        'xanchor': 'center',   \n",
                "        'font': {\n",
                "            'size': 24,  \n",
                "            'color': 'black'  \n",
                "        }\n",
                "    },\n",
                "    xaxis_title='Mês',\n",
                "    yaxis_title='Variação Percentual (%)',\n",
                "    width=1000,  # Largura do gráfico em pixels\n",
                "    height=500,  # Altura do gráfico em pixels\n",
                ")\n",
                "\n",
                "# Exibir o gráfico\n",
                "fig.show()"
            ]
        },
        {
            "cell_type": "markdown",
            "metadata": {},
            "source": [
                "\n",
                "### 13: Qual foi a receita total gerada por cada categoria?\n",
                "\n",
                "Para entender o desempenho financeiro de cada categoria, foi calculada a receita total gerada. A receita total é um indicador crucial que reflete a contribuição financeira de cada categoria para o resultado global. Analisar esses dados ajuda a identificar quais categorias estão gerando mais receita e quais podem precisar de mais atenção ou ajustes estratégicos.\n",
                "\n",
                "O gráfico de barras abaixo mostra a receita total gerada por cada categoria.\n",
                "\n",
                "![Receita Total por Categoria](graficos/receitacateg.png)\n",
                "\n",
                "### Insights da Receita Total por Categoria\n",
                "\n",
                "1. **Categorias de Maior Receita:**\n",
                "   - Toys, Esportes e Books e Health.\n",
                "\n",
                "2. **Categorias com Baixa Receita:**\n",
                "   - Home & Kitchen, Electronics e Clothing.\n"
            ]
        },
        {
            "cell_type": "code",
            "execution_count": 66,
            "metadata": {},
            "outputs": [],
            "source": [
                "# Calcular a receita total para cada mês\n",
                "months = [f'sales_month_{i}' for i in range(1, 13)]\n",
                "df['total_revenue'] = df[months].sum(axis=1) * df['price']\n",
                "\n",
                "# Calcular a receita total por categoria\n",
                "revenue_by_category = df.groupby('category')['total_revenue'].sum().reset_index()\n",
                "revenue_by_category.columns = ['Category', 'Total Revenue']"
            ]
        },
        {
            "cell_type": "code",
            "execution_count": 67,
            "metadata": {},
            "outputs": [
                {
                    "data": {
                        "application/vnd.plotly.v1+json": {
                            "config": {
                                "plotlyServerURL": "https://plot.ly"
                            },
                            "data": [
                                {
                                    "alignmentgroup": "True",
                                    "hovertemplate": "Categoria=%{x}<br>Receita Total=%{marker.color}<extra></extra>",
                                    "legendgroup": "",
                                    "marker": {
                                        "color": [
                                            236782805.6,
                                            187258320.85,
                                            201674684.07,
                                            221736852.13,
                                            178365505.26,
                                            232648831.88,
                                            230237183.23
                                        ],
                                        "coloraxis": "coloraxis",
                                        "pattern": {
                                            "shape": ""
                                        }
                                    },
                                    "name": "",
                                    "offsetgroup": "",
                                    "orientation": "v",
                                    "showlegend": false,
                                    "textposition": "auto",
                                    "type": "bar",
                                    "x": [
                                        "Books",
                                        "Clothing",
                                        "Electronics",
                                        "Health",
                                        "Home & Kitchen",
                                        "Sports",
                                        "Toys"
                                    ],
                                    "xaxis": "x",
                                    "y": [
                                        236782805.6,
                                        187258320.85,
                                        201674684.07,
                                        221736852.13,
                                        178365505.26,
                                        232648831.88,
                                        230237183.23
                                    ],
                                    "yaxis": "y"
                                }
                            ],
                            "layout": {
                                "barmode": "relative",
                                "coloraxis": {
                                    "colorbar": {
                                        "title": {
                                            "text": "Receita Total"
                                        }
                                    },
                                    "colorscale": [
                                        [
                                            0,
                                            "#440154"
                                        ],
                                        [
                                            0.1111111111111111,
                                            "#482878"
                                        ],
                                        [
                                            0.2222222222222222,
                                            "#3e4989"
                                        ],
                                        [
                                            0.3333333333333333,
                                            "#31688e"
                                        ],
                                        [
                                            0.4444444444444444,
                                            "#26828e"
                                        ],
                                        [
                                            0.5555555555555556,
                                            "#1f9e89"
                                        ],
                                        [
                                            0.6666666666666666,
                                            "#35b779"
                                        ],
                                        [
                                            0.7777777777777778,
                                            "#6ece58"
                                        ],
                                        [
                                            0.8888888888888888,
                                            "#b5de2b"
                                        ],
                                        [
                                            1,
                                            "#fde725"
                                        ]
                                    ]
                                },
                                "legend": {
                                    "tracegroupgap": 0
                                },
                                "template": {
                                    "data": {
                                        "bar": [
                                            {
                                                "error_x": {
                                                    "color": "#2a3f5f"
                                                },
                                                "error_y": {
                                                    "color": "#2a3f5f"
                                                },
                                                "marker": {
                                                    "line": {
                                                        "color": "#E5ECF6",
                                                        "width": 0.5
                                                    },
                                                    "pattern": {
                                                        "fillmode": "overlay",
                                                        "size": 10,
                                                        "solidity": 0.2
                                                    }
                                                },
                                                "type": "bar"
                                            }
                                        ],
                                        "barpolar": [
                                            {
                                                "marker": {
                                                    "line": {
                                                        "color": "#E5ECF6",
                                                        "width": 0.5
                                                    },
                                                    "pattern": {
                                                        "fillmode": "overlay",
                                                        "size": 10,
                                                        "solidity": 0.2
                                                    }
                                                },
                                                "type": "barpolar"
                                            }
                                        ],
                                        "carpet": [
                                            {
                                                "aaxis": {
                                                    "endlinecolor": "#2a3f5f",
                                                    "gridcolor": "white",
                                                    "linecolor": "white",
                                                    "minorgridcolor": "white",
                                                    "startlinecolor": "#2a3f5f"
                                                },
                                                "baxis": {
                                                    "endlinecolor": "#2a3f5f",
                                                    "gridcolor": "white",
                                                    "linecolor": "white",
                                                    "minorgridcolor": "white",
                                                    "startlinecolor": "#2a3f5f"
                                                },
                                                "type": "carpet"
                                            }
                                        ],
                                        "choropleth": [
                                            {
                                                "colorbar": {
                                                    "outlinewidth": 0,
                                                    "ticks": ""
                                                },
                                                "type": "choropleth"
                                            }
                                        ],
                                        "contour": [
                                            {
                                                "colorbar": {
                                                    "outlinewidth": 0,
                                                    "ticks": ""
                                                },
                                                "colorscale": [
                                                    [
                                                        0,
                                                        "#0d0887"
                                                    ],
                                                    [
                                                        0.1111111111111111,
                                                        "#46039f"
                                                    ],
                                                    [
                                                        0.2222222222222222,
                                                        "#7201a8"
                                                    ],
                                                    [
                                                        0.3333333333333333,
                                                        "#9c179e"
                                                    ],
                                                    [
                                                        0.4444444444444444,
                                                        "#bd3786"
                                                    ],
                                                    [
                                                        0.5555555555555556,
                                                        "#d8576b"
                                                    ],
                                                    [
                                                        0.6666666666666666,
                                                        "#ed7953"
                                                    ],
                                                    [
                                                        0.7777777777777778,
                                                        "#fb9f3a"
                                                    ],
                                                    [
                                                        0.8888888888888888,
                                                        "#fdca26"
                                                    ],
                                                    [
                                                        1,
                                                        "#f0f921"
                                                    ]
                                                ],
                                                "type": "contour"
                                            }
                                        ],
                                        "contourcarpet": [
                                            {
                                                "colorbar": {
                                                    "outlinewidth": 0,
                                                    "ticks": ""
                                                },
                                                "type": "contourcarpet"
                                            }
                                        ],
                                        "heatmap": [
                                            {
                                                "colorbar": {
                                                    "outlinewidth": 0,
                                                    "ticks": ""
                                                },
                                                "colorscale": [
                                                    [
                                                        0,
                                                        "#0d0887"
                                                    ],
                                                    [
                                                        0.1111111111111111,
                                                        "#46039f"
                                                    ],
                                                    [
                                                        0.2222222222222222,
                                                        "#7201a8"
                                                    ],
                                                    [
                                                        0.3333333333333333,
                                                        "#9c179e"
                                                    ],
                                                    [
                                                        0.4444444444444444,
                                                        "#bd3786"
                                                    ],
                                                    [
                                                        0.5555555555555556,
                                                        "#d8576b"
                                                    ],
                                                    [
                                                        0.6666666666666666,
                                                        "#ed7953"
                                                    ],
                                                    [
                                                        0.7777777777777778,
                                                        "#fb9f3a"
                                                    ],
                                                    [
                                                        0.8888888888888888,
                                                        "#fdca26"
                                                    ],
                                                    [
                                                        1,
                                                        "#f0f921"
                                                    ]
                                                ],
                                                "type": "heatmap"
                                            }
                                        ],
                                        "heatmapgl": [
                                            {
                                                "colorbar": {
                                                    "outlinewidth": 0,
                                                    "ticks": ""
                                                },
                                                "colorscale": [
                                                    [
                                                        0,
                                                        "#0d0887"
                                                    ],
                                                    [
                                                        0.1111111111111111,
                                                        "#46039f"
                                                    ],
                                                    [
                                                        0.2222222222222222,
                                                        "#7201a8"
                                                    ],
                                                    [
                                                        0.3333333333333333,
                                                        "#9c179e"
                                                    ],
                                                    [
                                                        0.4444444444444444,
                                                        "#bd3786"
                                                    ],
                                                    [
                                                        0.5555555555555556,
                                                        "#d8576b"
                                                    ],
                                                    [
                                                        0.6666666666666666,
                                                        "#ed7953"
                                                    ],
                                                    [
                                                        0.7777777777777778,
                                                        "#fb9f3a"
                                                    ],
                                                    [
                                                        0.8888888888888888,
                                                        "#fdca26"
                                                    ],
                                                    [
                                                        1,
                                                        "#f0f921"
                                                    ]
                                                ],
                                                "type": "heatmapgl"
                                            }
                                        ],
                                        "histogram": [
                                            {
                                                "marker": {
                                                    "pattern": {
                                                        "fillmode": "overlay",
                                                        "size": 10,
                                                        "solidity": 0.2
                                                    }
                                                },
                                                "type": "histogram"
                                            }
                                        ],
                                        "histogram2d": [
                                            {
                                                "colorbar": {
                                                    "outlinewidth": 0,
                                                    "ticks": ""
                                                },
                                                "colorscale": [
                                                    [
                                                        0,
                                                        "#0d0887"
                                                    ],
                                                    [
                                                        0.1111111111111111,
                                                        "#46039f"
                                                    ],
                                                    [
                                                        0.2222222222222222,
                                                        "#7201a8"
                                                    ],
                                                    [
                                                        0.3333333333333333,
                                                        "#9c179e"
                                                    ],
                                                    [
                                                        0.4444444444444444,
                                                        "#bd3786"
                                                    ],
                                                    [
                                                        0.5555555555555556,
                                                        "#d8576b"
                                                    ],
                                                    [
                                                        0.6666666666666666,
                                                        "#ed7953"
                                                    ],
                                                    [
                                                        0.7777777777777778,
                                                        "#fb9f3a"
                                                    ],
                                                    [
                                                        0.8888888888888888,
                                                        "#fdca26"
                                                    ],
                                                    [
                                                        1,
                                                        "#f0f921"
                                                    ]
                                                ],
                                                "type": "histogram2d"
                                            }
                                        ],
                                        "histogram2dcontour": [
                                            {
                                                "colorbar": {
                                                    "outlinewidth": 0,
                                                    "ticks": ""
                                                },
                                                "colorscale": [
                                                    [
                                                        0,
                                                        "#0d0887"
                                                    ],
                                                    [
                                                        0.1111111111111111,
                                                        "#46039f"
                                                    ],
                                                    [
                                                        0.2222222222222222,
                                                        "#7201a8"
                                                    ],
                                                    [
                                                        0.3333333333333333,
                                                        "#9c179e"
                                                    ],
                                                    [
                                                        0.4444444444444444,
                                                        "#bd3786"
                                                    ],
                                                    [
                                                        0.5555555555555556,
                                                        "#d8576b"
                                                    ],
                                                    [
                                                        0.6666666666666666,
                                                        "#ed7953"
                                                    ],
                                                    [
                                                        0.7777777777777778,
                                                        "#fb9f3a"
                                                    ],
                                                    [
                                                        0.8888888888888888,
                                                        "#fdca26"
                                                    ],
                                                    [
                                                        1,
                                                        "#f0f921"
                                                    ]
                                                ],
                                                "type": "histogram2dcontour"
                                            }
                                        ],
                                        "mesh3d": [
                                            {
                                                "colorbar": {
                                                    "outlinewidth": 0,
                                                    "ticks": ""
                                                },
                                                "type": "mesh3d"
                                            }
                                        ],
                                        "parcoords": [
                                            {
                                                "line": {
                                                    "colorbar": {
                                                        "outlinewidth": 0,
                                                        "ticks": ""
                                                    }
                                                },
                                                "type": "parcoords"
                                            }
                                        ],
                                        "pie": [
                                            {
                                                "automargin": true,
                                                "type": "pie"
                                            }
                                        ],
                                        "scatter": [
                                            {
                                                "fillpattern": {
                                                    "fillmode": "overlay",
                                                    "size": 10,
                                                    "solidity": 0.2
                                                },
                                                "type": "scatter"
                                            }
                                        ],
                                        "scatter3d": [
                                            {
                                                "line": {
                                                    "colorbar": {
                                                        "outlinewidth": 0,
                                                        "ticks": ""
                                                    }
                                                },
                                                "marker": {
                                                    "colorbar": {
                                                        "outlinewidth": 0,
                                                        "ticks": ""
                                                    }
                                                },
                                                "type": "scatter3d"
                                            }
                                        ],
                                        "scattercarpet": [
                                            {
                                                "marker": {
                                                    "colorbar": {
                                                        "outlinewidth": 0,
                                                        "ticks": ""
                                                    }
                                                },
                                                "type": "scattercarpet"
                                            }
                                        ],
                                        "scattergeo": [
                                            {
                                                "marker": {
                                                    "colorbar": {
                                                        "outlinewidth": 0,
                                                        "ticks": ""
                                                    }
                                                },
                                                "type": "scattergeo"
                                            }
                                        ],
                                        "scattergl": [
                                            {
                                                "marker": {
                                                    "colorbar": {
                                                        "outlinewidth": 0,
                                                        "ticks": ""
                                                    }
                                                },
                                                "type": "scattergl"
                                            }
                                        ],
                                        "scattermapbox": [
                                            {
                                                "marker": {
                                                    "colorbar": {
                                                        "outlinewidth": 0,
                                                        "ticks": ""
                                                    }
                                                },
                                                "type": "scattermapbox"
                                            }
                                        ],
                                        "scatterpolar": [
                                            {
                                                "marker": {
                                                    "colorbar": {
                                                        "outlinewidth": 0,
                                                        "ticks": ""
                                                    }
                                                },
                                                "type": "scatterpolar"
                                            }
                                        ],
                                        "scatterpolargl": [
                                            {
                                                "marker": {
                                                    "colorbar": {
                                                        "outlinewidth": 0,
                                                        "ticks": ""
                                                    }
                                                },
                                                "type": "scatterpolargl"
                                            }
                                        ],
                                        "scatterternary": [
                                            {
                                                "marker": {
                                                    "colorbar": {
                                                        "outlinewidth": 0,
                                                        "ticks": ""
                                                    }
                                                },
                                                "type": "scatterternary"
                                            }
                                        ],
                                        "surface": [
                                            {
                                                "colorbar": {
                                                    "outlinewidth": 0,
                                                    "ticks": ""
                                                },
                                                "colorscale": [
                                                    [
                                                        0,
                                                        "#0d0887"
                                                    ],
                                                    [
                                                        0.1111111111111111,
                                                        "#46039f"
                                                    ],
                                                    [
                                                        0.2222222222222222,
                                                        "#7201a8"
                                                    ],
                                                    [
                                                        0.3333333333333333,
                                                        "#9c179e"
                                                    ],
                                                    [
                                                        0.4444444444444444,
                                                        "#bd3786"
                                                    ],
                                                    [
                                                        0.5555555555555556,
                                                        "#d8576b"
                                                    ],
                                                    [
                                                        0.6666666666666666,
                                                        "#ed7953"
                                                    ],
                                                    [
                                                        0.7777777777777778,
                                                        "#fb9f3a"
                                                    ],
                                                    [
                                                        0.8888888888888888,
                                                        "#fdca26"
                                                    ],
                                                    [
                                                        1,
                                                        "#f0f921"
                                                    ]
                                                ],
                                                "type": "surface"
                                            }
                                        ],
                                        "table": [
                                            {
                                                "cells": {
                                                    "fill": {
                                                        "color": "#EBF0F8"
                                                    },
                                                    "line": {
                                                        "color": "white"
                                                    }
                                                },
                                                "header": {
                                                    "fill": {
                                                        "color": "#C8D4E3"
                                                    },
                                                    "line": {
                                                        "color": "white"
                                                    }
                                                },
                                                "type": "table"
                                            }
                                        ]
                                    },
                                    "layout": {
                                        "annotationdefaults": {
                                            "arrowcolor": "#2a3f5f",
                                            "arrowhead": 0,
                                            "arrowwidth": 1
                                        },
                                        "autotypenumbers": "strict",
                                        "coloraxis": {
                                            "colorbar": {
                                                "outlinewidth": 0,
                                                "ticks": ""
                                            }
                                        },
                                        "colorscale": {
                                            "diverging": [
                                                [
                                                    0,
                                                    "#8e0152"
                                                ],
                                                [
                                                    0.1,
                                                    "#c51b7d"
                                                ],
                                                [
                                                    0.2,
                                                    "#de77ae"
                                                ],
                                                [
                                                    0.3,
                                                    "#f1b6da"
                                                ],
                                                [
                                                    0.4,
                                                    "#fde0ef"
                                                ],
                                                [
                                                    0.5,
                                                    "#f7f7f7"
                                                ],
                                                [
                                                    0.6,
                                                    "#e6f5d0"
                                                ],
                                                [
                                                    0.7,
                                                    "#b8e186"
                                                ],
                                                [
                                                    0.8,
                                                    "#7fbc41"
                                                ],
                                                [
                                                    0.9,
                                                    "#4d9221"
                                                ],
                                                [
                                                    1,
                                                    "#276419"
                                                ]
                                            ],
                                            "sequential": [
                                                [
                                                    0,
                                                    "#0d0887"
                                                ],
                                                [
                                                    0.1111111111111111,
                                                    "#46039f"
                                                ],
                                                [
                                                    0.2222222222222222,
                                                    "#7201a8"
                                                ],
                                                [
                                                    0.3333333333333333,
                                                    "#9c179e"
                                                ],
                                                [
                                                    0.4444444444444444,
                                                    "#bd3786"
                                                ],
                                                [
                                                    0.5555555555555556,
                                                    "#d8576b"
                                                ],
                                                [
                                                    0.6666666666666666,
                                                    "#ed7953"
                                                ],
                                                [
                                                    0.7777777777777778,
                                                    "#fb9f3a"
                                                ],
                                                [
                                                    0.8888888888888888,
                                                    "#fdca26"
                                                ],
                                                [
                                                    1,
                                                    "#f0f921"
                                                ]
                                            ],
                                            "sequentialminus": [
                                                [
                                                    0,
                                                    "#0d0887"
                                                ],
                                                [
                                                    0.1111111111111111,
                                                    "#46039f"
                                                ],
                                                [
                                                    0.2222222222222222,
                                                    "#7201a8"
                                                ],
                                                [
                                                    0.3333333333333333,
                                                    "#9c179e"
                                                ],
                                                [
                                                    0.4444444444444444,
                                                    "#bd3786"
                                                ],
                                                [
                                                    0.5555555555555556,
                                                    "#d8576b"
                                                ],
                                                [
                                                    0.6666666666666666,
                                                    "#ed7953"
                                                ],
                                                [
                                                    0.7777777777777778,
                                                    "#fb9f3a"
                                                ],
                                                [
                                                    0.8888888888888888,
                                                    "#fdca26"
                                                ],
                                                [
                                                    1,
                                                    "#f0f921"
                                                ]
                                            ]
                                        },
                                        "colorway": [
                                            "#636efa",
                                            "#EF553B",
                                            "#00cc96",
                                            "#ab63fa",
                                            "#FFA15A",
                                            "#19d3f3",
                                            "#FF6692",
                                            "#B6E880",
                                            "#FF97FF",
                                            "#FECB52"
                                        ],
                                        "font": {
                                            "color": "#2a3f5f"
                                        },
                                        "geo": {
                                            "bgcolor": "white",
                                            "lakecolor": "white",
                                            "landcolor": "#E5ECF6",
                                            "showlakes": true,
                                            "showland": true,
                                            "subunitcolor": "white"
                                        },
                                        "hoverlabel": {
                                            "align": "left"
                                        },
                                        "hovermode": "closest",
                                        "mapbox": {
                                            "style": "light"
                                        },
                                        "paper_bgcolor": "white",
                                        "plot_bgcolor": "#E5ECF6",
                                        "polar": {
                                            "angularaxis": {
                                                "gridcolor": "white",
                                                "linecolor": "white",
                                                "ticks": ""
                                            },
                                            "bgcolor": "#E5ECF6",
                                            "radialaxis": {
                                                "gridcolor": "white",
                                                "linecolor": "white",
                                                "ticks": ""
                                            }
                                        },
                                        "scene": {
                                            "xaxis": {
                                                "backgroundcolor": "#E5ECF6",
                                                "gridcolor": "white",
                                                "gridwidth": 2,
                                                "linecolor": "white",
                                                "showbackground": true,
                                                "ticks": "",
                                                "zerolinecolor": "white"
                                            },
                                            "yaxis": {
                                                "backgroundcolor": "#E5ECF6",
                                                "gridcolor": "white",
                                                "gridwidth": 2,
                                                "linecolor": "white",
                                                "showbackground": true,
                                                "ticks": "",
                                                "zerolinecolor": "white"
                                            },
                                            "zaxis": {
                                                "backgroundcolor": "#E5ECF6",
                                                "gridcolor": "white",
                                                "gridwidth": 2,
                                                "linecolor": "white",
                                                "showbackground": true,
                                                "ticks": "",
                                                "zerolinecolor": "white"
                                            }
                                        },
                                        "shapedefaults": {
                                            "line": {
                                                "color": "#2a3f5f"
                                            }
                                        },
                                        "ternary": {
                                            "aaxis": {
                                                "gridcolor": "white",
                                                "linecolor": "white",
                                                "ticks": ""
                                            },
                                            "baxis": {
                                                "gridcolor": "white",
                                                "linecolor": "white",
                                                "ticks": ""
                                            },
                                            "bgcolor": "#E5ECF6",
                                            "caxis": {
                                                "gridcolor": "white",
                                                "linecolor": "white",
                                                "ticks": ""
                                            }
                                        },
                                        "title": {
                                            "x": 0.05
                                        },
                                        "xaxis": {
                                            "automargin": true,
                                            "gridcolor": "white",
                                            "linecolor": "white",
                                            "ticks": "",
                                            "title": {
                                                "standoff": 15
                                            },
                                            "zerolinecolor": "white",
                                            "zerolinewidth": 2
                                        },
                                        "yaxis": {
                                            "automargin": true,
                                            "gridcolor": "white",
                                            "linecolor": "white",
                                            "ticks": "",
                                            "title": {
                                                "standoff": 15
                                            },
                                            "zerolinecolor": "white",
                                            "zerolinewidth": 2
                                        }
                                    }
                                },
                                "title": {
                                    "font": {
                                        "color": "black",
                                        "size": 24
                                    },
                                    "text": "Receita Total por Categoria",
                                    "x": 0.5,
                                    "xanchor": "center"
                                },
                                "xaxis": {
                                    "anchor": "y",
                                    "domain": [
                                        0,
                                        1
                                    ],
                                    "title": {
                                        "text": "Categoria"
                                    }
                                },
                                "yaxis": {
                                    "anchor": "x",
                                    "domain": [
                                        0,
                                        1
                                    ],
                                    "title": {
                                        "text": "Receita Total"
                                    }
                                }
                            }
                        }
                    },
                    "metadata": {},
                    "output_type": "display_data"
                }
            ],
            "source": [
                "# Criar o gráfico de barras para receita total por categoria\n",
                "fig = px.bar(revenue_by_category, \n",
                "             x='Category', \n",
                "             y='Total Revenue', \n",
                "             title='Receita Total por Categoria',\n",
                "             labels={'Category': 'Categoria', 'Total Revenue': 'Receita Total'},\n",
                "             color='Total Revenue', \n",
                "             color_continuous_scale='Viridis')\n",
                "\n",
                "# Personalizar o layout do gráfico\n",
                "fig.update_layout(\n",
                "    title={\n",
                "        'text': 'Receita Total por Categoria',\n",
                "        'x': 0.5,\n",
                "        'xanchor': 'center', \n",
                "        'font': {\n",
                "            'size': 24,\n",
                "            'color': 'black'\n",
                "    }\n",
                "    }\n",
                ")\n",
                "fig.show()"
            ]
        },
        {
            "cell_type": "markdown",
            "metadata": {},
            "source": [
                "## Conclusão\n",
                "\n",
                "### Resumo dos Principais Insights\n",
                "\n",
                "1. **Diversidade de Produtos:**\n",
                "   - A base de dados contém **1000 produtos únicos**, refletindo uma ampla variedade e um portfólio diversificado. As categorias com maior número de produtos são **Books**, **Sports**, e **Toys**, enquanto **Home & Kitchen** tem a menor quantidade de produtos. Essa distribuição sugere que algumas categorias são mais amplamente abastecidas do que outras, o que pode influenciar a oferta e a demanda.\n",
                "\n",
                "2. **Análise de Preços:**\n",
                "   - O **preço médio dos produtos** é de R$ 247,68. Categorias como **Health**, **Sports**, e **Books** apresentam preços médios mais altos, indicando que esses produtos são geralmente mais caros. Em contraste, **Home & Kitchen**, **Electronics**, e **Clothing** possuem preços médios mais baixos, sugerindo uma oferta de produtos mais acessíveis.\n",
                "\n",
                "3. **Volume de Vendas:**\n",
                "   - O volume total de vendas mostra uma **queda significativa** em meses específicos ao longo do ano. Essa variação pode ser atribuída a fatores sazonais ou eventos específicos, como campanhas promocionais. Produtos com maior volume de vendas são altamente populares e podem ser estratégicos para campanhas e planejamento de estoque. Já os produtos com menor volume de vendas podem precisar de ajustes nas estratégias de marketing e estoque.\n",
                "\n",
                "4. **Avaliações e Satisfação:**\n",
                "   - A média dos **scores de review** é de 3.03, indicando avaliações intermediárias. A análise revelou que **Electronics** tem a melhor média de avaliação, enquanto **Toys** possui a média mais baixa. A correlação entre o preço e o score de review é muito fraca (0.03), assim como entre o volume de vendas e o score de review (-0.02), sugerindo que nem o preço nem o volume de vendas têm um impacto significativo nas avaliações dos produtos.\n",
                "\n",
                "5. **Tendências de Popularidade:**\n",
                "   - Categorias como **Health** mostram um crescimento positivo, enquanto **Clothing** e **Sports** apresentam uma tendência de declínio. Esses padrões de crescimento e declínio podem ajudar a direcionar estratégias de marketing e investimento.\n",
                "\n",
                "6. **Receita por Categoria:**\n",
                "   - As categorias **Toys**, **Sports**, e **Books** são as maiores geradoras de receita, enquanto **Home & Kitchen**, **Electronics**, e **Clothing** têm uma receita menor. Esse desempenho financeiro pode indicar onde focar os investimentos e onde realizar ajustes para melhorar o desempenho.\n",
                "\n",
                "### Recomendações\n",
                "\n",
                "- **Investir em Categorias de Crescimento:** Ampliar as ofertas e intensifique as campanhas de marketing para categorias que estão mostrando crescimento, como **Health**.\n",
                "- **Explorar Oportunidades em Categorias Menos Populares:** Considerar expandir e diversificar a oferta na categoria **Home & Kitchen** e revisar as estratégias para categorias com baixa receita.\n",
                "- **Ajustar Estratégias de Preço e Avaliação:** Avaliar as estratégias de preços e a satisfação do cliente para melhorar as avaliações dos produtos e ajustar o posicionamento de preço.\n",
                "- **Monitorar Tendências de Vendas:** Se atentar às variações sazonais no volume de vendas para otimizar o planejamento de estoque e as campanhas promocionais."
            ]
        }
    ],
    "metadata": {
        "kernelspec": {
            "display_name": "Python 3",
            "language": "python",
            "name": "python3"
        },
        "language_info": {
            "codemirror_mode": {
                "name": "ipython",
                "version": 3
            },
            "file_extension": ".py",
            "mimetype": "text/x-python",
            "name": "python",
            "nbconvert_exporter": "python",
            "pygments_lexer": "ipython3",
            "version": "3.12.3"
        }
    },
    "nbformat": 4,
    "nbformat_minor": 2
}
